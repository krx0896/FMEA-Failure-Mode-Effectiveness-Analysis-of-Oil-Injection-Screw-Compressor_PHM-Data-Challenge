{
 "cells": [
  {
   "cell_type": "code",
   "execution_count": 29,
   "id": "830f11f2-349e-42a2-b24a-3c4d7400231c",
   "metadata": {},
   "outputs": [],
   "source": [
    "import pandas as pd\n",
    "import numpy as np\n",
    "import seaborn as sns\n",
    "import matplotlib.pyplot as plt\n",
    "import numpy as np \n",
    "import math\n",
    "import matplotlib.pyplot as plt\n",
    "from scipy.interpolate import splrep, splev\n",
    "import warnings\n",
    "\n",
    "warnings.filterwarnings(action='ignore') "
   ]
  },
  {
   "cell_type": "code",
   "execution_count": 30,
   "id": "45955bcd-0391-4577-b3f7-5a3e99388d4e",
   "metadata": {},
   "outputs": [],
   "source": [
    "from tqdm import tqdm \n",
    "import pandas as pd \n",
    "import numpy as np\n",
    "from collections import defaultdict\n",
    "\n",
    "def calc_fft(input_filename):\n",
    "    fft_list = []\n",
    "    chunksize = 10544\n",
    "    df = pd.read_csv(input_filename, chunksize = chunksize,index_col=0)\n",
    "    for i,df_chunk in tqdm(enumerate(df)):\n",
    "        if len(df_chunk) != chunksize : break\n",
    "        fft_c1 = np.fft.fft(df_chunk.iloc[:,0])[:chunksize//2]/chunksize * 2\n",
    "        fft_c2 = np.fft.fft(df_chunk.iloc[:,1])[:chunksize//2]/chunksize * 2\n",
    "        fft_list.append(np.abs(np.hstack([fft_c1,fft_c2])))\n",
    "        assert len(fft_list[-1])==chunksize\n",
    "    return fft_list\n",
    "\n",
    "def get_fft_dict(phmap_train):\n",
    "    fft_dict = defaultdict(list)\n",
    "    for name in phmap_train:\n",
    "        file_path = f'./phmap_train/train_{name}.csv'\n",
    "        label = name.split('_')[-1]\n",
    "        print(label)\n",
    "        fft_dict[label] += calc_fft(file_path)\n",
    "    for key in fft_dict:\n",
    "        fft_dict[key] = np.array(fft_dict[key])\n",
    "    return fft_dict\n",
    "    \n",
    "def select_index(raw_data_dict,q):\n",
    "    selected_index = []\n",
    "    for label in raw_data_dict:\n",
    "        raw_data = raw_data_dict[label]\n",
    "        N = len(raw_data[0])\n",
    "        sum_fft_c1 = np.sum(raw_data[:,:N//2],axis=0)\n",
    "        sum_fft_c2 = np.sum(raw_data[:,N//2:],axis=0)\n",
    "        th_c1 = np.quantile(sum_fft_c1,q)\n",
    "        th_c2 = np.quantile(sum_fft_c2,q)\n",
    "        selected_index += list(np.where(sum_fft_c1>th_c1)[0])\n",
    "        selected_index += list(np.where(sum_fft_c2>th_c2)[0]+N//2)\n",
    "    selected_index = sorted(list(set(selected_index)))\n",
    "    return selected_index\n",
    "\n",
    "def get_selected_data(raw_data_dict,selected_index):\n",
    "    selected_data = []\n",
    "    label_list = []\n",
    "    for label in raw_data_dict:\n",
    "        raw_data = raw_data_dict[label][:,selected_index]\n",
    "        selected_data.append(raw_data)\n",
    "        label_list += [label]*len(raw_data)\n",
    "    selected_data = np.vstack(selected_data)\n",
    "    return selected_data,label_list        "
   ]
  },
  {
   "cell_type": "code",
   "execution_count": 31,
   "id": "d0167044-db9e-4929-b3c3-942dfb9c61e7",
   "metadata": {
    "tags": []
   },
   "outputs": [],
   "source": [
    "# from sklearn.model_selection import train_test_split\n",
    "# train_data = get_fft_dict(['1st_Normal', '1st_Bearing', '1st_Unbalance', '1st_Looseness', '1st_high',\n",
    "#                            '2nd_Bearing', '2nd_Looseness', '2nd_Unbalance', '3rd_Normal', '3rd_Unbalance'])\n",
    "# selected_index = select_index(train_data,0.5)\n",
    "# selected_data,label_list = get_selected_data(train_data,selected_index)\n",
    "# X = selected_data\n",
    "# y = label_list\n",
    "# x_train, x_test, y_train, y_test = train_test_split(X, y, test_size=0.3)"
   ]
  },
  {
   "cell_type": "code",
   "execution_count": 32,
   "id": "62c94d2b-277f-41c1-aac0-e4407c66955b",
   "metadata": {
    "tags": []
   },
   "outputs": [
    {
     "name": "stdout",
     "output_type": "stream",
     "text": [
      "Normal\n"
     ]
    },
    {
     "name": "stderr",
     "output_type": "stream",
     "text": [
      "1485it [00:07, 209.16it/s]\n"
     ]
    },
    {
     "name": "stdout",
     "output_type": "stream",
     "text": [
      "Bearing\n"
     ]
    },
    {
     "name": "stderr",
     "output_type": "stream",
     "text": [
      "1800it [00:08, 207.43it/s]\n"
     ]
    },
    {
     "name": "stdout",
     "output_type": "stream",
     "text": [
      "Unbalance\n"
     ]
    },
    {
     "name": "stderr",
     "output_type": "stream",
     "text": [
      "1117it [00:05, 205.33it/s]\n"
     ]
    },
    {
     "name": "stdout",
     "output_type": "stream",
     "text": [
      "Looseness\n"
     ]
    },
    {
     "name": "stderr",
     "output_type": "stream",
     "text": [
      "609it [00:02, 204.37it/s]\n"
     ]
    },
    {
     "name": "stdout",
     "output_type": "stream",
     "text": [
      "high\n"
     ]
    },
    {
     "name": "stderr",
     "output_type": "stream",
     "text": [
      "415it [00:02, 203.40it/s]\n"
     ]
    },
    {
     "name": "stdout",
     "output_type": "stream",
     "text": [
      "Bearing\n"
     ]
    },
    {
     "name": "stderr",
     "output_type": "stream",
     "text": [
      "3890it [00:18, 208.14it/s]\n"
     ]
    },
    {
     "name": "stdout",
     "output_type": "stream",
     "text": [
      "Looseness\n"
     ]
    },
    {
     "name": "stderr",
     "output_type": "stream",
     "text": [
      "3069it [00:15, 204.58it/s]\n"
     ]
    },
    {
     "name": "stdout",
     "output_type": "stream",
     "text": [
      "Unbalance\n"
     ]
    },
    {
     "name": "stderr",
     "output_type": "stream",
     "text": [
      "2853it [00:14, 201.37it/s]\n"
     ]
    },
    {
     "name": "stdout",
     "output_type": "stream",
     "text": [
      "Normal\n"
     ]
    },
    {
     "name": "stderr",
     "output_type": "stream",
     "text": [
      "5017it [00:25, 200.14it/s]\n"
     ]
    },
    {
     "name": "stdout",
     "output_type": "stream",
     "text": [
      "Unbalance\n"
     ]
    },
    {
     "name": "stderr",
     "output_type": "stream",
     "text": [
      "2239it [00:11, 202.78it/s]\n"
     ]
    }
   ],
   "source": [
    "day1_data = get_fft_dict(['1st_Normal', '1st_Bearing', '1st_Unbalance', '1st_Looseness', '1st_high'])\n",
    "day23_data = get_fft_dict(['2nd_Bearing', '2nd_Looseness', '2nd_Unbalance', '3rd_Normal', '3rd_Unbalance'])\n",
    "selected_index = select_index(day1_data,0.0)\n",
    "selected_data,label_list = get_selected_data(day1_data,selected_index)\n",
    "selected_data_23,label_list_23 = get_selected_data(day23_data,selected_index)"
   ]
  },
  {
   "cell_type": "code",
   "execution_count": 6,
   "id": "dd4cd5e3-5a20-4bd6-a257-f0411317a5f2",
   "metadata": {},
   "outputs": [],
   "source": [
    "x_train = selected_data\n",
    "y_train = label_list\n",
    "x_test = selected_data_23\n",
    "y_test = label_list_23"
   ]
  },
  {
   "cell_type": "code",
   "execution_count": 7,
   "id": "f8e7a061-3266-46c7-88b4-26dbb2be5bff",
   "metadata": {},
   "outputs": [],
   "source": [
    "# random_state는 시드값을 고정해줌\n",
    "from sklearn.ensemble import RandomForestClassifier\n",
    "model = RandomForestClassifier(n_estimators=100, random_state=0)\n",
    "model.fit(x_train, y_train)\n",
    "model_pred = model.predict(x_test)"
   ]
  },
  {
   "cell_type": "code",
   "execution_count": 8,
   "id": "ba4057e1-c1cb-42e8-b113-a3c8b91efe66",
   "metadata": {},
   "outputs": [
    {
     "name": "stdout",
     "output_type": "stream",
     "text": [
      "Accuracy: 0.6042887274431685\n",
      "F1-Score: 0.6043\n",
      "              precision    recall  f1-score   support\n",
      "\n",
      "     Bearing       0.00      0.00      0.00      3890\n",
      "   Looseness       0.81      0.14      0.24      3069\n",
      "      Normal       0.45      0.95      0.61      5017\n",
      "   Unbalance       1.00      1.00      1.00      5092\n",
      "        high       0.00      0.00      0.00         0\n",
      "\n",
      "    accuracy                           0.60     17068\n",
      "   macro avg       0.45      0.42      0.37     17068\n",
      "weighted avg       0.58      0.60      0.52     17068\n",
      "\n"
     ]
    },
    {
     "data": {
      "text/plain": [
       "<Axes: >"
      ]
     },
     "execution_count": 8,
     "metadata": {},
     "output_type": "execute_result"
    },
    {
     "data": {
      "image/png": "[encoded data removed]",
      "text/plain": [
       "<Figure size 640x480 with 2 Axes>"
      ]
     },
     "metadata": {},
     "output_type": "display_data"
    }
   ],
   "source": [
    "from sklearn.metrics import f1_score, classification_report, confusion_matrix\n",
    "accuracy = model.score(x_test, y_test)\n",
    "print(\"Accuracy:\", accuracy)\n",
    "# f1-score에서 average가 binary로 디폴트 설정 되어 있는데 이것은 이진분류에 적합하여 micro로 바꿔 다중 클래스 분류를 해줌\n",
    "f1 = f1_score(y_test, model_pred, average='micro')\n",
    "print(\"F1-Score: {:.4f}\".format(f1))\n",
    "print(classification_report(y_test, model_pred))\n",
    "cm = pd.DataFrame(confusion_matrix(y_test, model_pred))\n",
    "sns.heatmap(cm, annot=True, cmap='Blues')"
   ]
  },
  {
   "cell_type": "code",
   "execution_count": 12,
   "id": "9eef970b-4d21-4b9d-ae2a-9726e0f54069",
   "metadata": {
    "tags": []
   },
   "outputs": [
    {
     "data": {
      "image/png": "[encoded data removed]",
      "text/plain": [
       "<Figure size 2000x800 with 1 Axes>"
      ]
     },
     "metadata": {},
     "output_type": "display_data"
    }
   ],
   "source": [
    "import matplotlib.pyplot as plt\n",
    "import seaborn as sns\n",
    "\n",
    "# Feature importances 평가\n",
    "\n",
    "# 어레이 형태 다시 데이터 프레임으로 전환\n",
    "x_train_df = pd.DataFrame(x_train)\n",
    "\n",
    "importances = model.feature_importances_\n",
    "importance_df = pd.DataFrame({'Feature': x_train_df.columns, 'Importance': importances})\n",
    "importance_df = importance_df.sort_values('Importance', ascending=False)\n",
    "\n",
    "# 특성 중요도 시각화 -> Feature들이 왜 그런진 모르겠지만 오름차순 정렬이 안됨\n",
    "plt.figure(figsize=(20, 8))\n",
    "sns.barplot(x='Feature', y='Importance', data = importance_df)\n",
    "plt.title('Random Forest Feature Importances', fontsize=18)\n",
    "plt.axis('off')\n",
    "plt.show()"
   ]
  },
  {
   "cell_type": "code",
   "execution_count": 64,
   "id": "a7785d81-9d42-428d-9db0-ab3cb8dc8939",
   "metadata": {},
   "outputs": [
    {
     "data": {
      "text/plain": [
       "[<matplotlib.lines.Line2D at 0x7efe8f5c0b80>]"
      ]
     },
     "execution_count": 64,
     "metadata": {},
     "output_type": "execute_result"
    },
    {
     "data": {
      "image/png": "[encoded data removed]",
      "text/plain": [
       "<Figure size 432x288 with 1 Axes>"
      ]
     },
     "metadata": {
      "needs_background": "light"
     },
     "output_type": "display_data"
    }
   ],
   "source": [
    "plt.plot(day1_data['Normal'][0])"
   ]
  },
  {
   "cell_type": "code",
   "execution_count": 65,
   "id": "30ef1ee8-0b53-40d2-b014-403d516e389f",
   "metadata": {},
   "outputs": [
    {
     "data": {
      "text/plain": [
       "[<matplotlib.lines.Line2D at 0x7efe8f58fb20>]"
      ]
     },
     "execution_count": 65,
     "metadata": {},
     "output_type": "execute_result"
    },
    {
     "data": {
      "image/png": "[encoded data removed]",
      "text/plain": [
       "<Figure size 432x288 with 1 Axes>"
      ]
     },
     "metadata": {
      "needs_background": "light"
     },
     "output_type": "display_data"
    }
   ],
   "source": [
    "plt.plot(day1_data['Normal'][1])"
   ]
  },
  {
   "cell_type": "code",
   "execution_count": 67,
   "id": "d3c81785-85f0-4cd4-910a-29e2c662b017",
   "metadata": {},
   "outputs": [
    {
     "data": {
      "text/html": [
       "<div>\n",
       "<style scoped>\n",
       "    .dataframe tbody tr th:only-of-type {\n",
       "        vertical-align: middle;\n",
       "    }\n",
       "\n",
       "    .dataframe tbody tr th {\n",
       "        vertical-align: top;\n",
       "    }\n",
       "\n",
       "    .dataframe thead th {\n",
       "        text-align: right;\n",
       "    }\n",
       "</style>\n",
       "<table border=\"1\" class=\"dataframe\">\n",
       "  <thead>\n",
       "    <tr style=\"text-align: right;\">\n",
       "      <th></th>\n",
       "      <th>0</th>\n",
       "      <th>1</th>\n",
       "      <th>2</th>\n",
       "      <th>3</th>\n",
       "      <th>4</th>\n",
       "      <th>5</th>\n",
       "      <th>6</th>\n",
       "      <th>7</th>\n",
       "      <th>8</th>\n",
       "      <th>9</th>\n",
       "      <th>...</th>\n",
       "      <th>10534</th>\n",
       "      <th>10535</th>\n",
       "      <th>10536</th>\n",
       "      <th>10537</th>\n",
       "      <th>10538</th>\n",
       "      <th>10539</th>\n",
       "      <th>10540</th>\n",
       "      <th>10541</th>\n",
       "      <th>10542</th>\n",
       "      <th>10543</th>\n",
       "    </tr>\n",
       "  </thead>\n",
       "  <tbody>\n",
       "    <tr>\n",
       "      <th>count</th>\n",
       "      <td>1485.000000</td>\n",
       "      <td>1485.000000</td>\n",
       "      <td>1485.000000</td>\n",
       "      <td>1485.000000</td>\n",
       "      <td>1485.000000</td>\n",
       "      <td>1485.000000</td>\n",
       "      <td>1485.000000</td>\n",
       "      <td>1485.000000</td>\n",
       "      <td>1485.000000</td>\n",
       "      <td>1485.000000</td>\n",
       "      <td>...</td>\n",
       "      <td>1485.000000</td>\n",
       "      <td>1485.000000</td>\n",
       "      <td>1485.000000</td>\n",
       "      <td>1485.000000</td>\n",
       "      <td>1485.000000</td>\n",
       "      <td>1485.000000</td>\n",
       "      <td>1485.000000</td>\n",
       "      <td>1485.000000</td>\n",
       "      <td>1485.000000</td>\n",
       "      <td>1485.000000</td>\n",
       "    </tr>\n",
       "    <tr>\n",
       "      <th>mean</th>\n",
       "      <td>0.105413</td>\n",
       "      <td>0.000977</td>\n",
       "      <td>0.000584</td>\n",
       "      <td>0.000485</td>\n",
       "      <td>0.000445</td>\n",
       "      <td>0.000470</td>\n",
       "      <td>0.000442</td>\n",
       "      <td>0.000677</td>\n",
       "      <td>0.000474</td>\n",
       "      <td>0.000406</td>\n",
       "      <td>...</td>\n",
       "      <td>0.013143</td>\n",
       "      <td>0.013237</td>\n",
       "      <td>0.013017</td>\n",
       "      <td>0.012686</td>\n",
       "      <td>0.013212</td>\n",
       "      <td>0.013212</td>\n",
       "      <td>0.013896</td>\n",
       "      <td>0.013924</td>\n",
       "      <td>0.014827</td>\n",
       "      <td>0.014777</td>\n",
       "    </tr>\n",
       "    <tr>\n",
       "      <th>std</th>\n",
       "      <td>0.013447</td>\n",
       "      <td>0.000784</td>\n",
       "      <td>0.000399</td>\n",
       "      <td>0.000301</td>\n",
       "      <td>0.000270</td>\n",
       "      <td>0.000277</td>\n",
       "      <td>0.000257</td>\n",
       "      <td>0.000395</td>\n",
       "      <td>0.000266</td>\n",
       "      <td>0.000222</td>\n",
       "      <td>...</td>\n",
       "      <td>0.008242</td>\n",
       "      <td>0.008523</td>\n",
       "      <td>0.008250</td>\n",
       "      <td>0.008095</td>\n",
       "      <td>0.008401</td>\n",
       "      <td>0.008545</td>\n",
       "      <td>0.009265</td>\n",
       "      <td>0.009247</td>\n",
       "      <td>0.010153</td>\n",
       "      <td>0.010333</td>\n",
       "    </tr>\n",
       "    <tr>\n",
       "      <th>min</th>\n",
       "      <td>0.084115</td>\n",
       "      <td>0.000011</td>\n",
       "      <td>0.000020</td>\n",
       "      <td>0.000012</td>\n",
       "      <td>0.000012</td>\n",
       "      <td>0.000021</td>\n",
       "      <td>0.000005</td>\n",
       "      <td>0.000017</td>\n",
       "      <td>0.000006</td>\n",
       "      <td>0.000012</td>\n",
       "      <td>...</td>\n",
       "      <td>0.000244</td>\n",
       "      <td>0.000473</td>\n",
       "      <td>0.000144</td>\n",
       "      <td>0.000459</td>\n",
       "      <td>0.000096</td>\n",
       "      <td>0.000283</td>\n",
       "      <td>0.000516</td>\n",
       "      <td>0.000107</td>\n",
       "      <td>0.000168</td>\n",
       "      <td>0.000228</td>\n",
       "    </tr>\n",
       "    <tr>\n",
       "      <th>25%</th>\n",
       "      <td>0.096204</td>\n",
       "      <td>0.000331</td>\n",
       "      <td>0.000270</td>\n",
       "      <td>0.000245</td>\n",
       "      <td>0.000238</td>\n",
       "      <td>0.000261</td>\n",
       "      <td>0.000251</td>\n",
       "      <td>0.000397</td>\n",
       "      <td>0.000281</td>\n",
       "      <td>0.000239</td>\n",
       "      <td>...</td>\n",
       "      <td>0.006896</td>\n",
       "      <td>0.006614</td>\n",
       "      <td>0.006922</td>\n",
       "      <td>0.006380</td>\n",
       "      <td>0.006587</td>\n",
       "      <td>0.006681</td>\n",
       "      <td>0.006753</td>\n",
       "      <td>0.006800</td>\n",
       "      <td>0.007274</td>\n",
       "      <td>0.006836</td>\n",
       "    </tr>\n",
       "    <tr>\n",
       "      <th>50%</th>\n",
       "      <td>0.101023</td>\n",
       "      <td>0.000628</td>\n",
       "      <td>0.000471</td>\n",
       "      <td>0.000435</td>\n",
       "      <td>0.000403</td>\n",
       "      <td>0.000432</td>\n",
       "      <td>0.000400</td>\n",
       "      <td>0.000621</td>\n",
       "      <td>0.000431</td>\n",
       "      <td>0.000384</td>\n",
       "      <td>...</td>\n",
       "      <td>0.011570</td>\n",
       "      <td>0.011506</td>\n",
       "      <td>0.011445</td>\n",
       "      <td>0.010922</td>\n",
       "      <td>0.011311</td>\n",
       "      <td>0.011524</td>\n",
       "      <td>0.012086</td>\n",
       "      <td>0.011908</td>\n",
       "      <td>0.012604</td>\n",
       "      <td>0.012086</td>\n",
       "    </tr>\n",
       "    <tr>\n",
       "      <th>75%</th>\n",
       "      <td>0.109505</td>\n",
       "      <td>0.001686</td>\n",
       "      <td>0.000873</td>\n",
       "      <td>0.000680</td>\n",
       "      <td>0.000615</td>\n",
       "      <td>0.000623</td>\n",
       "      <td>0.000591</td>\n",
       "      <td>0.000886</td>\n",
       "      <td>0.000616</td>\n",
       "      <td>0.000539</td>\n",
       "      <td>...</td>\n",
       "      <td>0.017640</td>\n",
       "      <td>0.018273</td>\n",
       "      <td>0.017525</td>\n",
       "      <td>0.017224</td>\n",
       "      <td>0.018403</td>\n",
       "      <td>0.018180</td>\n",
       "      <td>0.019027</td>\n",
       "      <td>0.018967</td>\n",
       "      <td>0.020332</td>\n",
       "      <td>0.020070</td>\n",
       "    </tr>\n",
       "    <tr>\n",
       "      <th>max</th>\n",
       "      <td>0.145781</td>\n",
       "      <td>0.004755</td>\n",
       "      <td>0.002344</td>\n",
       "      <td>0.001696</td>\n",
       "      <td>0.002257</td>\n",
       "      <td>0.001796</td>\n",
       "      <td>0.001905</td>\n",
       "      <td>0.003250</td>\n",
       "      <td>0.002071</td>\n",
       "      <td>0.001762</td>\n",
       "      <td>...</td>\n",
       "      <td>0.048680</td>\n",
       "      <td>0.051628</td>\n",
       "      <td>0.046071</td>\n",
       "      <td>0.056907</td>\n",
       "      <td>0.045973</td>\n",
       "      <td>0.051274</td>\n",
       "      <td>0.053391</td>\n",
       "      <td>0.053329</td>\n",
       "      <td>0.062616</td>\n",
       "      <td>0.059573</td>\n",
       "    </tr>\n",
       "  </tbody>\n",
       "</table>\n",
       "<p>8 rows × 10544 columns</p>\n",
       "</div>"
      ],
      "text/plain": [
       "             0            1            2            3            4      \\\n",
       "count  1485.000000  1485.000000  1485.000000  1485.000000  1485.000000   \n",
       "mean      0.105413     0.000977     0.000584     0.000485     0.000445   \n",
       "std       0.013447     0.000784     0.000399     0.000301     0.000270   \n",
       "min       0.084115     0.000011     0.000020     0.000012     0.000012   \n",
       "25%       0.096204     0.000331     0.000270     0.000245     0.000238   \n",
       "50%       0.101023     0.000628     0.000471     0.000435     0.000403   \n",
       "75%       0.109505     0.001686     0.000873     0.000680     0.000615   \n",
       "max       0.145781     0.004755     0.002344     0.001696     0.002257   \n",
       "\n",
       "             5            6            7            8            9      ...  \\\n",
       "count  1485.000000  1485.000000  1485.000000  1485.000000  1485.000000  ...   \n",
       "mean      0.000470     0.000442     0.000677     0.000474     0.000406  ...   \n",
       "std       0.000277     0.000257     0.000395     0.000266     0.000222  ...   \n",
       "min       0.000021     0.000005     0.000017     0.000006     0.000012  ...   \n",
       "25%       0.000261     0.000251     0.000397     0.000281     0.000239  ...   \n",
       "50%       0.000432     0.000400     0.000621     0.000431     0.000384  ...   \n",
       "75%       0.000623     0.000591     0.000886     0.000616     0.000539  ...   \n",
       "max       0.001796     0.001905     0.003250     0.002071     0.001762  ...   \n",
       "\n",
       "             10534        10535        10536        10537        10538  \\\n",
       "count  1485.000000  1485.000000  1485.000000  1485.000000  1485.000000   \n",
       "mean      0.013143     0.013237     0.013017     0.012686     0.013212   \n",
       "std       0.008242     0.008523     0.008250     0.008095     0.008401   \n",
       "min       0.000244     0.000473     0.000144     0.000459     0.000096   \n",
       "25%       0.006896     0.006614     0.006922     0.006380     0.006587   \n",
       "50%       0.011570     0.011506     0.011445     0.010922     0.011311   \n",
       "75%       0.017640     0.018273     0.017525     0.017224     0.018403   \n",
       "max       0.048680     0.051628     0.046071     0.056907     0.045973   \n",
       "\n",
       "             10539        10540        10541        10542        10543  \n",
       "count  1485.000000  1485.000000  1485.000000  1485.000000  1485.000000  \n",
       "mean      0.013212     0.013896     0.013924     0.014827     0.014777  \n",
       "std       0.008545     0.009265     0.009247     0.010153     0.010333  \n",
       "min       0.000283     0.000516     0.000107     0.000168     0.000228  \n",
       "25%       0.006681     0.006753     0.006800     0.007274     0.006836  \n",
       "50%       0.011524     0.012086     0.011908     0.012604     0.012086  \n",
       "75%       0.018180     0.019027     0.018967     0.020332     0.020070  \n",
       "max       0.051274     0.053391     0.053329     0.062616     0.059573  \n",
       "\n",
       "[8 rows x 10544 columns]"
      ]
     },
     "execution_count": 67,
     "metadata": {},
     "output_type": "execute_result"
    }
   ],
   "source": [
    "pd.DataFrame(day1_data['Normal']).describe()"
   ]
  },
  {
   "cell_type": "code",
   "execution_count": null,
   "id": "91701a2b-a77e-4544-8436-42a3a98e39b5",
   "metadata": {},
   "outputs": [],
   "source": [
    "N1_df = pd.DataFrame(day1_data['Normal'])\n",
    "N3_df = pd.DataFrame(day23_data['Normal'])\n",
    "\n",
    "fig, ax = plt.subplots(2110, 5, figsize=(10, 20))\n",
    "\n",
    "for i in range(len(N1_df.columns)):\n",
    "    if i%5==0:\n",
    "        row = i // 5\n",
    "        col = i % 5\n",
    "        ax[row, col].boxplot([N1_df.iloc[:, i], N3_df.iloc[:, i]])\n",
    "        ax[row, col].set_xlabel('Data Type')\n",
    "        ax[row, col].set_ylabel('Value')\n",
    "        \n",
    "plt.show()"
   ]
  },
  {
   "cell_type": "code",
   "execution_count": null,
   "id": "450a2415-5a7f-4f7d-ab84-ea60a62c9bbc",
   "metadata": {},
   "outputs": [],
   "source": []
  }
 ],
 "metadata": {
  "kernelspec": {
   "display_name": "Python 3 (ipykernel)",
   "language": "python",
   "name": "python3"
  },
  "language_info": {
   "codemirror_mode": {
    "name": "ipython",
    "version": 3
   },
   "file_extension": ".py",
   "mimetype": "text/x-python",
   "name": "python",
   "nbconvert_exporter": "python",
   "pygments_lexer": "ipython3",
   "version": "3.8.10"
  }
 },
 "nbformat": 4,
 "nbformat_minor": 5
}
