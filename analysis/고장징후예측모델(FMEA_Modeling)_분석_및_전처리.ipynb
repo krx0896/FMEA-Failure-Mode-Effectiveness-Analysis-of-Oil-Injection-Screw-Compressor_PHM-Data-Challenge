{
  "nbformat": 4,
  "nbformat_minor": 0,
  "metadata": {
    "colab": {
      "provenance": []
    },
    "kernelspec": {
      "name": "python3",
      "display_name": "Python 3"
    },
    "language_info": {
      "name": "python"
    }
  },
  "cells": [
    {
      "cell_type": "markdown",
      "source": [
        "## 데이터 불러오기"
      ],
      "metadata": {
        "id": "0NeWgbOqf-Bx"
      }
    },
    {
      "cell_type": "code",
      "execution_count": null,
      "metadata": {
        "id": "IHW3qh6Rftc1"
      },
      "outputs": [],
      "source": [
        "import pandas as pd\n",
        "import numpy as np\n",
        "import seaborn as sns\n",
        "import matplotlib.pyplot as plt\n",
        "\n",
        "import warnings\n",
        "\n",
        "warnings.filterwarnings(action='ignore') "
      ]
    },
    {
      "cell_type": "code",
      "source": [
        "from google.colab import drive\n",
        "drive.mount('/content/drive')"
      ],
      "metadata": {
        "colab": {
          "base_uri": "https://localhost:8080/"
        },
        "id": "TYzl3PBaf11D",
        "outputId": "6df3bc6f-8a8b-454a-fdb1-1d2b9fcaee13"
      },
      "execution_count": null,
      "outputs": [
        {
          "output_type": "stream",
          "name": "stdout",
          "text": [
            "Mounted at /content/drive\n"
          ]
        }
      ]
    },
    {
      "cell_type": "code",
      "source": [
        "from tqdm import tqdm \n",
        "import pandas as pd \n",
        "import numpy as np\n",
        "from collections import defaultdict\n",
        "\n",
        "def get_fft(input_filename,chunksize = 10544):\n",
        "  fft_list = []  \n",
        "  df = pd.read_csv(input_filename, chunksize = chunksize,index_col=0)\n",
        "  for i,df_chunk in tqdm(enumerate(df)):\n",
        "    if len(df_chunk) != chunksize : break\n",
        "    fft_c1 = np.fft.fft(df_chunk.iloc[:,0])[:chunksize//2]/chunksize * 2\n",
        "    fft_c2 = np.fft.fft(df_chunk.iloc[:,1])[:chunksize//2]/chunksize * 2\n",
        "    fft_list.append(np.abs(np.hstack([fft_c1,fft_c2])))\n",
        "    assert len(fft_list[-1])==chunksize\n",
        "  return fft_list\n",
        "\n",
        "def get_fft_dict(phmap_train):\n",
        "    fft_dict = defaultdict(list)\n",
        "    for name in phmap_train:\n",
        "      file_path = f'/content/drive/MyDrive/phmap_train/train_{name}.csv'\n",
        "      label = name.split('_')[-1]\n",
        "      print(label)\n",
        "      fft_dict[label] += get_fft(file_path)\n",
        "    for key in fft_dict:\n",
        "      fft_dict[key] = np.array(fft_dict[key])\n",
        "    return fft_dict\n",
        "    \n",
        "def select_index(raw_data_dict,q):\n",
        "    selected_index = []\n",
        "    for label in raw_data_dict:\n",
        "        raw_data = raw_data_dict[label]\n",
        "        N = len(raw_data[0])\n",
        "        sum_fft_c1 = np.sum(raw_data[:,:N//2],axis=0)\n",
        "        sum_fft_c2 = np.sum(raw_data[:,N//2:],axis=0)\n",
        "        th_c1 = np.quantile(sum_fft_c1,q)\n",
        "        th_c2 = np.quantile(sum_fft_c2,q)\n",
        "        selected_index += list(np.where(sum_fft_c1>th_c1)[0])\n",
        "        selected_index += list(np.where(sum_fft_c2>th_c2)[0]+N//2)\n",
        "    selected_index = sorted(list(set(selected_index)))\n",
        "    return selected_index\n",
        "\n",
        "def get_selected_data(raw_data_dict,selected_index):\n",
        "  selected_data = []\n",
        "  label_list = []\n",
        "  for label in raw_data_dict:\n",
        "      raw_data = raw_data_dict[label][:,selected_index]\n",
        "      selected_data.append(raw_data)\n",
        "      label_list += [label]*len(raw_data)\n",
        "  selected_data = np.vstack(selected_data)\n",
        "  return selected_data,label_list"
      ],
      "metadata": {
        "id": "4fpjajT6Ql7R"
      },
      "execution_count": null,
      "outputs": []
    },
    {
      "cell_type": "code",
      "source": [
        "# 1일차 데이터를 예측\n",
        "day1_data = get_fft_dict(['1st_Normal', '1st_Bearing', '1st_Unbalance', '1st_Looseness', '1st_high'])\n",
        "day23_data = get_fft_dict(['2nd_Bearing', '2nd_Looseness', '2nd_Unbalance', '3rd_Normal', '3rd_Unbalance'])\n",
        "selected_index = select_index(day1_data,0.5)\n",
        "selected_data,label_list = get_selected_data(day1_data,selected_index)\n",
        "selected_data_23,label_list_23 = get_selected_data(day23_data,selected_index)\n",
        "\n",
        "x_train= selected_data\n",
        "y_train= label_list\n",
        "x_test= selected_data_23\n",
        "y_test= label_list_23\n",
        "\n",
        "# x_train= selected_data_23\n",
        "# y_train= label_list_23\n",
        "# x_test= selected_data\n",
        "# y_test= label_list"
      ],
      "metadata": {
        "id": "aql5J1lwQoU3",
        "colab": {
          "base_uri": "https://localhost:8080/"
        },
        "outputId": "4757e8f9-5e57-44c7-d573-8d326f03feae"
      },
      "execution_count": null,
      "outputs": [
        {
          "output_type": "stream",
          "name": "stdout",
          "text": [
            "Normal\n"
          ]
        },
        {
          "output_type": "stream",
          "name": "stderr",
          "text": [
            "1485it [00:45, 32.30it/s]\n"
          ]
        },
        {
          "output_type": "stream",
          "name": "stdout",
          "text": [
            "Bearing\n"
          ]
        },
        {
          "output_type": "stream",
          "name": "stderr",
          "text": [
            "1800it [00:36, 49.56it/s]\n"
          ]
        },
        {
          "output_type": "stream",
          "name": "stdout",
          "text": [
            "Unbalance\n"
          ]
        },
        {
          "output_type": "stream",
          "name": "stderr",
          "text": [
            "1117it [00:21, 51.52it/s]\n"
          ]
        },
        {
          "output_type": "stream",
          "name": "stdout",
          "text": [
            "Looseness\n"
          ]
        },
        {
          "output_type": "stream",
          "name": "stderr",
          "text": [
            "609it [00:13, 43.95it/s]\n"
          ]
        },
        {
          "output_type": "stream",
          "name": "stdout",
          "text": [
            "high\n"
          ]
        },
        {
          "output_type": "stream",
          "name": "stderr",
          "text": [
            "415it [00:12, 32.80it/s]\n"
          ]
        },
        {
          "output_type": "stream",
          "name": "stdout",
          "text": [
            "Bearing\n"
          ]
        },
        {
          "output_type": "stream",
          "name": "stderr",
          "text": [
            "3890it [01:16, 50.92it/s]\n"
          ]
        },
        {
          "output_type": "stream",
          "name": "stdout",
          "text": [
            "Looseness\n"
          ]
        },
        {
          "output_type": "stream",
          "name": "stderr",
          "text": [
            "3069it [01:01, 49.51it/s]\n"
          ]
        },
        {
          "output_type": "stream",
          "name": "stdout",
          "text": [
            "Unbalance\n"
          ]
        },
        {
          "output_type": "stream",
          "name": "stderr",
          "text": [
            "2853it [00:59, 47.57it/s]\n"
          ]
        },
        {
          "output_type": "stream",
          "name": "stdout",
          "text": [
            "Normal\n"
          ]
        },
        {
          "output_type": "stream",
          "name": "stderr",
          "text": [
            "5017it [01:50, 45.59it/s]\n"
          ]
        },
        {
          "output_type": "stream",
          "name": "stdout",
          "text": [
            "Unbalance\n"
          ]
        },
        {
          "output_type": "stream",
          "name": "stderr",
          "text": [
            "2239it [00:47, 46.79it/s]\n"
          ]
        }
      ]
    },
    {
      "cell_type": "code",
      "source": [
        "# 1일차 데이터에 대한 예측\n",
        "from sklearn.model_selection import train_test_split\n",
        "train_data = get_fft_dict(['1st_Normal', '1st_Bearing', '1st_Unbalance', '1st_Looseness', '1st_high',\n",
        "                           '2nd_Bearing', '2nd_Looseness', '2nd_Unbalance', '3rd_Normal', '3rd_Unbalance'])\n",
        "selected_index = select_index(train_data,0.5)\n",
        "selected_data,label_list = get_selected_data(train_data,selected_index)\n",
        "X = selected_data\n",
        "y = label_list\n",
        "x_train, x_test, y_train, y_test = train_test_split(X, y, test_size=0.3)"
      ],
      "metadata": {
        "id": "eNs1LDTHQo1F",
        "colab": {
          "base_uri": "https://localhost:8080/"
        },
        "outputId": "81c5ce57-5a2e-4637-df21-dfbe8250a30c"
      },
      "execution_count": null,
      "outputs": [
        {
          "output_type": "stream",
          "name": "stdout",
          "text": [
            "Normal\n"
          ]
        },
        {
          "output_type": "stream",
          "name": "stderr",
          "text": [
            "1485it [00:23, 62.86it/s]\n"
          ]
        },
        {
          "output_type": "stream",
          "name": "stdout",
          "text": [
            "Bearing\n"
          ]
        },
        {
          "output_type": "stream",
          "name": "stderr",
          "text": [
            "1800it [00:31, 56.46it/s]\n"
          ]
        },
        {
          "output_type": "stream",
          "name": "stdout",
          "text": [
            "Unbalance\n"
          ]
        },
        {
          "output_type": "stream",
          "name": "stderr",
          "text": [
            "1117it [00:18, 61.07it/s]\n"
          ]
        },
        {
          "output_type": "stream",
          "name": "stdout",
          "text": [
            "Looseness\n"
          ]
        },
        {
          "output_type": "stream",
          "name": "stderr",
          "text": [
            "609it [00:11, 54.29it/s]\n"
          ]
        },
        {
          "output_type": "stream",
          "name": "stdout",
          "text": [
            "high\n"
          ]
        },
        {
          "output_type": "stream",
          "name": "stderr",
          "text": [
            "415it [00:06, 61.78it/s]\n"
          ]
        },
        {
          "output_type": "stream",
          "name": "stdout",
          "text": [
            "Bearing\n"
          ]
        },
        {
          "output_type": "stream",
          "name": "stderr",
          "text": [
            "3890it [01:06, 58.77it/s]\n"
          ]
        },
        {
          "output_type": "stream",
          "name": "stdout",
          "text": [
            "Looseness\n"
          ]
        },
        {
          "output_type": "stream",
          "name": "stderr",
          "text": [
            "3069it [00:53, 57.18it/s]\n"
          ]
        },
        {
          "output_type": "stream",
          "name": "stdout",
          "text": [
            "Unbalance\n"
          ]
        },
        {
          "output_type": "stream",
          "name": "stderr",
          "text": [
            "2853it [00:47, 59.81it/s]\n"
          ]
        },
        {
          "output_type": "stream",
          "name": "stdout",
          "text": [
            "Normal\n"
          ]
        },
        {
          "output_type": "stream",
          "name": "stderr",
          "text": [
            "5017it [01:25, 59.01it/s]\n"
          ]
        },
        {
          "output_type": "stream",
          "name": "stdout",
          "text": [
            "Unbalance\n"
          ]
        },
        {
          "output_type": "stream",
          "name": "stderr",
          "text": [
            "2239it [00:39, 57.17it/s]\n"
          ]
        }
      ]
    },
    {
      "cell_type": "markdown",
      "source": [
        "### 위 내용 테스트 코드"
      ],
      "metadata": {
        "id": "Lk1zh6e6pjGX"
      }
    },
    {
      "cell_type": "code",
      "source": [
        "np.quantile(np.sum(fft_dict['1st_Normal'][:,:10544//2],axis=0),0.75),np.quantile(np.sum(fft_dict['1st_Normal'][:,:10544//2],axis=0),0.25)"
      ],
      "metadata": {
        "id": "E3DHQmNsqeBA",
        "colab": {
          "base_uri": "https://localhost:8080/"
        },
        "outputId": "5f12d577-9745-40ee-a3e4-2c53775e8fd9"
      },
      "execution_count": null,
      "outputs": [
        {
          "output_type": "execute_result",
          "data": {
            "text/plain": [
              "(5.990378116565684, 1.2034000908815536)"
            ]
          },
          "metadata": {},
          "execution_count": 15
        }
      ]
    },
    {
      "cell_type": "code",
      "source": [
        "plt.subplot(121).plot(np.sum(fft_dict['1st_Normal'][:,:10544//2],axis=0))\n",
        "plt.subplot(122).plot(np.sum(fft_dict['1st_Normal'][:,10544//2:],axis=0))\n",
        "plt.show()"
      ],
      "metadata": {
        "id": "Iyg_y1XjqHM1",
        "colab": {
          "base_uri": "https://localhost:8080/",
          "height": 265
        },
        "outputId": "aae2bf26-035a-4165-8674-20db0cc46a0b"
      },
      "execution_count": null,
      "outputs": [
        {
          "output_type": "display_data",
          "data": {
            "text/plain": [
              "<Figure size 432x288 with 2 Axes>"
            ],
            "image/png": "[encoded data removed]"
          },
          "metadata": {
            "needs_background": "light"
          }
        }
      ]
    },
    {
      "cell_type": "code",
      "source": [
        "plt.plot(np.sum(fft_dict['1st_Normal'],axis=0))\n",
        "plt.show()"
      ],
      "metadata": {
        "id": "vDQ35Wa7qTyl",
        "colab": {
          "base_uri": "https://localhost:8080/",
          "height": 265
        },
        "outputId": "1d44fe71-26ee-4647-9859-476e1cef64fa"
      },
      "execution_count": null,
      "outputs": [
        {
          "output_type": "display_data",
          "data": {
            "text/plain": [
              "<Figure size 432x288 with 1 Axes>"
            ],
            "image/png": "[encoded data removed]"
          },
          "metadata": {
            "needs_background": "light"
          }
        }
      ]
    },
    {
      "cell_type": "code",
      "source": [
        "# tN_spec_c1 = np.vstack([fft_dict['1st_Normal_c1'],fft_dict['3rd_Normal_c1']])\n",
        "# tB_spec_c1 = np.vstack([fft_dict['1st_Bearing_c1'],fft_dict['2nd_Bearing_c1']])\n",
        "# tU_spec_c1 = np.vstack([fft_dict['1st_Unbalance_c1'],fft_dict['2nd_Unbalance_c1'],fft_dict['3rd_Unbalance_c1']])\n",
        "# tL_spec_c1 = np.vstack([fft_dict['1st_Looseness_c1'],fft_dict['2nd_Looseness_c1']])\n",
        "# tH_spec_c1 = fft_dict['1st_high_c1']\n",
        "\n",
        "# tN_spec_c2 = np.vstack([fft_dict['1st_Normal_c2'],fft_dict['3rd_Normal_c2']])\n",
        "# tB_spec_c2 = np.vstack([fft_dict['1st_Bearing_c2'],fft_dict['2nd_Bearing_c2']])\n",
        "# tU_spec_c2 = np.vstack([fft_dict['1st_Unbalance_c2'],fft_dict['2nd_Unbalance_c2'],fft_dict['3rd_Unbalance_c2']])\n",
        "# tL_spec_c2 = np.vstack([fft_dict['1st_Looseness_c2'],fft_dict['2nd_Looseness_c2']])\n",
        "# tH_spec_c2 = fft_dict['1st_high_c2']"
      ],
      "metadata": {
        "id": "d1G0LHusiDof"
      },
      "execution_count": null,
      "outputs": []
    },
    {
      "cell_type": "code",
      "source": [
        "train_1st_Bearing = '/content/drive/MyDrive/phmap_train/train_1st_Bearing.csv'\n",
        "train_1st_Looseness = '/content/drive/MyDrive/phmap_train/train_1st_Looseness.csv'\n",
        "train_1st_Normal = '/content/drive/MyDrive/phmap_train/train_1st_Normal.csv'\n",
        "train_1st_Unbalance = '/content/drive/MyDrive/phmap_train/train_1st_Unbalance.csv'\n",
        "train_1st_high = '/content/drive/MyDrive/phmap_train/train_1st_high.csv'\n",
        "train_2nd_Bearing = '/content/drive/MyDrive/phmap_train/train_2nd_Bearing.csv'\n",
        "train_2nd_Looseness = '/content/drive/MyDrive/phmap_train/train_2nd_Looseness.csv'\n",
        "train_2nd_Unbalance = '/content/drive/MyDrive/phmap_train/train_2nd_Unbalance.csv'\n",
        "train_3rd_Normal = '/content/drive/MyDrive/phmap_train/train_3rd_Normal.csv'\n",
        "train_3rd_Unbalance = '/content/drive/MyDrive/phmap_train/train_3rd_Unbalance.csv'"
      ],
      "metadata": {
        "id": "BMUPsRL-f1yV"
      },
      "execution_count": null,
      "outputs": []
    },
    {
      "cell_type": "markdown",
      "source": [
        "## 벡터를 사용하여 시각화"
      ],
      "metadata": {
        "id": "eufgpVeOAj5I"
      }
    },
    {
      "cell_type": "markdown",
      "source": [
        "### 스펙트로그램 식 인덱스 추출을 위한 데이터"
      ],
      "metadata": {
        "id": "Tipl9UTw36oj"
      }
    },
    {
      "cell_type": "code",
      "source": [
        "from tqdm import tqdm \n",
        "\n",
        "\n",
        "def get_fft(input_filename, column_name):\n",
        "  fft_list = []\n",
        "  df = pd.read_csv(input_filename, chunksize = 10544)\n",
        "  for i,df_c in tqdm(enumerate(df)):\n",
        "    if len(df_c) != 10544 : break\n",
        "    x = np.array(df_c.iloc[:,0])\n",
        "    y = np.array(df_c[column_name])\n",
        "    nfft = len(x) \n",
        "    fft_y = np.fft.fft(y)/nfft * 2 \n",
        "    fft_y = list(fft_y)\n",
        "    fft_list.append(fft_y)\n",
        "  fft_list = np.array(fft_list)\n",
        "  return fft_list\n",
        "\n",
        "column_name = '1st_Normal_c1'\n",
        "fft_dict = {}\n",
        "fft_dict[column_name] = get_fft(train_1st_Normal, column_name)\n",
        "\n",
        "\n"
      ],
      "metadata": {
        "colab": {
          "base_uri": "https://localhost:8080/"
        },
        "id": "wcdSYksEWJlB",
        "outputId": "9a56a4e9-408a-4e73-e489-f7ed762eabf8"
      },
      "execution_count": null,
      "outputs": [
        {
          "output_type": "stream",
          "name": "stderr",
          "text": [
            "1485it [00:21, 67.57it/s]\n"
          ]
        }
      ]
    },
    {
      "cell_type": "code",
      "source": [
        "fft_dict['1st_Bearing_c1'] = get_fft(train_1st_Bearing, '1st_Bearing_c1')"
      ],
      "metadata": {
        "colab": {
          "base_uri": "https://localhost:8080/"
        },
        "id": "7GgTmHbAX27d",
        "outputId": "a3c1d7b9-94e8-43fb-a483-e87240f134de"
      },
      "execution_count": null,
      "outputs": [
        {
          "output_type": "stream",
          "name": "stderr",
          "text": [
            "1469it [00:18, 78.92it/s]"
          ]
        }
      ]
    },
    {
      "cell_type": "code",
      "source": [
        "np.shape(fft_dict['1st_Bearing_c1'])"
      ],
      "metadata": {
        "id": "7DlTSFYDYDaS"
      },
      "execution_count": null,
      "outputs": []
    },
    {
      "cell_type": "code",
      "source": [
        "np.shape(fft_dict[column_name])"
      ],
      "metadata": {
        "colab": {
          "base_uri": "https://localhost:8080/"
        },
        "id": "47VIFpsOXsGk",
        "outputId": "be857a8f-19a3-4377-e9ec-20f28631a62c"
      },
      "execution_count": null,
      "outputs": [
        {
          "output_type": "execute_result",
          "data": {
            "text/plain": [
              "(1485, 10544)"
            ]
          },
          "metadata": {},
          "execution_count": 70
        }
      ]
    },
    {
      "cell_type": "code",
      "source": [
        "get_fft(train_1st_Bearing, '1st_Bearing_c1')"
      ],
      "metadata": {
        "colab": {
          "base_uri": "https://localhost:8080/"
        },
        "id": "PrFHdW-YcuL5",
        "outputId": "f4ed18ba-aa05-4489-af8e-eac780846f5f"
      },
      "execution_count": null,
      "outputs": [
        {
          "output_type": "stream",
          "name": "stderr",
          "text": [
            "1800it [00:30, 59.59it/s]\n"
          ]
        },
        {
          "output_type": "execute_result",
          "data": {
            "text/plain": [
              "array([[ 3.81634729e-01+9.43436865e-18j, -4.03552031e-03-2.68175792e-03j,\n",
              "         4.60379770e-03-3.79520064e-03j, ...,\n",
              "        -6.41402244e-03-2.70874289e-03j,  4.60379770e-03+3.79520064e-03j,\n",
              "        -4.03552031e-03+2.68175792e-03j],\n",
              "       [ 3.68439605e-01-6.73883475e-18j, -2.32891002e-04-6.11529970e-03j,\n",
              "        -2.91020640e-05-3.97245793e-03j, ...,\n",
              "         8.64737811e-04-1.92647238e-03j, -2.91020640e-05+3.97245793e-03j,\n",
              "        -2.32891002e-04+6.11529970e-03j],\n",
              "       [ 3.72442973e-01+8.76048517e-18j, -5.78785136e-05+9.64473525e-03j,\n",
              "         2.83855595e-03+1.26282579e-03j, ...,\n",
              "        -1.45895252e-03+1.11766512e-03j,  2.83855595e-03-1.26282579e-03j,\n",
              "        -5.78785136e-05-9.64473525e-03j],\n",
              "       ...,\n",
              "       [ 4.56065575e-01+5.39106780e-18j,  9.45961794e-03+2.84769444e-04j,\n",
              "        -5.67321768e-04+1.29923710e-03j, ...,\n",
              "         2.26039103e-04-6.93600227e-03j, -5.67321768e-04-1.29923710e-03j,\n",
              "         9.45961794e-03-2.84769444e-04j],\n",
              "       [ 4.49962701e-01-3.16725233e-17j,  7.59578285e-03-5.59601574e-04j,\n",
              "        -1.03637104e-04+5.51434123e-03j, ...,\n",
              "         2.72342245e-03+6.29880682e-03j, -1.03637104e-04-5.51434123e-03j,\n",
              "         7.59578285e-03+5.59601574e-04j],\n",
              "       [ 4.53327102e-01+2.42598051e-17j, -2.42718527e-03+2.23774260e-03j,\n",
              "        -3.30811209e-03+8.68923158e-04j, ...,\n",
              "         2.22783354e-03-2.29246213e-03j, -3.30811209e-03-8.68923158e-04j,\n",
              "        -2.42718527e-03-2.23774260e-03j]])"
            ]
          },
          "metadata": {},
          "execution_count": 5
        }
      ]
    },
    {
      "cell_type": "code",
      "source": [],
      "metadata": {
        "id": "vAyhM4zect-d",
        "colab": {
          "base_uri": "https://localhost:8080/"
        },
        "outputId": "6cecfe57-887b-461d-c451-66027eca208d"
      },
      "execution_count": null,
      "outputs": [
        {
          "output_type": "execute_result",
          "data": {
            "text/plain": [
              "array([0.10958042, 0.00024852, 0.00029072, ..., 0.01358989, 0.01343421,\n",
              "       0.00558731])"
            ]
          },
          "metadata": {},
          "execution_count": 14
        }
      ]
    },
    {
      "cell_type": "code",
      "source": [],
      "metadata": {
        "id": "1EEb_0Qxct77"
      },
      "execution_count": null,
      "outputs": []
    },
    {
      "cell_type": "markdown",
      "source": [
        "c1"
      ],
      "metadata": {
        "id": "vN9GOiNI1gZE"
      }
    },
    {
      "cell_type": "code",
      "source": [
        "import numpy as np \n",
        "import math\n",
        "import matplotlib.pyplot as plt\n",
        "from scipy.interpolate import splrep, splev\n",
        "\n",
        "\n",
        "t1N = pd.read_csv(train_1st_Normal, chunksize = 10544)\n",
        "\n",
        "t1N_spec_c1 = []\n",
        "\n",
        "\n",
        "for i,df1 in enumerate(t1N):\n",
        "  if len(df1) < 10544: break\n",
        "  x = np.array(df1.iloc[:,0])\n",
        "  y = np.array(df1['1st_Normal_c1'])\n",
        "\n",
        "  nfft = len(x) \n",
        "  fft_y = np.fft.fft(y)/nfft * 2 \n",
        "  fft_y = list(fft_y)\n",
        "  t1N_spec_c1.append(fft_y)"
      ],
      "metadata": {
        "id": "56arxvP6BlBg"
      },
      "execution_count": null,
      "outputs": []
    },
    {
      "cell_type": "code",
      "source": [
        "t1N_spec_c1[0]"
      ],
      "metadata": {
        "id": "KFP4SzmBpywW"
      },
      "execution_count": null,
      "outputs": []
    },
    {
      "cell_type": "code",
      "source": [
        "t1B = pd.read_csv(train_1st_Bearing, chunksize = 10544)\n",
        "\n",
        "t1B_spec_c1 = []\n",
        "\n",
        "for i,df2 in enumerate(t1B):\n",
        "  if len(df2) < 10544: break\n",
        "  x = np.array(df2.iloc[:,0])\n",
        "  y = np.array(df2['1st_Bearing_c1'])\n",
        "\n",
        "  nfft = len(x) \n",
        "  fft_y = np.fft.fft(y)/nfft * 2 \n",
        "  fft_y = list(fft_y)\n",
        "  t1B_spec_c1.append(fft_y)\n",
        "  if i == 1798: break"
      ],
      "metadata": {
        "id": "IvSZK_PrBk0u"
      },
      "execution_count": null,
      "outputs": []
    },
    {
      "cell_type": "code",
      "source": [
        "t1U = pd.read_csv(train_1st_Unbalance, chunksize = 10544)\n",
        "\n",
        "t1U_spec_c1 = []\n",
        "\n",
        "for i,df3 in enumerate(t1U):\n",
        "  if len(df3) < 10544: break\n",
        "  x = np.array(df3.iloc[:,0])\n",
        "  y = np.array(df3['1st_Unbalance_c1'])\n",
        "\n",
        "  nfft = len(x) \n",
        "  fft_y = np.fft.fft(y)/nfft * 2 \n",
        "  fft_y = list(fft_y)\n",
        "  t1U_spec_c1.append(fft_y)\n",
        "\n"
      ],
      "metadata": {
        "id": "AGZUQj2eBkyL"
      },
      "execution_count": null,
      "outputs": []
    },
    {
      "cell_type": "code",
      "source": [
        "np.shape(t1U_spec_c1)"
      ],
      "metadata": {
        "colab": {
          "base_uri": "https://localhost:8080/"
        },
        "id": "EilOeYUYU-Dh",
        "outputId": "adb0e625-c50a-42ab-c842-c12c363366b7"
      },
      "execution_count": null,
      "outputs": [
        {
          "output_type": "execute_result",
          "data": {
            "text/plain": [
              "(1117, 10544)"
            ]
          },
          "metadata": {},
          "execution_count": 67
        }
      ]
    },
    {
      "cell_type": "code",
      "source": [
        "df3.shape"
      ],
      "metadata": {
        "colab": {
          "base_uri": "https://localhost:8080/"
        },
        "id": "3vBhkgjYTX9y",
        "outputId": "4ea1ec44-b5d5-43be-afc6-91e3c84daa44"
      },
      "execution_count": null,
      "outputs": [
        {
          "output_type": "execute_result",
          "data": {
            "text/plain": [
              "(2108, 3)"
            ]
          },
          "metadata": {},
          "execution_count": 66
        }
      ]
    },
    {
      "cell_type": "code",
      "source": [
        "t1L = pd.read_csv(train_1st_Looseness, chunksize = 10544)\n",
        "\n",
        "t1L_spec_c1 = []\n",
        "\n",
        "for i,df4 in enumerate(t1L):\n",
        "  if len(df4) < 10544: break\n",
        "  x = np.array(df4.iloc[:,0])\n",
        "  y = np.array(df4['1st_Looseness_c1'])\n",
        "\n",
        "  nfft = len(x) \n",
        "  fft_y = np.fft.fft(y)/nfft * 2 \n",
        "  fft_y = list(fft_y)\n",
        "  t1L_spec_c1.append(fft_y)"
      ],
      "metadata": {
        "id": "ya4NnBsfBkv0"
      },
      "execution_count": null,
      "outputs": []
    },
    {
      "cell_type": "code",
      "source": [
        "t1H = pd.read_csv(train_1st_high, chunksize = 10544)\n",
        "\n",
        "t1H_spec_c1 = []\n",
        "\n",
        "for i,df5 in enumerate(t1H):\n",
        "  if len(df3) < 10544: break\n",
        "  x = np.array(df5.iloc[:,0])\n",
        "  y = np.array(df5['1st_high_c1'])\n",
        "\n",
        "  nfft = len(x) \n",
        "  fft_y = np.fft.fft(y)/nfft * 2 \n",
        "  fft_y = list(fft_y)\n",
        "  t1H_spec_c1.append(fft_y)"
      ],
      "metadata": {
        "id": "tJToVuNElYP7"
      },
      "execution_count": null,
      "outputs": []
    },
    {
      "cell_type": "code",
      "source": [
        "t2B = pd.read_csv(train_2nd_Bearing, chunksize = 10544)\n",
        "\n",
        "t2B_spec_c1 = []\n",
        "\n",
        "for i,df6 in enumerate(t2B):\n",
        "  if len(df6) < 10544: break\n",
        "  x = np.array(df6.iloc[:,0])\n",
        "  y = np.array(df6['2nd_Bearing_c1'])\n",
        "\n",
        "  nfft = len(x) \n",
        "  fft_y = np.fft.fft(y)/nfft * 2 \n",
        "  fft_y = list(fft_y)\n",
        "  t2B_spec_c1.append(fft_y)"
      ],
      "metadata": {
        "id": "9fWF5FzfFrFp"
      },
      "execution_count": null,
      "outputs": []
    },
    {
      "cell_type": "code",
      "source": [
        "t2L = pd.read_csv(train_2nd_Looseness, chunksize = 10544)\n",
        "\n",
        "t2L_spec_c1 = []\n",
        "\n",
        "for i,df7 in enumerate(t2L):\n",
        "  if len(df7) < 10544: break\n",
        "  x = np.array(df7.iloc[:,0])\n",
        "  y = np.array(df7['2nd_Looseness_c1'])\n",
        "\n",
        "  nfft = len(x) \n",
        "  fft_y = np.fft.fft(y)/nfft * 2 \n",
        "  fft_y = list(fft_y)\n",
        "  t2L_spec_c1.append(fft_y)"
      ],
      "metadata": {
        "id": "Xp3KgiUuFrCd"
      },
      "execution_count": null,
      "outputs": []
    },
    {
      "cell_type": "code",
      "source": [
        "t2U = pd.read_csv(train_2nd_Unbalance, chunksize = 10544)\n",
        "\n",
        "t2U_spec_c1 = []\n",
        "\n",
        "for i,df8 in enumerate(t2U):\n",
        "  if len(df8) < 10544: break\n",
        "  x = np.array(df8.iloc[:,0])\n",
        "  y = np.array(df8['2nd_Unbalance_c1'])\n",
        "\n",
        "  nfft = len(x) \n",
        "  fft_y = np.fft.fft(y)/nfft * 2 \n",
        "  fft_y = list(fft_y)\n",
        "  t2U_spec_c1.append(fft_y)"
      ],
      "metadata": {
        "id": "x6DzSrRUFqR_"
      },
      "execution_count": null,
      "outputs": []
    },
    {
      "cell_type": "code",
      "source": [
        "t3N = pd.read_csv(train_3rd_Normal, chunksize = 10544)\n",
        "\n",
        "t3N_spec_c1 = []\n",
        "\n",
        "for i,df9 in enumerate(t3N):\n",
        "  if len(df9) < 10544: break\n",
        "  x = np.array(df9.iloc[:,0])\n",
        "  y = np.array(df9['3rd_Normal_c1'])\n",
        "\n",
        "  nfft = len(x) \n",
        "  fft_y = np.fft.fft(y)/nfft * 2 \n",
        "  fft_y = list(fft_y)\n",
        "  t3N_spec_c1.append(fft_y)"
      ],
      "metadata": {
        "id": "r0SBo_6rFqPB"
      },
      "execution_count": null,
      "outputs": []
    },
    {
      "cell_type": "code",
      "source": [
        "t3U = pd.read_csv(train_3rd_Unbalance, chunksize = 10544)\n",
        "\n",
        "t3U_spec_c1 = []\n",
        "\n",
        "for i,df10 in enumerate(t3U):\n",
        "  if len(df10) < 10544: break\n",
        "  x = np.array(df10.iloc[:,0])\n",
        "  y = np.array(df10['3rd_Unbalance_c1'])\n",
        "\n",
        "  nfft = len(x) \n",
        "  fft_y = np.fft.fft(y)/nfft * 2 \n",
        "  fft_y = list(fft_y)\n",
        "  t3U_spec_c1.append(fft_y)"
      ],
      "metadata": {
        "id": "nL379Ek5FqMR"
      },
      "execution_count": null,
      "outputs": []
    },
    {
      "cell_type": "markdown",
      "source": [
        "c2"
      ],
      "metadata": {
        "id": "HQi9L-tt1jJL"
      }
    },
    {
      "cell_type": "code",
      "source": [
        "import numpy as np \n",
        "import math\n",
        "import matplotlib.pyplot as plt\n",
        "from scipy.interpolate import splrep, splev\n",
        "\n",
        "\n",
        "t1N = pd.read_csv(train_1st_Normal, chunksize = 10544)\n",
        "\n",
        "t1N_spec_c2 = []\n",
        "\n",
        "for i,df1 in enumerate(t1N):\n",
        "  if len(df1) < 10544: break\n",
        "  x = np.array(df1.iloc[:,0])\n",
        "  y = np.array(df1['1st_Normal_c2'])\n",
        "\n",
        "  nfft = len(x) \n",
        "  fft_y = np.fft.fft(y)/nfft * 2 \n",
        "  fft_y = list(fft_y)\n",
        "  t1N_spec_c2.append(fft_y)"
      ],
      "metadata": {
        "id": "bSkshztr1cqT"
      },
      "execution_count": null,
      "outputs": []
    },
    {
      "cell_type": "code",
      "source": [
        "t1B = pd.read_csv(train_1st_Bearing, chunksize = 10544)\n",
        "\n",
        "t1B_spec_c2 = []\n",
        "\n",
        "for i,df2 in enumerate(t1B):\n",
        "  if len(df3) < 10544: break\n",
        "  x = np.array(df2.iloc[:,0])\n",
        "  y = np.array(df2['1st_Bearing_c2'])\n",
        "\n",
        "  nfft = len(x) \n",
        "  fft_y = np.fft.fft(y)/nfft * 2 \n",
        "  fft_y = list(fft_y)\n",
        "  t1B_spec_c2.append(fft_y)"
      ],
      "metadata": {
        "id": "gIaZoHfO1cnM"
      },
      "execution_count": null,
      "outputs": []
    },
    {
      "cell_type": "code",
      "source": [
        "t1U = pd.read_csv(train_1st_Unbalance, chunksize = 10544)\n",
        "\n",
        "t1U_spec_c2 = []\n",
        "\n",
        "for i,df3 in enumerate(t1U):\n",
        "  if len(df3) < 10544: break\n",
        "  x = np.array(df3.iloc[:,0])\n",
        "  y = np.array(df3['1st_Unbalance_c2'])\n",
        "\n",
        "  nfft = len(x) \n",
        "  fft_y = np.fft.fft(y)/nfft * 2 \n",
        "  fft_y = list(fft_y)\n",
        "  t1U_spec_c2.append(fft_y)"
      ],
      "metadata": {
        "id": "T2WU5vcl1ckG"
      },
      "execution_count": null,
      "outputs": []
    },
    {
      "cell_type": "code",
      "source": [
        "t1L = pd.read_csv(train_1st_Looseness, chunksize = 10544)\n",
        "\n",
        "t1L_spec_c2 = []\n",
        "\n",
        "for i,df4 in enumerate(t1L):\n",
        "  if len(df3) < 10544: break\n",
        "  x = np.array(df4.iloc[:,0])\n",
        "  y = np.array(df4['1st_Looseness_c2'])\n",
        "\n",
        "  nfft = len(x) \n",
        "  fft_y = np.fft.fft(y)/nfft * 2 \n",
        "  fft_y = list(fft_y)\n",
        "  t1L_spec_c2.append(fft_y)"
      ],
      "metadata": {
        "id": "-_n0qCzx1chQ"
      },
      "execution_count": null,
      "outputs": []
    },
    {
      "cell_type": "code",
      "source": [
        "t1H = pd.read_csv(train_1st_high, chunksize = 10544)\n",
        "\n",
        "t1H_spec_c2 = []\n",
        "\n",
        "for i,df5 in enumerate(t1H):\n",
        "  if len(df3) < 10544: break\n",
        "  x = np.array(df5.iloc[:,0])\n",
        "  y = np.array(df5['1st_high_c2'])\n",
        "\n",
        "  nfft = len(x) \n",
        "  fft_y = np.fft.fft(y)/nfft * 2 \n",
        "  fft_y = list(fft_y)\n",
        "  t1H_spec_c2.append(fft_y)"
      ],
      "metadata": {
        "id": "D44nhGTv1eoW"
      },
      "execution_count": null,
      "outputs": []
    },
    {
      "cell_type": "code",
      "source": [
        "t2B = pd.read_csv(train_2nd_Bearing, chunksize = 10544)\n",
        "\n",
        "t2B_spec_c2 = []\n",
        "\n",
        "for i,df6 in enumerate(t2B):\n",
        "  if len(df3) < 10544: break\n",
        "  x = np.array(df6.iloc[:,0])\n",
        "  y = np.array(df6['2nd_Bearing_c2'])\n",
        "\n",
        "  nfft = len(x) \n",
        "  fft_y = np.fft.fft(y)/nfft * 2 \n",
        "  fft_y = list(fft_y)\n",
        "  t2B_spec_c2.append(fft_y)"
      ],
      "metadata": {
        "id": "XcqMINO51ekX"
      },
      "execution_count": null,
      "outputs": []
    },
    {
      "cell_type": "code",
      "source": [
        "t2L = pd.read_csv(train_2nd_Looseness, chunksize = 10544)\n",
        "\n",
        "t2L_spec_c2 = []\n",
        "\n",
        "for i,df7 in enumerate(t2L):\n",
        "  if len(df3) < 10544: break\n",
        "  x = np.array(df7.iloc[:,0])\n",
        "  y = np.array(df7['2nd_Looseness_c2'])\n",
        "\n",
        "  nfft = len(x) \n",
        "  fft_y = np.fft.fft(y)/nfft * 2 \n",
        "  fft_y = list(fft_y)\n",
        "  t2L_spec_c2.append(fft_y)"
      ],
      "metadata": {
        "id": "ylJp8jrS1cef"
      },
      "execution_count": null,
      "outputs": []
    },
    {
      "cell_type": "code",
      "source": [
        "t2U = pd.read_csv(train_2nd_Unbalance, chunksize = 10544)\n",
        "\n",
        "t2U_spec_c2 = []\n",
        "\n",
        "for i,df8 in enumerate(t2U):\n",
        "  if len(df3) < 10544: break\n",
        "  x = np.array(df8.iloc[:,0])\n",
        "  y = np.array(df8['2nd_Unbalance_c2'])\n",
        "\n",
        "  nfft = len(x) \n",
        "  fft_y = np.fft.fft(y)/nfft * 2 \n",
        "  fft_y = list(fft_y)\n",
        "  t2U_spec_c2.append(fft_y)"
      ],
      "metadata": {
        "id": "Mm7KS41l1cbu"
      },
      "execution_count": null,
      "outputs": []
    },
    {
      "cell_type": "code",
      "source": [
        "t3N = pd.read_csv(train_3rd_Normal, chunksize = 10544)\n",
        "\n",
        "t3N_spec_c2 = []\n",
        "\n",
        "for i,df9 in enumerate(t3N):\n",
        "  if len(df3) < 10544: break\n",
        "  x = np.array(df9.iloc[:,0])\n",
        "  y = np.array(df9['3rd_Normal_c2'])\n",
        "\n",
        "  nfft = len(x) \n",
        "  fft_y = np.fft.fft(y)/nfft * 2 \n",
        "  fft_y = list(fft_y)\n",
        "  t3N_spec_c2.append(fft_y)"
      ],
      "metadata": {
        "id": "GQPZC-0d1cT7"
      },
      "execution_count": null,
      "outputs": []
    },
    {
      "cell_type": "code",
      "source": [
        "t3U = pd.read_csv(train_3rd_Unbalance, chunksize = 10544)\n",
        "\n",
        "t3U_spec_c2 = []\n",
        "\n",
        "for i,df10 in enumerate(t3U):\n",
        "  if len(df3) < 10544: break\n",
        "  x = np.array(df10.iloc[:,0])\n",
        "  y = np.array(df10['3rd_Unbalance_c2'])\n",
        "\n",
        "  nfft = len(x) \n",
        "  fft_y = np.fft.fft(y)/nfft * 2 \n",
        "  fft_y = list(fft_y)\n",
        "  t3U_spec_c2.append(fft_y)"
      ],
      "metadata": {
        "id": "dQB176u92B-Z"
      },
      "execution_count": null,
      "outputs": []
    },
    {
      "cell_type": "markdown",
      "source": [
        "## 같은 클래스 데이터셋 병합하기"
      ],
      "metadata": {
        "id": "NK5soglB33a6"
      }
    },
    {
      "cell_type": "code",
      "source": [
        "t1N_spec_c1 = t1N_spec_c1 + t3N_spec_c1\n",
        "t1B_spec_c1 = t1B_spec_c1 + t2B_spec_c1\n",
        "t1U_spec_c1 = t1U_spec_c1 + t2U_spec_c1 + t3U_spec_c1\n",
        "t1L_spec_c1 = t1L_spec_c1 + t2L_spec_c1\n",
        "\n",
        "t1N_spec_c2 = t1N_spec_c2 + t3N_spec_c2\n",
        "t1B_spec_c2 = t1B_spec_c2 + t2B_spec_c2\n",
        "t1U_spec_c2 = t1U_spec_c2 + t2U_spec_c2 + t3U_spec_c2\n",
        "t1L_spec_c2 = t1L_spec_c2 + t2L_spec_c2"
      ],
      "metadata": {
        "id": "XbohJz2r7kad"
      },
      "execution_count": null,
      "outputs": []
    },
    {
      "cell_type": "code",
      "source": [
        "t1N_spec_test = t1N_spec_c1 + t3N_spec_c1"
      ],
      "metadata": {
        "id": "WiyEv9M5Jfb1"
      },
      "execution_count": null,
      "outputs": []
    },
    {
      "cell_type": "code",
      "source": [
        "pd.DataFrame(t1N_spec_c1)"
      ],
      "metadata": {
        "id": "l5pGRPaJHE1n",
        "colab": {
          "base_uri": "https://localhost:8080/",
          "height": 488
        },
        "outputId": "af89af29-a95f-4900-d795-4e6fe288954d"
      },
      "execution_count": null,
      "outputs": [
        {
          "output_type": "execute_result",
          "data": {
            "text/plain": [
              "                  0                   1                   2      \\\n",
              "0    0.109580+0.000000j  0.000048+0.000244j -0.000290-0.000018j   \n",
              "1    0.111262+0.000000j  0.000073+0.000194j  0.000079-0.000039j   \n",
              "2    0.115813+0.000000j -0.000427+0.002399j -0.000047+0.000097j   \n",
              "3    0.114525+0.000000j  0.001042-0.000745j  0.000087-0.001016j   \n",
              "4    0.114845+0.000000j  0.000211+0.000487j  0.000049+0.000028j   \n",
              "..                  ...                 ...                 ...   \n",
              "380  0.104820+0.000000j -0.000564-0.000329j -0.000399-0.000104j   \n",
              "381  0.104286+0.000000j -0.000282+0.000071j -0.000512+0.000235j   \n",
              "382  0.106349+0.000000j  0.000439+0.000202j  0.000376+0.000088j   \n",
              "383  0.109219+0.000000j -0.000589-0.001088j  0.000800-0.000943j   \n",
              "384  0.105789+0.000000j  0.000079+0.000123j  0.000195+0.000005j   \n",
              "\n",
              "                  3                   4                   5      \\\n",
              "0   -0.000261+0.000048j -0.000158+0.000148j -0.000234+0.000102j   \n",
              "1    0.000060+0.000174j  0.000239-0.000020j  0.000162+0.000108j   \n",
              "2   -0.000497+0.000919j  0.000052+0.000329j -0.000543+0.000898j   \n",
              "3   -0.000311-0.000769j -0.000649-0.000350j -0.000179-0.000210j   \n",
              "4    0.000292-0.000051j  0.000371+0.000109j  0.000152-0.000062j   \n",
              "..                  ...                 ...                 ...   \n",
              "380 -0.000374+0.000119j -0.000374-0.000089j -0.000416-0.000209j   \n",
              "381 -0.000441-0.000037j -0.000273+0.000042j -0.000493+0.000008j   \n",
              "382  0.000444+0.000214j  0.000196+0.000243j  0.000425+0.000312j   \n",
              "383  0.000096+0.000230j  0.000091-0.000105j  0.000860-0.000089j   \n",
              "384  0.000238+0.000019j  0.000140+0.000103j  0.000074-0.000149j   \n",
              "\n",
              "                  6                   7                   8      \\\n",
              "0   -0.000239+0.000082j -0.000302-0.000330j -0.000249-0.000273j   \n",
              "1    0.000040-0.000152j -0.000187-0.000407j -0.000071+0.000360j   \n",
              "2   -0.000063-0.000419j -0.000797+0.000412j -0.000548-0.000147j   \n",
              "3   -0.000297-0.000381j -0.000345+0.000800j -0.000072+0.000256j   \n",
              "4    0.000330+0.000033j  0.000333+0.000144j  0.000329+0.000336j   \n",
              "..                  ...                 ...                 ...   \n",
              "380 -0.000398+0.000107j -0.000280+0.000624j  0.000025-0.000090j   \n",
              "381 -0.000458-0.000136j  0.000026+0.000281j -0.000107+0.000039j   \n",
              "382  0.000390+0.000475j  0.000828-0.000370j -0.000097-0.000133j   \n",
              "383  0.000611-0.000466j -0.000469-0.000195j  0.000038-0.000660j   \n",
              "384  0.000007-0.000011j -0.000426+0.000503j  0.000930-0.000101j   \n",
              "\n",
              "                  9      ...               10534               10535  \\\n",
              "0   -0.000236-0.000097j  ... -0.000036+0.000002j -0.000236+0.000097j   \n",
              "1    0.000065+0.000119j  ...  0.000053-0.000072j  0.000065-0.000119j   \n",
              "2   -0.000076+0.000104j  ...  0.000080-0.000567j -0.000076-0.000104j   \n",
              "3   -0.000049+0.000052j  ... -0.000146-0.000292j -0.000049-0.000052j   \n",
              "4    0.000200+0.000058j  ...  0.000425-0.000037j  0.000200-0.000058j   \n",
              "..                  ...  ...                 ...                 ...   \n",
              "380 -0.000523-0.000094j  ... -0.000073+0.000042j -0.000523+0.000094j   \n",
              "381 -0.000301+0.000011j  ... -0.000173-0.000116j -0.000301-0.000011j   \n",
              "382  0.000275+0.000224j  ...  0.000135-0.000321j  0.000275-0.000224j   \n",
              "383 -0.000071+0.000070j  ... -0.000223+0.000348j -0.000071-0.000070j   \n",
              "384  0.000509+0.000008j  ...  0.000153+0.000073j  0.000509-0.000008j   \n",
              "\n",
              "                  10536               10537               10538  \\\n",
              "0   -0.000249+0.000273j -0.000302+0.000330j -0.000239-0.000082j   \n",
              "1   -0.000071-0.000360j -0.000187+0.000407j  0.000040+0.000152j   \n",
              "2   -0.000548+0.000147j -0.000797-0.000412j -0.000063+0.000419j   \n",
              "3   -0.000072-0.000256j -0.000345-0.000800j -0.000297+0.000381j   \n",
              "4    0.000329-0.000336j  0.000333-0.000144j  0.000330-0.000033j   \n",
              "..                  ...                 ...                 ...   \n",
              "380  0.000025+0.000090j -0.000280-0.000624j -0.000398-0.000107j   \n",
              "381 -0.000107-0.000039j  0.000026-0.000281j -0.000458+0.000136j   \n",
              "382 -0.000097+0.000133j  0.000828+0.000370j  0.000390-0.000475j   \n",
              "383  0.000038+0.000660j -0.000469+0.000195j  0.000611+0.000466j   \n",
              "384  0.000930+0.000101j -0.000426-0.000503j  0.000007+0.000011j   \n",
              "\n",
              "                  10539               10540               10541  \\\n",
              "0   -0.000234-0.000102j -0.000158-0.000148j -0.000261-0.000048j   \n",
              "1    0.000162-0.000108j  0.000239+0.000020j  0.000060-0.000174j   \n",
              "2   -0.000543-0.000898j  0.000052-0.000329j -0.000497-0.000919j   \n",
              "3   -0.000179+0.000210j -0.000649+0.000350j -0.000311+0.000769j   \n",
              "4    0.000152+0.000062j  0.000371-0.000109j  0.000292+0.000051j   \n",
              "..                  ...                 ...                 ...   \n",
              "380 -0.000416+0.000209j -0.000374+0.000089j -0.000374-0.000119j   \n",
              "381 -0.000493-0.000008j -0.000273-0.000042j -0.000441+0.000037j   \n",
              "382  0.000425-0.000312j  0.000196-0.000243j  0.000444-0.000214j   \n",
              "383  0.000860+0.000089j  0.000091+0.000105j  0.000096-0.000230j   \n",
              "384  0.000074+0.000149j  0.000140-0.000103j  0.000238-0.000019j   \n",
              "\n",
              "                  10542               10543  \n",
              "0   -0.000290+0.000018j  0.000048-0.000244j  \n",
              "1    0.000079+0.000039j  0.000073-0.000194j  \n",
              "2   -0.000047-0.000097j -0.000427-0.002399j  \n",
              "3    0.000087+0.001016j  0.001042+0.000745j  \n",
              "4    0.000049-0.000028j  0.000211-0.000487j  \n",
              "..                  ...                 ...  \n",
              "380 -0.000399+0.000104j -0.000564+0.000329j  \n",
              "381 -0.000512-0.000235j -0.000282-0.000071j  \n",
              "382  0.000376-0.000088j  0.000439-0.000202j  \n",
              "383  0.000800+0.000943j -0.000589+0.001088j  \n",
              "384  0.000195-0.000005j  0.000079-0.000123j  \n",
              "\n",
              "[385 rows x 10544 columns]"
            ],
            "text/html": [
              "\n",
              "  <div id=\"df-614bcdd2-d12e-4e1a-9dda-6b7459a90b06\">\n",
              "    <div class=\"colab-df-container\">\n",
              "      <div>\n",
              "<style scoped>\n",
              "    .dataframe tbody tr th:only-of-type {\n",
              "        vertical-align: middle;\n",
              "    }\n",
              "\n",
              "    .dataframe tbody tr th {\n",
              "        vertical-align: top;\n",
              "    }\n",
              "\n",
              "    .dataframe thead th {\n",
              "        text-align: right;\n",
              "    }\n",
              "</style>\n",
              "<table border=\"1\" class=\"dataframe\">\n",
              "  <thead>\n",
              "    <tr style=\"text-align: right;\">\n",
              "      <th></th>\n",
              "      <th>0</th>\n",
              "      <th>1</th>\n",
              "      <th>2</th>\n",
              "      <th>3</th>\n",
              "      <th>4</th>\n",
              "      <th>5</th>\n",
              "      <th>6</th>\n",
              "      <th>7</th>\n",
              "      <th>8</th>\n",
              "      <th>9</th>\n",
              "      <th>...</th>\n",
              "      <th>10534</th>\n",
              "      <th>10535</th>\n",
              "      <th>10536</th>\n",
              "      <th>10537</th>\n",
              "      <th>10538</th>\n",
              "      <th>10539</th>\n",
              "      <th>10540</th>\n",
              "      <th>10541</th>\n",
              "      <th>10542</th>\n",
              "      <th>10543</th>\n",
              "    </tr>\n",
              "  </thead>\n",
              "  <tbody>\n",
              "    <tr>\n",
              "      <th>0</th>\n",
              "      <td>0.109580+0.000000j</td>\n",
              "      <td>0.000048+0.000244j</td>\n",
              "      <td>-0.000290-0.000018j</td>\n",
              "      <td>-0.000261+0.000048j</td>\n",
              "      <td>-0.000158+0.000148j</td>\n",
              "      <td>-0.000234+0.000102j</td>\n",
              "      <td>-0.000239+0.000082j</td>\n",
              "      <td>-0.000302-0.000330j</td>\n",
              "      <td>-0.000249-0.000273j</td>\n",
              "      <td>-0.000236-0.000097j</td>\n",
              "      <td>...</td>\n",
              "      <td>-0.000036+0.000002j</td>\n",
              "      <td>-0.000236+0.000097j</td>\n",
              "      <td>-0.000249+0.000273j</td>\n",
              "      <td>-0.000302+0.000330j</td>\n",
              "      <td>-0.000239-0.000082j</td>\n",
              "      <td>-0.000234-0.000102j</td>\n",
              "      <td>-0.000158-0.000148j</td>\n",
              "      <td>-0.000261-0.000048j</td>\n",
              "      <td>-0.000290+0.000018j</td>\n",
              "      <td>0.000048-0.000244j</td>\n",
              "    </tr>\n",
              "    <tr>\n",
              "      <th>1</th>\n",
              "      <td>0.111262+0.000000j</td>\n",
              "      <td>0.000073+0.000194j</td>\n",
              "      <td>0.000079-0.000039j</td>\n",
              "      <td>0.000060+0.000174j</td>\n",
              "      <td>0.000239-0.000020j</td>\n",
              "      <td>0.000162+0.000108j</td>\n",
              "      <td>0.000040-0.000152j</td>\n",
              "      <td>-0.000187-0.000407j</td>\n",
              "      <td>-0.000071+0.000360j</td>\n",
              "      <td>0.000065+0.000119j</td>\n",
              "      <td>...</td>\n",
              "      <td>0.000053-0.000072j</td>\n",
              "      <td>0.000065-0.000119j</td>\n",
              "      <td>-0.000071-0.000360j</td>\n",
              "      <td>-0.000187+0.000407j</td>\n",
              "      <td>0.000040+0.000152j</td>\n",
              "      <td>0.000162-0.000108j</td>\n",
              "      <td>0.000239+0.000020j</td>\n",
              "      <td>0.000060-0.000174j</td>\n",
              "      <td>0.000079+0.000039j</td>\n",
              "      <td>0.000073-0.000194j</td>\n",
              "    </tr>\n",
              "    <tr>\n",
              "      <th>2</th>\n",
              "      <td>0.115813+0.000000j</td>\n",
              "      <td>-0.000427+0.002399j</td>\n",
              "      <td>-0.000047+0.000097j</td>\n",
              "      <td>-0.000497+0.000919j</td>\n",
              "      <td>0.000052+0.000329j</td>\n",
              "      <td>-0.000543+0.000898j</td>\n",
              "      <td>-0.000063-0.000419j</td>\n",
              "      <td>-0.000797+0.000412j</td>\n",
              "      <td>-0.000548-0.000147j</td>\n",
              "      <td>-0.000076+0.000104j</td>\n",
              "      <td>...</td>\n",
              "      <td>0.000080-0.000567j</td>\n",
              "      <td>-0.000076-0.000104j</td>\n",
              "      <td>-0.000548+0.000147j</td>\n",
              "      <td>-0.000797-0.000412j</td>\n",
              "      <td>-0.000063+0.000419j</td>\n",
              "      <td>-0.000543-0.000898j</td>\n",
              "      <td>0.000052-0.000329j</td>\n",
              "      <td>-0.000497-0.000919j</td>\n",
              "      <td>-0.000047-0.000097j</td>\n",
              "      <td>-0.000427-0.002399j</td>\n",
              "    </tr>\n",
              "    <tr>\n",
              "      <th>3</th>\n",
              "      <td>0.114525+0.000000j</td>\n",
              "      <td>0.001042-0.000745j</td>\n",
              "      <td>0.000087-0.001016j</td>\n",
              "      <td>-0.000311-0.000769j</td>\n",
              "      <td>-0.000649-0.000350j</td>\n",
              "      <td>-0.000179-0.000210j</td>\n",
              "      <td>-0.000297-0.000381j</td>\n",
              "      <td>-0.000345+0.000800j</td>\n",
              "      <td>-0.000072+0.000256j</td>\n",
              "      <td>-0.000049+0.000052j</td>\n",
              "      <td>...</td>\n",
              "      <td>-0.000146-0.000292j</td>\n",
              "      <td>-0.000049-0.000052j</td>\n",
              "      <td>-0.000072-0.000256j</td>\n",
              "      <td>-0.000345-0.000800j</td>\n",
              "      <td>-0.000297+0.000381j</td>\n",
              "      <td>-0.000179+0.000210j</td>\n",
              "      <td>-0.000649+0.000350j</td>\n",
              "      <td>-0.000311+0.000769j</td>\n",
              "      <td>0.000087+0.001016j</td>\n",
              "      <td>0.001042+0.000745j</td>\n",
              "    </tr>\n",
              "    <tr>\n",
              "      <th>4</th>\n",
              "      <td>0.114845+0.000000j</td>\n",
              "      <td>0.000211+0.000487j</td>\n",
              "      <td>0.000049+0.000028j</td>\n",
              "      <td>0.000292-0.000051j</td>\n",
              "      <td>0.000371+0.000109j</td>\n",
              "      <td>0.000152-0.000062j</td>\n",
              "      <td>0.000330+0.000033j</td>\n",
              "      <td>0.000333+0.000144j</td>\n",
              "      <td>0.000329+0.000336j</td>\n",
              "      <td>0.000200+0.000058j</td>\n",
              "      <td>...</td>\n",
              "      <td>0.000425-0.000037j</td>\n",
              "      <td>0.000200-0.000058j</td>\n",
              "      <td>0.000329-0.000336j</td>\n",
              "      <td>0.000333-0.000144j</td>\n",
              "      <td>0.000330-0.000033j</td>\n",
              "      <td>0.000152+0.000062j</td>\n",
              "      <td>0.000371-0.000109j</td>\n",
              "      <td>0.000292+0.000051j</td>\n",
              "      <td>0.000049-0.000028j</td>\n",
              "      <td>0.000211-0.000487j</td>\n",
              "    </tr>\n",
              "    <tr>\n",
              "      <th>...</th>\n",
              "      <td>...</td>\n",
              "      <td>...</td>\n",
              "      <td>...</td>\n",
              "      <td>...</td>\n",
              "      <td>...</td>\n",
              "      <td>...</td>\n",
              "      <td>...</td>\n",
              "      <td>...</td>\n",
              "      <td>...</td>\n",
              "      <td>...</td>\n",
              "      <td>...</td>\n",
              "      <td>...</td>\n",
              "      <td>...</td>\n",
              "      <td>...</td>\n",
              "      <td>...</td>\n",
              "      <td>...</td>\n",
              "      <td>...</td>\n",
              "      <td>...</td>\n",
              "      <td>...</td>\n",
              "      <td>...</td>\n",
              "      <td>...</td>\n",
              "    </tr>\n",
              "    <tr>\n",
              "      <th>380</th>\n",
              "      <td>0.104820+0.000000j</td>\n",
              "      <td>-0.000564-0.000329j</td>\n",
              "      <td>-0.000399-0.000104j</td>\n",
              "      <td>-0.000374+0.000119j</td>\n",
              "      <td>-0.000374-0.000089j</td>\n",
              "      <td>-0.000416-0.000209j</td>\n",
              "      <td>-0.000398+0.000107j</td>\n",
              "      <td>-0.000280+0.000624j</td>\n",
              "      <td>0.000025-0.000090j</td>\n",
              "      <td>-0.000523-0.000094j</td>\n",
              "      <td>...</td>\n",
              "      <td>-0.000073+0.000042j</td>\n",
              "      <td>-0.000523+0.000094j</td>\n",
              "      <td>0.000025+0.000090j</td>\n",
              "      <td>-0.000280-0.000624j</td>\n",
              "      <td>-0.000398-0.000107j</td>\n",
              "      <td>-0.000416+0.000209j</td>\n",
              "      <td>-0.000374+0.000089j</td>\n",
              "      <td>-0.000374-0.000119j</td>\n",
              "      <td>-0.000399+0.000104j</td>\n",
              "      <td>-0.000564+0.000329j</td>\n",
              "    </tr>\n",
              "    <tr>\n",
              "      <th>381</th>\n",
              "      <td>0.104286+0.000000j</td>\n",
              "      <td>-0.000282+0.000071j</td>\n",
              "      <td>-0.000512+0.000235j</td>\n",
              "      <td>-0.000441-0.000037j</td>\n",
              "      <td>-0.000273+0.000042j</td>\n",
              "      <td>-0.000493+0.000008j</td>\n",
              "      <td>-0.000458-0.000136j</td>\n",
              "      <td>0.000026+0.000281j</td>\n",
              "      <td>-0.000107+0.000039j</td>\n",
              "      <td>-0.000301+0.000011j</td>\n",
              "      <td>...</td>\n",
              "      <td>-0.000173-0.000116j</td>\n",
              "      <td>-0.000301-0.000011j</td>\n",
              "      <td>-0.000107-0.000039j</td>\n",
              "      <td>0.000026-0.000281j</td>\n",
              "      <td>-0.000458+0.000136j</td>\n",
              "      <td>-0.000493-0.000008j</td>\n",
              "      <td>-0.000273-0.000042j</td>\n",
              "      <td>-0.000441+0.000037j</td>\n",
              "      <td>-0.000512-0.000235j</td>\n",
              "      <td>-0.000282-0.000071j</td>\n",
              "    </tr>\n",
              "    <tr>\n",
              "      <th>382</th>\n",
              "      <td>0.106349+0.000000j</td>\n",
              "      <td>0.000439+0.000202j</td>\n",
              "      <td>0.000376+0.000088j</td>\n",
              "      <td>0.000444+0.000214j</td>\n",
              "      <td>0.000196+0.000243j</td>\n",
              "      <td>0.000425+0.000312j</td>\n",
              "      <td>0.000390+0.000475j</td>\n",
              "      <td>0.000828-0.000370j</td>\n",
              "      <td>-0.000097-0.000133j</td>\n",
              "      <td>0.000275+0.000224j</td>\n",
              "      <td>...</td>\n",
              "      <td>0.000135-0.000321j</td>\n",
              "      <td>0.000275-0.000224j</td>\n",
              "      <td>-0.000097+0.000133j</td>\n",
              "      <td>0.000828+0.000370j</td>\n",
              "      <td>0.000390-0.000475j</td>\n",
              "      <td>0.000425-0.000312j</td>\n",
              "      <td>0.000196-0.000243j</td>\n",
              "      <td>0.000444-0.000214j</td>\n",
              "      <td>0.000376-0.000088j</td>\n",
              "      <td>0.000439-0.000202j</td>\n",
              "    </tr>\n",
              "    <tr>\n",
              "      <th>383</th>\n",
              "      <td>0.109219+0.000000j</td>\n",
              "      <td>-0.000589-0.001088j</td>\n",
              "      <td>0.000800-0.000943j</td>\n",
              "      <td>0.000096+0.000230j</td>\n",
              "      <td>0.000091-0.000105j</td>\n",
              "      <td>0.000860-0.000089j</td>\n",
              "      <td>0.000611-0.000466j</td>\n",
              "      <td>-0.000469-0.000195j</td>\n",
              "      <td>0.000038-0.000660j</td>\n",
              "      <td>-0.000071+0.000070j</td>\n",
              "      <td>...</td>\n",
              "      <td>-0.000223+0.000348j</td>\n",
              "      <td>-0.000071-0.000070j</td>\n",
              "      <td>0.000038+0.000660j</td>\n",
              "      <td>-0.000469+0.000195j</td>\n",
              "      <td>0.000611+0.000466j</td>\n",
              "      <td>0.000860+0.000089j</td>\n",
              "      <td>0.000091+0.000105j</td>\n",
              "      <td>0.000096-0.000230j</td>\n",
              "      <td>0.000800+0.000943j</td>\n",
              "      <td>-0.000589+0.001088j</td>\n",
              "    </tr>\n",
              "    <tr>\n",
              "      <th>384</th>\n",
              "      <td>0.105789+0.000000j</td>\n",
              "      <td>0.000079+0.000123j</td>\n",
              "      <td>0.000195+0.000005j</td>\n",
              "      <td>0.000238+0.000019j</td>\n",
              "      <td>0.000140+0.000103j</td>\n",
              "      <td>0.000074-0.000149j</td>\n",
              "      <td>0.000007-0.000011j</td>\n",
              "      <td>-0.000426+0.000503j</td>\n",
              "      <td>0.000930-0.000101j</td>\n",
              "      <td>0.000509+0.000008j</td>\n",
              "      <td>...</td>\n",
              "      <td>0.000153+0.000073j</td>\n",
              "      <td>0.000509-0.000008j</td>\n",
              "      <td>0.000930+0.000101j</td>\n",
              "      <td>-0.000426-0.000503j</td>\n",
              "      <td>0.000007+0.000011j</td>\n",
              "      <td>0.000074+0.000149j</td>\n",
              "      <td>0.000140-0.000103j</td>\n",
              "      <td>0.000238-0.000019j</td>\n",
              "      <td>0.000195-0.000005j</td>\n",
              "      <td>0.000079-0.000123j</td>\n",
              "    </tr>\n",
              "  </tbody>\n",
              "</table>\n",
              "<p>385 rows × 10544 columns</p>\n",
              "</div>\n",
              "      <button class=\"colab-df-convert\" onclick=\"convertToInteractive('df-614bcdd2-d12e-4e1a-9dda-6b7459a90b06')\"\n",
              "              title=\"Convert this dataframe to an interactive table.\"\n",
              "              style=\"display:none;\">\n",
              "        \n",
              "  <svg xmlns=\"http://www.w3.org/2000/svg\" height=\"24px\"viewBox=\"0 0 24 24\"\n",
              "       width=\"24px\">\n",
              "    <path d=\"M0 0h24v24H0V0z\" fill=\"none\"/>\n",
              "    <path d=\"M18.56 5.44l.94 2.06.94-2.06 2.06-.94-2.06-.94-.94-2.06-.94 2.06-2.06.94zm-11 1L8.5 8.5l.94-2.06 2.06-.94-2.06-.94L8.5 2.5l-.94 2.06-2.06.94zm10 10l.94 2.06.94-2.06 2.06-.94-2.06-.94-.94-2.06-.94 2.06-2.06.94z\"/><path d=\"M17.41 7.96l-1.37-1.37c-.4-.4-.92-.59-1.43-.59-.52 0-1.04.2-1.43.59L10.3 9.45l-7.72 7.72c-.78.78-.78 2.05 0 2.83L4 21.41c.39.39.9.59 1.41.59.51 0 1.02-.2 1.41-.59l7.78-7.78 2.81-2.81c.8-.78.8-2.07 0-2.86zM5.41 20L4 18.59l7.72-7.72 1.47 1.35L5.41 20z\"/>\n",
              "  </svg>\n",
              "      </button>\n",
              "      \n",
              "  <style>\n",
              "    .colab-df-container {\n",
              "      display:flex;\n",
              "      flex-wrap:wrap;\n",
              "      gap: 12px;\n",
              "    }\n",
              "\n",
              "    .colab-df-convert {\n",
              "      background-color: #E8F0FE;\n",
              "      border: none;\n",
              "      border-radius: 50%;\n",
              "      cursor: pointer;\n",
              "      display: none;\n",
              "      fill: #1967D2;\n",
              "      height: 32px;\n",
              "      padding: 0 0 0 0;\n",
              "      width: 32px;\n",
              "    }\n",
              "\n",
              "    .colab-df-convert:hover {\n",
              "      background-color: #E2EBFA;\n",
              "      box-shadow: 0px 1px 2px rgba(60, 64, 67, 0.3), 0px 1px 3px 1px rgba(60, 64, 67, 0.15);\n",
              "      fill: #174EA6;\n",
              "    }\n",
              "\n",
              "    [theme=dark] .colab-df-convert {\n",
              "      background-color: #3B4455;\n",
              "      fill: #D2E3FC;\n",
              "    }\n",
              "\n",
              "    [theme=dark] .colab-df-convert:hover {\n",
              "      background-color: #434B5C;\n",
              "      box-shadow: 0px 1px 3px 1px rgba(0, 0, 0, 0.15);\n",
              "      filter: drop-shadow(0px 1px 2px rgba(0, 0, 0, 0.3));\n",
              "      fill: #FFFFFF;\n",
              "    }\n",
              "  </style>\n",
              "\n",
              "      <script>\n",
              "        const buttonEl =\n",
              "          document.querySelector('#df-614bcdd2-d12e-4e1a-9dda-6b7459a90b06 button.colab-df-convert');\n",
              "        buttonEl.style.display =\n",
              "          google.colab.kernel.accessAllowed ? 'block' : 'none';\n",
              "\n",
              "        async function convertToInteractive(key) {\n",
              "          const element = document.querySelector('#df-614bcdd2-d12e-4e1a-9dda-6b7459a90b06');\n",
              "          const dataTable =\n",
              "            await google.colab.kernel.invokeFunction('convertToInteractive',\n",
              "                                                     [key], {});\n",
              "          if (!dataTable) return;\n",
              "\n",
              "          const docLinkHtml = 'Like what you see? Visit the ' +\n",
              "            '<a target=\"_blank\" href=https://colab.research.google.com/notebooks/data_table.ipynb>data table notebook</a>'\n",
              "            + ' to learn more about interactive tables.';\n",
              "          element.innerHTML = '';\n",
              "          dataTable['output_type'] = 'display_data';\n",
              "          await google.colab.output.renderOutput(dataTable, element);\n",
              "          const docLink = document.createElement('div');\n",
              "          docLink.innerHTML = docLinkHtml;\n",
              "          element.appendChild(docLink);\n",
              "        }\n",
              "      </script>\n",
              "    </div>\n",
              "  </div>\n",
              "  "
            ]
          },
          "metadata": {},
          "execution_count": 253
        }
      ]
    },
    {
      "cell_type": "code",
      "source": [
        "pd.DataFrame(t3N_spec_c1)"
      ],
      "metadata": {
        "id": "WPlZ7XpsHEzH",
        "colab": {
          "base_uri": "https://localhost:8080/",
          "height": 522
        },
        "outputId": "78c44a3b-2845-4d61-85d6-377de926e30d"
      },
      "execution_count": null,
      "outputs": [
        {
          "output_type": "execute_result",
          "data": {
            "text/plain": [
              "                  0                   1                   2      \\\n",
              "0    0.669239+0.000000j  0.000104-0.000275j -0.000074-0.000250j   \n",
              "1    0.672534+0.000000j  0.000921+0.002373j -0.000145+0.000712j   \n",
              "2    0.674939+0.000000j -0.000097-0.000022j -0.000104-0.000049j   \n",
              "3    0.674657+0.000000j  0.000130-0.000486j  0.000268-0.000219j   \n",
              "4    0.673224+0.000000j  0.000023+0.000646j -0.000015-0.000075j   \n",
              "..                  ...                 ...                 ...   \n",
              "382  0.458579+0.000000j  0.000036-0.000079j -0.000162-0.000030j   \n",
              "383  0.457994+0.000000j -0.000788-0.000325j -0.000691-0.000276j   \n",
              "384  0.452799+0.000000j  0.001333+0.001178j  0.000013+0.001223j   \n",
              "385  0.451730+0.000000j  0.000901-0.001688j -0.000621-0.000904j   \n",
              "386  0.450048+0.000000j  0.000692+0.000117j  0.000487+0.000302j   \n",
              "\n",
              "                  3                   4                   5      \\\n",
              "0   -0.000100+0.000091j -0.000140-0.000034j -0.000302-0.000203j   \n",
              "1    0.000174+0.001130j -0.000519+0.000143j  0.000020+0.000383j   \n",
              "2   -0.000035+0.000067j -0.000295-0.000088j -0.000246+0.000156j   \n",
              "3    0.000036-0.000167j  0.000272-0.000231j  0.000193+0.000091j   \n",
              "4   -0.000103-0.000083j -0.000037+0.000152j  0.000094+0.000003j   \n",
              "..                  ...                 ...                 ...   \n",
              "382  0.000093-0.000054j -0.000056-0.000035j  0.000074+0.000384j   \n",
              "383 -0.000480-0.000252j -0.000339-0.000237j -0.000260-0.000365j   \n",
              "384 -0.000295+0.000309j  0.000258-0.000076j  0.000556+0.000246j   \n",
              "385 -0.000234+0.000165j  0.000449-0.000018j  0.000272-0.000394j   \n",
              "386  0.000349+0.000359j  0.000096+0.000450j  0.000132+0.000504j   \n",
              "\n",
              "                  6                   7                   8      \\\n",
              "0   -0.000120+0.000133j -0.000693+0.000449j  0.000005-0.000234j   \n",
              "1   -0.000425-0.000314j  0.000022+0.000514j -0.000166+0.000690j   \n",
              "2   -0.000019-0.000028j -0.000233-0.000128j -0.000019+0.000367j   \n",
              "3    0.000170-0.000263j -0.000573+0.000149j  0.000470+0.000426j   \n",
              "4   -0.000204-0.000304j -0.000764-0.000673j  0.000043-0.000018j   \n",
              "..                  ...                 ...                 ...   \n",
              "382  0.000056-0.000009j -0.000410+0.000020j -0.000037+0.000170j   \n",
              "383 -0.000179-0.000434j  0.000272-0.000311j -0.000311-0.000138j   \n",
              "384  0.000109+0.000499j -0.000648+0.000603j  0.000431+0.000188j   \n",
              "385  0.000169-0.000561j -0.000365+0.000243j -0.000384-0.000503j   \n",
              "386 -0.000062+0.000428j  0.000005+0.000876j -0.000203+0.000589j   \n",
              "\n",
              "                  9      ...               10534               10535  \\\n",
              "0    0.000075+0.000035j  ... -0.000276+0.000034j  0.000075-0.000035j   \n",
              "1   -0.000045-0.000254j  ...  0.000369-0.000048j -0.000045+0.000254j   \n",
              "2   -0.000088+0.000131j  ... -0.000044-0.000037j -0.000088-0.000131j   \n",
              "3    0.000334-0.000540j  ...  0.000157+0.000377j  0.000334+0.000540j   \n",
              "4    0.000505+0.000222j  ...  0.000137+0.000017j  0.000505-0.000222j   \n",
              "..                  ...  ...                 ...                 ...   \n",
              "382 -0.000112-0.000161j  ... -0.000056-0.000043j -0.000112+0.000161j   \n",
              "383  0.000025-0.000258j  ...  0.000032+0.000117j  0.000025+0.000258j   \n",
              "384  0.000394+0.000174j  ...  0.000141-0.000440j  0.000394-0.000174j   \n",
              "385 -0.000381-0.000146j  ... -0.000277-0.000177j -0.000381+0.000146j   \n",
              "386  0.000006+0.000226j  ... -0.000203-0.000102j  0.000006-0.000226j   \n",
              "\n",
              "                  10536               10537               10538  \\\n",
              "0    0.000005+0.000234j -0.000693-0.000449j -0.000120-0.000133j   \n",
              "1   -0.000166-0.000690j  0.000022-0.000514j -0.000425+0.000314j   \n",
              "2   -0.000019-0.000367j -0.000233+0.000128j -0.000019+0.000028j   \n",
              "3    0.000470-0.000426j -0.000573-0.000149j  0.000170+0.000263j   \n",
              "4    0.000043+0.000018j -0.000764+0.000673j -0.000204+0.000304j   \n",
              "..                  ...                 ...                 ...   \n",
              "382 -0.000037-0.000170j -0.000410-0.000020j  0.000056+0.000009j   \n",
              "383 -0.000311+0.000138j  0.000272+0.000311j -0.000179+0.000434j   \n",
              "384  0.000431-0.000188j -0.000648-0.000603j  0.000109-0.000499j   \n",
              "385 -0.000384+0.000503j -0.000365-0.000243j  0.000169+0.000561j   \n",
              "386 -0.000203-0.000589j  0.000005-0.000876j -0.000062-0.000428j   \n",
              "\n",
              "                  10539               10540               10541  \\\n",
              "0   -0.000302+0.000203j -0.000140+0.000034j -0.000100-0.000091j   \n",
              "1    0.000020-0.000383j -0.000519-0.000143j  0.000174-0.001130j   \n",
              "2   -0.000246-0.000156j -0.000295+0.000088j -0.000035-0.000067j   \n",
              "3    0.000193-0.000091j  0.000272+0.000231j  0.000036+0.000167j   \n",
              "4    0.000094-0.000003j -0.000037-0.000152j -0.000103+0.000083j   \n",
              "..                  ...                 ...                 ...   \n",
              "382  0.000074-0.000384j -0.000056+0.000035j  0.000093+0.000054j   \n",
              "383 -0.000260+0.000365j -0.000339+0.000237j -0.000480+0.000252j   \n",
              "384  0.000556-0.000246j  0.000258+0.000076j -0.000295-0.000309j   \n",
              "385  0.000272+0.000394j  0.000449+0.000018j -0.000234-0.000165j   \n",
              "386  0.000132-0.000504j  0.000096-0.000450j  0.000349-0.000359j   \n",
              "\n",
              "                  10542               10543  \n",
              "0   -0.000074+0.000250j  0.000104+0.000275j  \n",
              "1   -0.000145-0.000712j  0.000921-0.002373j  \n",
              "2   -0.000104+0.000049j -0.000097+0.000022j  \n",
              "3    0.000268+0.000219j  0.000130+0.000486j  \n",
              "4   -0.000015+0.000075j  0.000023-0.000646j  \n",
              "..                  ...                 ...  \n",
              "382 -0.000162+0.000030j  0.000036+0.000079j  \n",
              "383 -0.000691+0.000276j -0.000788+0.000325j  \n",
              "384  0.000013-0.001223j  0.001333-0.001178j  \n",
              "385 -0.000621+0.000904j  0.000901+0.001688j  \n",
              "386  0.000487-0.000302j  0.000692-0.000117j  \n",
              "\n",
              "[387 rows x 10544 columns]"
            ],
            "text/html": [
              "\n",
              "  <div id=\"df-fc0cc78c-4789-4ec1-befd-a3b758505691\">\n",
              "    <div class=\"colab-df-container\">\n",
              "      <div>\n",
              "<style scoped>\n",
              "    .dataframe tbody tr th:only-of-type {\n",
              "        vertical-align: middle;\n",
              "    }\n",
              "\n",
              "    .dataframe tbody tr th {\n",
              "        vertical-align: top;\n",
              "    }\n",
              "\n",
              "    .dataframe thead th {\n",
              "        text-align: right;\n",
              "    }\n",
              "</style>\n",
              "<table border=\"1\" class=\"dataframe\">\n",
              "  <thead>\n",
              "    <tr style=\"text-align: right;\">\n",
              "      <th></th>\n",
              "      <th>0</th>\n",
              "      <th>1</th>\n",
              "      <th>2</th>\n",
              "      <th>3</th>\n",
              "      <th>4</th>\n",
              "      <th>5</th>\n",
              "      <th>6</th>\n",
              "      <th>7</th>\n",
              "      <th>8</th>\n",
              "      <th>9</th>\n",
              "      <th>...</th>\n",
              "      <th>10534</th>\n",
              "      <th>10535</th>\n",
              "      <th>10536</th>\n",
              "      <th>10537</th>\n",
              "      <th>10538</th>\n",
              "      <th>10539</th>\n",
              "      <th>10540</th>\n",
              "      <th>10541</th>\n",
              "      <th>10542</th>\n",
              "      <th>10543</th>\n",
              "    </tr>\n",
              "  </thead>\n",
              "  <tbody>\n",
              "    <tr>\n",
              "      <th>0</th>\n",
              "      <td>0.669239+0.000000j</td>\n",
              "      <td>0.000104-0.000275j</td>\n",
              "      <td>-0.000074-0.000250j</td>\n",
              "      <td>-0.000100+0.000091j</td>\n",
              "      <td>-0.000140-0.000034j</td>\n",
              "      <td>-0.000302-0.000203j</td>\n",
              "      <td>-0.000120+0.000133j</td>\n",
              "      <td>-0.000693+0.000449j</td>\n",
              "      <td>0.000005-0.000234j</td>\n",
              "      <td>0.000075+0.000035j</td>\n",
              "      <td>...</td>\n",
              "      <td>-0.000276+0.000034j</td>\n",
              "      <td>0.000075-0.000035j</td>\n",
              "      <td>0.000005+0.000234j</td>\n",
              "      <td>-0.000693-0.000449j</td>\n",
              "      <td>-0.000120-0.000133j</td>\n",
              "      <td>-0.000302+0.000203j</td>\n",
              "      <td>-0.000140+0.000034j</td>\n",
              "      <td>-0.000100-0.000091j</td>\n",
              "      <td>-0.000074+0.000250j</td>\n",
              "      <td>0.000104+0.000275j</td>\n",
              "    </tr>\n",
              "    <tr>\n",
              "      <th>1</th>\n",
              "      <td>0.672534+0.000000j</td>\n",
              "      <td>0.000921+0.002373j</td>\n",
              "      <td>-0.000145+0.000712j</td>\n",
              "      <td>0.000174+0.001130j</td>\n",
              "      <td>-0.000519+0.000143j</td>\n",
              "      <td>0.000020+0.000383j</td>\n",
              "      <td>-0.000425-0.000314j</td>\n",
              "      <td>0.000022+0.000514j</td>\n",
              "      <td>-0.000166+0.000690j</td>\n",
              "      <td>-0.000045-0.000254j</td>\n",
              "      <td>...</td>\n",
              "      <td>0.000369-0.000048j</td>\n",
              "      <td>-0.000045+0.000254j</td>\n",
              "      <td>-0.000166-0.000690j</td>\n",
              "      <td>0.000022-0.000514j</td>\n",
              "      <td>-0.000425+0.000314j</td>\n",
              "      <td>0.000020-0.000383j</td>\n",
              "      <td>-0.000519-0.000143j</td>\n",
              "      <td>0.000174-0.001130j</td>\n",
              "      <td>-0.000145-0.000712j</td>\n",
              "      <td>0.000921-0.002373j</td>\n",
              "    </tr>\n",
              "    <tr>\n",
              "      <th>2</th>\n",
              "      <td>0.674939+0.000000j</td>\n",
              "      <td>-0.000097-0.000022j</td>\n",
              "      <td>-0.000104-0.000049j</td>\n",
              "      <td>-0.000035+0.000067j</td>\n",
              "      <td>-0.000295-0.000088j</td>\n",
              "      <td>-0.000246+0.000156j</td>\n",
              "      <td>-0.000019-0.000028j</td>\n",
              "      <td>-0.000233-0.000128j</td>\n",
              "      <td>-0.000019+0.000367j</td>\n",
              "      <td>-0.000088+0.000131j</td>\n",
              "      <td>...</td>\n",
              "      <td>-0.000044-0.000037j</td>\n",
              "      <td>-0.000088-0.000131j</td>\n",
              "      <td>-0.000019-0.000367j</td>\n",
              "      <td>-0.000233+0.000128j</td>\n",
              "      <td>-0.000019+0.000028j</td>\n",
              "      <td>-0.000246-0.000156j</td>\n",
              "      <td>-0.000295+0.000088j</td>\n",
              "      <td>-0.000035-0.000067j</td>\n",
              "      <td>-0.000104+0.000049j</td>\n",
              "      <td>-0.000097+0.000022j</td>\n",
              "    </tr>\n",
              "    <tr>\n",
              "      <th>3</th>\n",
              "      <td>0.674657+0.000000j</td>\n",
              "      <td>0.000130-0.000486j</td>\n",
              "      <td>0.000268-0.000219j</td>\n",
              "      <td>0.000036-0.000167j</td>\n",
              "      <td>0.000272-0.000231j</td>\n",
              "      <td>0.000193+0.000091j</td>\n",
              "      <td>0.000170-0.000263j</td>\n",
              "      <td>-0.000573+0.000149j</td>\n",
              "      <td>0.000470+0.000426j</td>\n",
              "      <td>0.000334-0.000540j</td>\n",
              "      <td>...</td>\n",
              "      <td>0.000157+0.000377j</td>\n",
              "      <td>0.000334+0.000540j</td>\n",
              "      <td>0.000470-0.000426j</td>\n",
              "      <td>-0.000573-0.000149j</td>\n",
              "      <td>0.000170+0.000263j</td>\n",
              "      <td>0.000193-0.000091j</td>\n",
              "      <td>0.000272+0.000231j</td>\n",
              "      <td>0.000036+0.000167j</td>\n",
              "      <td>0.000268+0.000219j</td>\n",
              "      <td>0.000130+0.000486j</td>\n",
              "    </tr>\n",
              "    <tr>\n",
              "      <th>4</th>\n",
              "      <td>0.673224+0.000000j</td>\n",
              "      <td>0.000023+0.000646j</td>\n",
              "      <td>-0.000015-0.000075j</td>\n",
              "      <td>-0.000103-0.000083j</td>\n",
              "      <td>-0.000037+0.000152j</td>\n",
              "      <td>0.000094+0.000003j</td>\n",
              "      <td>-0.000204-0.000304j</td>\n",
              "      <td>-0.000764-0.000673j</td>\n",
              "      <td>0.000043-0.000018j</td>\n",
              "      <td>0.000505+0.000222j</td>\n",
              "      <td>...</td>\n",
              "      <td>0.000137+0.000017j</td>\n",
              "      <td>0.000505-0.000222j</td>\n",
              "      <td>0.000043+0.000018j</td>\n",
              "      <td>-0.000764+0.000673j</td>\n",
              "      <td>-0.000204+0.000304j</td>\n",
              "      <td>0.000094-0.000003j</td>\n",
              "      <td>-0.000037-0.000152j</td>\n",
              "      <td>-0.000103+0.000083j</td>\n",
              "      <td>-0.000015+0.000075j</td>\n",
              "      <td>0.000023-0.000646j</td>\n",
              "    </tr>\n",
              "    <tr>\n",
              "      <th>...</th>\n",
              "      <td>...</td>\n",
              "      <td>...</td>\n",
              "      <td>...</td>\n",
              "      <td>...</td>\n",
              "      <td>...</td>\n",
              "      <td>...</td>\n",
              "      <td>...</td>\n",
              "      <td>...</td>\n",
              "      <td>...</td>\n",
              "      <td>...</td>\n",
              "      <td>...</td>\n",
              "      <td>...</td>\n",
              "      <td>...</td>\n",
              "      <td>...</td>\n",
              "      <td>...</td>\n",
              "      <td>...</td>\n",
              "      <td>...</td>\n",
              "      <td>...</td>\n",
              "      <td>...</td>\n",
              "      <td>...</td>\n",
              "      <td>...</td>\n",
              "    </tr>\n",
              "    <tr>\n",
              "      <th>382</th>\n",
              "      <td>0.458579+0.000000j</td>\n",
              "      <td>0.000036-0.000079j</td>\n",
              "      <td>-0.000162-0.000030j</td>\n",
              "      <td>0.000093-0.000054j</td>\n",
              "      <td>-0.000056-0.000035j</td>\n",
              "      <td>0.000074+0.000384j</td>\n",
              "      <td>0.000056-0.000009j</td>\n",
              "      <td>-0.000410+0.000020j</td>\n",
              "      <td>-0.000037+0.000170j</td>\n",
              "      <td>-0.000112-0.000161j</td>\n",
              "      <td>...</td>\n",
              "      <td>-0.000056-0.000043j</td>\n",
              "      <td>-0.000112+0.000161j</td>\n",
              "      <td>-0.000037-0.000170j</td>\n",
              "      <td>-0.000410-0.000020j</td>\n",
              "      <td>0.000056+0.000009j</td>\n",
              "      <td>0.000074-0.000384j</td>\n",
              "      <td>-0.000056+0.000035j</td>\n",
              "      <td>0.000093+0.000054j</td>\n",
              "      <td>-0.000162+0.000030j</td>\n",
              "      <td>0.000036+0.000079j</td>\n",
              "    </tr>\n",
              "    <tr>\n",
              "      <th>383</th>\n",
              "      <td>0.457994+0.000000j</td>\n",
              "      <td>-0.000788-0.000325j</td>\n",
              "      <td>-0.000691-0.000276j</td>\n",
              "      <td>-0.000480-0.000252j</td>\n",
              "      <td>-0.000339-0.000237j</td>\n",
              "      <td>-0.000260-0.000365j</td>\n",
              "      <td>-0.000179-0.000434j</td>\n",
              "      <td>0.000272-0.000311j</td>\n",
              "      <td>-0.000311-0.000138j</td>\n",
              "      <td>0.000025-0.000258j</td>\n",
              "      <td>...</td>\n",
              "      <td>0.000032+0.000117j</td>\n",
              "      <td>0.000025+0.000258j</td>\n",
              "      <td>-0.000311+0.000138j</td>\n",
              "      <td>0.000272+0.000311j</td>\n",
              "      <td>-0.000179+0.000434j</td>\n",
              "      <td>-0.000260+0.000365j</td>\n",
              "      <td>-0.000339+0.000237j</td>\n",
              "      <td>-0.000480+0.000252j</td>\n",
              "      <td>-0.000691+0.000276j</td>\n",
              "      <td>-0.000788+0.000325j</td>\n",
              "    </tr>\n",
              "    <tr>\n",
              "      <th>384</th>\n",
              "      <td>0.452799+0.000000j</td>\n",
              "      <td>0.001333+0.001178j</td>\n",
              "      <td>0.000013+0.001223j</td>\n",
              "      <td>-0.000295+0.000309j</td>\n",
              "      <td>0.000258-0.000076j</td>\n",
              "      <td>0.000556+0.000246j</td>\n",
              "      <td>0.000109+0.000499j</td>\n",
              "      <td>-0.000648+0.000603j</td>\n",
              "      <td>0.000431+0.000188j</td>\n",
              "      <td>0.000394+0.000174j</td>\n",
              "      <td>...</td>\n",
              "      <td>0.000141-0.000440j</td>\n",
              "      <td>0.000394-0.000174j</td>\n",
              "      <td>0.000431-0.000188j</td>\n",
              "      <td>-0.000648-0.000603j</td>\n",
              "      <td>0.000109-0.000499j</td>\n",
              "      <td>0.000556-0.000246j</td>\n",
              "      <td>0.000258+0.000076j</td>\n",
              "      <td>-0.000295-0.000309j</td>\n",
              "      <td>0.000013-0.001223j</td>\n",
              "      <td>0.001333-0.001178j</td>\n",
              "    </tr>\n",
              "    <tr>\n",
              "      <th>385</th>\n",
              "      <td>0.451730+0.000000j</td>\n",
              "      <td>0.000901-0.001688j</td>\n",
              "      <td>-0.000621-0.000904j</td>\n",
              "      <td>-0.000234+0.000165j</td>\n",
              "      <td>0.000449-0.000018j</td>\n",
              "      <td>0.000272-0.000394j</td>\n",
              "      <td>0.000169-0.000561j</td>\n",
              "      <td>-0.000365+0.000243j</td>\n",
              "      <td>-0.000384-0.000503j</td>\n",
              "      <td>-0.000381-0.000146j</td>\n",
              "      <td>...</td>\n",
              "      <td>-0.000277-0.000177j</td>\n",
              "      <td>-0.000381+0.000146j</td>\n",
              "      <td>-0.000384+0.000503j</td>\n",
              "      <td>-0.000365-0.000243j</td>\n",
              "      <td>0.000169+0.000561j</td>\n",
              "      <td>0.000272+0.000394j</td>\n",
              "      <td>0.000449+0.000018j</td>\n",
              "      <td>-0.000234-0.000165j</td>\n",
              "      <td>-0.000621+0.000904j</td>\n",
              "      <td>0.000901+0.001688j</td>\n",
              "    </tr>\n",
              "    <tr>\n",
              "      <th>386</th>\n",
              "      <td>0.450048+0.000000j</td>\n",
              "      <td>0.000692+0.000117j</td>\n",
              "      <td>0.000487+0.000302j</td>\n",
              "      <td>0.000349+0.000359j</td>\n",
              "      <td>0.000096+0.000450j</td>\n",
              "      <td>0.000132+0.000504j</td>\n",
              "      <td>-0.000062+0.000428j</td>\n",
              "      <td>0.000005+0.000876j</td>\n",
              "      <td>-0.000203+0.000589j</td>\n",
              "      <td>0.000006+0.000226j</td>\n",
              "      <td>...</td>\n",
              "      <td>-0.000203-0.000102j</td>\n",
              "      <td>0.000006-0.000226j</td>\n",
              "      <td>-0.000203-0.000589j</td>\n",
              "      <td>0.000005-0.000876j</td>\n",
              "      <td>-0.000062-0.000428j</td>\n",
              "      <td>0.000132-0.000504j</td>\n",
              "      <td>0.000096-0.000450j</td>\n",
              "      <td>0.000349-0.000359j</td>\n",
              "      <td>0.000487-0.000302j</td>\n",
              "      <td>0.000692-0.000117j</td>\n",
              "    </tr>\n",
              "  </tbody>\n",
              "</table>\n",
              "<p>387 rows × 10544 columns</p>\n",
              "</div>\n",
              "      <button class=\"colab-df-convert\" onclick=\"convertToInteractive('df-fc0cc78c-4789-4ec1-befd-a3b758505691')\"\n",
              "              title=\"Convert this dataframe to an interactive table.\"\n",
              "              style=\"display:none;\">\n",
              "        \n",
              "  <svg xmlns=\"http://www.w3.org/2000/svg\" height=\"24px\"viewBox=\"0 0 24 24\"\n",
              "       width=\"24px\">\n",
              "    <path d=\"M0 0h24v24H0V0z\" fill=\"none\"/>\n",
              "    <path d=\"M18.56 5.44l.94 2.06.94-2.06 2.06-.94-2.06-.94-.94-2.06-.94 2.06-2.06.94zm-11 1L8.5 8.5l.94-2.06 2.06-.94-2.06-.94L8.5 2.5l-.94 2.06-2.06.94zm10 10l.94 2.06.94-2.06 2.06-.94-2.06-.94-.94-2.06-.94 2.06-2.06.94z\"/><path d=\"M17.41 7.96l-1.37-1.37c-.4-.4-.92-.59-1.43-.59-.52 0-1.04.2-1.43.59L10.3 9.45l-7.72 7.72c-.78.78-.78 2.05 0 2.83L4 21.41c.39.39.9.59 1.41.59.51 0 1.02-.2 1.41-.59l7.78-7.78 2.81-2.81c.8-.78.8-2.07 0-2.86zM5.41 20L4 18.59l7.72-7.72 1.47 1.35L5.41 20z\"/>\n",
              "  </svg>\n",
              "      </button>\n",
              "      \n",
              "  <style>\n",
              "    .colab-df-container {\n",
              "      display:flex;\n",
              "      flex-wrap:wrap;\n",
              "      gap: 12px;\n",
              "    }\n",
              "\n",
              "    .colab-df-convert {\n",
              "      background-color: #E8F0FE;\n",
              "      border: none;\n",
              "      border-radius: 50%;\n",
              "      cursor: pointer;\n",
              "      display: none;\n",
              "      fill: #1967D2;\n",
              "      height: 32px;\n",
              "      padding: 0 0 0 0;\n",
              "      width: 32px;\n",
              "    }\n",
              "\n",
              "    .colab-df-convert:hover {\n",
              "      background-color: #E2EBFA;\n",
              "      box-shadow: 0px 1px 2px rgba(60, 64, 67, 0.3), 0px 1px 3px 1px rgba(60, 64, 67, 0.15);\n",
              "      fill: #174EA6;\n",
              "    }\n",
              "\n",
              "    [theme=dark] .colab-df-convert {\n",
              "      background-color: #3B4455;\n",
              "      fill: #D2E3FC;\n",
              "    }\n",
              "\n",
              "    [theme=dark] .colab-df-convert:hover {\n",
              "      background-color: #434B5C;\n",
              "      box-shadow: 0px 1px 3px 1px rgba(0, 0, 0, 0.15);\n",
              "      filter: drop-shadow(0px 1px 2px rgba(0, 0, 0, 0.3));\n",
              "      fill: #FFFFFF;\n",
              "    }\n",
              "  </style>\n",
              "\n",
              "      <script>\n",
              "        const buttonEl =\n",
              "          document.querySelector('#df-fc0cc78c-4789-4ec1-befd-a3b758505691 button.colab-df-convert');\n",
              "        buttonEl.style.display =\n",
              "          google.colab.kernel.accessAllowed ? 'block' : 'none';\n",
              "\n",
              "        async function convertToInteractive(key) {\n",
              "          const element = document.querySelector('#df-fc0cc78c-4789-4ec1-befd-a3b758505691');\n",
              "          const dataTable =\n",
              "            await google.colab.kernel.invokeFunction('convertToInteractive',\n",
              "                                                     [key], {});\n",
              "          if (!dataTable) return;\n",
              "\n",
              "          const docLinkHtml = 'Like what you see? Visit the ' +\n",
              "            '<a target=\"_blank\" href=https://colab.research.google.com/notebooks/data_table.ipynb>data table notebook</a>'\n",
              "            + ' to learn more about interactive tables.';\n",
              "          element.innerHTML = '';\n",
              "          dataTable['output_type'] = 'display_data';\n",
              "          await google.colab.output.renderOutput(dataTable, element);\n",
              "          const docLink = document.createElement('div');\n",
              "          docLink.innerHTML = docLinkHtml;\n",
              "          element.appendChild(docLink);\n",
              "        }\n",
              "      </script>\n",
              "    </div>\n",
              "  </div>\n",
              "  "
            ]
          },
          "metadata": {},
          "execution_count": 246
        }
      ]
    },
    {
      "cell_type": "code",
      "source": [
        "pd.DataFrame(t1N_spec_test)"
      ],
      "metadata": {
        "id": "12R7aeNsHEwg",
        "colab": {
          "base_uri": "https://localhost:8080/",
          "height": 488
        },
        "outputId": "02e148bd-6cc1-49f9-83de-2a7356a4e109"
      },
      "execution_count": null,
      "outputs": [
        {
          "output_type": "execute_result",
          "data": {
            "text/plain": [
              "                  0                   1                   2      \\\n",
              "0    0.109580+0.000000j  0.000048+0.000244j -0.000290-0.000018j   \n",
              "1    0.111262+0.000000j  0.000073+0.000194j  0.000079-0.000039j   \n",
              "2    0.115813+0.000000j -0.000427+0.002399j -0.000047+0.000097j   \n",
              "3    0.114525+0.000000j  0.001042-0.000745j  0.000087-0.001016j   \n",
              "4    0.114845+0.000000j  0.000211+0.000487j  0.000049+0.000028j   \n",
              "..                  ...                 ...                 ...   \n",
              "770  0.458579+0.000000j  0.000036-0.000079j -0.000162-0.000030j   \n",
              "771  0.457994+0.000000j -0.000788-0.000325j -0.000691-0.000276j   \n",
              "772  0.452799+0.000000j  0.001333+0.001178j  0.000013+0.001223j   \n",
              "773  0.451730+0.000000j  0.000901-0.001688j -0.000621-0.000904j   \n",
              "774  0.450048+0.000000j  0.000692+0.000117j  0.000487+0.000302j   \n",
              "\n",
              "                  3                   4                   5      \\\n",
              "0   -0.000261+0.000048j -0.000158+0.000148j -0.000234+0.000102j   \n",
              "1    0.000060+0.000174j  0.000239-0.000020j  0.000162+0.000108j   \n",
              "2   -0.000497+0.000919j  0.000052+0.000329j -0.000543+0.000898j   \n",
              "3   -0.000311-0.000769j -0.000649-0.000350j -0.000179-0.000210j   \n",
              "4    0.000292-0.000051j  0.000371+0.000109j  0.000152-0.000062j   \n",
              "..                  ...                 ...                 ...   \n",
              "770  0.000093-0.000054j -0.000056-0.000035j  0.000074+0.000384j   \n",
              "771 -0.000480-0.000252j -0.000339-0.000237j -0.000260-0.000365j   \n",
              "772 -0.000295+0.000309j  0.000258-0.000076j  0.000556+0.000246j   \n",
              "773 -0.000234+0.000165j  0.000449-0.000018j  0.000272-0.000394j   \n",
              "774  0.000349+0.000359j  0.000096+0.000450j  0.000132+0.000504j   \n",
              "\n",
              "                  6                   7                   8      \\\n",
              "0   -0.000239+0.000082j -0.000302-0.000330j -0.000249-0.000273j   \n",
              "1    0.000040-0.000152j -0.000187-0.000407j -0.000071+0.000360j   \n",
              "2   -0.000063-0.000419j -0.000797+0.000412j -0.000548-0.000147j   \n",
              "3   -0.000297-0.000381j -0.000345+0.000800j -0.000072+0.000256j   \n",
              "4    0.000330+0.000033j  0.000333+0.000144j  0.000329+0.000336j   \n",
              "..                  ...                 ...                 ...   \n",
              "770  0.000056-0.000009j -0.000410+0.000020j -0.000037+0.000170j   \n",
              "771 -0.000179-0.000434j  0.000272-0.000311j -0.000311-0.000138j   \n",
              "772  0.000109+0.000499j -0.000648+0.000603j  0.000431+0.000188j   \n",
              "773  0.000169-0.000561j -0.000365+0.000243j -0.000384-0.000503j   \n",
              "774 -0.000062+0.000428j  0.000005+0.000876j -0.000203+0.000589j   \n",
              "\n",
              "                  9      ...               10534               10535  \\\n",
              "0   -0.000236-0.000097j  ... -0.000036+0.000002j -0.000236+0.000097j   \n",
              "1    0.000065+0.000119j  ...  0.000053-0.000072j  0.000065-0.000119j   \n",
              "2   -0.000076+0.000104j  ...  0.000080-0.000567j -0.000076-0.000104j   \n",
              "3   -0.000049+0.000052j  ... -0.000146-0.000292j -0.000049-0.000052j   \n",
              "4    0.000200+0.000058j  ...  0.000425-0.000037j  0.000200-0.000058j   \n",
              "..                  ...  ...                 ...                 ...   \n",
              "770 -0.000112-0.000161j  ... -0.000056-0.000043j -0.000112+0.000161j   \n",
              "771  0.000025-0.000258j  ...  0.000032+0.000117j  0.000025+0.000258j   \n",
              "772  0.000394+0.000174j  ...  0.000141-0.000440j  0.000394-0.000174j   \n",
              "773 -0.000381-0.000146j  ... -0.000277-0.000177j -0.000381+0.000146j   \n",
              "774  0.000006+0.000226j  ... -0.000203-0.000102j  0.000006-0.000226j   \n",
              "\n",
              "                  10536               10537               10538  \\\n",
              "0   -0.000249+0.000273j -0.000302+0.000330j -0.000239-0.000082j   \n",
              "1   -0.000071-0.000360j -0.000187+0.000407j  0.000040+0.000152j   \n",
              "2   -0.000548+0.000147j -0.000797-0.000412j -0.000063+0.000419j   \n",
              "3   -0.000072-0.000256j -0.000345-0.000800j -0.000297+0.000381j   \n",
              "4    0.000329-0.000336j  0.000333-0.000144j  0.000330-0.000033j   \n",
              "..                  ...                 ...                 ...   \n",
              "770 -0.000037-0.000170j -0.000410-0.000020j  0.000056+0.000009j   \n",
              "771 -0.000311+0.000138j  0.000272+0.000311j -0.000179+0.000434j   \n",
              "772  0.000431-0.000188j -0.000648-0.000603j  0.000109-0.000499j   \n",
              "773 -0.000384+0.000503j -0.000365-0.000243j  0.000169+0.000561j   \n",
              "774 -0.000203-0.000589j  0.000005-0.000876j -0.000062-0.000428j   \n",
              "\n",
              "                  10539               10540               10541  \\\n",
              "0   -0.000234-0.000102j -0.000158-0.000148j -0.000261-0.000048j   \n",
              "1    0.000162-0.000108j  0.000239+0.000020j  0.000060-0.000174j   \n",
              "2   -0.000543-0.000898j  0.000052-0.000329j -0.000497-0.000919j   \n",
              "3   -0.000179+0.000210j -0.000649+0.000350j -0.000311+0.000769j   \n",
              "4    0.000152+0.000062j  0.000371-0.000109j  0.000292+0.000051j   \n",
              "..                  ...                 ...                 ...   \n",
              "770  0.000074-0.000384j -0.000056+0.000035j  0.000093+0.000054j   \n",
              "771 -0.000260+0.000365j -0.000339+0.000237j -0.000480+0.000252j   \n",
              "772  0.000556-0.000246j  0.000258+0.000076j -0.000295-0.000309j   \n",
              "773  0.000272+0.000394j  0.000449+0.000018j -0.000234-0.000165j   \n",
              "774  0.000132-0.000504j  0.000096-0.000450j  0.000349-0.000359j   \n",
              "\n",
              "                  10542               10543  \n",
              "0   -0.000290+0.000018j  0.000048-0.000244j  \n",
              "1    0.000079+0.000039j  0.000073-0.000194j  \n",
              "2   -0.000047-0.000097j -0.000427-0.002399j  \n",
              "3    0.000087+0.001016j  0.001042+0.000745j  \n",
              "4    0.000049-0.000028j  0.000211-0.000487j  \n",
              "..                  ...                 ...  \n",
              "770 -0.000162+0.000030j  0.000036+0.000079j  \n",
              "771 -0.000691+0.000276j -0.000788+0.000325j  \n",
              "772  0.000013-0.001223j  0.001333-0.001178j  \n",
              "773 -0.000621+0.000904j  0.000901+0.001688j  \n",
              "774  0.000487-0.000302j  0.000692-0.000117j  \n",
              "\n",
              "[775 rows x 10544 columns]"
            ],
            "text/html": [
              "\n",
              "  <div id=\"df-11018ab6-993e-49e0-8a22-bb29bf9a0985\">\n",
              "    <div class=\"colab-df-container\">\n",
              "      <div>\n",
              "<style scoped>\n",
              "    .dataframe tbody tr th:only-of-type {\n",
              "        vertical-align: middle;\n",
              "    }\n",
              "\n",
              "    .dataframe tbody tr th {\n",
              "        vertical-align: top;\n",
              "    }\n",
              "\n",
              "    .dataframe thead th {\n",
              "        text-align: right;\n",
              "    }\n",
              "</style>\n",
              "<table border=\"1\" class=\"dataframe\">\n",
              "  <thead>\n",
              "    <tr style=\"text-align: right;\">\n",
              "      <th></th>\n",
              "      <th>0</th>\n",
              "      <th>1</th>\n",
              "      <th>2</th>\n",
              "      <th>3</th>\n",
              "      <th>4</th>\n",
              "      <th>5</th>\n",
              "      <th>6</th>\n",
              "      <th>7</th>\n",
              "      <th>8</th>\n",
              "      <th>9</th>\n",
              "      <th>...</th>\n",
              "      <th>10534</th>\n",
              "      <th>10535</th>\n",
              "      <th>10536</th>\n",
              "      <th>10537</th>\n",
              "      <th>10538</th>\n",
              "      <th>10539</th>\n",
              "      <th>10540</th>\n",
              "      <th>10541</th>\n",
              "      <th>10542</th>\n",
              "      <th>10543</th>\n",
              "    </tr>\n",
              "  </thead>\n",
              "  <tbody>\n",
              "    <tr>\n",
              "      <th>0</th>\n",
              "      <td>0.109580+0.000000j</td>\n",
              "      <td>0.000048+0.000244j</td>\n",
              "      <td>-0.000290-0.000018j</td>\n",
              "      <td>-0.000261+0.000048j</td>\n",
              "      <td>-0.000158+0.000148j</td>\n",
              "      <td>-0.000234+0.000102j</td>\n",
              "      <td>-0.000239+0.000082j</td>\n",
              "      <td>-0.000302-0.000330j</td>\n",
              "      <td>-0.000249-0.000273j</td>\n",
              "      <td>-0.000236-0.000097j</td>\n",
              "      <td>...</td>\n",
              "      <td>-0.000036+0.000002j</td>\n",
              "      <td>-0.000236+0.000097j</td>\n",
              "      <td>-0.000249+0.000273j</td>\n",
              "      <td>-0.000302+0.000330j</td>\n",
              "      <td>-0.000239-0.000082j</td>\n",
              "      <td>-0.000234-0.000102j</td>\n",
              "      <td>-0.000158-0.000148j</td>\n",
              "      <td>-0.000261-0.000048j</td>\n",
              "      <td>-0.000290+0.000018j</td>\n",
              "      <td>0.000048-0.000244j</td>\n",
              "    </tr>\n",
              "    <tr>\n",
              "      <th>1</th>\n",
              "      <td>0.111262+0.000000j</td>\n",
              "      <td>0.000073+0.000194j</td>\n",
              "      <td>0.000079-0.000039j</td>\n",
              "      <td>0.000060+0.000174j</td>\n",
              "      <td>0.000239-0.000020j</td>\n",
              "      <td>0.000162+0.000108j</td>\n",
              "      <td>0.000040-0.000152j</td>\n",
              "      <td>-0.000187-0.000407j</td>\n",
              "      <td>-0.000071+0.000360j</td>\n",
              "      <td>0.000065+0.000119j</td>\n",
              "      <td>...</td>\n",
              "      <td>0.000053-0.000072j</td>\n",
              "      <td>0.000065-0.000119j</td>\n",
              "      <td>-0.000071-0.000360j</td>\n",
              "      <td>-0.000187+0.000407j</td>\n",
              "      <td>0.000040+0.000152j</td>\n",
              "      <td>0.000162-0.000108j</td>\n",
              "      <td>0.000239+0.000020j</td>\n",
              "      <td>0.000060-0.000174j</td>\n",
              "      <td>0.000079+0.000039j</td>\n",
              "      <td>0.000073-0.000194j</td>\n",
              "    </tr>\n",
              "    <tr>\n",
              "      <th>2</th>\n",
              "      <td>0.115813+0.000000j</td>\n",
              "      <td>-0.000427+0.002399j</td>\n",
              "      <td>-0.000047+0.000097j</td>\n",
              "      <td>-0.000497+0.000919j</td>\n",
              "      <td>0.000052+0.000329j</td>\n",
              "      <td>-0.000543+0.000898j</td>\n",
              "      <td>-0.000063-0.000419j</td>\n",
              "      <td>-0.000797+0.000412j</td>\n",
              "      <td>-0.000548-0.000147j</td>\n",
              "      <td>-0.000076+0.000104j</td>\n",
              "      <td>...</td>\n",
              "      <td>0.000080-0.000567j</td>\n",
              "      <td>-0.000076-0.000104j</td>\n",
              "      <td>-0.000548+0.000147j</td>\n",
              "      <td>-0.000797-0.000412j</td>\n",
              "      <td>-0.000063+0.000419j</td>\n",
              "      <td>-0.000543-0.000898j</td>\n",
              "      <td>0.000052-0.000329j</td>\n",
              "      <td>-0.000497-0.000919j</td>\n",
              "      <td>-0.000047-0.000097j</td>\n",
              "      <td>-0.000427-0.002399j</td>\n",
              "    </tr>\n",
              "    <tr>\n",
              "      <th>3</th>\n",
              "      <td>0.114525+0.000000j</td>\n",
              "      <td>0.001042-0.000745j</td>\n",
              "      <td>0.000087-0.001016j</td>\n",
              "      <td>-0.000311-0.000769j</td>\n",
              "      <td>-0.000649-0.000350j</td>\n",
              "      <td>-0.000179-0.000210j</td>\n",
              "      <td>-0.000297-0.000381j</td>\n",
              "      <td>-0.000345+0.000800j</td>\n",
              "      <td>-0.000072+0.000256j</td>\n",
              "      <td>-0.000049+0.000052j</td>\n",
              "      <td>...</td>\n",
              "      <td>-0.000146-0.000292j</td>\n",
              "      <td>-0.000049-0.000052j</td>\n",
              "      <td>-0.000072-0.000256j</td>\n",
              "      <td>-0.000345-0.000800j</td>\n",
              "      <td>-0.000297+0.000381j</td>\n",
              "      <td>-0.000179+0.000210j</td>\n",
              "      <td>-0.000649+0.000350j</td>\n",
              "      <td>-0.000311+0.000769j</td>\n",
              "      <td>0.000087+0.001016j</td>\n",
              "      <td>0.001042+0.000745j</td>\n",
              "    </tr>\n",
              "    <tr>\n",
              "      <th>4</th>\n",
              "      <td>0.114845+0.000000j</td>\n",
              "      <td>0.000211+0.000487j</td>\n",
              "      <td>0.000049+0.000028j</td>\n",
              "      <td>0.000292-0.000051j</td>\n",
              "      <td>0.000371+0.000109j</td>\n",
              "      <td>0.000152-0.000062j</td>\n",
              "      <td>0.000330+0.000033j</td>\n",
              "      <td>0.000333+0.000144j</td>\n",
              "      <td>0.000329+0.000336j</td>\n",
              "      <td>0.000200+0.000058j</td>\n",
              "      <td>...</td>\n",
              "      <td>0.000425-0.000037j</td>\n",
              "      <td>0.000200-0.000058j</td>\n",
              "      <td>0.000329-0.000336j</td>\n",
              "      <td>0.000333-0.000144j</td>\n",
              "      <td>0.000330-0.000033j</td>\n",
              "      <td>0.000152+0.000062j</td>\n",
              "      <td>0.000371-0.000109j</td>\n",
              "      <td>0.000292+0.000051j</td>\n",
              "      <td>0.000049-0.000028j</td>\n",
              "      <td>0.000211-0.000487j</td>\n",
              "    </tr>\n",
              "    <tr>\n",
              "      <th>...</th>\n",
              "      <td>...</td>\n",
              "      <td>...</td>\n",
              "      <td>...</td>\n",
              "      <td>...</td>\n",
              "      <td>...</td>\n",
              "      <td>...</td>\n",
              "      <td>...</td>\n",
              "      <td>...</td>\n",
              "      <td>...</td>\n",
              "      <td>...</td>\n",
              "      <td>...</td>\n",
              "      <td>...</td>\n",
              "      <td>...</td>\n",
              "      <td>...</td>\n",
              "      <td>...</td>\n",
              "      <td>...</td>\n",
              "      <td>...</td>\n",
              "      <td>...</td>\n",
              "      <td>...</td>\n",
              "      <td>...</td>\n",
              "      <td>...</td>\n",
              "    </tr>\n",
              "    <tr>\n",
              "      <th>770</th>\n",
              "      <td>0.458579+0.000000j</td>\n",
              "      <td>0.000036-0.000079j</td>\n",
              "      <td>-0.000162-0.000030j</td>\n",
              "      <td>0.000093-0.000054j</td>\n",
              "      <td>-0.000056-0.000035j</td>\n",
              "      <td>0.000074+0.000384j</td>\n",
              "      <td>0.000056-0.000009j</td>\n",
              "      <td>-0.000410+0.000020j</td>\n",
              "      <td>-0.000037+0.000170j</td>\n",
              "      <td>-0.000112-0.000161j</td>\n",
              "      <td>...</td>\n",
              "      <td>-0.000056-0.000043j</td>\n",
              "      <td>-0.000112+0.000161j</td>\n",
              "      <td>-0.000037-0.000170j</td>\n",
              "      <td>-0.000410-0.000020j</td>\n",
              "      <td>0.000056+0.000009j</td>\n",
              "      <td>0.000074-0.000384j</td>\n",
              "      <td>-0.000056+0.000035j</td>\n",
              "      <td>0.000093+0.000054j</td>\n",
              "      <td>-0.000162+0.000030j</td>\n",
              "      <td>0.000036+0.000079j</td>\n",
              "    </tr>\n",
              "    <tr>\n",
              "      <th>771</th>\n",
              "      <td>0.457994+0.000000j</td>\n",
              "      <td>-0.000788-0.000325j</td>\n",
              "      <td>-0.000691-0.000276j</td>\n",
              "      <td>-0.000480-0.000252j</td>\n",
              "      <td>-0.000339-0.000237j</td>\n",
              "      <td>-0.000260-0.000365j</td>\n",
              "      <td>-0.000179-0.000434j</td>\n",
              "      <td>0.000272-0.000311j</td>\n",
              "      <td>-0.000311-0.000138j</td>\n",
              "      <td>0.000025-0.000258j</td>\n",
              "      <td>...</td>\n",
              "      <td>0.000032+0.000117j</td>\n",
              "      <td>0.000025+0.000258j</td>\n",
              "      <td>-0.000311+0.000138j</td>\n",
              "      <td>0.000272+0.000311j</td>\n",
              "      <td>-0.000179+0.000434j</td>\n",
              "      <td>-0.000260+0.000365j</td>\n",
              "      <td>-0.000339+0.000237j</td>\n",
              "      <td>-0.000480+0.000252j</td>\n",
              "      <td>-0.000691+0.000276j</td>\n",
              "      <td>-0.000788+0.000325j</td>\n",
              "    </tr>\n",
              "    <tr>\n",
              "      <th>772</th>\n",
              "      <td>0.452799+0.000000j</td>\n",
              "      <td>0.001333+0.001178j</td>\n",
              "      <td>0.000013+0.001223j</td>\n",
              "      <td>-0.000295+0.000309j</td>\n",
              "      <td>0.000258-0.000076j</td>\n",
              "      <td>0.000556+0.000246j</td>\n",
              "      <td>0.000109+0.000499j</td>\n",
              "      <td>-0.000648+0.000603j</td>\n",
              "      <td>0.000431+0.000188j</td>\n",
              "      <td>0.000394+0.000174j</td>\n",
              "      <td>...</td>\n",
              "      <td>0.000141-0.000440j</td>\n",
              "      <td>0.000394-0.000174j</td>\n",
              "      <td>0.000431-0.000188j</td>\n",
              "      <td>-0.000648-0.000603j</td>\n",
              "      <td>0.000109-0.000499j</td>\n",
              "      <td>0.000556-0.000246j</td>\n",
              "      <td>0.000258+0.000076j</td>\n",
              "      <td>-0.000295-0.000309j</td>\n",
              "      <td>0.000013-0.001223j</td>\n",
              "      <td>0.001333-0.001178j</td>\n",
              "    </tr>\n",
              "    <tr>\n",
              "      <th>773</th>\n",
              "      <td>0.451730+0.000000j</td>\n",
              "      <td>0.000901-0.001688j</td>\n",
              "      <td>-0.000621-0.000904j</td>\n",
              "      <td>-0.000234+0.000165j</td>\n",
              "      <td>0.000449-0.000018j</td>\n",
              "      <td>0.000272-0.000394j</td>\n",
              "      <td>0.000169-0.000561j</td>\n",
              "      <td>-0.000365+0.000243j</td>\n",
              "      <td>-0.000384-0.000503j</td>\n",
              "      <td>-0.000381-0.000146j</td>\n",
              "      <td>...</td>\n",
              "      <td>-0.000277-0.000177j</td>\n",
              "      <td>-0.000381+0.000146j</td>\n",
              "      <td>-0.000384+0.000503j</td>\n",
              "      <td>-0.000365-0.000243j</td>\n",
              "      <td>0.000169+0.000561j</td>\n",
              "      <td>0.000272+0.000394j</td>\n",
              "      <td>0.000449+0.000018j</td>\n",
              "      <td>-0.000234-0.000165j</td>\n",
              "      <td>-0.000621+0.000904j</td>\n",
              "      <td>0.000901+0.001688j</td>\n",
              "    </tr>\n",
              "    <tr>\n",
              "      <th>774</th>\n",
              "      <td>0.450048+0.000000j</td>\n",
              "      <td>0.000692+0.000117j</td>\n",
              "      <td>0.000487+0.000302j</td>\n",
              "      <td>0.000349+0.000359j</td>\n",
              "      <td>0.000096+0.000450j</td>\n",
              "      <td>0.000132+0.000504j</td>\n",
              "      <td>-0.000062+0.000428j</td>\n",
              "      <td>0.000005+0.000876j</td>\n",
              "      <td>-0.000203+0.000589j</td>\n",
              "      <td>0.000006+0.000226j</td>\n",
              "      <td>...</td>\n",
              "      <td>-0.000203-0.000102j</td>\n",
              "      <td>0.000006-0.000226j</td>\n",
              "      <td>-0.000203-0.000589j</td>\n",
              "      <td>0.000005-0.000876j</td>\n",
              "      <td>-0.000062-0.000428j</td>\n",
              "      <td>0.000132-0.000504j</td>\n",
              "      <td>0.000096-0.000450j</td>\n",
              "      <td>0.000349-0.000359j</td>\n",
              "      <td>0.000487-0.000302j</td>\n",
              "      <td>0.000692-0.000117j</td>\n",
              "    </tr>\n",
              "  </tbody>\n",
              "</table>\n",
              "<p>775 rows × 10544 columns</p>\n",
              "</div>\n",
              "      <button class=\"colab-df-convert\" onclick=\"convertToInteractive('df-11018ab6-993e-49e0-8a22-bb29bf9a0985')\"\n",
              "              title=\"Convert this dataframe to an interactive table.\"\n",
              "              style=\"display:none;\">\n",
              "        \n",
              "  <svg xmlns=\"http://www.w3.org/2000/svg\" height=\"24px\"viewBox=\"0 0 24 24\"\n",
              "       width=\"24px\">\n",
              "    <path d=\"M0 0h24v24H0V0z\" fill=\"none\"/>\n",
              "    <path d=\"M18.56 5.44l.94 2.06.94-2.06 2.06-.94-2.06-.94-.94-2.06-.94 2.06-2.06.94zm-11 1L8.5 8.5l.94-2.06 2.06-.94-2.06-.94L8.5 2.5l-.94 2.06-2.06.94zm10 10l.94 2.06.94-2.06 2.06-.94-2.06-.94-.94-2.06-.94 2.06-2.06.94z\"/><path d=\"M17.41 7.96l-1.37-1.37c-.4-.4-.92-.59-1.43-.59-.52 0-1.04.2-1.43.59L10.3 9.45l-7.72 7.72c-.78.78-.78 2.05 0 2.83L4 21.41c.39.39.9.59 1.41.59.51 0 1.02-.2 1.41-.59l7.78-7.78 2.81-2.81c.8-.78.8-2.07 0-2.86zM5.41 20L4 18.59l7.72-7.72 1.47 1.35L5.41 20z\"/>\n",
              "  </svg>\n",
              "      </button>\n",
              "      \n",
              "  <style>\n",
              "    .colab-df-container {\n",
              "      display:flex;\n",
              "      flex-wrap:wrap;\n",
              "      gap: 12px;\n",
              "    }\n",
              "\n",
              "    .colab-df-convert {\n",
              "      background-color: #E8F0FE;\n",
              "      border: none;\n",
              "      border-radius: 50%;\n",
              "      cursor: pointer;\n",
              "      display: none;\n",
              "      fill: #1967D2;\n",
              "      height: 32px;\n",
              "      padding: 0 0 0 0;\n",
              "      width: 32px;\n",
              "    }\n",
              "\n",
              "    .colab-df-convert:hover {\n",
              "      background-color: #E2EBFA;\n",
              "      box-shadow: 0px 1px 2px rgba(60, 64, 67, 0.3), 0px 1px 3px 1px rgba(60, 64, 67, 0.15);\n",
              "      fill: #174EA6;\n",
              "    }\n",
              "\n",
              "    [theme=dark] .colab-df-convert {\n",
              "      background-color: #3B4455;\n",
              "      fill: #D2E3FC;\n",
              "    }\n",
              "\n",
              "    [theme=dark] .colab-df-convert:hover {\n",
              "      background-color: #434B5C;\n",
              "      box-shadow: 0px 1px 3px 1px rgba(0, 0, 0, 0.15);\n",
              "      filter: drop-shadow(0px 1px 2px rgba(0, 0, 0, 0.3));\n",
              "      fill: #FFFFFF;\n",
              "    }\n",
              "  </style>\n",
              "\n",
              "      <script>\n",
              "        const buttonEl =\n",
              "          document.querySelector('#df-11018ab6-993e-49e0-8a22-bb29bf9a0985 button.colab-df-convert');\n",
              "        buttonEl.style.display =\n",
              "          google.colab.kernel.accessAllowed ? 'block' : 'none';\n",
              "\n",
              "        async function convertToInteractive(key) {\n",
              "          const element = document.querySelector('#df-11018ab6-993e-49e0-8a22-bb29bf9a0985');\n",
              "          const dataTable =\n",
              "            await google.colab.kernel.invokeFunction('convertToInteractive',\n",
              "                                                     [key], {});\n",
              "          if (!dataTable) return;\n",
              "\n",
              "          const docLinkHtml = 'Like what you see? Visit the ' +\n",
              "            '<a target=\"_blank\" href=https://colab.research.google.com/notebooks/data_table.ipynb>data table notebook</a>'\n",
              "            + ' to learn more about interactive tables.';\n",
              "          element.innerHTML = '';\n",
              "          dataTable['output_type'] = 'display_data';\n",
              "          await google.colab.output.renderOutput(dataTable, element);\n",
              "          const docLink = document.createElement('div');\n",
              "          docLink.innerHTML = docLinkHtml;\n",
              "          element.appendChild(docLink);\n",
              "        }\n",
              "      </script>\n",
              "    </div>\n",
              "  </div>\n",
              "  "
            ]
          },
          "metadata": {},
          "execution_count": 247
        }
      ]
    },
    {
      "cell_type": "markdown",
      "source": [
        "### FFT로 변환하고 차원축소"
      ],
      "metadata": {
        "id": "A2Pdcdk9QWR3"
      }
    },
    {
      "cell_type": "markdown",
      "source": [
        "c1"
      ],
      "metadata": {
        "id": "3B8fWIIY48u_"
      }
    },
    {
      "cell_type": "code",
      "source": [
        "pd.DataFrame(np.sum(np.abs(t1N_spec_c1),axis=0))"
      ],
      "metadata": {
        "colab": {
          "base_uri": "https://localhost:8080/",
          "height": 424
        },
        "id": "N2kixn2rwb7v",
        "outputId": "0d79c76d-4cec-4be2-ca45-21a818dba028"
      },
      "execution_count": null,
      "outputs": [
        {
          "output_type": "execute_result",
          "data": {
            "text/plain": [
              "                0\n",
              "0      270.685766\n",
              "1        0.824829\n",
              "2        0.478446\n",
              "3        0.387294\n",
              "4        0.332848\n",
              "...           ...\n",
              "10539    0.346648\n",
              "10540    0.332848\n",
              "10541    0.387294\n",
              "10542    0.478446\n",
              "10543    0.824829\n",
              "\n",
              "[10544 rows x 1 columns]"
            ],
            "text/html": [
              "\n",
              "  <div id=\"df-d74a60fd-055c-441e-8bf8-e49a0513352e\">\n",
              "    <div class=\"colab-df-container\">\n",
              "      <div>\n",
              "<style scoped>\n",
              "    .dataframe tbody tr th:only-of-type {\n",
              "        vertical-align: middle;\n",
              "    }\n",
              "\n",
              "    .dataframe tbody tr th {\n",
              "        vertical-align: top;\n",
              "    }\n",
              "\n",
              "    .dataframe thead th {\n",
              "        text-align: right;\n",
              "    }\n",
              "</style>\n",
              "<table border=\"1\" class=\"dataframe\">\n",
              "  <thead>\n",
              "    <tr style=\"text-align: right;\">\n",
              "      <th></th>\n",
              "      <th>0</th>\n",
              "    </tr>\n",
              "  </thead>\n",
              "  <tbody>\n",
              "    <tr>\n",
              "      <th>0</th>\n",
              "      <td>270.685766</td>\n",
              "    </tr>\n",
              "    <tr>\n",
              "      <th>1</th>\n",
              "      <td>0.824829</td>\n",
              "    </tr>\n",
              "    <tr>\n",
              "      <th>2</th>\n",
              "      <td>0.478446</td>\n",
              "    </tr>\n",
              "    <tr>\n",
              "      <th>3</th>\n",
              "      <td>0.387294</td>\n",
              "    </tr>\n",
              "    <tr>\n",
              "      <th>4</th>\n",
              "      <td>0.332848</td>\n",
              "    </tr>\n",
              "    <tr>\n",
              "      <th>...</th>\n",
              "      <td>...</td>\n",
              "    </tr>\n",
              "    <tr>\n",
              "      <th>10539</th>\n",
              "      <td>0.346648</td>\n",
              "    </tr>\n",
              "    <tr>\n",
              "      <th>10540</th>\n",
              "      <td>0.332848</td>\n",
              "    </tr>\n",
              "    <tr>\n",
              "      <th>10541</th>\n",
              "      <td>0.387294</td>\n",
              "    </tr>\n",
              "    <tr>\n",
              "      <th>10542</th>\n",
              "      <td>0.478446</td>\n",
              "    </tr>\n",
              "    <tr>\n",
              "      <th>10543</th>\n",
              "      <td>0.824829</td>\n",
              "    </tr>\n",
              "  </tbody>\n",
              "</table>\n",
              "<p>10544 rows × 1 columns</p>\n",
              "</div>\n",
              "      <button class=\"colab-df-convert\" onclick=\"convertToInteractive('df-d74a60fd-055c-441e-8bf8-e49a0513352e')\"\n",
              "              title=\"Convert this dataframe to an interactive table.\"\n",
              "              style=\"display:none;\">\n",
              "        \n",
              "  <svg xmlns=\"http://www.w3.org/2000/svg\" height=\"24px\"viewBox=\"0 0 24 24\"\n",
              "       width=\"24px\">\n",
              "    <path d=\"M0 0h24v24H0V0z\" fill=\"none\"/>\n",
              "    <path d=\"M18.56 5.44l.94 2.06.94-2.06 2.06-.94-2.06-.94-.94-2.06-.94 2.06-2.06.94zm-11 1L8.5 8.5l.94-2.06 2.06-.94-2.06-.94L8.5 2.5l-.94 2.06-2.06.94zm10 10l.94 2.06.94-2.06 2.06-.94-2.06-.94-.94-2.06-.94 2.06-2.06.94z\"/><path d=\"M17.41 7.96l-1.37-1.37c-.4-.4-.92-.59-1.43-.59-.52 0-1.04.2-1.43.59L10.3 9.45l-7.72 7.72c-.78.78-.78 2.05 0 2.83L4 21.41c.39.39.9.59 1.41.59.51 0 1.02-.2 1.41-.59l7.78-7.78 2.81-2.81c.8-.78.8-2.07 0-2.86zM5.41 20L4 18.59l7.72-7.72 1.47 1.35L5.41 20z\"/>\n",
              "  </svg>\n",
              "      </button>\n",
              "      \n",
              "  <style>\n",
              "    .colab-df-container {\n",
              "      display:flex;\n",
              "      flex-wrap:wrap;\n",
              "      gap: 12px;\n",
              "    }\n",
              "\n",
              "    .colab-df-convert {\n",
              "      background-color: #E8F0FE;\n",
              "      border: none;\n",
              "      border-radius: 50%;\n",
              "      cursor: pointer;\n",
              "      display: none;\n",
              "      fill: #1967D2;\n",
              "      height: 32px;\n",
              "      padding: 0 0 0 0;\n",
              "      width: 32px;\n",
              "    }\n",
              "\n",
              "    .colab-df-convert:hover {\n",
              "      background-color: #E2EBFA;\n",
              "      box-shadow: 0px 1px 2px rgba(60, 64, 67, 0.3), 0px 1px 3px 1px rgba(60, 64, 67, 0.15);\n",
              "      fill: #174EA6;\n",
              "    }\n",
              "\n",
              "    [theme=dark] .colab-df-convert {\n",
              "      background-color: #3B4455;\n",
              "      fill: #D2E3FC;\n",
              "    }\n",
              "\n",
              "    [theme=dark] .colab-df-convert:hover {\n",
              "      background-color: #434B5C;\n",
              "      box-shadow: 0px 1px 3px 1px rgba(0, 0, 0, 0.15);\n",
              "      filter: drop-shadow(0px 1px 2px rgba(0, 0, 0, 0.3));\n",
              "      fill: #FFFFFF;\n",
              "    }\n",
              "  </style>\n",
              "\n",
              "      <script>\n",
              "        const buttonEl =\n",
              "          document.querySelector('#df-d74a60fd-055c-441e-8bf8-e49a0513352e button.colab-df-convert');\n",
              "        buttonEl.style.display =\n",
              "          google.colab.kernel.accessAllowed ? 'block' : 'none';\n",
              "\n",
              "        async function convertToInteractive(key) {\n",
              "          const element = document.querySelector('#df-d74a60fd-055c-441e-8bf8-e49a0513352e');\n",
              "          const dataTable =\n",
              "            await google.colab.kernel.invokeFunction('convertToInteractive',\n",
              "                                                     [key], {});\n",
              "          if (!dataTable) return;\n",
              "\n",
              "          const docLinkHtml = 'Like what you see? Visit the ' +\n",
              "            '<a target=\"_blank\" href=https://colab.research.google.com/notebooks/data_table.ipynb>data table notebook</a>'\n",
              "            + ' to learn more about interactive tables.';\n",
              "          element.innerHTML = '';\n",
              "          dataTable['output_type'] = 'display_data';\n",
              "          await google.colab.output.renderOutput(dataTable, element);\n",
              "          const docLink = document.createElement('div');\n",
              "          docLink.innerHTML = docLinkHtml;\n",
              "          element.appendChild(docLink);\n",
              "        }\n",
              "      </script>\n",
              "    </div>\n",
              "  </div>\n",
              "  "
            ]
          },
          "metadata": {},
          "execution_count": 181
        }
      ]
    },
    {
      "cell_type": "code",
      "source": [
        "num = pd.Series(np.sum(np.abs(t1N_spec_c1),axis=0))\n",
        "Q3 = num.quantile(.75)\n",
        "\n",
        "t1N_fs_c1 = np.where(np.sum(np.abs(t1N_spec_c1),axis=0)>Q3)[0]\n",
        "len(t1N_fs_c1)"
      ],
      "metadata": {
        "colab": {
          "base_uri": "https://localhost:8080/"
        },
        "id": "ie-9lG2Y22zr",
        "outputId": "a71d7a23-e150-4380-f887-99bc2d1c9d1d"
      },
      "execution_count": null,
      "outputs": [
        {
          "output_type": "execute_result",
          "data": {
            "text/plain": [
              "2636"
            ]
          },
          "metadata": {},
          "execution_count": 182
        }
      ]
    },
    {
      "cell_type": "code",
      "source": [
        "plt.plot(np.sum(np.abs(t1N_spec_c1),axis=0))"
      ],
      "metadata": {
        "colab": {
          "base_uri": "https://localhost:8080/",
          "height": 283
        },
        "id": "7Gu8Tp_H3D_r",
        "outputId": "17b54dcd-d231-4cd4-bf76-71dc2b8136cd"
      },
      "execution_count": null,
      "outputs": [
        {
          "output_type": "execute_result",
          "data": {
            "text/plain": [
              "[<matplotlib.lines.Line2D at 0x7f0d63d360d0>]"
            ]
          },
          "metadata": {},
          "execution_count": 183
        },
        {
          "output_type": "display_data",
          "data": {
            "text/plain": [
              "<Figure size 432x288 with 1 Axes>"
            ],
            "image/png": "[encoded data removed]"
          },
          "metadata": {
            "needs_background": "light"
          }
        }
      ]
    },
    {
      "cell_type": "code",
      "source": [
        "t1N_fs_c1"
      ],
      "metadata": {
        "colab": {
          "base_uri": "https://localhost:8080/"
        },
        "id": "mWSFMdkDAL0b",
        "outputId": "c6f6c6d2-4fa8-41a5-9d27-e63123537abb"
      },
      "execution_count": null,
      "outputs": [
        {
          "output_type": "execute_result",
          "data": {
            "text/plain": [
              "array([    0,   112,   113, ..., 10430, 10431, 10432])"
            ]
          },
          "metadata": {},
          "execution_count": 184
        }
      ]
    },
    {
      "cell_type": "code",
      "source": [
        "pd.DataFrame(t1N_fs_c1)"
      ],
      "metadata": {
        "colab": {
          "base_uri": "https://localhost:8080/",
          "height": 424
        },
        "id": "yWk0QRskwvGG",
        "outputId": "b4ef9a95-8673-4cc7-fbe0-e6e30ed305e2"
      },
      "execution_count": null,
      "outputs": [
        {
          "output_type": "execute_result",
          "data": {
            "text/plain": [
              "          0\n",
              "0         0\n",
              "1       112\n",
              "2       113\n",
              "3       114\n",
              "4       115\n",
              "...     ...\n",
              "2631  10428\n",
              "2632  10429\n",
              "2633  10430\n",
              "2634  10431\n",
              "2635  10432\n",
              "\n",
              "[2636 rows x 1 columns]"
            ],
            "text/html": [
              "\n",
              "  <div id=\"df-8d735cd1-b948-4254-a612-f6290c88fffd\">\n",
              "    <div class=\"colab-df-container\">\n",
              "      <div>\n",
              "<style scoped>\n",
              "    .dataframe tbody tr th:only-of-type {\n",
              "        vertical-align: middle;\n",
              "    }\n",
              "\n",
              "    .dataframe tbody tr th {\n",
              "        vertical-align: top;\n",
              "    }\n",
              "\n",
              "    .dataframe thead th {\n",
              "        text-align: right;\n",
              "    }\n",
              "</style>\n",
              "<table border=\"1\" class=\"dataframe\">\n",
              "  <thead>\n",
              "    <tr style=\"text-align: right;\">\n",
              "      <th></th>\n",
              "      <th>0</th>\n",
              "    </tr>\n",
              "  </thead>\n",
              "  <tbody>\n",
              "    <tr>\n",
              "      <th>0</th>\n",
              "      <td>0</td>\n",
              "    </tr>\n",
              "    <tr>\n",
              "      <th>1</th>\n",
              "      <td>112</td>\n",
              "    </tr>\n",
              "    <tr>\n",
              "      <th>2</th>\n",
              "      <td>113</td>\n",
              "    </tr>\n",
              "    <tr>\n",
              "      <th>3</th>\n",
              "      <td>114</td>\n",
              "    </tr>\n",
              "    <tr>\n",
              "      <th>4</th>\n",
              "      <td>115</td>\n",
              "    </tr>\n",
              "    <tr>\n",
              "      <th>...</th>\n",
              "      <td>...</td>\n",
              "    </tr>\n",
              "    <tr>\n",
              "      <th>2631</th>\n",
              "      <td>10428</td>\n",
              "    </tr>\n",
              "    <tr>\n",
              "      <th>2632</th>\n",
              "      <td>10429</td>\n",
              "    </tr>\n",
              "    <tr>\n",
              "      <th>2633</th>\n",
              "      <td>10430</td>\n",
              "    </tr>\n",
              "    <tr>\n",
              "      <th>2634</th>\n",
              "      <td>10431</td>\n",
              "    </tr>\n",
              "    <tr>\n",
              "      <th>2635</th>\n",
              "      <td>10432</td>\n",
              "    </tr>\n",
              "  </tbody>\n",
              "</table>\n",
              "<p>2636 rows × 1 columns</p>\n",
              "</div>\n",
              "      <button class=\"colab-df-convert\" onclick=\"convertToInteractive('df-8d735cd1-b948-4254-a612-f6290c88fffd')\"\n",
              "              title=\"Convert this dataframe to an interactive table.\"\n",
              "              style=\"display:none;\">\n",
              "        \n",
              "  <svg xmlns=\"http://www.w3.org/2000/svg\" height=\"24px\"viewBox=\"0 0 24 24\"\n",
              "       width=\"24px\">\n",
              "    <path d=\"M0 0h24v24H0V0z\" fill=\"none\"/>\n",
              "    <path d=\"M18.56 5.44l.94 2.06.94-2.06 2.06-.94-2.06-.94-.94-2.06-.94 2.06-2.06.94zm-11 1L8.5 8.5l.94-2.06 2.06-.94-2.06-.94L8.5 2.5l-.94 2.06-2.06.94zm10 10l.94 2.06.94-2.06 2.06-.94-2.06-.94-.94-2.06-.94 2.06-2.06.94z\"/><path d=\"M17.41 7.96l-1.37-1.37c-.4-.4-.92-.59-1.43-.59-.52 0-1.04.2-1.43.59L10.3 9.45l-7.72 7.72c-.78.78-.78 2.05 0 2.83L4 21.41c.39.39.9.59 1.41.59.51 0 1.02-.2 1.41-.59l7.78-7.78 2.81-2.81c.8-.78.8-2.07 0-2.86zM5.41 20L4 18.59l7.72-7.72 1.47 1.35L5.41 20z\"/>\n",
              "  </svg>\n",
              "      </button>\n",
              "      \n",
              "  <style>\n",
              "    .colab-df-container {\n",
              "      display:flex;\n",
              "      flex-wrap:wrap;\n",
              "      gap: 12px;\n",
              "    }\n",
              "\n",
              "    .colab-df-convert {\n",
              "      background-color: #E8F0FE;\n",
              "      border: none;\n",
              "      border-radius: 50%;\n",
              "      cursor: pointer;\n",
              "      display: none;\n",
              "      fill: #1967D2;\n",
              "      height: 32px;\n",
              "      padding: 0 0 0 0;\n",
              "      width: 32px;\n",
              "    }\n",
              "\n",
              "    .colab-df-convert:hover {\n",
              "      background-color: #E2EBFA;\n",
              "      box-shadow: 0px 1px 2px rgba(60, 64, 67, 0.3), 0px 1px 3px 1px rgba(60, 64, 67, 0.15);\n",
              "      fill: #174EA6;\n",
              "    }\n",
              "\n",
              "    [theme=dark] .colab-df-convert {\n",
              "      background-color: #3B4455;\n",
              "      fill: #D2E3FC;\n",
              "    }\n",
              "\n",
              "    [theme=dark] .colab-df-convert:hover {\n",
              "      background-color: #434B5C;\n",
              "      box-shadow: 0px 1px 3px 1px rgba(0, 0, 0, 0.15);\n",
              "      filter: drop-shadow(0px 1px 2px rgba(0, 0, 0, 0.3));\n",
              "      fill: #FFFFFF;\n",
              "    }\n",
              "  </style>\n",
              "\n",
              "      <script>\n",
              "        const buttonEl =\n",
              "          document.querySelector('#df-8d735cd1-b948-4254-a612-f6290c88fffd button.colab-df-convert');\n",
              "        buttonEl.style.display =\n",
              "          google.colab.kernel.accessAllowed ? 'block' : 'none';\n",
              "\n",
              "        async function convertToInteractive(key) {\n",
              "          const element = document.querySelector('#df-8d735cd1-b948-4254-a612-f6290c88fffd');\n",
              "          const dataTable =\n",
              "            await google.colab.kernel.invokeFunction('convertToInteractive',\n",
              "                                                     [key], {});\n",
              "          if (!dataTable) return;\n",
              "\n",
              "          const docLinkHtml = 'Like what you see? Visit the ' +\n",
              "            '<a target=\"_blank\" href=https://colab.research.google.com/notebooks/data_table.ipynb>data table notebook</a>'\n",
              "            + ' to learn more about interactive tables.';\n",
              "          element.innerHTML = '';\n",
              "          dataTable['output_type'] = 'display_data';\n",
              "          await google.colab.output.renderOutput(dataTable, element);\n",
              "          const docLink = document.createElement('div');\n",
              "          docLink.innerHTML = docLinkHtml;\n",
              "          element.appendChild(docLink);\n",
              "        }\n",
              "      </script>\n",
              "    </div>\n",
              "  </div>\n",
              "  "
            ]
          },
          "metadata": {},
          "execution_count": 185
        }
      ]
    },
    {
      "cell_type": "code",
      "source": [
        "num = pd.Series(np.sum(np.abs(t1B_spec_c1),axis=0))\n",
        "Q3 = num.quantile(.75)\n",
        "\n",
        "t1B_fs_c1 = np.where(np.sum(np.abs(t1B_spec_c1),axis=0)>Q3)[0]\n",
        "len(t1B_fs_c1)"
      ],
      "metadata": {
        "colab": {
          "base_uri": "https://localhost:8080/"
        },
        "id": "KDPXE_cn6A_p",
        "outputId": "cd1108a2-f157-4224-f9ae-bb5e519f187d"
      },
      "execution_count": null,
      "outputs": [
        {
          "output_type": "execute_result",
          "data": {
            "text/plain": [
              "2635"
            ]
          },
          "metadata": {},
          "execution_count": 186
        }
      ]
    },
    {
      "cell_type": "code",
      "source": [
        "plt.plot(np.sum(np.abs(t1B_spec_c1),axis=0))"
      ],
      "metadata": {
        "colab": {
          "base_uri": "https://localhost:8080/",
          "height": 283
        },
        "id": "TsEHrcV57WJW",
        "outputId": "d1a3d8c0-6fbd-4aa3-e9a7-c7f0c5c5841d"
      },
      "execution_count": null,
      "outputs": [
        {
          "output_type": "execute_result",
          "data": {
            "text/plain": [
              "[<matplotlib.lines.Line2D at 0x7f0d61313070>]"
            ]
          },
          "metadata": {},
          "execution_count": 187
        },
        {
          "output_type": "display_data",
          "data": {
            "text/plain": [
              "<Figure size 432x288 with 1 Axes>"
            ],
            "image/png": "[encoded data removed]"
          },
          "metadata": {
            "needs_background": "light"
          }
        }
      ]
    },
    {
      "cell_type": "code",
      "source": [
        "t1B_fs_c1"
      ],
      "metadata": {
        "colab": {
          "base_uri": "https://localhost:8080/"
        },
        "id": "DEaQmPbyngQq",
        "outputId": "6809696a-13be-45bc-e7f6-c3ca291c80d1"
      },
      "execution_count": null,
      "outputs": [
        {
          "output_type": "execute_result",
          "data": {
            "text/plain": [
              "array([    0,   117,   118, ..., 10190, 10426, 10427])"
            ]
          },
          "metadata": {},
          "execution_count": 188
        }
      ]
    },
    {
      "cell_type": "code",
      "source": [
        "num = pd.Series(np.sum(np.abs(t1U_spec_c1),axis=0))\n",
        "t1U_spec_c1_np = np.array(t1U_spec_c1)\n",
        "\n",
        "Q3 = num.quantile(.75)\n",
        "\n",
        "t1U_fs_c1 = np.where(np.sum(np.abs(t1U_spec_c1),axis=0)>Q3)[0]\n",
        "len(t1U_fs_c1)"
      ],
      "metadata": {
        "colab": {
          "base_uri": "https://localhost:8080/"
        },
        "id": "tU3nth6c6A80",
        "outputId": "f865b101-28e9-4fd6-e601-405826281832"
      },
      "execution_count": null,
      "outputs": [
        {
          "output_type": "execute_result",
          "data": {
            "text/plain": [
              "2636"
            ]
          },
          "metadata": {},
          "execution_count": 189
        }
      ]
    },
    {
      "cell_type": "code",
      "source": [
        "plt.plot(np.sum(np.abs(t1U_spec_c1),axis=0))"
      ],
      "metadata": {
        "id": "EK6LjSNx7XDm",
        "colab": {
          "base_uri": "https://localhost:8080/",
          "height": 283
        },
        "outputId": "400ecf5b-833e-4d5d-b664-b97f54029b44"
      },
      "execution_count": null,
      "outputs": [
        {
          "output_type": "execute_result",
          "data": {
            "text/plain": [
              "[<matplotlib.lines.Line2D at 0x7f0d7e9838b0>]"
            ]
          },
          "metadata": {},
          "execution_count": 190
        },
        {
          "output_type": "display_data",
          "data": {
            "text/plain": [
              "<Figure size 432x288 with 1 Axes>"
            ],
            "image/png": "[encoded data removed]"
          },
          "metadata": {
            "needs_background": "light"
          }
        }
      ]
    },
    {
      "cell_type": "code",
      "source": [
        "num = pd.Series(np.sum(np.abs(t1L_spec_c1),axis=0))\n",
        "Q3 = num.quantile(.75)\n",
        "\n",
        "t1L_fs_c1 = np.where(np.sum(np.abs(t1L_spec_c1),axis=0)>Q3)[0]\n",
        "len(t1L_fs_c1)"
      ],
      "metadata": {
        "id": "_MWpMLTs6A5y",
        "colab": {
          "base_uri": "https://localhost:8080/"
        },
        "outputId": "cc5ff3d9-feff-4e08-8caf-ca5042593ef6"
      },
      "execution_count": null,
      "outputs": [
        {
          "output_type": "execute_result",
          "data": {
            "text/plain": [
              "2636"
            ]
          },
          "metadata": {},
          "execution_count": 191
        }
      ]
    },
    {
      "cell_type": "code",
      "source": [
        "plt.plot(np.sum(np.abs(t1L_spec_c1),axis=0))"
      ],
      "metadata": {
        "id": "jJvt6xO27XnV",
        "colab": {
          "base_uri": "https://localhost:8080/",
          "height": 283
        },
        "outputId": "045d84c6-9c91-471a-8206-3f8356cfd849"
      },
      "execution_count": null,
      "outputs": [
        {
          "output_type": "execute_result",
          "data": {
            "text/plain": [
              "[<matplotlib.lines.Line2D at 0x7f0d847be9a0>]"
            ]
          },
          "metadata": {},
          "execution_count": 192
        },
        {
          "output_type": "display_data",
          "data": {
            "text/plain": [
              "<Figure size 432x288 with 1 Axes>"
            ],
            "image/png": "[encoded data removed]"
          },
          "metadata": {
            "needs_background": "light"
          }
        }
      ]
    },
    {
      "cell_type": "code",
      "source": [
        "num = pd.Series(np.sum(np.abs(t1H_spec_c1),axis=0))\n",
        "Q3 = num.quantile(.75)\n",
        "\n",
        "t1H_fs_c1 = np.where(np.sum(np.abs(t1H_spec_c1),axis=0)>Q3)[0]\n",
        "len(t1H_fs_c1)"
      ],
      "metadata": {
        "id": "Ghlufw746A2r",
        "colab": {
          "base_uri": "https://localhost:8080/"
        },
        "outputId": "094c99d4-1d56-4016-c162-daa4d50ca38d"
      },
      "execution_count": null,
      "outputs": [
        {
          "output_type": "execute_result",
          "data": {
            "text/plain": [
              "2636"
            ]
          },
          "metadata": {},
          "execution_count": 193
        }
      ]
    },
    {
      "cell_type": "code",
      "source": [
        "plt.plot(np.sum(np.abs(t1H_spec_c1),axis=0))"
      ],
      "metadata": {
        "id": "62OoHwHT7YRX",
        "colab": {
          "base_uri": "https://localhost:8080/",
          "height": 283
        },
        "outputId": "d9b703f0-7ea9-4cd0-9605-025cb9ef4c60"
      },
      "execution_count": null,
      "outputs": [
        {
          "output_type": "execute_result",
          "data": {
            "text/plain": [
              "[<matplotlib.lines.Line2D at 0x7f0d62de61c0>]"
            ]
          },
          "metadata": {},
          "execution_count": 194
        },
        {
          "output_type": "display_data",
          "data": {
            "text/plain": [
              "<Figure size 432x288 with 1 Axes>"
            ],
            "image/png": "[encoded data removed]"
          },
          "metadata": {
            "needs_background": "light"
          }
        }
      ]
    },
    {
      "cell_type": "markdown",
      "source": [
        "c2"
      ],
      "metadata": {
        "id": "ji10TwCe2yP8"
      }
    },
    {
      "cell_type": "markdown",
      "source": [
        "위에서 중요한 변수가 나옴 아래 대략적인 값보다 크게 설정후 중요한 Frequency 대역 추려서 차원 축소하고 그 값을 모델에 학습시키기"
      ],
      "metadata": {
        "id": "LeMbBQ67Pe38"
      }
    },
    {
      "cell_type": "code",
      "source": [
        "num = pd.Series(np.sum(np.abs(t1N_spec_c2),axis=0))\n",
        "Q3 = num.quantile(.75)\n",
        "\n",
        "t1N_fs_c2 = np.where(np.sum(np.abs(t1N_spec_c2),axis=0)>Q3)[0]\n",
        "len(t1N_fs_c2)"
      ],
      "metadata": {
        "colab": {
          "base_uri": "https://localhost:8080/"
        },
        "id": "tkppmkRqDVap",
        "outputId": "12081e4f-51d1-4566-bf07-4e3ec1181d9c"
      },
      "execution_count": null,
      "outputs": [
        {
          "output_type": "execute_result",
          "data": {
            "text/plain": [
              "2635"
            ]
          },
          "metadata": {},
          "execution_count": 195
        }
      ]
    },
    {
      "cell_type": "code",
      "source": [
        "plt.plot(np.sum(np.abs(t1N_spec_c2),axis=0))"
      ],
      "metadata": {
        "colab": {
          "base_uri": "https://localhost:8080/",
          "height": 283
        },
        "id": "7OK1ACdLDVfU",
        "outputId": "d79abcb1-2713-4992-8cf3-4277db38ed8b"
      },
      "execution_count": null,
      "outputs": [
        {
          "output_type": "execute_result",
          "data": {
            "text/plain": [
              "[<matplotlib.lines.Line2D at 0x7f0d7e735070>]"
            ]
          },
          "metadata": {},
          "execution_count": 196
        },
        {
          "output_type": "display_data",
          "data": {
            "text/plain": [
              "<Figure size 432x288 with 1 Axes>"
            ],
            "image/png": "[encoded data removed]"
          },
          "metadata": {
            "needs_background": "light"
          }
        }
      ]
    },
    {
      "cell_type": "code",
      "source": [
        "num = pd.Series(np.sum(np.abs(t1B_spec_c2),axis=0))\n",
        "Q3 = num.quantile(.75)\n",
        "\n",
        "t1B_fs_c2 = np.where(np.sum(np.abs(t1B_spec_c2),axis=0)>Q3)[0]\n",
        "len(t1B_fs_c2)"
      ],
      "metadata": {
        "colab": {
          "base_uri": "https://localhost:8080/"
        },
        "id": "rtZ-CcFQO7wU",
        "outputId": "d634d6c2-fe80-4f03-a250-4a9fd0e23550"
      },
      "execution_count": null,
      "outputs": [
        {
          "output_type": "execute_result",
          "data": {
            "text/plain": [
              "2636"
            ]
          },
          "metadata": {},
          "execution_count": 197
        }
      ]
    },
    {
      "cell_type": "code",
      "source": [
        "num = pd.Series(np.sum(np.abs(t1U_spec_c2),axis=0))\n",
        "Q3 = num.quantile(.75)\n",
        "\n",
        "t1U_fs_c2 = np.where(np.sum(np.abs(t1U_spec_c2),axis=0)>Q3)[0]\n",
        "len(t1U_fs_c2)"
      ],
      "metadata": {
        "id": "OBi6gqIaQna0",
        "colab": {
          "base_uri": "https://localhost:8080/"
        },
        "outputId": "f4153151-f6c9-4705-cb3a-5ac9d21ff199"
      },
      "execution_count": null,
      "outputs": [
        {
          "output_type": "execute_result",
          "data": {
            "text/plain": [
              "2635"
            ]
          },
          "metadata": {},
          "execution_count": 198
        }
      ]
    },
    {
      "cell_type": "code",
      "source": [
        "num = pd.Series(np.sum(np.abs(t1L_spec_c2),axis=0))\n",
        "Q3 = num.quantile(.75)\n",
        "\n",
        "t1L_fs_c2 = np.where(np.sum(np.abs(t1L_spec_c2),axis=0)>Q3)[0]\n",
        "len(t1L_fs_c2)"
      ],
      "metadata": {
        "colab": {
          "base_uri": "https://localhost:8080/"
        },
        "id": "sndSy7Ov0M8Z",
        "outputId": "7bdd0f00-f0b8-43be-abc4-be6efbe6699f"
      },
      "execution_count": null,
      "outputs": [
        {
          "output_type": "execute_result",
          "data": {
            "text/plain": [
              "2636"
            ]
          },
          "metadata": {},
          "execution_count": 199
        }
      ]
    },
    {
      "cell_type": "code",
      "source": [
        "num = pd.Series(np.sum(np.abs(t1H_spec_c2),axis=0))\n",
        "Q3 = num.quantile(.75)\n",
        "\n",
        "t1H_fs_c2 = np.where(np.sum(np.abs(t1H_spec_c2),axis=0)>Q3)[0]\n",
        "len(t1H_fs_c2)"
      ],
      "metadata": {
        "colab": {
          "base_uri": "https://localhost:8080/"
        },
        "id": "OJWNP5vs0Myr",
        "outputId": "896637ee-6b56-4221-acfd-651dc4b4d5bd"
      },
      "execution_count": null,
      "outputs": [
        {
          "output_type": "execute_result",
          "data": {
            "text/plain": [
              "2636"
            ]
          },
          "metadata": {},
          "execution_count": 200
        }
      ]
    },
    {
      "cell_type": "code",
      "source": [],
      "metadata": {
        "id": "3PbSNoBFiji1"
      },
      "execution_count": null,
      "outputs": []
    },
    {
      "cell_type": "markdown",
      "source": [
        "## Feature Selection"
      ],
      "metadata": {
        "id": "4HjO5iW3zfCm"
      }
    },
    {
      "cell_type": "markdown",
      "source": [
        "### c1"
      ],
      "metadata": {
        "id": "8iDAb5V0FQaU"
      }
    },
    {
      "cell_type": "code",
      "source": [
        "df_N_c1 = pd.Series(t1N_fs_c1, name = 'Normal_c1')"
      ],
      "metadata": {
        "id": "KKGaVamy0Mcg"
      },
      "execution_count": null,
      "outputs": []
    },
    {
      "cell_type": "code",
      "source": [
        "df_B_c1 = pd.Series(t1B_fs_c1, name = 'Bearing_c1')"
      ],
      "metadata": {
        "id": "27KAPnbb2_yJ"
      },
      "execution_count": null,
      "outputs": []
    },
    {
      "cell_type": "code",
      "source": [
        "df_U_c1 = pd.Series(t1U_fs_c1, name = 'Unbalance_c1')"
      ],
      "metadata": {
        "id": "TPR17G_i2_vm"
      },
      "execution_count": null,
      "outputs": []
    },
    {
      "cell_type": "code",
      "source": [
        "df_L_c1 = pd.Series(t1L_fs_c1, name = 'Looseness_c1')"
      ],
      "metadata": {
        "id": "V-iNAyMp2_tG"
      },
      "execution_count": null,
      "outputs": []
    },
    {
      "cell_type": "code",
      "source": [
        "df_H_c1 = pd.Series(t1H_fs_c1, name = 'High_c1')"
      ],
      "metadata": {
        "id": "IFfVv9yf2_qa"
      },
      "execution_count": null,
      "outputs": []
    },
    {
      "cell_type": "code",
      "source": [
        "# 열에 대하여 데이터 병합 -> \"ignore_index = True\"로 인덱스값 나열\n",
        "df_merge_index_c1 = pd.concat([df_N_c1, df_B_c1, df_U_c1, df_L_c1, df_H_c1],axis = 0, ignore_index=True)\n",
        "# 내림차순으로 정렬\n",
        "df_merge_index_c1.sort_values(inplace=True)\n",
        "# 중복값 삭제\n",
        "df_merge_index_c1.drop_duplicates(inplace=True)\n",
        "# 인덱스값 다시 초기화\n",
        "df_merge_index_c1.reset_index(drop=True, inplace=True)"
      ],
      "metadata": {
        "id": "8YPTvzDc2_n5"
      },
      "execution_count": null,
      "outputs": []
    },
    {
      "cell_type": "code",
      "source": [
        "df_merge_index_c1"
      ],
      "metadata": {
        "colab": {
          "base_uri": "https://localhost:8080/"
        },
        "id": "L9sx7JSE2_lZ",
        "outputId": "377fb75c-340f-4498-a752-784bdaa32c0e"
      },
      "execution_count": null,
      "outputs": [
        {
          "output_type": "execute_result",
          "data": {
            "text/plain": [
              "0           0\n",
              "1          55\n",
              "2          56\n",
              "3          57\n",
              "4          58\n",
              "        ...  \n",
              "4555    10485\n",
              "4556    10486\n",
              "4557    10487\n",
              "4558    10488\n",
              "4559    10489\n",
              "Length: 4560, dtype: int64"
            ]
          },
          "metadata": {},
          "execution_count": 207
        }
      ]
    },
    {
      "cell_type": "code",
      "source": [
        "df_N_c1_v1 = pd.DataFrame(np.sum(np.abs(t1N_spec_c1),axis=0))\n",
        "df_N_c1_v1 = df_N_c1_v1.loc[df_merge_index_c1,:]"
      ],
      "metadata": {
        "id": "Sd-qPFzpBsd1"
      },
      "execution_count": null,
      "outputs": []
    },
    {
      "cell_type": "code",
      "source": [
        "df_B_c1_v3 = pd.DataFrame(np.sum(np.abs(t1B_spec_c1),axis=0))\n",
        "df_B_c1_v3 = df_B_c1_v3.loc[df_merge_index_c1,:]"
      ],
      "metadata": {
        "id": "fAneHLjwB3Fj"
      },
      "execution_count": null,
      "outputs": []
    },
    {
      "cell_type": "code",
      "source": [
        "df_U_c1_v5 = pd.DataFrame(np.sum(np.abs(t1U_spec_c1),axis=0))\n",
        "df_U_c1_v5 = df_U_c1_v5.loc[df_merge_index_c1,:]"
      ],
      "metadata": {
        "id": "7md96NOkB_kA"
      },
      "execution_count": null,
      "outputs": []
    },
    {
      "cell_type": "code",
      "source": [
        "df_L_c1_v7 = pd.DataFrame(np.sum(np.abs(t1L_spec_c1),axis=0))\n",
        "df_L_c1_v7 = df_L_c1_v7.loc[df_merge_index_c1,:]"
      ],
      "metadata": {
        "id": "tknTURoUEewm"
      },
      "execution_count": null,
      "outputs": []
    },
    {
      "cell_type": "code",
      "source": [
        "df_H_c1_v9 = pd.DataFrame(np.sum(np.abs(t1H_spec_c1),axis=0))\n",
        "df_H_c1_v9 = df_H_c1_v9.loc[df_merge_index_c1,:]"
      ],
      "metadata": {
        "id": "c4RD8lG5EelQ"
      },
      "execution_count": null,
      "outputs": []
    },
    {
      "cell_type": "code",
      "source": [
        "# 데이터프레임 열방향으로 병합\n",
        "df_merge_all_c1 = pd.concat([df_N_c1_v1, df_B_c1_v3, df_U_c1_v5, df_L_c1_v7, df_H_c1_v9],axis=1)\n",
        "# 컬럼명 변경\n",
        "df_merge_all_c1.columns = ['Normal_c1', 'Bearing_c1', 'Unbalance_c1', 'Looseness_c1', 'High_c1']\n",
        "df_merge_all_c1"
      ],
      "metadata": {
        "colab": {
          "base_uri": "https://localhost:8080/",
          "height": 424
        },
        "id": "q0H8gRIFHigH",
        "outputId": "21894389-4de1-4d03-a612-783986b3dba6"
      },
      "execution_count": null,
      "outputs": [
        {
          "output_type": "execute_result",
          "data": {
            "text/plain": [
              "        Normal_c1  Bearing_c1  Unbalance_c1  Looseness_c1     High_c1\n",
              "0      270.685766  234.113303    431.220619    213.847020  113.049922\n",
              "55       0.373712    2.985539      5.938353      0.400872    0.238509\n",
              "56       1.206297    3.053061      7.614432      0.476091    0.262487\n",
              "57       0.640133    2.980219     10.323287      0.536636    0.272656\n",
              "58       0.888785    3.431456     16.552953      0.681892    0.329408\n",
              "...           ...         ...           ...           ...         ...\n",
              "10485    2.744004    5.023121     45.301619      1.622700    0.914082\n",
              "10486    0.888785    3.431456     16.552953      0.681892    0.329408\n",
              "10487    0.640133    2.980219     10.323287      0.536636    0.272656\n",
              "10488    1.206297    3.053061      7.614432      0.476091    0.262487\n",
              "10489    0.373712    2.985539      5.938353      0.400872    0.238509\n",
              "\n",
              "[4560 rows x 5 columns]"
            ],
            "text/html": [
              "\n",
              "  <div id=\"df-2a9c52c8-47c0-4bf2-89b0-bd5f6aad977d\">\n",
              "    <div class=\"colab-df-container\">\n",
              "      <div>\n",
              "<style scoped>\n",
              "    .dataframe tbody tr th:only-of-type {\n",
              "        vertical-align: middle;\n",
              "    }\n",
              "\n",
              "    .dataframe tbody tr th {\n",
              "        vertical-align: top;\n",
              "    }\n",
              "\n",
              "    .dataframe thead th {\n",
              "        text-align: right;\n",
              "    }\n",
              "</style>\n",
              "<table border=\"1\" class=\"dataframe\">\n",
              "  <thead>\n",
              "    <tr style=\"text-align: right;\">\n",
              "      <th></th>\n",
              "      <th>Normal_c1</th>\n",
              "      <th>Bearing_c1</th>\n",
              "      <th>Unbalance_c1</th>\n",
              "      <th>Looseness_c1</th>\n",
              "      <th>High_c1</th>\n",
              "    </tr>\n",
              "  </thead>\n",
              "  <tbody>\n",
              "    <tr>\n",
              "      <th>0</th>\n",
              "      <td>270.685766</td>\n",
              "      <td>234.113303</td>\n",
              "      <td>431.220619</td>\n",
              "      <td>213.847020</td>\n",
              "      <td>113.049922</td>\n",
              "    </tr>\n",
              "    <tr>\n",
              "      <th>55</th>\n",
              "      <td>0.373712</td>\n",
              "      <td>2.985539</td>\n",
              "      <td>5.938353</td>\n",
              "      <td>0.400872</td>\n",
              "      <td>0.238509</td>\n",
              "    </tr>\n",
              "    <tr>\n",
              "      <th>56</th>\n",
              "      <td>1.206297</td>\n",
              "      <td>3.053061</td>\n",
              "      <td>7.614432</td>\n",
              "      <td>0.476091</td>\n",
              "      <td>0.262487</td>\n",
              "    </tr>\n",
              "    <tr>\n",
              "      <th>57</th>\n",
              "      <td>0.640133</td>\n",
              "      <td>2.980219</td>\n",
              "      <td>10.323287</td>\n",
              "      <td>0.536636</td>\n",
              "      <td>0.272656</td>\n",
              "    </tr>\n",
              "    <tr>\n",
              "      <th>58</th>\n",
              "      <td>0.888785</td>\n",
              "      <td>3.431456</td>\n",
              "      <td>16.552953</td>\n",
              "      <td>0.681892</td>\n",
              "      <td>0.329408</td>\n",
              "    </tr>\n",
              "    <tr>\n",
              "      <th>...</th>\n",
              "      <td>...</td>\n",
              "      <td>...</td>\n",
              "      <td>...</td>\n",
              "      <td>...</td>\n",
              "      <td>...</td>\n",
              "    </tr>\n",
              "    <tr>\n",
              "      <th>10485</th>\n",
              "      <td>2.744004</td>\n",
              "      <td>5.023121</td>\n",
              "      <td>45.301619</td>\n",
              "      <td>1.622700</td>\n",
              "      <td>0.914082</td>\n",
              "    </tr>\n",
              "    <tr>\n",
              "      <th>10486</th>\n",
              "      <td>0.888785</td>\n",
              "      <td>3.431456</td>\n",
              "      <td>16.552953</td>\n",
              "      <td>0.681892</td>\n",
              "      <td>0.329408</td>\n",
              "    </tr>\n",
              "    <tr>\n",
              "      <th>10487</th>\n",
              "      <td>0.640133</td>\n",
              "      <td>2.980219</td>\n",
              "      <td>10.323287</td>\n",
              "      <td>0.536636</td>\n",
              "      <td>0.272656</td>\n",
              "    </tr>\n",
              "    <tr>\n",
              "      <th>10488</th>\n",
              "      <td>1.206297</td>\n",
              "      <td>3.053061</td>\n",
              "      <td>7.614432</td>\n",
              "      <td>0.476091</td>\n",
              "      <td>0.262487</td>\n",
              "    </tr>\n",
              "    <tr>\n",
              "      <th>10489</th>\n",
              "      <td>0.373712</td>\n",
              "      <td>2.985539</td>\n",
              "      <td>5.938353</td>\n",
              "      <td>0.400872</td>\n",
              "      <td>0.238509</td>\n",
              "    </tr>\n",
              "  </tbody>\n",
              "</table>\n",
              "<p>4560 rows × 5 columns</p>\n",
              "</div>\n",
              "      <button class=\"colab-df-convert\" onclick=\"convertToInteractive('df-2a9c52c8-47c0-4bf2-89b0-bd5f6aad977d')\"\n",
              "              title=\"Convert this dataframe to an interactive table.\"\n",
              "              style=\"display:none;\">\n",
              "        \n",
              "  <svg xmlns=\"http://www.w3.org/2000/svg\" height=\"24px\"viewBox=\"0 0 24 24\"\n",
              "       width=\"24px\">\n",
              "    <path d=\"M0 0h24v24H0V0z\" fill=\"none\"/>\n",
              "    <path d=\"M18.56 5.44l.94 2.06.94-2.06 2.06-.94-2.06-.94-.94-2.06-.94 2.06-2.06.94zm-11 1L8.5 8.5l.94-2.06 2.06-.94-2.06-.94L8.5 2.5l-.94 2.06-2.06.94zm10 10l.94 2.06.94-2.06 2.06-.94-2.06-.94-.94-2.06-.94 2.06-2.06.94z\"/><path d=\"M17.41 7.96l-1.37-1.37c-.4-.4-.92-.59-1.43-.59-.52 0-1.04.2-1.43.59L10.3 9.45l-7.72 7.72c-.78.78-.78 2.05 0 2.83L4 21.41c.39.39.9.59 1.41.59.51 0 1.02-.2 1.41-.59l7.78-7.78 2.81-2.81c.8-.78.8-2.07 0-2.86zM5.41 20L4 18.59l7.72-7.72 1.47 1.35L5.41 20z\"/>\n",
              "  </svg>\n",
              "      </button>\n",
              "      \n",
              "  <style>\n",
              "    .colab-df-container {\n",
              "      display:flex;\n",
              "      flex-wrap:wrap;\n",
              "      gap: 12px;\n",
              "    }\n",
              "\n",
              "    .colab-df-convert {\n",
              "      background-color: #E8F0FE;\n",
              "      border: none;\n",
              "      border-radius: 50%;\n",
              "      cursor: pointer;\n",
              "      display: none;\n",
              "      fill: #1967D2;\n",
              "      height: 32px;\n",
              "      padding: 0 0 0 0;\n",
              "      width: 32px;\n",
              "    }\n",
              "\n",
              "    .colab-df-convert:hover {\n",
              "      background-color: #E2EBFA;\n",
              "      box-shadow: 0px 1px 2px rgba(60, 64, 67, 0.3), 0px 1px 3px 1px rgba(60, 64, 67, 0.15);\n",
              "      fill: #174EA6;\n",
              "    }\n",
              "\n",
              "    [theme=dark] .colab-df-convert {\n",
              "      background-color: #3B4455;\n",
              "      fill: #D2E3FC;\n",
              "    }\n",
              "\n",
              "    [theme=dark] .colab-df-convert:hover {\n",
              "      background-color: #434B5C;\n",
              "      box-shadow: 0px 1px 3px 1px rgba(0, 0, 0, 0.15);\n",
              "      filter: drop-shadow(0px 1px 2px rgba(0, 0, 0, 0.3));\n",
              "      fill: #FFFFFF;\n",
              "    }\n",
              "  </style>\n",
              "\n",
              "      <script>\n",
              "        const buttonEl =\n",
              "          document.querySelector('#df-2a9c52c8-47c0-4bf2-89b0-bd5f6aad977d button.colab-df-convert');\n",
              "        buttonEl.style.display =\n",
              "          google.colab.kernel.accessAllowed ? 'block' : 'none';\n",
              "\n",
              "        async function convertToInteractive(key) {\n",
              "          const element = document.querySelector('#df-2a9c52c8-47c0-4bf2-89b0-bd5f6aad977d');\n",
              "          const dataTable =\n",
              "            await google.colab.kernel.invokeFunction('convertToInteractive',\n",
              "                                                     [key], {});\n",
              "          if (!dataTable) return;\n",
              "\n",
              "          const docLinkHtml = 'Like what you see? Visit the ' +\n",
              "            '<a target=\"_blank\" href=https://colab.research.google.com/notebooks/data_table.ipynb>data table notebook</a>'\n",
              "            + ' to learn more about interactive tables.';\n",
              "          element.innerHTML = '';\n",
              "          dataTable['output_type'] = 'display_data';\n",
              "          await google.colab.output.renderOutput(dataTable, element);\n",
              "          const docLink = document.createElement('div');\n",
              "          docLink.innerHTML = docLinkHtml;\n",
              "          element.appendChild(docLink);\n",
              "        }\n",
              "      </script>\n",
              "    </div>\n",
              "  </div>\n",
              "  "
            ]
          },
          "metadata": {},
          "execution_count": 213
        }
      ]
    },
    {
      "cell_type": "markdown",
      "source": [
        "### c2"
      ],
      "metadata": {
        "id": "acvqz1q9FUaZ"
      }
    },
    {
      "cell_type": "code",
      "source": [
        "df_N_c2 = pd.Series(t1N_fs_c2, name = 'Normal_c2')"
      ],
      "metadata": {
        "id": "dltDhk7cFfjn"
      },
      "execution_count": null,
      "outputs": []
    },
    {
      "cell_type": "code",
      "source": [
        "df_B_c2 = pd.Series(t1B_fs_c2, name = 'Bearing_c2')"
      ],
      "metadata": {
        "id": "9MmNP35VFfjo"
      },
      "execution_count": null,
      "outputs": []
    },
    {
      "cell_type": "code",
      "source": [
        "df_U_c2 = pd.Series(t1U_fs_c2, name = 'Unbalance_c2')"
      ],
      "metadata": {
        "id": "FGlSPHPVFfjo"
      },
      "execution_count": null,
      "outputs": []
    },
    {
      "cell_type": "code",
      "source": [
        "df_L_c2 = pd.Series(t1L_fs_c2, name = 'Looseness_c2')"
      ],
      "metadata": {
        "id": "mmorqZ3xFfjo"
      },
      "execution_count": null,
      "outputs": []
    },
    {
      "cell_type": "code",
      "source": [
        "df_H_c2 = pd.Series(t1H_fs_c2, name = 'High_c2')"
      ],
      "metadata": {
        "id": "S-jdU6CCFfjo"
      },
      "execution_count": null,
      "outputs": []
    },
    {
      "cell_type": "code",
      "source": [
        "# 열에 대하여 데이터 병합 -> \"ignore_index = True\"로 인덱스값 나열\n",
        "df_merge_index_c2 = pd.concat([df_N_c2, df_B_c2, df_U_c2, df_L_c2, df_H_c2],axis = 0, ignore_index=True)\n",
        "# 내림차순으로 정렬\n",
        "df_merge_index_c2.sort_values(inplace=True)\n",
        "# 중복값 삭제\n",
        "df_merge_index_c2.drop_duplicates(inplace=True)\n",
        "# 인덱스값 다시 초기화\n",
        "df_merge_index_c2.reset_index(drop=True, inplace=True)"
      ],
      "metadata": {
        "id": "mrUw_A80Ffjo"
      },
      "execution_count": null,
      "outputs": []
    },
    {
      "cell_type": "code",
      "source": [
        "df_merge_index_c2"
      ],
      "metadata": {
        "colab": {
          "base_uri": "https://localhost:8080/"
        },
        "outputId": "68410317-70ab-4e34-c787-f1ff67049c3a",
        "id": "6Fxzjsi_Ffjo"
      },
      "execution_count": null,
      "outputs": [
        {
          "output_type": "execute_result",
          "data": {
            "text/plain": [
              "0           0\n",
              "1          59\n",
              "2          60\n",
              "3         116\n",
              "4         338\n",
              "        ...  \n",
              "4153    10190\n",
              "4154    10206\n",
              "4155    10428\n",
              "4156    10484\n",
              "4157    10485\n",
              "Length: 4158, dtype: int64"
            ]
          },
          "metadata": {},
          "execution_count": 220
        }
      ]
    },
    {
      "cell_type": "code",
      "source": [
        "df_N_c2_v2 = pd.DataFrame(np.sum(np.abs(t1N_spec_c2),axis=0))\n",
        "df_N_c2_v2 = df_N_c2_v2.loc[df_merge_index_c2,:]"
      ],
      "metadata": {
        "id": "5a-MxATYFfjo"
      },
      "execution_count": null,
      "outputs": []
    },
    {
      "cell_type": "code",
      "source": [
        "df_B_c2_v4 = pd.DataFrame(np.sum(np.abs(t1B_spec_c2),axis=0))\n",
        "df_B_c2_v4 = df_B_c2_v4.loc[df_merge_index_c2,:]"
      ],
      "metadata": {
        "id": "yhRcPOpWFfjp"
      },
      "execution_count": null,
      "outputs": []
    },
    {
      "cell_type": "code",
      "source": [
        "df_U_c2_v6 = pd.DataFrame(np.sum(np.abs(t1U_spec_c2),axis=0))\n",
        "df_U_c2_v6 = df_U_c2_v6.loc[df_merge_index_c2,:]"
      ],
      "metadata": {
        "id": "djwmw46aFfjp"
      },
      "execution_count": null,
      "outputs": []
    },
    {
      "cell_type": "code",
      "source": [
        "df_L_c2_v8 = pd.DataFrame(np.sum(np.abs(t1L_spec_c2),axis=0))\n",
        "df_L_c2_v8 = df_L_c2_v8.loc[df_merge_index_c2,:]"
      ],
      "metadata": {
        "id": "bhkOEDIyFfjp"
      },
      "execution_count": null,
      "outputs": []
    },
    {
      "cell_type": "code",
      "source": [
        "df_H_c2_v10 = pd.DataFrame(np.sum(np.abs(t1H_spec_c2),axis=0))\n",
        "df_H_c2_v10 = df_H_c2_v10.loc[df_merge_index_c2,:]"
      ],
      "metadata": {
        "id": "_349ajNMFfjp"
      },
      "execution_count": null,
      "outputs": []
    },
    {
      "cell_type": "code",
      "source": [
        "# 데이터프레임 열방향으로 병합\n",
        "df_merge_all_c2 = pd.concat([df_N_c2_v2, df_B_c2_v4, df_U_c2_v6, df_L_c2_v8, df_H_c2_v10],axis=1)\n",
        "# 컬럼명 변경\n",
        "df_merge_all_c2.columns = ['Normal_c2', 'Bearing_c2', 'Unbalance_c2', 'Looseness_c2', 'High_c2']\n",
        "df_merge_all_c2"
      ],
      "metadata": {
        "colab": {
          "base_uri": "https://localhost:8080/",
          "height": 424
        },
        "id": "mGoBAlKcEivL",
        "outputId": "2fb3cb02-4271-4087-cf4f-81a6778d5b01"
      },
      "execution_count": null,
      "outputs": [
        {
          "output_type": "execute_result",
          "data": {
            "text/plain": [
              "        Normal_c2  Bearing_c2  Unbalance_c2  Looseness_c2     High_c2\n",
              "0      787.198461  620.778288   1204.516065    767.157578  384.624745\n",
              "59       6.607232    4.889568     55.085651      5.310355    1.728127\n",
              "60      13.894356    6.722517    127.467830     10.664130    1.725857\n",
              "116     26.023848    8.729847      6.036055      8.516827   22.323153\n",
              "338     10.609249    7.844651     54.944768      1.463937    1.441961\n",
              "...           ...         ...           ...           ...         ...\n",
              "10190    7.083840   29.372036      7.226142      2.525498    1.939307\n",
              "10206   10.609249    7.844651     54.944768      1.463937    1.441961\n",
              "10428   26.023848    8.729847      6.036055      8.516827   22.323153\n",
              "10484   13.894356    6.722517    127.467830     10.664130    1.725857\n",
              "10485    6.607232    4.889568     55.085651      5.310355    1.728127\n",
              "\n",
              "[4158 rows x 5 columns]"
            ],
            "text/html": [
              "\n",
              "  <div id=\"df-b3dab00b-9f01-499a-b6e1-09eea5358eac\">\n",
              "    <div class=\"colab-df-container\">\n",
              "      <div>\n",
              "<style scoped>\n",
              "    .dataframe tbody tr th:only-of-type {\n",
              "        vertical-align: middle;\n",
              "    }\n",
              "\n",
              "    .dataframe tbody tr th {\n",
              "        vertical-align: top;\n",
              "    }\n",
              "\n",
              "    .dataframe thead th {\n",
              "        text-align: right;\n",
              "    }\n",
              "</style>\n",
              "<table border=\"1\" class=\"dataframe\">\n",
              "  <thead>\n",
              "    <tr style=\"text-align: right;\">\n",
              "      <th></th>\n",
              "      <th>Normal_c2</th>\n",
              "      <th>Bearing_c2</th>\n",
              "      <th>Unbalance_c2</th>\n",
              "      <th>Looseness_c2</th>\n",
              "      <th>High_c2</th>\n",
              "    </tr>\n",
              "  </thead>\n",
              "  <tbody>\n",
              "    <tr>\n",
              "      <th>0</th>\n",
              "      <td>787.198461</td>\n",
              "      <td>620.778288</td>\n",
              "      <td>1204.516065</td>\n",
              "      <td>767.157578</td>\n",
              "      <td>384.624745</td>\n",
              "    </tr>\n",
              "    <tr>\n",
              "      <th>59</th>\n",
              "      <td>6.607232</td>\n",
              "      <td>4.889568</td>\n",
              "      <td>55.085651</td>\n",
              "      <td>5.310355</td>\n",
              "      <td>1.728127</td>\n",
              "    </tr>\n",
              "    <tr>\n",
              "      <th>60</th>\n",
              "      <td>13.894356</td>\n",
              "      <td>6.722517</td>\n",
              "      <td>127.467830</td>\n",
              "      <td>10.664130</td>\n",
              "      <td>1.725857</td>\n",
              "    </tr>\n",
              "    <tr>\n",
              "      <th>116</th>\n",
              "      <td>26.023848</td>\n",
              "      <td>8.729847</td>\n",
              "      <td>6.036055</td>\n",
              "      <td>8.516827</td>\n",
              "      <td>22.323153</td>\n",
              "    </tr>\n",
              "    <tr>\n",
              "      <th>338</th>\n",
              "      <td>10.609249</td>\n",
              "      <td>7.844651</td>\n",
              "      <td>54.944768</td>\n",
              "      <td>1.463937</td>\n",
              "      <td>1.441961</td>\n",
              "    </tr>\n",
              "    <tr>\n",
              "      <th>...</th>\n",
              "      <td>...</td>\n",
              "      <td>...</td>\n",
              "      <td>...</td>\n",
              "      <td>...</td>\n",
              "      <td>...</td>\n",
              "    </tr>\n",
              "    <tr>\n",
              "      <th>10190</th>\n",
              "      <td>7.083840</td>\n",
              "      <td>29.372036</td>\n",
              "      <td>7.226142</td>\n",
              "      <td>2.525498</td>\n",
              "      <td>1.939307</td>\n",
              "    </tr>\n",
              "    <tr>\n",
              "      <th>10206</th>\n",
              "      <td>10.609249</td>\n",
              "      <td>7.844651</td>\n",
              "      <td>54.944768</td>\n",
              "      <td>1.463937</td>\n",
              "      <td>1.441961</td>\n",
              "    </tr>\n",
              "    <tr>\n",
              "      <th>10428</th>\n",
              "      <td>26.023848</td>\n",
              "      <td>8.729847</td>\n",
              "      <td>6.036055</td>\n",
              "      <td>8.516827</td>\n",
              "      <td>22.323153</td>\n",
              "    </tr>\n",
              "    <tr>\n",
              "      <th>10484</th>\n",
              "      <td>13.894356</td>\n",
              "      <td>6.722517</td>\n",
              "      <td>127.467830</td>\n",
              "      <td>10.664130</td>\n",
              "      <td>1.725857</td>\n",
              "    </tr>\n",
              "    <tr>\n",
              "      <th>10485</th>\n",
              "      <td>6.607232</td>\n",
              "      <td>4.889568</td>\n",
              "      <td>55.085651</td>\n",
              "      <td>5.310355</td>\n",
              "      <td>1.728127</td>\n",
              "    </tr>\n",
              "  </tbody>\n",
              "</table>\n",
              "<p>4158 rows × 5 columns</p>\n",
              "</div>\n",
              "      <button class=\"colab-df-convert\" onclick=\"convertToInteractive('df-b3dab00b-9f01-499a-b6e1-09eea5358eac')\"\n",
              "              title=\"Convert this dataframe to an interactive table.\"\n",
              "              style=\"display:none;\">\n",
              "        \n",
              "  <svg xmlns=\"http://www.w3.org/2000/svg\" height=\"24px\"viewBox=\"0 0 24 24\"\n",
              "       width=\"24px\">\n",
              "    <path d=\"M0 0h24v24H0V0z\" fill=\"none\"/>\n",
              "    <path d=\"M18.56 5.44l.94 2.06.94-2.06 2.06-.94-2.06-.94-.94-2.06-.94 2.06-2.06.94zm-11 1L8.5 8.5l.94-2.06 2.06-.94-2.06-.94L8.5 2.5l-.94 2.06-2.06.94zm10 10l.94 2.06.94-2.06 2.06-.94-2.06-.94-.94-2.06-.94 2.06-2.06.94z\"/><path d=\"M17.41 7.96l-1.37-1.37c-.4-.4-.92-.59-1.43-.59-.52 0-1.04.2-1.43.59L10.3 9.45l-7.72 7.72c-.78.78-.78 2.05 0 2.83L4 21.41c.39.39.9.59 1.41.59.51 0 1.02-.2 1.41-.59l7.78-7.78 2.81-2.81c.8-.78.8-2.07 0-2.86zM5.41 20L4 18.59l7.72-7.72 1.47 1.35L5.41 20z\"/>\n",
              "  </svg>\n",
              "      </button>\n",
              "      \n",
              "  <style>\n",
              "    .colab-df-container {\n",
              "      display:flex;\n",
              "      flex-wrap:wrap;\n",
              "      gap: 12px;\n",
              "    }\n",
              "\n",
              "    .colab-df-convert {\n",
              "      background-color: #E8F0FE;\n",
              "      border: none;\n",
              "      border-radius: 50%;\n",
              "      cursor: pointer;\n",
              "      display: none;\n",
              "      fill: #1967D2;\n",
              "      height: 32px;\n",
              "      padding: 0 0 0 0;\n",
              "      width: 32px;\n",
              "    }\n",
              "\n",
              "    .colab-df-convert:hover {\n",
              "      background-color: #E2EBFA;\n",
              "      box-shadow: 0px 1px 2px rgba(60, 64, 67, 0.3), 0px 1px 3px 1px rgba(60, 64, 67, 0.15);\n",
              "      fill: #174EA6;\n",
              "    }\n",
              "\n",
              "    [theme=dark] .colab-df-convert {\n",
              "      background-color: #3B4455;\n",
              "      fill: #D2E3FC;\n",
              "    }\n",
              "\n",
              "    [theme=dark] .colab-df-convert:hover {\n",
              "      background-color: #434B5C;\n",
              "      box-shadow: 0px 1px 3px 1px rgba(0, 0, 0, 0.15);\n",
              "      filter: drop-shadow(0px 1px 2px rgba(0, 0, 0, 0.3));\n",
              "      fill: #FFFFFF;\n",
              "    }\n",
              "  </style>\n",
              "\n",
              "      <script>\n",
              "        const buttonEl =\n",
              "          document.querySelector('#df-b3dab00b-9f01-499a-b6e1-09eea5358eac button.colab-df-convert');\n",
              "        buttonEl.style.display =\n",
              "          google.colab.kernel.accessAllowed ? 'block' : 'none';\n",
              "\n",
              "        async function convertToInteractive(key) {\n",
              "          const element = document.querySelector('#df-b3dab00b-9f01-499a-b6e1-09eea5358eac');\n",
              "          const dataTable =\n",
              "            await google.colab.kernel.invokeFunction('convertToInteractive',\n",
              "                                                     [key], {});\n",
              "          if (!dataTable) return;\n",
              "\n",
              "          const docLinkHtml = 'Like what you see? Visit the ' +\n",
              "            '<a target=\"_blank\" href=https://colab.research.google.com/notebooks/data_table.ipynb>data table notebook</a>'\n",
              "            + ' to learn more about interactive tables.';\n",
              "          element.innerHTML = '';\n",
              "          dataTable['output_type'] = 'display_data';\n",
              "          await google.colab.output.renderOutput(dataTable, element);\n",
              "          const docLink = document.createElement('div');\n",
              "          docLink.innerHTML = docLinkHtml;\n",
              "          element.appendChild(docLink);\n",
              "        }\n",
              "      </script>\n",
              "    </div>\n",
              "  </div>\n",
              "  "
            ]
          },
          "metadata": {},
          "execution_count": 226
        }
      ]
    },
    {
      "cell_type": "markdown",
      "source": [
        "### 모델링때 사용할 데이터로 만들기"
      ],
      "metadata": {
        "id": "32yLTvZ_NNTI"
      }
    },
    {
      "cell_type": "code",
      "source": [
        "# 바로 행렬로 볼 수 있음\n",
        "df_merge_all_c1.values"
      ],
      "metadata": {
        "colab": {
          "base_uri": "https://localhost:8080/"
        },
        "id": "I9Plkd0aWiGo",
        "outputId": "3f3700ee-399e-42fd-beef-c6d856aafdfc"
      },
      "execution_count": null,
      "outputs": [
        {
          "output_type": "execute_result",
          "data": {
            "text/plain": [
              "array([[2.70685766e+02, 2.34113303e+02, 4.31220619e+02, 2.13847020e+02,\n",
              "        1.13049922e+02],\n",
              "       [3.73711685e-01, 2.98553918e+00, 5.93835342e+00, 4.00871783e-01,\n",
              "        2.38508954e-01],\n",
              "       [1.20629682e+00, 3.05306070e+00, 7.61443202e+00, 4.76090923e-01,\n",
              "        2.62487341e-01],\n",
              "       ...,\n",
              "       [6.40133370e-01, 2.98021910e+00, 1.03232868e+01, 5.36635565e-01,\n",
              "        2.72655991e-01],\n",
              "       [1.20629682e+00, 3.05306070e+00, 7.61443202e+00, 4.76090923e-01,\n",
              "        2.62487341e-01],\n",
              "       [3.73711685e-01, 2.98553918e+00, 5.93835342e+00, 4.00871783e-01,\n",
              "        2.38508954e-01]])"
            ]
          },
          "metadata": {},
          "execution_count": 227
        }
      ]
    },
    {
      "cell_type": "code",
      "source": [
        "# 라벨값\n",
        "Label_array = np.array([1, 2, 3, 4, 5])\n",
        "\n",
        "# 벡터형태로 c1, c2 클래스별로 같이 병합 -> 보통 모델링할때 벡터값으로 변환하여 예측함\n",
        "array_merge_all = np.vstack([df_merge_all_c1.values,df_merge_all_c2.values])\n",
        "# 벡터에 라벨값 추가\n",
        "array_merge_all = np.vstack([array_merge_all, Label_array])\n",
        "# 행과열 .T로 변환 \n",
        "array_merge_all = array_merge_all.T"
      ],
      "metadata": {
        "id": "cqjgi2b3EiS9"
      },
      "execution_count": null,
      "outputs": []
    },
    {
      "cell_type": "code",
      "source": [
        "# 클래스별로 라벨값 붙여주기 1~5\n",
        "array_merge_all"
      ],
      "metadata": {
        "colab": {
          "base_uri": "https://localhost:8080/"
        },
        "id": "q206PYuQEiPL",
        "outputId": "9bd9a995-1ced-4c9d-eea0-69a6326537fa"
      },
      "execution_count": null,
      "outputs": [
        {
          "output_type": "execute_result",
          "data": {
            "text/plain": [
              "array([[2.70685766e+02, 3.73711685e-01, 1.20629682e+00, ...,\n",
              "        1.38943556e+01, 6.60723235e+00, 1.00000000e+00],\n",
              "       [2.34113303e+02, 2.98553918e+00, 3.05306070e+00, ...,\n",
              "        6.72251713e+00, 4.88956837e+00, 2.00000000e+00],\n",
              "       [4.31220619e+02, 5.93835342e+00, 7.61443202e+00, ...,\n",
              "        1.27467830e+02, 5.50856509e+01, 3.00000000e+00],\n",
              "       [2.13847020e+02, 4.00871783e-01, 4.76090923e-01, ...,\n",
              "        1.06641302e+01, 5.31035455e+00, 4.00000000e+00],\n",
              "       [1.13049922e+02, 2.38508954e-01, 2.62487341e-01, ...,\n",
              "        1.72585717e+00, 1.72812745e+00, 5.00000000e+00]])"
            ]
          },
          "metadata": {},
          "execution_count": 229
        }
      ]
    },
    {
      "cell_type": "markdown",
      "source": [
        "## 학습을 위한 데이터 만들기"
      ],
      "metadata": {
        "id": "yyz6aqW5G9cb"
      }
    },
    {
      "cell_type": "markdown",
      "source": [
        "### 1초 데이터 임의로 int(len(t1N_spec_c1))개 추출\n",
        "- 줄이고 싶으면 len()*0.5 이런식으로 값을 넣어서 축소 시킬 것"
      ],
      "metadata": {
        "id": "iKdGZZFt-Msp"
      }
    },
    {
      "cell_type": "code",
      "source": [
        "print(int(len(t1N_spec_c1)),\n",
        "int(len(t1B_spec_c1)),\n",
        "int(len(t1U_spec_c1)),\n",
        "int(len(t1L_spec_c1)),\n",
        "int(len(t1H_spec_c1)),\n",
        "\"and\",\n",
        "int(len(t1N_spec_c2)),\n",
        "int(len(t1B_spec_c2)),\n",
        "int(len(t1U_spec_c2)),\n",
        "int(len(t1L_spec_c2)),\n",
        "int(len(t1H_spec_c2)))"
      ],
      "metadata": {
        "colab": {
          "base_uri": "https://localhost:8080/"
        },
        "id": "GWn4Chn6rxCf",
        "outputId": "f1584386-80f9-47be-b935-7283cd5a57a8"
      },
      "execution_count": null,
      "outputs": [
        {
          "output_type": "stream",
          "name": "stdout",
          "text": [
            "810 812 1209 809 405 and 790 792 1179 789 395\n"
          ]
        }
      ]
    },
    {
      "cell_type": "code",
      "source": [
        "# 데이터 병합때 열 수가 같아야하므로 데이터가 작은 값으로 랜덤 추출함\n",
        "import random\n",
        "\n",
        "t1N_spec_c1_random = random.sample(t1N_spec_c1, int(len(t1N_spec_c2)))\n",
        "t1B_spec_c1_random = random.sample(t1B_spec_c1, int(len(t1B_spec_c2)))\n",
        "t1U_spec_c1_random = random.sample(t1U_spec_c1, int(len(t1U_spec_c2)))\n",
        "t1L_spec_c1_random = random.sample(t1L_spec_c1, int(len(t1L_spec_c2)))\n",
        "t1H_spec_c1_random = random.sample(t1H_spec_c1, int(len(t1H_spec_c1)))\n",
        "t1N_spec_c2_random = random.sample(t1N_spec_c2, int(len(t1N_spec_c2)))\n",
        "t1B_spec_c2_random = random.sample(t1B_spec_c2, int(len(t1B_spec_c2)))\n",
        "t1U_spec_c2_random = random.sample(t1U_spec_c2, int(len(t1U_spec_c2)))\n",
        "t1L_spec_c2_random = random.sample(t1L_spec_c2, int(len(t1L_spec_c2)))\n",
        "t1H_spec_c2_random = random.sample(t1H_spec_c2, int(len(t1H_spec_c1)))\n",
        "\n",
        "# t1N_spec_c1_random"
      ],
      "metadata": {
        "id": "iJ4SANp85dMq"
      },
      "execution_count": null,
      "outputs": []
    },
    {
      "cell_type": "code",
      "source": [
        "t1N_spec_c1_random.shape"
      ],
      "metadata": {
        "colab": {
          "base_uri": "https://localhost:8080/"
        },
        "id": "VPEIson-uhSL",
        "outputId": "a6a38824-2ba5-457e-dc97-26d6e3834a0c"
      },
      "execution_count": null,
      "outputs": [
        {
          "output_type": "execute_result",
          "data": {
            "text/plain": [
              "(415, 10544)"
            ]
          },
          "metadata": {},
          "execution_count": 117
        }
      ]
    },
    {
      "cell_type": "markdown",
      "source": [
        "### 샘플링 데이터 벡터 형태로 데이터 만들기"
      ],
      "metadata": {
        "id": "yYxyVLoQE5yG"
      }
    },
    {
      "cell_type": "code",
      "source": [
        "t1N_spec_c1_random = np.array(t1N_spec_c1_random)\n",
        "t1B_spec_c1_random = np.array(t1B_spec_c1_random)\n",
        "t1U_spec_c1_random = np.array(t1U_spec_c1_random)\n",
        "t1L_spec_c1_random = np.array(t1L_spec_c1_random)\n",
        "t1H_spec_c1_random = np.array(t1H_spec_c1_random)\n",
        "\n",
        "t1N_spec_c2_random = np.array(t1N_spec_c2_random)\n",
        "t1B_spec_c2_random = np.array(t1B_spec_c2_random)\n",
        "t1U_spec_c2_random = np.array(t1U_spec_c2_random)\n",
        "t1L_spec_c2_random = np.array(t1L_spec_c2_random)\n",
        "t1H_spec_c2_random = np.array(t1H_spec_c2_random)"
      ],
      "metadata": {
        "id": "OtLW9q9XJaRJ"
      },
      "execution_count": null,
      "outputs": []
    },
    {
      "cell_type": "code",
      "source": [
        "df_merge_index_c1.shape"
      ],
      "metadata": {
        "colab": {
          "base_uri": "https://localhost:8080/"
        },
        "id": "s_O_O4GlX4oZ",
        "outputId": "facc938e-38d0-42e5-8688-9a029772c2a5"
      },
      "execution_count": null,
      "outputs": [
        {
          "output_type": "execute_result",
          "data": {
            "text/plain": [
              "(4350,)"
            ]
          },
          "metadata": {},
          "execution_count": 110
        }
      ]
    },
    {
      "cell_type": "code",
      "source": [
        "t1N_spec_c2_random.shape"
      ],
      "metadata": {
        "colab": {
          "base_uri": "https://localhost:8080/"
        },
        "id": "WxICg5zEX8s8",
        "outputId": "814cae45-5297-4e69-9ebe-2095947bbe3e"
      },
      "execution_count": null,
      "outputs": [
        {
          "output_type": "execute_result",
          "data": {
            "text/plain": [
              "(415, 10544)"
            ]
          },
          "metadata": {},
          "execution_count": 111
        }
      ]
    },
    {
      "cell_type": "code",
      "source": [
        "# 미리 뽑아놓은 인덱스 값으로 차원 축소\n",
        "#C1\n",
        "t1N_spec_c1_random_df = pd.DataFrame(t1N_spec_c1_random)\n",
        "t1N_spec_c1_random_df = t1N_spec_c1_random_df.loc[:,df_merge_index_c1]\n",
        "\n",
        "t1B_spec_c1_random_df = pd.DataFrame(t1B_spec_c1_random)\n",
        "t1B_spec_c1_random_df = t1B_spec_c1_random_df.loc[:,df_merge_index_c1]\n",
        "\n",
        "t1U_spec_c1_random_df = pd.DataFrame(t1U_spec_c1_random)\n",
        "t1U_spec_c1_random_df = t1U_spec_c1_random_df.loc[:,df_merge_index_c1]\n",
        "\n",
        "t1L_spec_c1_random_df = pd.DataFrame(t1L_spec_c1_random)\n",
        "t1L_spec_c1_random_df = t1L_spec_c1_random_df.loc[:,df_merge_index_c1]\n",
        "\n",
        "t1H_spec_c1_random_df = pd.DataFrame(t1H_spec_c1_random)\n",
        "t1H_spec_c1_random_df = t1H_spec_c1_random_df.loc[:,df_merge_index_c1]\n",
        "#C2\n",
        "t1N_spec_c2_random_df = pd.DataFrame(t1N_spec_c2_random)\n",
        "t1N_spec_c2_random_df = t1N_spec_c2_random_df.loc[:,df_merge_index_c2]\n",
        "\n",
        "t1B_spec_c2_random_df = pd.DataFrame(t1B_spec_c2_random)\n",
        "t1B_spec_c2_random_df = t1B_spec_c2_random_df.loc[:,df_merge_index_c2]\n",
        "\n",
        "t1U_spec_c2_random_df = pd.DataFrame(t1U_spec_c2_random)\n",
        "t1U_spec_c2_random_df = t1U_spec_c2_random_df.loc[:,df_merge_index_c2]\n",
        "\n",
        "t1L_spec_c2_random_df = pd.DataFrame(t1L_spec_c2_random)\n",
        "t1L_spec_c2_random_df = t1L_spec_c2_random_df.loc[:,df_merge_index_c2]\n",
        "\n",
        "t1H_spec_c2_random_df = pd.DataFrame(t1H_spec_c2_random)\n",
        "t1H_spec_c2_random_df = t1H_spec_c2_random_df.loc[:,df_merge_index_c2]"
      ],
      "metadata": {
        "id": "dr5n2hWuWUKV"
      },
      "execution_count": null,
      "outputs": []
    },
    {
      "cell_type": "code",
      "source": [
        "t1N_spec_c1_random_df"
      ],
      "metadata": {
        "colab": {
          "base_uri": "https://localhost:8080/",
          "height": 488
        },
        "id": "94gEbMoKpwi3",
        "outputId": "8156614d-840c-4ef5-d50b-4e8db54878f8"
      },
      "execution_count": null,
      "outputs": [
        {
          "output_type": "execute_result",
          "data": {
            "text/plain": [
              "                  0                   56                  57     \\\n",
              "0    0.098194-0.000000j -0.000015+0.000062j -0.000568-0.000237j   \n",
              "1    0.128974+0.000000j -0.000434-0.002619j -0.000651+0.000807j   \n",
              "2    0.111343+0.000000j  0.000215+0.003120j -0.001100-0.000189j   \n",
              "3    0.106232+0.000000j  0.000240+0.000307j -0.000871+0.000336j   \n",
              "4    0.104006+0.000000j -0.000489+0.000056j -0.001007+0.000072j   \n",
              "..                  ...                 ...                 ...   \n",
              "410  0.093162-0.000000j -0.000214-0.000045j  0.000333-0.000535j   \n",
              "411  0.096902-0.000000j -0.000354+0.000755j  0.000352-0.000271j   \n",
              "412  0.100131+0.000000j  0.000362-0.000224j  0.000333-0.000155j   \n",
              "413  0.102979+0.000000j -0.000439-0.000068j  0.000045-0.000261j   \n",
              "414  0.095700+0.000000j  0.000285+0.000402j  0.000802+0.000561j   \n",
              "\n",
              "                  58                  59                  60     \\\n",
              "0   -0.000198-0.000448j -0.000127-0.001344j -0.001565+0.004268j   \n",
              "1   -0.000624+0.001222j -0.002503+0.005561j  0.000077-0.001854j   \n",
              "2   -0.001421-0.000082j -0.007007+0.001430j  0.000769-0.000595j   \n",
              "3   -0.000359+0.000471j -0.000804+0.000881j  0.004282-0.002864j   \n",
              "4   -0.000856-0.000176j -0.001336-0.001185j  0.002155+0.003716j   \n",
              "..                  ...                 ...                 ...   \n",
              "410  0.000236-0.000537j  0.000768-0.000743j -0.003893+0.002250j   \n",
              "411  0.000240+0.000489j  0.000806+0.001116j -0.004401-0.002879j   \n",
              "412  0.000198-0.000441j  0.000084-0.001034j  0.002400+0.004788j   \n",
              "413 -0.000141-0.000321j  0.000634-0.000415j -0.004886+0.001623j   \n",
              "414  0.000654+0.000699j  0.001515+0.000969j -0.003637-0.001496j   \n",
              "\n",
              "                  61                  62                  63     \\\n",
              "0   -0.000475+0.000988j -0.000505+0.000830j -0.000454+0.000598j   \n",
              "1   -0.000002-0.000587j  0.000167-0.000392j -0.000140-0.000273j   \n",
              "2    0.000230-0.000345j -0.000074-0.000387j  0.000063-0.000267j   \n",
              "3    0.000677-0.000188j  0.000463-0.000134j  0.000343-0.000137j   \n",
              "4    0.000206+0.001068j -0.000203+0.000799j -0.000187+0.000805j   \n",
              "..                  ...                 ...                 ...   \n",
              "410 -0.001016+0.000312j -0.000771+0.000140j -0.000363+0.000252j   \n",
              "411 -0.001094-0.000386j -0.000767+0.000007j -0.000717-0.000116j   \n",
              "412  0.000668+0.000914j  0.000694+0.000482j  0.000554+0.000421j   \n",
              "413 -0.001475+0.000171j -0.001107+0.000028j -0.001014+0.000110j   \n",
              "414 -0.000725-0.000093j -0.000341+0.000131j -0.000245+0.000314j   \n",
              "\n",
              "                  109    ...               10434               10435  \\\n",
              "0   -0.001706+0.002748j  ... -0.001350-0.003187j -0.001706-0.002748j   \n",
              "1   -0.000151-0.001127j  ...  0.000032+0.001956j -0.000151+0.001127j   \n",
              "2   -0.002297-0.004563j  ... -0.001728+0.005288j -0.002297+0.004563j   \n",
              "3    0.001269+0.001571j  ...  0.001291-0.001909j  0.001269-0.001571j   \n",
              "4   -0.001771+0.002782j  ... -0.001483-0.003382j -0.001771-0.002782j   \n",
              "..                  ...  ...                 ...                 ...   \n",
              "410 -0.002028-0.000452j  ... -0.001676+0.000391j -0.002028+0.000452j   \n",
              "411 -0.002658+0.002167j  ... -0.001995-0.002965j -0.002658-0.002167j   \n",
              "412  0.002425+0.000297j  ...  0.002365-0.000861j  0.002425-0.000297j   \n",
              "413 -0.002269-0.000052j  ... -0.002389+0.000304j -0.002269+0.000052j   \n",
              "414  0.000558+0.003242j  ...  0.001215-0.003813j  0.000558-0.003242j   \n",
              "\n",
              "                  10481               10482               10483  \\\n",
              "0   -0.000454-0.000598j -0.000505-0.000830j -0.000475-0.000988j   \n",
              "1   -0.000140+0.000273j  0.000167+0.000392j -0.000002+0.000587j   \n",
              "2    0.000063+0.000267j -0.000074+0.000387j  0.000230+0.000345j   \n",
              "3    0.000343+0.000137j  0.000463+0.000134j  0.000677+0.000188j   \n",
              "4   -0.000187-0.000805j -0.000203-0.000799j  0.000206-0.001068j   \n",
              "..                  ...                 ...                 ...   \n",
              "410 -0.000363-0.000252j -0.000771-0.000140j -0.001016-0.000312j   \n",
              "411 -0.000717+0.000116j -0.000767-0.000007j -0.001094+0.000386j   \n",
              "412  0.000554-0.000421j  0.000694-0.000482j  0.000668-0.000914j   \n",
              "413 -0.001014-0.000110j -0.001107-0.000028j -0.001475-0.000171j   \n",
              "414 -0.000245-0.000314j -0.000341-0.000131j -0.000725+0.000093j   \n",
              "\n",
              "                  10484               10485               10486  \\\n",
              "0   -0.001565-0.004268j -0.000127+0.001344j -0.000198+0.000448j   \n",
              "1    0.000077+0.001854j -0.002503-0.005561j -0.000624-0.001222j   \n",
              "2    0.000769+0.000595j -0.007007-0.001430j -0.001421+0.000082j   \n",
              "3    0.004282+0.002864j -0.000804-0.000881j -0.000359-0.000471j   \n",
              "4    0.002155-0.003716j -0.001336+0.001185j -0.000856+0.000176j   \n",
              "..                  ...                 ...                 ...   \n",
              "410 -0.003893-0.002250j  0.000768+0.000743j  0.000236+0.000537j   \n",
              "411 -0.004401+0.002879j  0.000806-0.001116j  0.000240-0.000489j   \n",
              "412  0.002400-0.004788j  0.000084+0.001034j  0.000198+0.000441j   \n",
              "413 -0.004886-0.001623j  0.000634+0.000415j -0.000141+0.000321j   \n",
              "414 -0.003637+0.001496j  0.001515-0.000969j  0.000654-0.000699j   \n",
              "\n",
              "                  10487               10488  \n",
              "0   -0.000568+0.000237j -0.000015-0.000062j  \n",
              "1   -0.000651-0.000807j -0.000434+0.002619j  \n",
              "2   -0.001100+0.000189j  0.000215-0.003120j  \n",
              "3   -0.000871-0.000336j  0.000240-0.000307j  \n",
              "4   -0.001007-0.000072j -0.000489-0.000056j  \n",
              "..                  ...                 ...  \n",
              "410  0.000333+0.000535j -0.000214+0.000045j  \n",
              "411  0.000352+0.000271j -0.000354-0.000755j  \n",
              "412  0.000333+0.000155j  0.000362+0.000224j  \n",
              "413  0.000045+0.000261j -0.000439+0.000068j  \n",
              "414  0.000802-0.000561j  0.000285-0.000402j  \n",
              "\n",
              "[415 rows x 4350 columns]"
            ],
            "text/html": [
              "\n",
              "  <div id=\"df-3531e8cb-1ed9-4bf3-abfd-6609ddfd6874\">\n",
              "    <div class=\"colab-df-container\">\n",
              "      <div>\n",
              "<style scoped>\n",
              "    .dataframe tbody tr th:only-of-type {\n",
              "        vertical-align: middle;\n",
              "    }\n",
              "\n",
              "    .dataframe tbody tr th {\n",
              "        vertical-align: top;\n",
              "    }\n",
              "\n",
              "    .dataframe thead th {\n",
              "        text-align: right;\n",
              "    }\n",
              "</style>\n",
              "<table border=\"1\" class=\"dataframe\">\n",
              "  <thead>\n",
              "    <tr style=\"text-align: right;\">\n",
              "      <th></th>\n",
              "      <th>0</th>\n",
              "      <th>56</th>\n",
              "      <th>57</th>\n",
              "      <th>58</th>\n",
              "      <th>59</th>\n",
              "      <th>60</th>\n",
              "      <th>61</th>\n",
              "      <th>62</th>\n",
              "      <th>63</th>\n",
              "      <th>109</th>\n",
              "      <th>...</th>\n",
              "      <th>10434</th>\n",
              "      <th>10435</th>\n",
              "      <th>10481</th>\n",
              "      <th>10482</th>\n",
              "      <th>10483</th>\n",
              "      <th>10484</th>\n",
              "      <th>10485</th>\n",
              "      <th>10486</th>\n",
              "      <th>10487</th>\n",
              "      <th>10488</th>\n",
              "    </tr>\n",
              "  </thead>\n",
              "  <tbody>\n",
              "    <tr>\n",
              "      <th>0</th>\n",
              "      <td>0.098194-0.000000j</td>\n",
              "      <td>-0.000015+0.000062j</td>\n",
              "      <td>-0.000568-0.000237j</td>\n",
              "      <td>-0.000198-0.000448j</td>\n",
              "      <td>-0.000127-0.001344j</td>\n",
              "      <td>-0.001565+0.004268j</td>\n",
              "      <td>-0.000475+0.000988j</td>\n",
              "      <td>-0.000505+0.000830j</td>\n",
              "      <td>-0.000454+0.000598j</td>\n",
              "      <td>-0.001706+0.002748j</td>\n",
              "      <td>...</td>\n",
              "      <td>-0.001350-0.003187j</td>\n",
              "      <td>-0.001706-0.002748j</td>\n",
              "      <td>-0.000454-0.000598j</td>\n",
              "      <td>-0.000505-0.000830j</td>\n",
              "      <td>-0.000475-0.000988j</td>\n",
              "      <td>-0.001565-0.004268j</td>\n",
              "      <td>-0.000127+0.001344j</td>\n",
              "      <td>-0.000198+0.000448j</td>\n",
              "      <td>-0.000568+0.000237j</td>\n",
              "      <td>-0.000015-0.000062j</td>\n",
              "    </tr>\n",
              "    <tr>\n",
              "      <th>1</th>\n",
              "      <td>0.128974+0.000000j</td>\n",
              "      <td>-0.000434-0.002619j</td>\n",
              "      <td>-0.000651+0.000807j</td>\n",
              "      <td>-0.000624+0.001222j</td>\n",
              "      <td>-0.002503+0.005561j</td>\n",
              "      <td>0.000077-0.001854j</td>\n",
              "      <td>-0.000002-0.000587j</td>\n",
              "      <td>0.000167-0.000392j</td>\n",
              "      <td>-0.000140-0.000273j</td>\n",
              "      <td>-0.000151-0.001127j</td>\n",
              "      <td>...</td>\n",
              "      <td>0.000032+0.001956j</td>\n",
              "      <td>-0.000151+0.001127j</td>\n",
              "      <td>-0.000140+0.000273j</td>\n",
              "      <td>0.000167+0.000392j</td>\n",
              "      <td>-0.000002+0.000587j</td>\n",
              "      <td>0.000077+0.001854j</td>\n",
              "      <td>-0.002503-0.005561j</td>\n",
              "      <td>-0.000624-0.001222j</td>\n",
              "      <td>-0.000651-0.000807j</td>\n",
              "      <td>-0.000434+0.002619j</td>\n",
              "    </tr>\n",
              "    <tr>\n",
              "      <th>2</th>\n",
              "      <td>0.111343+0.000000j</td>\n",
              "      <td>0.000215+0.003120j</td>\n",
              "      <td>-0.001100-0.000189j</td>\n",
              "      <td>-0.001421-0.000082j</td>\n",
              "      <td>-0.007007+0.001430j</td>\n",
              "      <td>0.000769-0.000595j</td>\n",
              "      <td>0.000230-0.000345j</td>\n",
              "      <td>-0.000074-0.000387j</td>\n",
              "      <td>0.000063-0.000267j</td>\n",
              "      <td>-0.002297-0.004563j</td>\n",
              "      <td>...</td>\n",
              "      <td>-0.001728+0.005288j</td>\n",
              "      <td>-0.002297+0.004563j</td>\n",
              "      <td>0.000063+0.000267j</td>\n",
              "      <td>-0.000074+0.000387j</td>\n",
              "      <td>0.000230+0.000345j</td>\n",
              "      <td>0.000769+0.000595j</td>\n",
              "      <td>-0.007007-0.001430j</td>\n",
              "      <td>-0.001421+0.000082j</td>\n",
              "      <td>-0.001100+0.000189j</td>\n",
              "      <td>0.000215-0.003120j</td>\n",
              "    </tr>\n",
              "    <tr>\n",
              "      <th>3</th>\n",
              "      <td>0.106232+0.000000j</td>\n",
              "      <td>0.000240+0.000307j</td>\n",
              "      <td>-0.000871+0.000336j</td>\n",
              "      <td>-0.000359+0.000471j</td>\n",
              "      <td>-0.000804+0.000881j</td>\n",
              "      <td>0.004282-0.002864j</td>\n",
              "      <td>0.000677-0.000188j</td>\n",
              "      <td>0.000463-0.000134j</td>\n",
              "      <td>0.000343-0.000137j</td>\n",
              "      <td>0.001269+0.001571j</td>\n",
              "      <td>...</td>\n",
              "      <td>0.001291-0.001909j</td>\n",
              "      <td>0.001269-0.001571j</td>\n",
              "      <td>0.000343+0.000137j</td>\n",
              "      <td>0.000463+0.000134j</td>\n",
              "      <td>0.000677+0.000188j</td>\n",
              "      <td>0.004282+0.002864j</td>\n",
              "      <td>-0.000804-0.000881j</td>\n",
              "      <td>-0.000359-0.000471j</td>\n",
              "      <td>-0.000871-0.000336j</td>\n",
              "      <td>0.000240-0.000307j</td>\n",
              "    </tr>\n",
              "    <tr>\n",
              "      <th>4</th>\n",
              "      <td>0.104006+0.000000j</td>\n",
              "      <td>-0.000489+0.000056j</td>\n",
              "      <td>-0.001007+0.000072j</td>\n",
              "      <td>-0.000856-0.000176j</td>\n",
              "      <td>-0.001336-0.001185j</td>\n",
              "      <td>0.002155+0.003716j</td>\n",
              "      <td>0.000206+0.001068j</td>\n",
              "      <td>-0.000203+0.000799j</td>\n",
              "      <td>-0.000187+0.000805j</td>\n",
              "      <td>-0.001771+0.002782j</td>\n",
              "      <td>...</td>\n",
              "      <td>-0.001483-0.003382j</td>\n",
              "      <td>-0.001771-0.002782j</td>\n",
              "      <td>-0.000187-0.000805j</td>\n",
              "      <td>-0.000203-0.000799j</td>\n",
              "      <td>0.000206-0.001068j</td>\n",
              "      <td>0.002155-0.003716j</td>\n",
              "      <td>-0.001336+0.001185j</td>\n",
              "      <td>-0.000856+0.000176j</td>\n",
              "      <td>-0.001007-0.000072j</td>\n",
              "      <td>-0.000489-0.000056j</td>\n",
              "    </tr>\n",
              "    <tr>\n",
              "      <th>...</th>\n",
              "      <td>...</td>\n",
              "      <td>...</td>\n",
              "      <td>...</td>\n",
              "      <td>...</td>\n",
              "      <td>...</td>\n",
              "      <td>...</td>\n",
              "      <td>...</td>\n",
              "      <td>...</td>\n",
              "      <td>...</td>\n",
              "      <td>...</td>\n",
              "      <td>...</td>\n",
              "      <td>...</td>\n",
              "      <td>...</td>\n",
              "      <td>...</td>\n",
              "      <td>...</td>\n",
              "      <td>...</td>\n",
              "      <td>...</td>\n",
              "      <td>...</td>\n",
              "      <td>...</td>\n",
              "      <td>...</td>\n",
              "      <td>...</td>\n",
              "    </tr>\n",
              "    <tr>\n",
              "      <th>410</th>\n",
              "      <td>0.093162-0.000000j</td>\n",
              "      <td>-0.000214-0.000045j</td>\n",
              "      <td>0.000333-0.000535j</td>\n",
              "      <td>0.000236-0.000537j</td>\n",
              "      <td>0.000768-0.000743j</td>\n",
              "      <td>-0.003893+0.002250j</td>\n",
              "      <td>-0.001016+0.000312j</td>\n",
              "      <td>-0.000771+0.000140j</td>\n",
              "      <td>-0.000363+0.000252j</td>\n",
              "      <td>-0.002028-0.000452j</td>\n",
              "      <td>...</td>\n",
              "      <td>-0.001676+0.000391j</td>\n",
              "      <td>-0.002028+0.000452j</td>\n",
              "      <td>-0.000363-0.000252j</td>\n",
              "      <td>-0.000771-0.000140j</td>\n",
              "      <td>-0.001016-0.000312j</td>\n",
              "      <td>-0.003893-0.002250j</td>\n",
              "      <td>0.000768+0.000743j</td>\n",
              "      <td>0.000236+0.000537j</td>\n",
              "      <td>0.000333+0.000535j</td>\n",
              "      <td>-0.000214+0.000045j</td>\n",
              "    </tr>\n",
              "    <tr>\n",
              "      <th>411</th>\n",
              "      <td>0.096902-0.000000j</td>\n",
              "      <td>-0.000354+0.000755j</td>\n",
              "      <td>0.000352-0.000271j</td>\n",
              "      <td>0.000240+0.000489j</td>\n",
              "      <td>0.000806+0.001116j</td>\n",
              "      <td>-0.004401-0.002879j</td>\n",
              "      <td>-0.001094-0.000386j</td>\n",
              "      <td>-0.000767+0.000007j</td>\n",
              "      <td>-0.000717-0.000116j</td>\n",
              "      <td>-0.002658+0.002167j</td>\n",
              "      <td>...</td>\n",
              "      <td>-0.001995-0.002965j</td>\n",
              "      <td>-0.002658-0.002167j</td>\n",
              "      <td>-0.000717+0.000116j</td>\n",
              "      <td>-0.000767-0.000007j</td>\n",
              "      <td>-0.001094+0.000386j</td>\n",
              "      <td>-0.004401+0.002879j</td>\n",
              "      <td>0.000806-0.001116j</td>\n",
              "      <td>0.000240-0.000489j</td>\n",
              "      <td>0.000352+0.000271j</td>\n",
              "      <td>-0.000354-0.000755j</td>\n",
              "    </tr>\n",
              "    <tr>\n",
              "      <th>412</th>\n",
              "      <td>0.100131+0.000000j</td>\n",
              "      <td>0.000362-0.000224j</td>\n",
              "      <td>0.000333-0.000155j</td>\n",
              "      <td>0.000198-0.000441j</td>\n",
              "      <td>0.000084-0.001034j</td>\n",
              "      <td>0.002400+0.004788j</td>\n",
              "      <td>0.000668+0.000914j</td>\n",
              "      <td>0.000694+0.000482j</td>\n",
              "      <td>0.000554+0.000421j</td>\n",
              "      <td>0.002425+0.000297j</td>\n",
              "      <td>...</td>\n",
              "      <td>0.002365-0.000861j</td>\n",
              "      <td>0.002425-0.000297j</td>\n",
              "      <td>0.000554-0.000421j</td>\n",
              "      <td>0.000694-0.000482j</td>\n",
              "      <td>0.000668-0.000914j</td>\n",
              "      <td>0.002400-0.004788j</td>\n",
              "      <td>0.000084+0.001034j</td>\n",
              "      <td>0.000198+0.000441j</td>\n",
              "      <td>0.000333+0.000155j</td>\n",
              "      <td>0.000362+0.000224j</td>\n",
              "    </tr>\n",
              "    <tr>\n",
              "      <th>413</th>\n",
              "      <td>0.102979+0.000000j</td>\n",
              "      <td>-0.000439-0.000068j</td>\n",
              "      <td>0.000045-0.000261j</td>\n",
              "      <td>-0.000141-0.000321j</td>\n",
              "      <td>0.000634-0.000415j</td>\n",
              "      <td>-0.004886+0.001623j</td>\n",
              "      <td>-0.001475+0.000171j</td>\n",
              "      <td>-0.001107+0.000028j</td>\n",
              "      <td>-0.001014+0.000110j</td>\n",
              "      <td>-0.002269-0.000052j</td>\n",
              "      <td>...</td>\n",
              "      <td>-0.002389+0.000304j</td>\n",
              "      <td>-0.002269+0.000052j</td>\n",
              "      <td>-0.001014-0.000110j</td>\n",
              "      <td>-0.001107-0.000028j</td>\n",
              "      <td>-0.001475-0.000171j</td>\n",
              "      <td>-0.004886-0.001623j</td>\n",
              "      <td>0.000634+0.000415j</td>\n",
              "      <td>-0.000141+0.000321j</td>\n",
              "      <td>0.000045+0.000261j</td>\n",
              "      <td>-0.000439+0.000068j</td>\n",
              "    </tr>\n",
              "    <tr>\n",
              "      <th>414</th>\n",
              "      <td>0.095700+0.000000j</td>\n",
              "      <td>0.000285+0.000402j</td>\n",
              "      <td>0.000802+0.000561j</td>\n",
              "      <td>0.000654+0.000699j</td>\n",
              "      <td>0.001515+0.000969j</td>\n",
              "      <td>-0.003637-0.001496j</td>\n",
              "      <td>-0.000725-0.000093j</td>\n",
              "      <td>-0.000341+0.000131j</td>\n",
              "      <td>-0.000245+0.000314j</td>\n",
              "      <td>0.000558+0.003242j</td>\n",
              "      <td>...</td>\n",
              "      <td>0.001215-0.003813j</td>\n",
              "      <td>0.000558-0.003242j</td>\n",
              "      <td>-0.000245-0.000314j</td>\n",
              "      <td>-0.000341-0.000131j</td>\n",
              "      <td>-0.000725+0.000093j</td>\n",
              "      <td>-0.003637+0.001496j</td>\n",
              "      <td>0.001515-0.000969j</td>\n",
              "      <td>0.000654-0.000699j</td>\n",
              "      <td>0.000802-0.000561j</td>\n",
              "      <td>0.000285-0.000402j</td>\n",
              "    </tr>\n",
              "  </tbody>\n",
              "</table>\n",
              "<p>415 rows × 4350 columns</p>\n",
              "</div>\n",
              "      <button class=\"colab-df-convert\" onclick=\"convertToInteractive('df-3531e8cb-1ed9-4bf3-abfd-6609ddfd6874')\"\n",
              "              title=\"Convert this dataframe to an interactive table.\"\n",
              "              style=\"display:none;\">\n",
              "        \n",
              "  <svg xmlns=\"http://www.w3.org/2000/svg\" height=\"24px\"viewBox=\"0 0 24 24\"\n",
              "       width=\"24px\">\n",
              "    <path d=\"M0 0h24v24H0V0z\" fill=\"none\"/>\n",
              "    <path d=\"M18.56 5.44l.94 2.06.94-2.06 2.06-.94-2.06-.94-.94-2.06-.94 2.06-2.06.94zm-11 1L8.5 8.5l.94-2.06 2.06-.94-2.06-.94L8.5 2.5l-.94 2.06-2.06.94zm10 10l.94 2.06.94-2.06 2.06-.94-2.06-.94-.94-2.06-.94 2.06-2.06.94z\"/><path d=\"M17.41 7.96l-1.37-1.37c-.4-.4-.92-.59-1.43-.59-.52 0-1.04.2-1.43.59L10.3 9.45l-7.72 7.72c-.78.78-.78 2.05 0 2.83L4 21.41c.39.39.9.59 1.41.59.51 0 1.02-.2 1.41-.59l7.78-7.78 2.81-2.81c.8-.78.8-2.07 0-2.86zM5.41 20L4 18.59l7.72-7.72 1.47 1.35L5.41 20z\"/>\n",
              "  </svg>\n",
              "      </button>\n",
              "      \n",
              "  <style>\n",
              "    .colab-df-container {\n",
              "      display:flex;\n",
              "      flex-wrap:wrap;\n",
              "      gap: 12px;\n",
              "    }\n",
              "\n",
              "    .colab-df-convert {\n",
              "      background-color: #E8F0FE;\n",
              "      border: none;\n",
              "      border-radius: 50%;\n",
              "      cursor: pointer;\n",
              "      display: none;\n",
              "      fill: #1967D2;\n",
              "      height: 32px;\n",
              "      padding: 0 0 0 0;\n",
              "      width: 32px;\n",
              "    }\n",
              "\n",
              "    .colab-df-convert:hover {\n",
              "      background-color: #E2EBFA;\n",
              "      box-shadow: 0px 1px 2px rgba(60, 64, 67, 0.3), 0px 1px 3px 1px rgba(60, 64, 67, 0.15);\n",
              "      fill: #174EA6;\n",
              "    }\n",
              "\n",
              "    [theme=dark] .colab-df-convert {\n",
              "      background-color: #3B4455;\n",
              "      fill: #D2E3FC;\n",
              "    }\n",
              "\n",
              "    [theme=dark] .colab-df-convert:hover {\n",
              "      background-color: #434B5C;\n",
              "      box-shadow: 0px 1px 3px 1px rgba(0, 0, 0, 0.15);\n",
              "      filter: drop-shadow(0px 1px 2px rgba(0, 0, 0, 0.3));\n",
              "      fill: #FFFFFF;\n",
              "    }\n",
              "  </style>\n",
              "\n",
              "      <script>\n",
              "        const buttonEl =\n",
              "          document.querySelector('#df-3531e8cb-1ed9-4bf3-abfd-6609ddfd6874 button.colab-df-convert');\n",
              "        buttonEl.style.display =\n",
              "          google.colab.kernel.accessAllowed ? 'block' : 'none';\n",
              "\n",
              "        async function convertToInteractive(key) {\n",
              "          const element = document.querySelector('#df-3531e8cb-1ed9-4bf3-abfd-6609ddfd6874');\n",
              "          const dataTable =\n",
              "            await google.colab.kernel.invokeFunction('convertToInteractive',\n",
              "                                                     [key], {});\n",
              "          if (!dataTable) return;\n",
              "\n",
              "          const docLinkHtml = 'Like what you see? Visit the ' +\n",
              "            '<a target=\"_blank\" href=https://colab.research.google.com/notebooks/data_table.ipynb>data table notebook</a>'\n",
              "            + ' to learn more about interactive tables.';\n",
              "          element.innerHTML = '';\n",
              "          dataTable['output_type'] = 'display_data';\n",
              "          await google.colab.output.renderOutput(dataTable, element);\n",
              "          const docLink = document.createElement('div');\n",
              "          docLink.innerHTML = docLinkHtml;\n",
              "          element.appendChild(docLink);\n",
              "        }\n",
              "      </script>\n",
              "    </div>\n",
              "  </div>\n",
              "  "
            ]
          },
          "metadata": {},
          "execution_count": 113
        }
      ]
    },
    {
      "cell_type": "code",
      "source": [
        "t1N_spec_c2_random_df"
      ],
      "metadata": {
        "colab": {
          "base_uri": "https://localhost:8080/",
          "height": 488
        },
        "id": "1vzeciNFp3uZ",
        "outputId": "d7ea7de6-8eb3-4a8e-da8c-ada34a1d601a"
      },
      "execution_count": null,
      "outputs": [
        {
          "output_type": "execute_result",
          "data": {
            "text/plain": [
              "                  0                   59                  60     \\\n",
              "0   -0.681175-0.000000j  0.001769-0.000783j  0.000747+0.000377j   \n",
              "1   -0.835884+0.000000j  0.000420-0.001129j -0.000666+0.002536j   \n",
              "2   -0.818662-0.000000j  0.006075-0.002714j -0.000898-0.000440j   \n",
              "3   -0.855719-0.000000j  0.001251-0.000917j -0.000258+0.002563j   \n",
              "4   -0.830165-0.000000j  0.000181-0.002338j -0.000524+0.000015j   \n",
              "..                  ...                 ...                 ...   \n",
              "410 -0.806483-0.000000j  0.002839-0.007010j  0.000103+0.002657j   \n",
              "411 -0.822390-0.000000j  0.004339+0.005577j -0.000728-0.002072j   \n",
              "412 -0.684603+0.000000j -0.002494-0.001635j  0.000467-0.000188j   \n",
              "413 -0.823777+0.000000j  0.005142+0.004020j -0.000548-0.000359j   \n",
              "414 -0.816822-0.000000j -0.003778+0.002108j -0.000116-0.000958j   \n",
              "\n",
              "                  116                 117                 118    \\\n",
              "0   -0.045887-0.077251j  0.002626+0.003461j  0.000727+0.003276j   \n",
              "1   -0.000059+0.011667j  0.003586+0.034723j -0.003767-0.037623j   \n",
              "2   -0.007054-0.091371j  0.000021-0.010659j  0.001550-0.006308j   \n",
              "3   -0.010933-0.001633j -0.054901-0.002421j  0.023970+0.000979j   \n",
              "4    0.078976-0.042748j  0.009664-0.006860j  0.003704-0.003244j   \n",
              "..                  ...                 ...                 ...   \n",
              "410  0.097345-0.002193j  0.008356-0.000654j  0.004495-0.002515j   \n",
              "411  0.039539-0.086627j  0.003062-0.005688j -0.000480-0.002313j   \n",
              "412 -0.084365-0.027578j  0.006547+0.003588j  0.001770+0.001401j   \n",
              "413  0.008839+0.092859j  0.001853+0.013936j -0.000091+0.007909j   \n",
              "414 -0.068765+0.062965j -0.002966+0.001937j -0.001813-0.000193j   \n",
              "\n",
              "                  338                 354                 369    \\\n",
              "0   -0.001404+0.005656j  0.001132+0.000359j -0.001395-0.000140j   \n",
              "1   -0.002041-0.004428j  0.003905+0.001252j -0.000362-0.001203j   \n",
              "2    0.001561-0.001530j  0.001603+0.001475j  0.001104-0.003019j   \n",
              "3   -0.001326+0.001430j  0.000733-0.000207j  0.006381+0.001856j   \n",
              "4    0.000799-0.002177j  0.001140-0.001596j -0.000377+0.000605j   \n",
              "..                  ...                 ...                 ...   \n",
              "410 -0.001095-0.004478j -0.000529-0.000121j  0.001332+0.000561j   \n",
              "411 -0.004377-0.000549j -0.000691+0.001105j -0.003018-0.000225j   \n",
              "412 -0.002558+0.003802j -0.001714-0.000106j -0.002719+0.001214j   \n",
              "413  0.000613-0.000606j  0.001080+0.000042j -0.000599-0.002375j   \n",
              "414 -0.002402-0.000417j -0.000669+0.000601j  0.000340-0.001196j   \n",
              "\n",
              "                  454    ...               10084               10090  \\\n",
              "0   -0.002656+0.007081j  ... -0.034856-0.007707j -0.002656-0.007081j   \n",
              "1   -0.000362+0.001792j  ...  0.000711-0.000830j -0.000362-0.001792j   \n",
              "2    0.014889+0.000328j  ...  0.050705+0.016202j  0.014889-0.000328j   \n",
              "3    0.006160-0.000841j  ...  0.008704+0.010359j  0.006160+0.000841j   \n",
              "4   -0.002468-0.006240j  ... -0.026483+0.035094j -0.002468+0.006240j   \n",
              "..                  ...  ...                 ...                 ...   \n",
              "410  0.012359-0.000881j  ...  0.007166-0.008688j  0.012359+0.000881j   \n",
              "411  0.002551+0.004426j  ... -0.011638-0.033933j  0.002551-0.004426j   \n",
              "412 -0.000751-0.000656j  ... -0.000982-0.003063j -0.000751+0.000656j   \n",
              "413  0.007161+0.003503j  ...  0.020360+0.015895j  0.007161-0.003503j   \n",
              "414 -0.019564-0.003051j  ... -0.017582+0.009544j -0.019564+0.003051j   \n",
              "\n",
              "                  10175               10190               10206  \\\n",
              "0   -0.001395+0.000140j  0.001132-0.000359j -0.001404-0.005656j   \n",
              "1   -0.000362+0.001203j  0.003905-0.001252j -0.002041+0.004428j   \n",
              "2    0.001104+0.003019j  0.001603-0.001475j  0.001561+0.001530j   \n",
              "3    0.006381-0.001856j  0.000733+0.000207j -0.001326-0.001430j   \n",
              "4   -0.000377-0.000605j  0.001140+0.001596j  0.000799+0.002177j   \n",
              "..                  ...                 ...                 ...   \n",
              "410  0.001332-0.000561j -0.000529+0.000121j -0.001095+0.004478j   \n",
              "411 -0.003018+0.000225j -0.000691-0.001105j -0.004377+0.000549j   \n",
              "412 -0.002719-0.001214j -0.001714+0.000106j -0.002558-0.003802j   \n",
              "413 -0.000599+0.002375j  0.001080-0.000042j  0.000613+0.000606j   \n",
              "414  0.000340+0.001196j -0.000669-0.000601j -0.002402+0.000417j   \n",
              "\n",
              "                  10426               10427               10428  \\\n",
              "0    0.000727-0.003276j  0.002626-0.003461j -0.045887+0.077251j   \n",
              "1   -0.003767+0.037623j  0.003586-0.034723j -0.000059-0.011667j   \n",
              "2    0.001550+0.006308j  0.000021+0.010659j -0.007054+0.091371j   \n",
              "3    0.023970-0.000979j -0.054901+0.002421j -0.010933+0.001633j   \n",
              "4    0.003704+0.003244j  0.009664+0.006860j  0.078976+0.042748j   \n",
              "..                  ...                 ...                 ...   \n",
              "410  0.004495+0.002515j  0.008356+0.000654j  0.097345+0.002193j   \n",
              "411 -0.000480+0.002313j  0.003062+0.005688j  0.039539+0.086627j   \n",
              "412  0.001770-0.001401j  0.006547-0.003588j -0.084365+0.027578j   \n",
              "413 -0.000091-0.007909j  0.001853-0.013936j  0.008839-0.092859j   \n",
              "414 -0.001813+0.000193j -0.002966-0.001937j -0.068765-0.062965j   \n",
              "\n",
              "                  10484               10485  \n",
              "0    0.000747-0.000377j  0.001769+0.000783j  \n",
              "1   -0.000666-0.002536j  0.000420+0.001129j  \n",
              "2   -0.000898+0.000440j  0.006075+0.002714j  \n",
              "3   -0.000258-0.002563j  0.001251+0.000917j  \n",
              "4   -0.000524-0.000015j  0.000181+0.002338j  \n",
              "..                  ...                 ...  \n",
              "410  0.000103-0.002657j  0.002839+0.007010j  \n",
              "411 -0.000728+0.002072j  0.004339-0.005577j  \n",
              "412  0.000467+0.000188j -0.002494+0.001635j  \n",
              "413 -0.000548+0.000359j  0.005142-0.004020j  \n",
              "414 -0.000116+0.000958j -0.003778-0.002108j  \n",
              "\n",
              "[415 rows x 4715 columns]"
            ],
            "text/html": [
              "\n",
              "  <div id=\"df-516d346b-1dca-4dc7-9cec-6cd34c12e3c1\">\n",
              "    <div class=\"colab-df-container\">\n",
              "      <div>\n",
              "<style scoped>\n",
              "    .dataframe tbody tr th:only-of-type {\n",
              "        vertical-align: middle;\n",
              "    }\n",
              "\n",
              "    .dataframe tbody tr th {\n",
              "        vertical-align: top;\n",
              "    }\n",
              "\n",
              "    .dataframe thead th {\n",
              "        text-align: right;\n",
              "    }\n",
              "</style>\n",
              "<table border=\"1\" class=\"dataframe\">\n",
              "  <thead>\n",
              "    <tr style=\"text-align: right;\">\n",
              "      <th></th>\n",
              "      <th>0</th>\n",
              "      <th>59</th>\n",
              "      <th>60</th>\n",
              "      <th>116</th>\n",
              "      <th>117</th>\n",
              "      <th>118</th>\n",
              "      <th>338</th>\n",
              "      <th>354</th>\n",
              "      <th>369</th>\n",
              "      <th>454</th>\n",
              "      <th>...</th>\n",
              "      <th>10084</th>\n",
              "      <th>10090</th>\n",
              "      <th>10175</th>\n",
              "      <th>10190</th>\n",
              "      <th>10206</th>\n",
              "      <th>10426</th>\n",
              "      <th>10427</th>\n",
              "      <th>10428</th>\n",
              "      <th>10484</th>\n",
              "      <th>10485</th>\n",
              "    </tr>\n",
              "  </thead>\n",
              "  <tbody>\n",
              "    <tr>\n",
              "      <th>0</th>\n",
              "      <td>-0.681175-0.000000j</td>\n",
              "      <td>0.001769-0.000783j</td>\n",
              "      <td>0.000747+0.000377j</td>\n",
              "      <td>-0.045887-0.077251j</td>\n",
              "      <td>0.002626+0.003461j</td>\n",
              "      <td>0.000727+0.003276j</td>\n",
              "      <td>-0.001404+0.005656j</td>\n",
              "      <td>0.001132+0.000359j</td>\n",
              "      <td>-0.001395-0.000140j</td>\n",
              "      <td>-0.002656+0.007081j</td>\n",
              "      <td>...</td>\n",
              "      <td>-0.034856-0.007707j</td>\n",
              "      <td>-0.002656-0.007081j</td>\n",
              "      <td>-0.001395+0.000140j</td>\n",
              "      <td>0.001132-0.000359j</td>\n",
              "      <td>-0.001404-0.005656j</td>\n",
              "      <td>0.000727-0.003276j</td>\n",
              "      <td>0.002626-0.003461j</td>\n",
              "      <td>-0.045887+0.077251j</td>\n",
              "      <td>0.000747-0.000377j</td>\n",
              "      <td>0.001769+0.000783j</td>\n",
              "    </tr>\n",
              "    <tr>\n",
              "      <th>1</th>\n",
              "      <td>-0.835884+0.000000j</td>\n",
              "      <td>0.000420-0.001129j</td>\n",
              "      <td>-0.000666+0.002536j</td>\n",
              "      <td>-0.000059+0.011667j</td>\n",
              "      <td>0.003586+0.034723j</td>\n",
              "      <td>-0.003767-0.037623j</td>\n",
              "      <td>-0.002041-0.004428j</td>\n",
              "      <td>0.003905+0.001252j</td>\n",
              "      <td>-0.000362-0.001203j</td>\n",
              "      <td>-0.000362+0.001792j</td>\n",
              "      <td>...</td>\n",
              "      <td>0.000711-0.000830j</td>\n",
              "      <td>-0.000362-0.001792j</td>\n",
              "      <td>-0.000362+0.001203j</td>\n",
              "      <td>0.003905-0.001252j</td>\n",
              "      <td>-0.002041+0.004428j</td>\n",
              "      <td>-0.003767+0.037623j</td>\n",
              "      <td>0.003586-0.034723j</td>\n",
              "      <td>-0.000059-0.011667j</td>\n",
              "      <td>-0.000666-0.002536j</td>\n",
              "      <td>0.000420+0.001129j</td>\n",
              "    </tr>\n",
              "    <tr>\n",
              "      <th>2</th>\n",
              "      <td>-0.818662-0.000000j</td>\n",
              "      <td>0.006075-0.002714j</td>\n",
              "      <td>-0.000898-0.000440j</td>\n",
              "      <td>-0.007054-0.091371j</td>\n",
              "      <td>0.000021-0.010659j</td>\n",
              "      <td>0.001550-0.006308j</td>\n",
              "      <td>0.001561-0.001530j</td>\n",
              "      <td>0.001603+0.001475j</td>\n",
              "      <td>0.001104-0.003019j</td>\n",
              "      <td>0.014889+0.000328j</td>\n",
              "      <td>...</td>\n",
              "      <td>0.050705+0.016202j</td>\n",
              "      <td>0.014889-0.000328j</td>\n",
              "      <td>0.001104+0.003019j</td>\n",
              "      <td>0.001603-0.001475j</td>\n",
              "      <td>0.001561+0.001530j</td>\n",
              "      <td>0.001550+0.006308j</td>\n",
              "      <td>0.000021+0.010659j</td>\n",
              "      <td>-0.007054+0.091371j</td>\n",
              "      <td>-0.000898+0.000440j</td>\n",
              "      <td>0.006075+0.002714j</td>\n",
              "    </tr>\n",
              "    <tr>\n",
              "      <th>3</th>\n",
              "      <td>-0.855719-0.000000j</td>\n",
              "      <td>0.001251-0.000917j</td>\n",
              "      <td>-0.000258+0.002563j</td>\n",
              "      <td>-0.010933-0.001633j</td>\n",
              "      <td>-0.054901-0.002421j</td>\n",
              "      <td>0.023970+0.000979j</td>\n",
              "      <td>-0.001326+0.001430j</td>\n",
              "      <td>0.000733-0.000207j</td>\n",
              "      <td>0.006381+0.001856j</td>\n",
              "      <td>0.006160-0.000841j</td>\n",
              "      <td>...</td>\n",
              "      <td>0.008704+0.010359j</td>\n",
              "      <td>0.006160+0.000841j</td>\n",
              "      <td>0.006381-0.001856j</td>\n",
              "      <td>0.000733+0.000207j</td>\n",
              "      <td>-0.001326-0.001430j</td>\n",
              "      <td>0.023970-0.000979j</td>\n",
              "      <td>-0.054901+0.002421j</td>\n",
              "      <td>-0.010933+0.001633j</td>\n",
              "      <td>-0.000258-0.002563j</td>\n",
              "      <td>0.001251+0.000917j</td>\n",
              "    </tr>\n",
              "    <tr>\n",
              "      <th>4</th>\n",
              "      <td>-0.830165-0.000000j</td>\n",
              "      <td>0.000181-0.002338j</td>\n",
              "      <td>-0.000524+0.000015j</td>\n",
              "      <td>0.078976-0.042748j</td>\n",
              "      <td>0.009664-0.006860j</td>\n",
              "      <td>0.003704-0.003244j</td>\n",
              "      <td>0.000799-0.002177j</td>\n",
              "      <td>0.001140-0.001596j</td>\n",
              "      <td>-0.000377+0.000605j</td>\n",
              "      <td>-0.002468-0.006240j</td>\n",
              "      <td>...</td>\n",
              "      <td>-0.026483+0.035094j</td>\n",
              "      <td>-0.002468+0.006240j</td>\n",
              "      <td>-0.000377-0.000605j</td>\n",
              "      <td>0.001140+0.001596j</td>\n",
              "      <td>0.000799+0.002177j</td>\n",
              "      <td>0.003704+0.003244j</td>\n",
              "      <td>0.009664+0.006860j</td>\n",
              "      <td>0.078976+0.042748j</td>\n",
              "      <td>-0.000524-0.000015j</td>\n",
              "      <td>0.000181+0.002338j</td>\n",
              "    </tr>\n",
              "    <tr>\n",
              "      <th>...</th>\n",
              "      <td>...</td>\n",
              "      <td>...</td>\n",
              "      <td>...</td>\n",
              "      <td>...</td>\n",
              "      <td>...</td>\n",
              "      <td>...</td>\n",
              "      <td>...</td>\n",
              "      <td>...</td>\n",
              "      <td>...</td>\n",
              "      <td>...</td>\n",
              "      <td>...</td>\n",
              "      <td>...</td>\n",
              "      <td>...</td>\n",
              "      <td>...</td>\n",
              "      <td>...</td>\n",
              "      <td>...</td>\n",
              "      <td>...</td>\n",
              "      <td>...</td>\n",
              "      <td>...</td>\n",
              "      <td>...</td>\n",
              "      <td>...</td>\n",
              "    </tr>\n",
              "    <tr>\n",
              "      <th>410</th>\n",
              "      <td>-0.806483-0.000000j</td>\n",
              "      <td>0.002839-0.007010j</td>\n",
              "      <td>0.000103+0.002657j</td>\n",
              "      <td>0.097345-0.002193j</td>\n",
              "      <td>0.008356-0.000654j</td>\n",
              "      <td>0.004495-0.002515j</td>\n",
              "      <td>-0.001095-0.004478j</td>\n",
              "      <td>-0.000529-0.000121j</td>\n",
              "      <td>0.001332+0.000561j</td>\n",
              "      <td>0.012359-0.000881j</td>\n",
              "      <td>...</td>\n",
              "      <td>0.007166-0.008688j</td>\n",
              "      <td>0.012359+0.000881j</td>\n",
              "      <td>0.001332-0.000561j</td>\n",
              "      <td>-0.000529+0.000121j</td>\n",
              "      <td>-0.001095+0.004478j</td>\n",
              "      <td>0.004495+0.002515j</td>\n",
              "      <td>0.008356+0.000654j</td>\n",
              "      <td>0.097345+0.002193j</td>\n",
              "      <td>0.000103-0.002657j</td>\n",
              "      <td>0.002839+0.007010j</td>\n",
              "    </tr>\n",
              "    <tr>\n",
              "      <th>411</th>\n",
              "      <td>-0.822390-0.000000j</td>\n",
              "      <td>0.004339+0.005577j</td>\n",
              "      <td>-0.000728-0.002072j</td>\n",
              "      <td>0.039539-0.086627j</td>\n",
              "      <td>0.003062-0.005688j</td>\n",
              "      <td>-0.000480-0.002313j</td>\n",
              "      <td>-0.004377-0.000549j</td>\n",
              "      <td>-0.000691+0.001105j</td>\n",
              "      <td>-0.003018-0.000225j</td>\n",
              "      <td>0.002551+0.004426j</td>\n",
              "      <td>...</td>\n",
              "      <td>-0.011638-0.033933j</td>\n",
              "      <td>0.002551-0.004426j</td>\n",
              "      <td>-0.003018+0.000225j</td>\n",
              "      <td>-0.000691-0.001105j</td>\n",
              "      <td>-0.004377+0.000549j</td>\n",
              "      <td>-0.000480+0.002313j</td>\n",
              "      <td>0.003062+0.005688j</td>\n",
              "      <td>0.039539+0.086627j</td>\n",
              "      <td>-0.000728+0.002072j</td>\n",
              "      <td>0.004339-0.005577j</td>\n",
              "    </tr>\n",
              "    <tr>\n",
              "      <th>412</th>\n",
              "      <td>-0.684603+0.000000j</td>\n",
              "      <td>-0.002494-0.001635j</td>\n",
              "      <td>0.000467-0.000188j</td>\n",
              "      <td>-0.084365-0.027578j</td>\n",
              "      <td>0.006547+0.003588j</td>\n",
              "      <td>0.001770+0.001401j</td>\n",
              "      <td>-0.002558+0.003802j</td>\n",
              "      <td>-0.001714-0.000106j</td>\n",
              "      <td>-0.002719+0.001214j</td>\n",
              "      <td>-0.000751-0.000656j</td>\n",
              "      <td>...</td>\n",
              "      <td>-0.000982-0.003063j</td>\n",
              "      <td>-0.000751+0.000656j</td>\n",
              "      <td>-0.002719-0.001214j</td>\n",
              "      <td>-0.001714+0.000106j</td>\n",
              "      <td>-0.002558-0.003802j</td>\n",
              "      <td>0.001770-0.001401j</td>\n",
              "      <td>0.006547-0.003588j</td>\n",
              "      <td>-0.084365+0.027578j</td>\n",
              "      <td>0.000467+0.000188j</td>\n",
              "      <td>-0.002494+0.001635j</td>\n",
              "    </tr>\n",
              "    <tr>\n",
              "      <th>413</th>\n",
              "      <td>-0.823777+0.000000j</td>\n",
              "      <td>0.005142+0.004020j</td>\n",
              "      <td>-0.000548-0.000359j</td>\n",
              "      <td>0.008839+0.092859j</td>\n",
              "      <td>0.001853+0.013936j</td>\n",
              "      <td>-0.000091+0.007909j</td>\n",
              "      <td>0.000613-0.000606j</td>\n",
              "      <td>0.001080+0.000042j</td>\n",
              "      <td>-0.000599-0.002375j</td>\n",
              "      <td>0.007161+0.003503j</td>\n",
              "      <td>...</td>\n",
              "      <td>0.020360+0.015895j</td>\n",
              "      <td>0.007161-0.003503j</td>\n",
              "      <td>-0.000599+0.002375j</td>\n",
              "      <td>0.001080-0.000042j</td>\n",
              "      <td>0.000613+0.000606j</td>\n",
              "      <td>-0.000091-0.007909j</td>\n",
              "      <td>0.001853-0.013936j</td>\n",
              "      <td>0.008839-0.092859j</td>\n",
              "      <td>-0.000548+0.000359j</td>\n",
              "      <td>0.005142-0.004020j</td>\n",
              "    </tr>\n",
              "    <tr>\n",
              "      <th>414</th>\n",
              "      <td>-0.816822-0.000000j</td>\n",
              "      <td>-0.003778+0.002108j</td>\n",
              "      <td>-0.000116-0.000958j</td>\n",
              "      <td>-0.068765+0.062965j</td>\n",
              "      <td>-0.002966+0.001937j</td>\n",
              "      <td>-0.001813-0.000193j</td>\n",
              "      <td>-0.002402-0.000417j</td>\n",
              "      <td>-0.000669+0.000601j</td>\n",
              "      <td>0.000340-0.001196j</td>\n",
              "      <td>-0.019564-0.003051j</td>\n",
              "      <td>...</td>\n",
              "      <td>-0.017582+0.009544j</td>\n",
              "      <td>-0.019564+0.003051j</td>\n",
              "      <td>0.000340+0.001196j</td>\n",
              "      <td>-0.000669-0.000601j</td>\n",
              "      <td>-0.002402+0.000417j</td>\n",
              "      <td>-0.001813+0.000193j</td>\n",
              "      <td>-0.002966-0.001937j</td>\n",
              "      <td>-0.068765-0.062965j</td>\n",
              "      <td>-0.000116+0.000958j</td>\n",
              "      <td>-0.003778-0.002108j</td>\n",
              "    </tr>\n",
              "  </tbody>\n",
              "</table>\n",
              "<p>415 rows × 4715 columns</p>\n",
              "</div>\n",
              "      <button class=\"colab-df-convert\" onclick=\"convertToInteractive('df-516d346b-1dca-4dc7-9cec-6cd34c12e3c1')\"\n",
              "              title=\"Convert this dataframe to an interactive table.\"\n",
              "              style=\"display:none;\">\n",
              "        \n",
              "  <svg xmlns=\"http://www.w3.org/2000/svg\" height=\"24px\"viewBox=\"0 0 24 24\"\n",
              "       width=\"24px\">\n",
              "    <path d=\"M0 0h24v24H0V0z\" fill=\"none\"/>\n",
              "    <path d=\"M18.56 5.44l.94 2.06.94-2.06 2.06-.94-2.06-.94-.94-2.06-.94 2.06-2.06.94zm-11 1L8.5 8.5l.94-2.06 2.06-.94-2.06-.94L8.5 2.5l-.94 2.06-2.06.94zm10 10l.94 2.06.94-2.06 2.06-.94-2.06-.94-.94-2.06-.94 2.06-2.06.94z\"/><path d=\"M17.41 7.96l-1.37-1.37c-.4-.4-.92-.59-1.43-.59-.52 0-1.04.2-1.43.59L10.3 9.45l-7.72 7.72c-.78.78-.78 2.05 0 2.83L4 21.41c.39.39.9.59 1.41.59.51 0 1.02-.2 1.41-.59l7.78-7.78 2.81-2.81c.8-.78.8-2.07 0-2.86zM5.41 20L4 18.59l7.72-7.72 1.47 1.35L5.41 20z\"/>\n",
              "  </svg>\n",
              "      </button>\n",
              "      \n",
              "  <style>\n",
              "    .colab-df-container {\n",
              "      display:flex;\n",
              "      flex-wrap:wrap;\n",
              "      gap: 12px;\n",
              "    }\n",
              "\n",
              "    .colab-df-convert {\n",
              "      background-color: #E8F0FE;\n",
              "      border: none;\n",
              "      border-radius: 50%;\n",
              "      cursor: pointer;\n",
              "      display: none;\n",
              "      fill: #1967D2;\n",
              "      height: 32px;\n",
              "      padding: 0 0 0 0;\n",
              "      width: 32px;\n",
              "    }\n",
              "\n",
              "    .colab-df-convert:hover {\n",
              "      background-color: #E2EBFA;\n",
              "      box-shadow: 0px 1px 2px rgba(60, 64, 67, 0.3), 0px 1px 3px 1px rgba(60, 64, 67, 0.15);\n",
              "      fill: #174EA6;\n",
              "    }\n",
              "\n",
              "    [theme=dark] .colab-df-convert {\n",
              "      background-color: #3B4455;\n",
              "      fill: #D2E3FC;\n",
              "    }\n",
              "\n",
              "    [theme=dark] .colab-df-convert:hover {\n",
              "      background-color: #434B5C;\n",
              "      box-shadow: 0px 1px 3px 1px rgba(0, 0, 0, 0.15);\n",
              "      filter: drop-shadow(0px 1px 2px rgba(0, 0, 0, 0.3));\n",
              "      fill: #FFFFFF;\n",
              "    }\n",
              "  </style>\n",
              "\n",
              "      <script>\n",
              "        const buttonEl =\n",
              "          document.querySelector('#df-516d346b-1dca-4dc7-9cec-6cd34c12e3c1 button.colab-df-convert');\n",
              "        buttonEl.style.display =\n",
              "          google.colab.kernel.accessAllowed ? 'block' : 'none';\n",
              "\n",
              "        async function convertToInteractive(key) {\n",
              "          const element = document.querySelector('#df-516d346b-1dca-4dc7-9cec-6cd34c12e3c1');\n",
              "          const dataTable =\n",
              "            await google.colab.kernel.invokeFunction('convertToInteractive',\n",
              "                                                     [key], {});\n",
              "          if (!dataTable) return;\n",
              "\n",
              "          const docLinkHtml = 'Like what you see? Visit the ' +\n",
              "            '<a target=\"_blank\" href=https://colab.research.google.com/notebooks/data_table.ipynb>data table notebook</a>'\n",
              "            + ' to learn more about interactive tables.';\n",
              "          element.innerHTML = '';\n",
              "          dataTable['output_type'] = 'display_data';\n",
              "          await google.colab.output.renderOutput(dataTable, element);\n",
              "          const docLink = document.createElement('div');\n",
              "          docLink.innerHTML = docLinkHtml;\n",
              "          element.appendChild(docLink);\n",
              "        }\n",
              "      </script>\n",
              "    </div>\n",
              "  </div>\n",
              "  "
            ]
          },
          "metadata": {},
          "execution_count": 114
        }
      ]
    },
    {
      "cell_type": "code",
      "source": [
        "# 라벨값\n",
        "Label_N = np.ones(int(len(t1N_spec_c2)), dtype=int)\n",
        "\n",
        "# 벡터형태로 c1, c2 클래스별로 같이 병합 -> 보통 모델링할때 벡터값으로 변환하여 예측함\n",
        "data_sampling_N = np.vstack([t1N_spec_c1_random_df.values.T,t1N_spec_c2_random_df.values.T])\n",
        "# 벡터에 라벨값 추가\n",
        "data_sampling_N = np.vstack([data_sampling_N, Label_N])\n",
        "# 행과열 .T로 변환 \n",
        "data_sampling_N = data_sampling_N.T"
      ],
      "metadata": {
        "id": "K_8V09keC9B-"
      },
      "execution_count": null,
      "outputs": []
    },
    {
      "cell_type": "code",
      "source": [
        "data_sampling_N.shape"
      ],
      "metadata": {
        "colab": {
          "base_uri": "https://localhost:8080/"
        },
        "id": "8VQMpxMYcx_b",
        "outputId": "de7c2cc9-d26c-452a-94b3-c5d7198d8dee"
      },
      "execution_count": null,
      "outputs": [
        {
          "output_type": "execute_result",
          "data": {
            "text/plain": [
              "(415, 9066)"
            ]
          },
          "metadata": {},
          "execution_count": 119
        }
      ]
    },
    {
      "cell_type": "code",
      "source": [
        "pd.DataFrame(data_sampling_N)"
      ],
      "metadata": {
        "colab": {
          "base_uri": "https://localhost:8080/",
          "height": 488
        },
        "id": "5ZqVnTQ_NfzS",
        "outputId": "e28cadf1-db07-4b43-d238-44bb30468ea6"
      },
      "execution_count": null,
      "outputs": [
        {
          "output_type": "execute_result",
          "data": {
            "text/plain": [
              "                   0                   1                   2     \\\n",
              "0    0.098194-0.000000j -0.000015+0.000062j -0.000568-0.000237j   \n",
              "1    0.128974+0.000000j -0.000434-0.002619j -0.000651+0.000807j   \n",
              "2    0.111343+0.000000j  0.000215+0.003120j -0.001100-0.000189j   \n",
              "3    0.106232+0.000000j  0.000240+0.000307j -0.000871+0.000336j   \n",
              "4    0.104006+0.000000j -0.000489+0.000056j -0.001007+0.000072j   \n",
              "..                  ...                 ...                 ...   \n",
              "410  0.093162-0.000000j -0.000214-0.000045j  0.000333-0.000535j   \n",
              "411  0.096902-0.000000j -0.000354+0.000755j  0.000352-0.000271j   \n",
              "412  0.100131+0.000000j  0.000362-0.000224j  0.000333-0.000155j   \n",
              "413  0.102979+0.000000j -0.000439-0.000068j  0.000045-0.000261j   \n",
              "414  0.095700+0.000000j  0.000285+0.000402j  0.000802+0.000561j   \n",
              "\n",
              "                   3                   4                   5     \\\n",
              "0   -0.000198-0.000448j -0.000127-0.001344j -0.001565+0.004268j   \n",
              "1   -0.000624+0.001222j -0.002503+0.005561j  0.000077-0.001854j   \n",
              "2   -0.001421-0.000082j -0.007007+0.001430j  0.000769-0.000595j   \n",
              "3   -0.000359+0.000471j -0.000804+0.000881j  0.004282-0.002864j   \n",
              "4   -0.000856-0.000176j -0.001336-0.001185j  0.002155+0.003716j   \n",
              "..                  ...                 ...                 ...   \n",
              "410  0.000236-0.000537j  0.000768-0.000743j -0.003893+0.002250j   \n",
              "411  0.000240+0.000489j  0.000806+0.001116j -0.004401-0.002879j   \n",
              "412  0.000198-0.000441j  0.000084-0.001034j  0.002400+0.004788j   \n",
              "413 -0.000141-0.000321j  0.000634-0.000415j -0.004886+0.001623j   \n",
              "414  0.000654+0.000699j  0.001515+0.000969j -0.003637-0.001496j   \n",
              "\n",
              "                   6                   7                   8     \\\n",
              "0   -0.000475+0.000988j -0.000505+0.000830j -0.000454+0.000598j   \n",
              "1   -0.000002-0.000587j  0.000167-0.000392j -0.000140-0.000273j   \n",
              "2    0.000230-0.000345j -0.000074-0.000387j  0.000063-0.000267j   \n",
              "3    0.000677-0.000188j  0.000463-0.000134j  0.000343-0.000137j   \n",
              "4    0.000206+0.001068j -0.000203+0.000799j -0.000187+0.000805j   \n",
              "..                  ...                 ...                 ...   \n",
              "410 -0.001016+0.000312j -0.000771+0.000140j -0.000363+0.000252j   \n",
              "411 -0.001094-0.000386j -0.000767+0.000007j -0.000717-0.000116j   \n",
              "412  0.000668+0.000914j  0.000694+0.000482j  0.000554+0.000421j   \n",
              "413 -0.001475+0.000171j -0.001107+0.000028j -0.001014+0.000110j   \n",
              "414 -0.000725-0.000093j -0.000341+0.000131j -0.000245+0.000314j   \n",
              "\n",
              "                   9     ...                9056                9057  \\\n",
              "0   -0.001706+0.002748j  ... -0.002656-0.007081j -0.001395+0.000140j   \n",
              "1   -0.000151-0.001127j  ... -0.000362-0.001792j -0.000362+0.001203j   \n",
              "2   -0.002297-0.004563j  ...  0.014889-0.000328j  0.001104+0.003019j   \n",
              "3    0.001269+0.001571j  ...  0.006160+0.000841j  0.006381-0.001856j   \n",
              "4   -0.001771+0.002782j  ... -0.002468+0.006240j -0.000377-0.000605j   \n",
              "..                  ...  ...                 ...                 ...   \n",
              "410 -0.002028-0.000452j  ...  0.012359+0.000881j  0.001332-0.000561j   \n",
              "411 -0.002658+0.002167j  ...  0.002551-0.004426j -0.003018+0.000225j   \n",
              "412  0.002425+0.000297j  ... -0.000751+0.000656j -0.002719-0.001214j   \n",
              "413 -0.002269-0.000052j  ...  0.007161-0.003503j -0.000599+0.002375j   \n",
              "414  0.000558+0.003242j  ... -0.019564+0.003051j  0.000340+0.001196j   \n",
              "\n",
              "                   9058                9059                9060  \\\n",
              "0    0.001132-0.000359j -0.001404-0.005656j  0.000727-0.003276j   \n",
              "1    0.003905-0.001252j -0.002041+0.004428j -0.003767+0.037623j   \n",
              "2    0.001603-0.001475j  0.001561+0.001530j  0.001550+0.006308j   \n",
              "3    0.000733+0.000207j -0.001326-0.001430j  0.023970-0.000979j   \n",
              "4    0.001140+0.001596j  0.000799+0.002177j  0.003704+0.003244j   \n",
              "..                  ...                 ...                 ...   \n",
              "410 -0.000529+0.000121j -0.001095+0.004478j  0.004495+0.002515j   \n",
              "411 -0.000691-0.001105j -0.004377+0.000549j -0.000480+0.002313j   \n",
              "412 -0.001714+0.000106j -0.002558-0.003802j  0.001770-0.001401j   \n",
              "413  0.001080-0.000042j  0.000613+0.000606j -0.000091-0.007909j   \n",
              "414 -0.000669-0.000601j -0.002402+0.000417j -0.001813+0.000193j   \n",
              "\n",
              "                   9061                9062                9063  \\\n",
              "0    0.002626-0.003461j -0.045887+0.077251j  0.000747-0.000377j   \n",
              "1    0.003586-0.034723j -0.000059-0.011667j -0.000666-0.002536j   \n",
              "2    0.000021+0.010659j -0.007054+0.091371j -0.000898+0.000440j   \n",
              "3   -0.054901+0.002421j -0.010933+0.001633j -0.000258-0.002563j   \n",
              "4    0.009664+0.006860j  0.078976+0.042748j -0.000524-0.000015j   \n",
              "..                  ...                 ...                 ...   \n",
              "410  0.008356+0.000654j  0.097345+0.002193j  0.000103-0.002657j   \n",
              "411  0.003062+0.005688j  0.039539+0.086627j -0.000728+0.002072j   \n",
              "412  0.006547-0.003588j -0.084365+0.027578j  0.000467+0.000188j   \n",
              "413  0.001853-0.013936j  0.008839-0.092859j -0.000548+0.000359j   \n",
              "414 -0.002966-0.001937j -0.068765-0.062965j -0.000116+0.000958j   \n",
              "\n",
              "                   9064      9065  \n",
              "0    0.001769+0.000783j  1.0+0.0j  \n",
              "1    0.000420+0.001129j  1.0+0.0j  \n",
              "2    0.006075+0.002714j  1.0+0.0j  \n",
              "3    0.001251+0.000917j  1.0+0.0j  \n",
              "4    0.000181+0.002338j  1.0+0.0j  \n",
              "..                  ...       ...  \n",
              "410  0.002839+0.007010j  1.0+0.0j  \n",
              "411  0.004339-0.005577j  1.0+0.0j  \n",
              "412 -0.002494+0.001635j  1.0+0.0j  \n",
              "413  0.005142-0.004020j  1.0+0.0j  \n",
              "414 -0.003778-0.002108j  1.0+0.0j  \n",
              "\n",
              "[415 rows x 9066 columns]"
            ],
            "text/html": [
              "\n",
              "  <div id=\"df-f7d26bdc-d795-4b97-8292-e084fb13f1bb\">\n",
              "    <div class=\"colab-df-container\">\n",
              "      <div>\n",
              "<style scoped>\n",
              "    .dataframe tbody tr th:only-of-type {\n",
              "        vertical-align: middle;\n",
              "    }\n",
              "\n",
              "    .dataframe tbody tr th {\n",
              "        vertical-align: top;\n",
              "    }\n",
              "\n",
              "    .dataframe thead th {\n",
              "        text-align: right;\n",
              "    }\n",
              "</style>\n",
              "<table border=\"1\" class=\"dataframe\">\n",
              "  <thead>\n",
              "    <tr style=\"text-align: right;\">\n",
              "      <th></th>\n",
              "      <th>0</th>\n",
              "      <th>1</th>\n",
              "      <th>2</th>\n",
              "      <th>3</th>\n",
              "      <th>4</th>\n",
              "      <th>5</th>\n",
              "      <th>6</th>\n",
              "      <th>7</th>\n",
              "      <th>8</th>\n",
              "      <th>9</th>\n",
              "      <th>...</th>\n",
              "      <th>9056</th>\n",
              "      <th>9057</th>\n",
              "      <th>9058</th>\n",
              "      <th>9059</th>\n",
              "      <th>9060</th>\n",
              "      <th>9061</th>\n",
              "      <th>9062</th>\n",
              "      <th>9063</th>\n",
              "      <th>9064</th>\n",
              "      <th>9065</th>\n",
              "    </tr>\n",
              "  </thead>\n",
              "  <tbody>\n",
              "    <tr>\n",
              "      <th>0</th>\n",
              "      <td>0.098194-0.000000j</td>\n",
              "      <td>-0.000015+0.000062j</td>\n",
              "      <td>-0.000568-0.000237j</td>\n",
              "      <td>-0.000198-0.000448j</td>\n",
              "      <td>-0.000127-0.001344j</td>\n",
              "      <td>-0.001565+0.004268j</td>\n",
              "      <td>-0.000475+0.000988j</td>\n",
              "      <td>-0.000505+0.000830j</td>\n",
              "      <td>-0.000454+0.000598j</td>\n",
              "      <td>-0.001706+0.002748j</td>\n",
              "      <td>...</td>\n",
              "      <td>-0.002656-0.007081j</td>\n",
              "      <td>-0.001395+0.000140j</td>\n",
              "      <td>0.001132-0.000359j</td>\n",
              "      <td>-0.001404-0.005656j</td>\n",
              "      <td>0.000727-0.003276j</td>\n",
              "      <td>0.002626-0.003461j</td>\n",
              "      <td>-0.045887+0.077251j</td>\n",
              "      <td>0.000747-0.000377j</td>\n",
              "      <td>0.001769+0.000783j</td>\n",
              "      <td>1.0+0.0j</td>\n",
              "    </tr>\n",
              "    <tr>\n",
              "      <th>1</th>\n",
              "      <td>0.128974+0.000000j</td>\n",
              "      <td>-0.000434-0.002619j</td>\n",
              "      <td>-0.000651+0.000807j</td>\n",
              "      <td>-0.000624+0.001222j</td>\n",
              "      <td>-0.002503+0.005561j</td>\n",
              "      <td>0.000077-0.001854j</td>\n",
              "      <td>-0.000002-0.000587j</td>\n",
              "      <td>0.000167-0.000392j</td>\n",
              "      <td>-0.000140-0.000273j</td>\n",
              "      <td>-0.000151-0.001127j</td>\n",
              "      <td>...</td>\n",
              "      <td>-0.000362-0.001792j</td>\n",
              "      <td>-0.000362+0.001203j</td>\n",
              "      <td>0.003905-0.001252j</td>\n",
              "      <td>-0.002041+0.004428j</td>\n",
              "      <td>-0.003767+0.037623j</td>\n",
              "      <td>0.003586-0.034723j</td>\n",
              "      <td>-0.000059-0.011667j</td>\n",
              "      <td>-0.000666-0.002536j</td>\n",
              "      <td>0.000420+0.001129j</td>\n",
              "      <td>1.0+0.0j</td>\n",
              "    </tr>\n",
              "    <tr>\n",
              "      <th>2</th>\n",
              "      <td>0.111343+0.000000j</td>\n",
              "      <td>0.000215+0.003120j</td>\n",
              "      <td>-0.001100-0.000189j</td>\n",
              "      <td>-0.001421-0.000082j</td>\n",
              "      <td>-0.007007+0.001430j</td>\n",
              "      <td>0.000769-0.000595j</td>\n",
              "      <td>0.000230-0.000345j</td>\n",
              "      <td>-0.000074-0.000387j</td>\n",
              "      <td>0.000063-0.000267j</td>\n",
              "      <td>-0.002297-0.004563j</td>\n",
              "      <td>...</td>\n",
              "      <td>0.014889-0.000328j</td>\n",
              "      <td>0.001104+0.003019j</td>\n",
              "      <td>0.001603-0.001475j</td>\n",
              "      <td>0.001561+0.001530j</td>\n",
              "      <td>0.001550+0.006308j</td>\n",
              "      <td>0.000021+0.010659j</td>\n",
              "      <td>-0.007054+0.091371j</td>\n",
              "      <td>-0.000898+0.000440j</td>\n",
              "      <td>0.006075+0.002714j</td>\n",
              "      <td>1.0+0.0j</td>\n",
              "    </tr>\n",
              "    <tr>\n",
              "      <th>3</th>\n",
              "      <td>0.106232+0.000000j</td>\n",
              "      <td>0.000240+0.000307j</td>\n",
              "      <td>-0.000871+0.000336j</td>\n",
              "      <td>-0.000359+0.000471j</td>\n",
              "      <td>-0.000804+0.000881j</td>\n",
              "      <td>0.004282-0.002864j</td>\n",
              "      <td>0.000677-0.000188j</td>\n",
              "      <td>0.000463-0.000134j</td>\n",
              "      <td>0.000343-0.000137j</td>\n",
              "      <td>0.001269+0.001571j</td>\n",
              "      <td>...</td>\n",
              "      <td>0.006160+0.000841j</td>\n",
              "      <td>0.006381-0.001856j</td>\n",
              "      <td>0.000733+0.000207j</td>\n",
              "      <td>-0.001326-0.001430j</td>\n",
              "      <td>0.023970-0.000979j</td>\n",
              "      <td>-0.054901+0.002421j</td>\n",
              "      <td>-0.010933+0.001633j</td>\n",
              "      <td>-0.000258-0.002563j</td>\n",
              "      <td>0.001251+0.000917j</td>\n",
              "      <td>1.0+0.0j</td>\n",
              "    </tr>\n",
              "    <tr>\n",
              "      <th>4</th>\n",
              "      <td>0.104006+0.000000j</td>\n",
              "      <td>-0.000489+0.000056j</td>\n",
              "      <td>-0.001007+0.000072j</td>\n",
              "      <td>-0.000856-0.000176j</td>\n",
              "      <td>-0.001336-0.001185j</td>\n",
              "      <td>0.002155+0.003716j</td>\n",
              "      <td>0.000206+0.001068j</td>\n",
              "      <td>-0.000203+0.000799j</td>\n",
              "      <td>-0.000187+0.000805j</td>\n",
              "      <td>-0.001771+0.002782j</td>\n",
              "      <td>...</td>\n",
              "      <td>-0.002468+0.006240j</td>\n",
              "      <td>-0.000377-0.000605j</td>\n",
              "      <td>0.001140+0.001596j</td>\n",
              "      <td>0.000799+0.002177j</td>\n",
              "      <td>0.003704+0.003244j</td>\n",
              "      <td>0.009664+0.006860j</td>\n",
              "      <td>0.078976+0.042748j</td>\n",
              "      <td>-0.000524-0.000015j</td>\n",
              "      <td>0.000181+0.002338j</td>\n",
              "      <td>1.0+0.0j</td>\n",
              "    </tr>\n",
              "    <tr>\n",
              "      <th>...</th>\n",
              "      <td>...</td>\n",
              "      <td>...</td>\n",
              "      <td>...</td>\n",
              "      <td>...</td>\n",
              "      <td>...</td>\n",
              "      <td>...</td>\n",
              "      <td>...</td>\n",
              "      <td>...</td>\n",
              "      <td>...</td>\n",
              "      <td>...</td>\n",
              "      <td>...</td>\n",
              "      <td>...</td>\n",
              "      <td>...</td>\n",
              "      <td>...</td>\n",
              "      <td>...</td>\n",
              "      <td>...</td>\n",
              "      <td>...</td>\n",
              "      <td>...</td>\n",
              "      <td>...</td>\n",
              "      <td>...</td>\n",
              "      <td>...</td>\n",
              "    </tr>\n",
              "    <tr>\n",
              "      <th>410</th>\n",
              "      <td>0.093162-0.000000j</td>\n",
              "      <td>-0.000214-0.000045j</td>\n",
              "      <td>0.000333-0.000535j</td>\n",
              "      <td>0.000236-0.000537j</td>\n",
              "      <td>0.000768-0.000743j</td>\n",
              "      <td>-0.003893+0.002250j</td>\n",
              "      <td>-0.001016+0.000312j</td>\n",
              "      <td>-0.000771+0.000140j</td>\n",
              "      <td>-0.000363+0.000252j</td>\n",
              "      <td>-0.002028-0.000452j</td>\n",
              "      <td>...</td>\n",
              "      <td>0.012359+0.000881j</td>\n",
              "      <td>0.001332-0.000561j</td>\n",
              "      <td>-0.000529+0.000121j</td>\n",
              "      <td>-0.001095+0.004478j</td>\n",
              "      <td>0.004495+0.002515j</td>\n",
              "      <td>0.008356+0.000654j</td>\n",
              "      <td>0.097345+0.002193j</td>\n",
              "      <td>0.000103-0.002657j</td>\n",
              "      <td>0.002839+0.007010j</td>\n",
              "      <td>1.0+0.0j</td>\n",
              "    </tr>\n",
              "    <tr>\n",
              "      <th>411</th>\n",
              "      <td>0.096902-0.000000j</td>\n",
              "      <td>-0.000354+0.000755j</td>\n",
              "      <td>0.000352-0.000271j</td>\n",
              "      <td>0.000240+0.000489j</td>\n",
              "      <td>0.000806+0.001116j</td>\n",
              "      <td>-0.004401-0.002879j</td>\n",
              "      <td>-0.001094-0.000386j</td>\n",
              "      <td>-0.000767+0.000007j</td>\n",
              "      <td>-0.000717-0.000116j</td>\n",
              "      <td>-0.002658+0.002167j</td>\n",
              "      <td>...</td>\n",
              "      <td>0.002551-0.004426j</td>\n",
              "      <td>-0.003018+0.000225j</td>\n",
              "      <td>-0.000691-0.001105j</td>\n",
              "      <td>-0.004377+0.000549j</td>\n",
              "      <td>-0.000480+0.002313j</td>\n",
              "      <td>0.003062+0.005688j</td>\n",
              "      <td>0.039539+0.086627j</td>\n",
              "      <td>-0.000728+0.002072j</td>\n",
              "      <td>0.004339-0.005577j</td>\n",
              "      <td>1.0+0.0j</td>\n",
              "    </tr>\n",
              "    <tr>\n",
              "      <th>412</th>\n",
              "      <td>0.100131+0.000000j</td>\n",
              "      <td>0.000362-0.000224j</td>\n",
              "      <td>0.000333-0.000155j</td>\n",
              "      <td>0.000198-0.000441j</td>\n",
              "      <td>0.000084-0.001034j</td>\n",
              "      <td>0.002400+0.004788j</td>\n",
              "      <td>0.000668+0.000914j</td>\n",
              "      <td>0.000694+0.000482j</td>\n",
              "      <td>0.000554+0.000421j</td>\n",
              "      <td>0.002425+0.000297j</td>\n",
              "      <td>...</td>\n",
              "      <td>-0.000751+0.000656j</td>\n",
              "      <td>-0.002719-0.001214j</td>\n",
              "      <td>-0.001714+0.000106j</td>\n",
              "      <td>-0.002558-0.003802j</td>\n",
              "      <td>0.001770-0.001401j</td>\n",
              "      <td>0.006547-0.003588j</td>\n",
              "      <td>-0.084365+0.027578j</td>\n",
              "      <td>0.000467+0.000188j</td>\n",
              "      <td>-0.002494+0.001635j</td>\n",
              "      <td>1.0+0.0j</td>\n",
              "    </tr>\n",
              "    <tr>\n",
              "      <th>413</th>\n",
              "      <td>0.102979+0.000000j</td>\n",
              "      <td>-0.000439-0.000068j</td>\n",
              "      <td>0.000045-0.000261j</td>\n",
              "      <td>-0.000141-0.000321j</td>\n",
              "      <td>0.000634-0.000415j</td>\n",
              "      <td>-0.004886+0.001623j</td>\n",
              "      <td>-0.001475+0.000171j</td>\n",
              "      <td>-0.001107+0.000028j</td>\n",
              "      <td>-0.001014+0.000110j</td>\n",
              "      <td>-0.002269-0.000052j</td>\n",
              "      <td>...</td>\n",
              "      <td>0.007161-0.003503j</td>\n",
              "      <td>-0.000599+0.002375j</td>\n",
              "      <td>0.001080-0.000042j</td>\n",
              "      <td>0.000613+0.000606j</td>\n",
              "      <td>-0.000091-0.007909j</td>\n",
              "      <td>0.001853-0.013936j</td>\n",
              "      <td>0.008839-0.092859j</td>\n",
              "      <td>-0.000548+0.000359j</td>\n",
              "      <td>0.005142-0.004020j</td>\n",
              "      <td>1.0+0.0j</td>\n",
              "    </tr>\n",
              "    <tr>\n",
              "      <th>414</th>\n",
              "      <td>0.095700+0.000000j</td>\n",
              "      <td>0.000285+0.000402j</td>\n",
              "      <td>0.000802+0.000561j</td>\n",
              "      <td>0.000654+0.000699j</td>\n",
              "      <td>0.001515+0.000969j</td>\n",
              "      <td>-0.003637-0.001496j</td>\n",
              "      <td>-0.000725-0.000093j</td>\n",
              "      <td>-0.000341+0.000131j</td>\n",
              "      <td>-0.000245+0.000314j</td>\n",
              "      <td>0.000558+0.003242j</td>\n",
              "      <td>...</td>\n",
              "      <td>-0.019564+0.003051j</td>\n",
              "      <td>0.000340+0.001196j</td>\n",
              "      <td>-0.000669-0.000601j</td>\n",
              "      <td>-0.002402+0.000417j</td>\n",
              "      <td>-0.001813+0.000193j</td>\n",
              "      <td>-0.002966-0.001937j</td>\n",
              "      <td>-0.068765-0.062965j</td>\n",
              "      <td>-0.000116+0.000958j</td>\n",
              "      <td>-0.003778-0.002108j</td>\n",
              "      <td>1.0+0.0j</td>\n",
              "    </tr>\n",
              "  </tbody>\n",
              "</table>\n",
              "<p>415 rows × 9066 columns</p>\n",
              "</div>\n",
              "      <button class=\"colab-df-convert\" onclick=\"convertToInteractive('df-f7d26bdc-d795-4b97-8292-e084fb13f1bb')\"\n",
              "              title=\"Convert this dataframe to an interactive table.\"\n",
              "              style=\"display:none;\">\n",
              "        \n",
              "  <svg xmlns=\"http://www.w3.org/2000/svg\" height=\"24px\"viewBox=\"0 0 24 24\"\n",
              "       width=\"24px\">\n",
              "    <path d=\"M0 0h24v24H0V0z\" fill=\"none\"/>\n",
              "    <path d=\"M18.56 5.44l.94 2.06.94-2.06 2.06-.94-2.06-.94-.94-2.06-.94 2.06-2.06.94zm-11 1L8.5 8.5l.94-2.06 2.06-.94-2.06-.94L8.5 2.5l-.94 2.06-2.06.94zm10 10l.94 2.06.94-2.06 2.06-.94-2.06-.94-.94-2.06-.94 2.06-2.06.94z\"/><path d=\"M17.41 7.96l-1.37-1.37c-.4-.4-.92-.59-1.43-.59-.52 0-1.04.2-1.43.59L10.3 9.45l-7.72 7.72c-.78.78-.78 2.05 0 2.83L4 21.41c.39.39.9.59 1.41.59.51 0 1.02-.2 1.41-.59l7.78-7.78 2.81-2.81c.8-.78.8-2.07 0-2.86zM5.41 20L4 18.59l7.72-7.72 1.47 1.35L5.41 20z\"/>\n",
              "  </svg>\n",
              "      </button>\n",
              "      \n",
              "  <style>\n",
              "    .colab-df-container {\n",
              "      display:flex;\n",
              "      flex-wrap:wrap;\n",
              "      gap: 12px;\n",
              "    }\n",
              "\n",
              "    .colab-df-convert {\n",
              "      background-color: #E8F0FE;\n",
              "      border: none;\n",
              "      border-radius: 50%;\n",
              "      cursor: pointer;\n",
              "      display: none;\n",
              "      fill: #1967D2;\n",
              "      height: 32px;\n",
              "      padding: 0 0 0 0;\n",
              "      width: 32px;\n",
              "    }\n",
              "\n",
              "    .colab-df-convert:hover {\n",
              "      background-color: #E2EBFA;\n",
              "      box-shadow: 0px 1px 2px rgba(60, 64, 67, 0.3), 0px 1px 3px 1px rgba(60, 64, 67, 0.15);\n",
              "      fill: #174EA6;\n",
              "    }\n",
              "\n",
              "    [theme=dark] .colab-df-convert {\n",
              "      background-color: #3B4455;\n",
              "      fill: #D2E3FC;\n",
              "    }\n",
              "\n",
              "    [theme=dark] .colab-df-convert:hover {\n",
              "      background-color: #434B5C;\n",
              "      box-shadow: 0px 1px 3px 1px rgba(0, 0, 0, 0.15);\n",
              "      filter: drop-shadow(0px 1px 2px rgba(0, 0, 0, 0.3));\n",
              "      fill: #FFFFFF;\n",
              "    }\n",
              "  </style>\n",
              "\n",
              "      <script>\n",
              "        const buttonEl =\n",
              "          document.querySelector('#df-f7d26bdc-d795-4b97-8292-e084fb13f1bb button.colab-df-convert');\n",
              "        buttonEl.style.display =\n",
              "          google.colab.kernel.accessAllowed ? 'block' : 'none';\n",
              "\n",
              "        async function convertToInteractive(key) {\n",
              "          const element = document.querySelector('#df-f7d26bdc-d795-4b97-8292-e084fb13f1bb');\n",
              "          const dataTable =\n",
              "            await google.colab.kernel.invokeFunction('convertToInteractive',\n",
              "                                                     [key], {});\n",
              "          if (!dataTable) return;\n",
              "\n",
              "          const docLinkHtml = 'Like what you see? Visit the ' +\n",
              "            '<a target=\"_blank\" href=https://colab.research.google.com/notebooks/data_table.ipynb>data table notebook</a>'\n",
              "            + ' to learn more about interactive tables.';\n",
              "          element.innerHTML = '';\n",
              "          dataTable['output_type'] = 'display_data';\n",
              "          await google.colab.output.renderOutput(dataTable, element);\n",
              "          const docLink = document.createElement('div');\n",
              "          docLink.innerHTML = docLinkHtml;\n",
              "          element.appendChild(docLink);\n",
              "        }\n",
              "      </script>\n",
              "    </div>\n",
              "  </div>\n",
              "  "
            ]
          },
          "metadata": {},
          "execution_count": 120
        }
      ]
    },
    {
      "cell_type": "code",
      "source": [
        "# 라벨값\n",
        "Label_B = np.full(int(len(t1B_spec_c2)), 2, dtype=int)\n",
        "\n",
        "# 벡터형태로 c1, c2 클래스별로 같이 병합 -> 보통 모델링할때 벡터값으로 변환하여 예측함\n",
        "data_sampling_B = np.vstack([t1B_spec_c1_random_df.values.T,t1B_spec_c2_random_df.values.T])\n",
        "# 벡터에 라벨값 추가\n",
        "data_sampling_B = np.vstack([data_sampling_B, Label_B])\n",
        "# 행과열 .T로 변환 \n",
        "data_sampling_B = data_sampling_B.T"
      ],
      "metadata": {
        "id": "udcnUGYVRsk0"
      },
      "execution_count": null,
      "outputs": []
    },
    {
      "cell_type": "code",
      "source": [
        "# 라벨값\n",
        "Label_U = np.full(int(len(t1U_spec_c2)), 3, dtype=int)\n",
        "\n",
        "# 벡터형태로 c1, c2 클래스별로 같이 병합 -> 보통 모델링할때 벡터값으로 변환하여 예측함\n",
        "data_sampling_U = np.vstack([t1U_spec_c1_random_df.values.T,t1U_spec_c2_random_df.values.T])\n",
        "# 벡터에 라벨값 추가\n",
        "data_sampling_U = np.vstack([data_sampling_U, Label_U])\n",
        "# 행과열 .T로 변환 \n",
        "data_sampling_U = data_sampling_U.T"
      ],
      "metadata": {
        "id": "3AGJsdi-RsTC"
      },
      "execution_count": null,
      "outputs": []
    },
    {
      "cell_type": "code",
      "source": [
        "# 라벨값\n",
        "Label_L = np.full(int(len(t1L_spec_c2)), 4, dtype=int)\n",
        "\n",
        "# 벡터형태로 c1, c2 클래스별로 같이 병합 -> 보통 모델링할때 벡터값으로 변환하여 예측함\n",
        "data_sampling_L = np.vstack([t1L_spec_c1_random_df.values.T,t1L_spec_c2_random_df.values.T])\n",
        "# 벡터에 라벨값 추가\n",
        "data_sampling_L = np.vstack([data_sampling_L, Label_L])\n",
        "# 행과열 .T로 변환 \n",
        "data_sampling_L = data_sampling_L.T"
      ],
      "metadata": {
        "id": "-ZmDBIitUwHa"
      },
      "execution_count": null,
      "outputs": []
    },
    {
      "cell_type": "code",
      "source": [
        "# 라벨값\n",
        "Label_H = np.full(int(len(t1H_spec_c1)), 5, dtype=int)\n",
        "\n",
        "# 벡터형태로 c1, c2 클래스별로 같이 병합 -> 보통 모델링할때 벡터값으로 변환하여 예측함\n",
        "data_sampling_H = np.vstack([t1H_spec_c1_random_df.values.T,t1H_spec_c2_random_df.values.T])\n",
        "# 벡터에 라벨값 추가\n",
        "data_sampling_H = np.vstack([data_sampling_H, Label_H])\n",
        "# 행과열 .T로 변환 \n",
        "data_sampling_H = data_sampling_H.T"
      ],
      "metadata": {
        "id": "lfrNRlHhU7x3"
      },
      "execution_count": null,
      "outputs": []
    },
    {
      "cell_type": "code",
      "source": [
        "# 데이터 전체 병합\n",
        "data_sampling = np.vstack([data_sampling_N, data_sampling_B, data_sampling_U, data_sampling_L, data_sampling_H])"
      ],
      "metadata": {
        "id": "GcUTJg3YesfG"
      },
      "execution_count": null,
      "outputs": []
    },
    {
      "cell_type": "code",
      "source": [
        "# scikit learn 라이브러리가 복소수를 지원하지 않아 디버깅 발생함\n",
        "# 복소수를 실수 형태로 변형하는 코드임\n",
        "data_sampling = np.real(data_sampling)"
      ],
      "metadata": {
        "id": "BVuwxqcSu4VR"
      },
      "execution_count": null,
      "outputs": []
    },
    {
      "cell_type": "code",
      "source": [
        "data_sampling"
      ],
      "metadata": {
        "colab": {
          "base_uri": "https://localhost:8080/"
        },
        "id": "-XxkoZIwthtV",
        "outputId": "48676adf-090f-4535-bea4-a2ab710d51f2"
      },
      "execution_count": null,
      "outputs": [
        {
          "output_type": "execute_result",
          "data": {
            "text/plain": [
              "array([[ 9.81942081e-02, -1.54315700e-05, -5.68493903e-04, ...,\n",
              "         7.47110450e-04,  1.76911211e-03,  1.00000000e+00],\n",
              "       [ 1.28973883e-01, -4.33656178e-04, -6.50812624e-04, ...,\n",
              "        -6.66489421e-04,  4.20182404e-04,  1.00000000e+00],\n",
              "       [ 1.11343037e-01,  2.15482823e-04, -1.10028746e-03, ...,\n",
              "        -8.97719766e-04,  6.07462140e-03,  1.00000000e+00],\n",
              "       ...,\n",
              "       [ 2.93342905e-01,  5.52004684e-04,  1.93864395e-04, ...,\n",
              "         4.92546794e-03, -3.15866056e-03,  5.00000000e+00],\n",
              "       [ 2.84307413e-01, -6.19772954e-04, -7.22433211e-04, ...,\n",
              "        -1.47383991e-03, -3.47112174e-05,  5.00000000e+00],\n",
              "       [ 2.84556878e-01, -3.60232594e-04, -4.95642540e-04, ...,\n",
              "        -2.99518897e-03,  7.15460373e-03,  5.00000000e+00]])"
            ]
          },
          "metadata": {},
          "execution_count": 127
        }
      ]
    },
    {
      "cell_type": "code",
      "source": [
        "data_sampling.shape"
      ],
      "metadata": {
        "colab": {
          "base_uri": "https://localhost:8080/"
        },
        "id": "i5BRfHCdwhJl",
        "outputId": "e65afbee-9050-47a5-a57f-f8069509fdf5"
      },
      "execution_count": null,
      "outputs": [
        {
          "output_type": "execute_result",
          "data": {
            "text/plain": [
              "(2064, 9066)"
            ]
          },
          "metadata": {},
          "execution_count": 134
        }
      ]
    },
    {
      "cell_type": "markdown",
      "source": [
        "## 모델링"
      ],
      "metadata": {
        "id": "klxWw9Du0KmC"
      }
    },
    {
      "cell_type": "code",
      "source": [
        "from sklearn.model_selection import train_test_split\n",
        "\n",
        "X = data_sampling[:, :-1]\n",
        "y = data_sampling[:, -1]\n",
        "\n",
        "x_train, x_test, y_train, y_test = train_test_split(X, y, test_size=0.3)"
      ],
      "metadata": {
        "id": "Tojaq3s5tJVG"
      },
      "execution_count": null,
      "outputs": []
    },
    {
      "cell_type": "code",
      "source": [
        "# 하이퍼 파라미터 튜닝 더 알아보기\n",
        "# from sklearn.model_selection import GridSearchCV\n",
        "# from sklearn.ensemble import RandomForestClassifier\n",
        "# import numpy as np\n",
        "\n",
        "# from sklearn.metrics import f1_score, make_scorer\n",
        "# f1 = make_scorer(f1_score , average='macro')\n",
        "\n",
        "# #define the parameters grid\n",
        "# param_grid = {'max_depth': np.arange(3, 8),\n",
        "#              'criterion' : ['gini','entropy'],\n",
        "#              'max_leaf_nodes': [5,10,20,50],\n",
        "#              'min_samples_split': [2, 5, 10, 20]}\n",
        "\n",
        "# #create the grid\n",
        "# grid_tree = GridSearchCV(RandomForestClassifier(), param_grid, cv = 5, scoring= 'f1')\n",
        "# #the cv option will be clear in a few cells\n",
        "\n",
        "# #training\n",
        "# grid_tree.fit(x_train, y_train)\n",
        "# #let's see the best estimator\n",
        "# print(grid_tree.best_estimator_)\n",
        "# #with its score\n",
        "# print(np.abs(grid_tree.best_score_))"
      ],
      "metadata": {
        "id": "Giys3zijVaAV"
      },
      "execution_count": null,
      "outputs": []
    },
    {
      "cell_type": "markdown",
      "source": [
        "위 출력 코드\n",
        "RandomForestClassifier(max_depth=3, max_leaf_nodes=5)\n",
        "nan"
      ],
      "metadata": {
        "id": "jpy2vLV02p_y"
      }
    },
    {
      "cell_type": "code",
      "source": [
        "# random_state는 시드값을 고정해줌\n",
        "from sklearn.ensemble import RandomForestClassifier\n",
        "\n",
        "model = RandomForestClassifier(n_estimators=100, random_state=0)\n",
        "\n",
        "model.fit(x_train, y_train)\n",
        "model_pred = model.predict(x_test)"
      ],
      "metadata": {
        "id": "wfFuzP3-VFh3"
      },
      "execution_count": null,
      "outputs": []
    },
    {
      "cell_type": "code",
      "source": [
        "from sklearn.metrics import f1_score, classification_report, confusion_matrix\n",
        "\n",
        "accuracy = model.score(x_test, y_test)\n",
        "print(\"Accuracy:\", accuracy)\n",
        "# f1-score에서 average가 binary로 디폴트 설정 되어 있는데 이것은 이진분류에 적합하여 micro로 바꿔 다중 클래스 분류를 해줌\n",
        "f1 = f1_score(y_test, model_pred, average='micro')\n",
        "print(\"F1-Score: {:.4f}\".format(f1))\n",
        "print(classification_report(y_test, model_pred))\n",
        "\n",
        "cm = pd.DataFrame(confusion_matrix(y_test, model_pred))\n",
        "sns.heatmap(cm, annot=True, cmap='Blues')"
      ],
      "metadata": {
        "colab": {
          "base_uri": "https://localhost:8080/",
          "height": 544
        },
        "id": "zG-gn0e9yG_U",
        "outputId": "eb3cafae-a7e6-4b80-e800-0f3c5cc89969"
      },
      "execution_count": null,
      "outputs": [
        {
          "output_type": "stream",
          "name": "stdout",
          "text": [
            "Accuracy: 0.31809804644305195\n",
            "F1-Score: 0.3181\n",
            "              precision    recall  f1-score   support\n",
            "\n",
            "     Bearing       0.00      0.00      0.00      1800\n",
            "   Looseness       0.27      1.00      0.42       609\n",
            "      Normal       0.00      0.00      0.00      1485\n",
            "   Unbalance       0.38      1.00      0.55      1117\n",
            "        high       0.00      0.00      0.00       415\n",
            "\n",
            "    accuracy                           0.32      5426\n",
            "   macro avg       0.13      0.40      0.19      5426\n",
            "weighted avg       0.11      0.32      0.16      5426\n",
            "\n"
          ]
        },
        {
          "output_type": "execute_result",
          "data": {
            "text/plain": [
              "<matplotlib.axes._subplots.AxesSubplot at 0x7f9850dfa0d0>"
            ]
          },
          "metadata": {},
          "execution_count": 14
        },
        {
          "output_type": "display_data",
          "data": {
            "text/plain": [
              "<Figure size 432x288 with 2 Axes>"
            ],
            "image/png": "[encoded data removed]"
          },
          "metadata": {
            "needs_background": "light"
          }
        }
      ]
    },
    {
      "cell_type": "code",
      "source": [
        "import matplotlib.pyplot as plt\n",
        "import seaborn as sns\n",
        "\n",
        "# Feature importances 평가\n",
        "\n",
        "# 어레이 형태 다시 데이터 프레임으로 전환\n",
        "x_train_df = pd.DataFrame(x_train)\n",
        "\n",
        "importances = model.feature_importances_\n",
        "importance_df = pd.DataFrame({'Feature': x_train_df.columns, 'Importance': importances})\n",
        "importance_df = importance_df.sort_values('Importance', ascending=False)\n",
        "\n",
        "print(importance_df)\n",
        "\n",
        "# 특성 중요도 시각화 -> Feature들이 왜 그런진 모르겠지만 오름차순 정렬이 안됨\n",
        "plt.figure(figsize=(20, 8))\n",
        "sns.barplot(x='Feature', y='Importance', data = importance_df)\n",
        "plt.title('Random Forest Feature Importances', fontsize=18)\n",
        "plt.show()"
      ],
      "metadata": {
        "id": "cho7YfhxyLYd",
        "colab": {
          "base_uri": "https://localhost:8080/",
          "height": 794
        },
        "outputId": "13cbd0f7-34aa-4650-a1f3-6751ef464fb4"
      },
      "execution_count": null,
      "outputs": [
        {
          "output_type": "stream",
          "name": "stdout",
          "text": [
            "      Feature  Importance\n",
            "0           0    0.038000\n",
            "4350     4350    0.033888\n",
            "4351     4351    0.011735\n",
            "4352     4352    0.008115\n",
            "6           6    0.007164\n",
            "...       ...         ...\n",
            "5456     5456    0.000000\n",
            "5457     5457    0.000000\n",
            "5460     5460    0.000000\n",
            "5461     5461    0.000000\n",
            "4532     4532    0.000000\n",
            "\n",
            "[9065 rows x 2 columns]\n"
          ]
        },
        {
          "output_type": "display_data",
          "data": {
            "text/plain": [
              "<Figure size 1440x576 with 1 Axes>"
            ],
            "image/png": "[encoded data removed]"
          },
          "metadata": {
            "needs_background": "light"
          }
        }
      ]
    },
    {
      "cell_type": "code",
      "source": [],
      "metadata": {
        "id": "pae7zYrxcAS4"
      },
      "execution_count": null,
      "outputs": []
    },
    {
      "cell_type": "markdown",
      "source": [
        "## 2, 3일차 데이터 특징 분석"
      ],
      "metadata": {
        "id": "9CgAPjm1nKz_"
      }
    },
    {
      "cell_type": "code",
      "source": [
        "day23_data"
      ],
      "metadata": {
        "colab": {
          "base_uri": "https://localhost:8080/"
        },
        "id": "fCpK4mDDnN6F",
        "outputId": "5c70a948-eae1-4525-cf8c-0d6dc4bc0d01"
      },
      "execution_count": null,
      "outputs": [
        {
          "output_type": "execute_result",
          "data": {
            "text/plain": [
              "defaultdict(list,\n",
              "            {'Bearing': array([[2.18429991e-01, 2.86182839e-03, 8.20591198e-04, ...,\n",
              "                     9.55451898e-03, 7.16568605e-03, 8.93325014e-04],\n",
              "                    [2.14143473e-01, 2.65980603e-04, 1.93758614e-04, ...,\n",
              "                     1.37461224e-03, 1.11575927e-03, 6.65773185e-03],\n",
              "                    [2.14219414e-01, 5.53884659e-04, 4.26533471e-04, ...,\n",
              "                     3.56512828e-03, 1.16417784e-02, 1.20638381e-03],\n",
              "                    ...,\n",
              "                    [1.84079944e-01, 4.50912644e-04, 4.74629020e-04, ...,\n",
              "                     2.22663494e-02, 1.81688517e-02, 1.37181469e-02],\n",
              "                    [1.84103299e-01, 2.23653581e-04, 1.95291878e-04, ...,\n",
              "                     8.49213950e-03, 2.01549038e-02, 1.26879214e-02],\n",
              "                    [1.83989457e-01, 2.02133452e-04, 1.55337081e-04, ...,\n",
              "                     1.88920895e-02, 2.34009709e-03, 1.09636557e-02]]),\n",
              "             'Looseness': array([[9.94589556e-02, 5.52670009e-04, 4.41244696e-04, ...,\n",
              "                     2.18151683e-03, 9.28954512e-03, 1.78924135e-02],\n",
              "                    [1.02338738e-01, 1.82619264e-04, 3.25115810e-04, ...,\n",
              "                     3.56562277e-03, 7.84198723e-03, 4.21663850e-03],\n",
              "                    [1.10748489e-01, 2.44389819e-03, 1.52303788e-03, ...,\n",
              "                     1.40274730e-03, 4.72719103e-03, 7.20144169e-03],\n",
              "                    ...,\n",
              "                    [1.85201008e-01, 1.19606641e-03, 5.61440217e-04, ...,\n",
              "                     1.41561474e-02, 2.52176593e-02, 1.29457097e-02],\n",
              "                    [1.87007810e-01, 1.59189213e-03, 1.23768942e-03, ...,\n",
              "                     1.12242181e-02, 1.62775546e-02, 8.81045256e-03],\n",
              "                    [1.88584770e-01, 2.57288337e-03, 9.18489681e-04, ...,\n",
              "                     1.18877847e-02, 1.27840712e-02, 1.01501109e-02]]),\n",
              "             'Unbalance': array([[1.56728195e-01, 1.66094409e-04, 2.98917681e-04, ...,\n",
              "                     1.62475500e-02, 1.59596607e-02, 2.58174683e-02],\n",
              "                    [1.55895016e-01, 6.53784763e-04, 5.40359915e-04, ...,\n",
              "                     2.81350033e-02, 2.91012128e-02, 1.27747323e-02],\n",
              "                    [1.55056823e-01, 5.57941951e-04, 4.03921712e-04, ...,\n",
              "                     1.80403795e-02, 1.33409708e-02, 1.43441262e-02],\n",
              "                    ...,\n",
              "                    [3.19808541e-01, 2.49452458e-04, 2.10048557e-04, ...,\n",
              "                     3.72626292e-02, 1.82891440e-02, 5.50331876e-03],\n",
              "                    [3.20574727e-01, 6.46630853e-04, 9.17405555e-04, ...,\n",
              "                     1.56985582e-02, 8.10627473e-03, 8.86471897e-03],\n",
              "                    [3.21850797e-01, 2.07404799e-03, 5.76063250e-04, ...,\n",
              "                     2.68881774e-02, 1.06629934e-02, 9.59030646e-03]]),\n",
              "             'Normal': array([[6.69238709e-01, 2.93540519e-04, 2.60456255e-04, ...,\n",
              "                     4.36058787e-03, 4.57170756e-03, 1.01601450e-02],\n",
              "                    [6.72534227e-01, 2.54492548e-03, 7.26656256e-04, ...,\n",
              "                     1.26854062e-02, 3.91298540e-02, 1.16866368e-02],\n",
              "                    [6.74938882e-01, 9.92440361e-05, 1.15071576e-04, ...,\n",
              "                     2.94633463e-03, 5.78513580e-03, 1.93422129e-02],\n",
              "                    ...,\n",
              "                    [3.20504503e-01, 2.11607013e-04, 2.72593283e-04, ...,\n",
              "                     1.16638347e-02, 2.62149285e-02, 4.01739637e-02],\n",
              "                    [3.19947224e-01, 3.26732486e-04, 4.37153731e-04, ...,\n",
              "                     4.23953617e-03, 3.29497072e-02, 1.02129398e-02],\n",
              "                    [3.24257372e-01, 1.68245918e-03, 1.11191643e-03, ...,\n",
              "                     8.71264529e-03, 6.27436821e-03, 1.26810895e-02]])})"
            ]
          },
          "metadata": {},
          "execution_count": 13
        }
      ]
    },
    {
      "cell_type": "code",
      "source": [
        "day23_data['Normal'].shape"
      ],
      "metadata": {
        "colab": {
          "base_uri": "https://localhost:8080/"
        },
        "id": "-QujyDcHngoR",
        "outputId": "b4b6f8e7-e15c-4595-d4a8-7e4ed57dedd2"
      },
      "execution_count": null,
      "outputs": [
        {
          "output_type": "execute_result",
          "data": {
            "text/plain": [
              "(5017, 10544)"
            ]
          },
          "metadata": {},
          "execution_count": 15
        }
      ]
    },
    {
      "cell_type": "code",
      "source": [
        "day23_data['Bearing'].shape"
      ],
      "metadata": {
        "colab": {
          "base_uri": "https://localhost:8080/"
        },
        "id": "piqBp-pUnwE3",
        "outputId": "eaaaa53d-ada9-434b-eb3d-b9ea2a1eee52"
      },
      "execution_count": null,
      "outputs": [
        {
          "output_type": "execute_result",
          "data": {
            "text/plain": [
              "(3890, 10544)"
            ]
          },
          "metadata": {},
          "execution_count": 20
        }
      ]
    },
    {
      "cell_type": "code",
      "source": [
        "day23_data['Unbalance'].shape"
      ],
      "metadata": {
        "colab": {
          "base_uri": "https://localhost:8080/"
        },
        "id": "eKTIV2vln8FI",
        "outputId": "9d3d1aef-fd02-4682-e399-6ebeba5af9c6"
      },
      "execution_count": null,
      "outputs": [
        {
          "output_type": "execute_result",
          "data": {
            "text/plain": [
              "(5092, 10544)"
            ]
          },
          "metadata": {},
          "execution_count": 19
        }
      ]
    },
    {
      "cell_type": "code",
      "source": [
        "day23_data['Looseness'].shape"
      ],
      "metadata": {
        "colab": {
          "base_uri": "https://localhost:8080/"
        },
        "id": "JDxTrw9Pn8Bf",
        "outputId": "094010ae-6d50-4cb4-c369-aff30e074ba3"
      },
      "execution_count": null,
      "outputs": [
        {
          "output_type": "execute_result",
          "data": {
            "text/plain": [
              "(3069, 10544)"
            ]
          },
          "metadata": {},
          "execution_count": 21
        }
      ]
    },
    {
      "cell_type": "code",
      "source": [
        "day1_data['Normal'].shape"
      ],
      "metadata": {
        "colab": {
          "base_uri": "https://localhost:8080/"
        },
        "outputId": "bb6518fd-ea6e-4566-e1c1-203ed82a9176",
        "id": "klkLQvQpogyY"
      },
      "execution_count": null,
      "outputs": [
        {
          "output_type": "execute_result",
          "data": {
            "text/plain": [
              "(1485, 10544)"
            ]
          },
          "metadata": {},
          "execution_count": 24
        }
      ]
    },
    {
      "cell_type": "code",
      "source": [
        "day1_data['Bearing'].shape"
      ],
      "metadata": {
        "colab": {
          "base_uri": "https://localhost:8080/"
        },
        "outputId": "f80c32d9-c973-4315-94e0-f0c5176e660d",
        "id": "kkJ6qsjsogyZ"
      },
      "execution_count": null,
      "outputs": [
        {
          "output_type": "execute_result",
          "data": {
            "text/plain": [
              "(1800, 10544)"
            ]
          },
          "metadata": {},
          "execution_count": 25
        }
      ]
    },
    {
      "cell_type": "code",
      "source": [
        "day1_data['Unbalance'].shape"
      ],
      "metadata": {
        "colab": {
          "base_uri": "https://localhost:8080/"
        },
        "outputId": "c0ec2444-cb85-4839-e3a6-13f9bfb95d97",
        "id": "VurPCU95ogyZ"
      },
      "execution_count": null,
      "outputs": [
        {
          "output_type": "execute_result",
          "data": {
            "text/plain": [
              "(1117, 10544)"
            ]
          },
          "metadata": {},
          "execution_count": 26
        }
      ]
    },
    {
      "cell_type": "code",
      "source": [
        "day1_data['Looseness'].shape"
      ],
      "metadata": {
        "colab": {
          "base_uri": "https://localhost:8080/"
        },
        "outputId": "34bd9a78-de83-490a-9592-eb34def7a5ec",
        "id": "gUkufIu7ogyZ"
      },
      "execution_count": null,
      "outputs": [
        {
          "output_type": "execute_result",
          "data": {
            "text/plain": [
              "(609, 10544)"
            ]
          },
          "metadata": {},
          "execution_count": 5
        }
      ]
    },
    {
      "cell_type": "code",
      "source": [
        "day1_data['high'].shape"
      ],
      "metadata": {
        "colab": {
          "base_uri": "https://localhost:8080/"
        },
        "id": "sqIu8XYcolVQ",
        "outputId": "b4046e7a-08e2-4168-e4b5-9d02336a67b4"
      },
      "execution_count": null,
      "outputs": [
        {
          "output_type": "execute_result",
          "data": {
            "text/plain": [
              "(415, 10544)"
            ]
          },
          "metadata": {},
          "execution_count": 7
        }
      ]
    },
    {
      "cell_type": "code",
      "source": [
        "get_fft_dict(['1st_Normal'])"
      ],
      "metadata": {
        "colab": {
          "base_uri": "https://localhost:8080/"
        },
        "id": "_BVo-oNAuuO3",
        "outputId": "3e7202dc-3195-4c49-da18-198c99b7ec43"
      },
      "execution_count": null,
      "outputs": [
        {
          "output_type": "stream",
          "name": "stdout",
          "text": [
            "Normal\n"
          ]
        },
        {
          "output_type": "stream",
          "name": "stderr",
          "text": [
            "1485it [00:26, 56.60it/s]\n"
          ]
        },
        {
          "output_type": "execute_result",
          "data": {
            "text/plain": [
              "defaultdict(list,\n",
              "            {'Normal': array([[1.09580421e-01, 2.48523732e-04, 2.90716417e-04, ...,\n",
              "                     1.35898856e-02, 1.34342145e-02, 5.58731363e-03],\n",
              "                    [1.11261997e-01, 2.07214361e-04, 8.80259555e-05, ...,\n",
              "                     4.81528974e-03, 7.44121423e-03, 1.14746629e-02],\n",
              "                    [1.15813414e-01, 2.43674842e-03, 1.07876787e-04, ...,\n",
              "                     3.43994208e-03, 4.94164566e-03, 1.14538146e-02],\n",
              "                    ...,\n",
              "                    [1.04029616e-01, 3.88214232e-04, 2.51818352e-04, ...,\n",
              "                     6.48262315e-03, 1.29243226e-02, 9.03369913e-03],\n",
              "                    [1.04333903e-01, 1.54657019e-04, 2.43291263e-04, ...,\n",
              "                     5.33289495e-02, 2.88013429e-02, 1.40665386e-02],\n",
              "                    [1.07397912e-01, 1.67042753e-03, 9.86070670e-04, ...,\n",
              "                     3.23268864e-02, 2.10531966e-02, 2.70858936e-02]])})"
            ]
          },
          "metadata": {},
          "execution_count": 21
        }
      ]
    },
    {
      "cell_type": "code",
      "source": [
        "get_fft_dict(['1st_Normal'])['Normal']"
      ],
      "metadata": {
        "colab": {
          "base_uri": "https://localhost:8080/"
        },
        "id": "4J6HAN3VtgPl",
        "outputId": "22ac197d-cb5e-419c-dd9e-d13650890227"
      },
      "execution_count": null,
      "outputs": [
        {
          "output_type": "stream",
          "name": "stdout",
          "text": [
            "Normal\n"
          ]
        },
        {
          "output_type": "stream",
          "name": "stderr",
          "text": [
            "1485it [00:22, 64.76it/s]\n"
          ]
        },
        {
          "output_type": "execute_result",
          "data": {
            "text/plain": [
              "array([[1.09580421e-01, 2.48523732e-04, 2.90716417e-04, ...,\n",
              "        1.35898856e-02, 1.34342145e-02, 5.58731363e-03],\n",
              "       [1.11261997e-01, 2.07214361e-04, 8.80259555e-05, ...,\n",
              "        4.81528974e-03, 7.44121423e-03, 1.14746629e-02],\n",
              "       [1.15813414e-01, 2.43674842e-03, 1.07876787e-04, ...,\n",
              "        3.43994208e-03, 4.94164566e-03, 1.14538146e-02],\n",
              "       ...,\n",
              "       [1.04029616e-01, 3.88214232e-04, 2.51818352e-04, ...,\n",
              "        6.48262315e-03, 1.29243226e-02, 9.03369913e-03],\n",
              "       [1.04333903e-01, 1.54657019e-04, 2.43291263e-04, ...,\n",
              "        5.33289495e-02, 2.88013429e-02, 1.40665386e-02],\n",
              "       [1.07397912e-01, 1.67042753e-03, 9.86070670e-04, ...,\n",
              "        3.23268864e-02, 2.10531966e-02, 2.70858936e-02]])"
            ]
          },
          "metadata": {},
          "execution_count": 25
        }
      ]
    },
    {
      "cell_type": "code",
      "source": [
        "get_fft_dict(['1st_Normal'])['Normal'].shape"
      ],
      "metadata": {
        "colab": {
          "base_uri": "https://localhost:8080/"
        },
        "id": "JsDy4kZhxYVy",
        "outputId": "40b13919-6ba0-4f8b-d04a-ea971c0298b8"
      },
      "execution_count": null,
      "outputs": [
        {
          "output_type": "stream",
          "name": "stdout",
          "text": [
            "Normal\n"
          ]
        },
        {
          "output_type": "stream",
          "name": "stderr",
          "text": [
            "1485it [00:42, 34.62it/s]\n"
          ]
        },
        {
          "output_type": "execute_result",
          "data": {
            "text/plain": [
              "(1485, 10544)"
            ]
          },
          "metadata": {},
          "execution_count": 27
        }
      ]
    },
    {
      "cell_type": "code",
      "source": [
        "fig, ax = plt.subplots()\n",
        "\n",
        "ax.plot(get_fft_dict(['1st_Normal'])['Normal'], label='Normal')\n",
        "plt.show()"
      ],
      "metadata": {
        "colab": {
          "base_uri": "https://localhost:8080/",
          "height": 1000
        },
        "id": "kKP1LPQyvt5D",
        "outputId": "b0496661-a048-4677-ac34-f7341c0a8ac5"
      },
      "execution_count": null,
      "outputs": [
        {
          "output_type": "stream",
          "name": "stdout",
          "text": [
            "Normal\n"
          ]
        },
        {
          "output_type": "stream",
          "name": "stderr",
          "text": [
            "1485it [00:25, 58.26it/s]\n"
          ]
        },
        {
          "output_type": "execute_result",
          "data": {
            "text/plain": [
              "[<matplotlib.lines.Line2D at 0x7f984c4a69a0>,\n",
              " <matplotlib.lines.Line2D at 0x7f98f6d62580>,\n",
              " <matplotlib.lines.Line2D at 0x7f984c493d90>,\n",
              " <matplotlib.lines.Line2D at 0x7f984c493fd0>,\n",
              " <matplotlib.lines.Line2D at 0x7f984c493820>,\n",
              " <matplotlib.lines.Line2D at 0x7f984c48db50>,\n",
              " <matplotlib.lines.Line2D at 0x7f984c48d9a0>,\n",
              " <matplotlib.lines.Line2D at 0x7f984c48d460>,\n",
              " <matplotlib.lines.Line2D at 0x7f984c48d220>,\n",
              " <matplotlib.lines.Line2D at 0x7f984c48d250>,\n",
              " <matplotlib.lines.Line2D at 0x7f98f6d62070>,\n",
              " <matplotlib.lines.Line2D at 0x7f984c48d100>,\n",
              " <matplotlib.lines.Line2D at 0x7f984c48dcd0>,\n",
              " <matplotlib.lines.Line2D at 0x7f984c48d430>,\n",
              " <matplotlib.lines.Line2D at 0x7f984c48d640>,\n",
              " <matplotlib.lines.Line2D at 0x7f984c48d490>,\n",
              " <matplotlib.lines.Line2D at 0x7f984c48dc70>,\n",
              " <matplotlib.lines.Line2D at 0x7f984c48d550>,\n",
              " <matplotlib.lines.Line2D at 0x7f984c48dca0>,\n",
              " <matplotlib.lines.Line2D at 0x7f984c48dd90>,\n",
              " <matplotlib.lines.Line2D at 0x7f984c48dbe0>,\n",
              " <matplotlib.lines.Line2D at 0x7f984c48de80>,\n",
              " <matplotlib.lines.Line2D at 0x7f984c48df40>,\n",
              " <matplotlib.lines.Line2D at 0x7f984c48dfa0>,\n",
              " <matplotlib.lines.Line2D at 0x7f984c490100>,\n",
              " <matplotlib.lines.Line2D at 0x7f984c4901c0>,\n",
              " <matplotlib.lines.Line2D at 0x7f984c490280>,\n",
              " <matplotlib.lines.Line2D at 0x7f984c490340>,\n",
              " <matplotlib.lines.Line2D at 0x7f984c490400>,\n",
              " <matplotlib.lines.Line2D at 0x7f984c4904c0>,\n",
              " <matplotlib.lines.Line2D at 0x7f984c490580>,\n",
              " <matplotlib.lines.Line2D at 0x7f984c490640>,\n",
              " <matplotlib.lines.Line2D at 0x7f984c490700>,\n",
              " <matplotlib.lines.Line2D at 0x7f984c4907c0>,\n",
              " <matplotlib.lines.Line2D at 0x7f984c490880>,\n",
              " <matplotlib.lines.Line2D at 0x7f984c490940>,\n",
              " <matplotlib.lines.Line2D at 0x7f984c490a00>,\n",
              " <matplotlib.lines.Line2D at 0x7f984c490ac0>,\n",
              " <matplotlib.lines.Line2D at 0x7f984c490b80>,\n",
              " <matplotlib.lines.Line2D at 0x7f984c490c40>,\n",
              " <matplotlib.lines.Line2D at 0x7f984c490d00>,\n",
              " <matplotlib.lines.Line2D at 0x7f984c490dc0>,\n",
              " <matplotlib.lines.Line2D at 0x7f984c490e80>,\n",
              " <matplotlib.lines.Line2D at 0x7f984c490f40>,\n",
              " <matplotlib.lines.Line2D at 0x7f984c490fa0>,\n",
              " <matplotlib.lines.Line2D at 0x7f984c3f3100>,\n",
              " <matplotlib.lines.Line2D at 0x7f984c3f31c0>,\n",
              " <matplotlib.lines.Line2D at 0x7f984c3f3280>,\n",
              " <matplotlib.lines.Line2D at 0x7f984c3f3340>,\n",
              " <matplotlib.lines.Line2D at 0x7f984c3f3400>,\n",
              " <matplotlib.lines.Line2D at 0x7f984c3f34c0>,\n",
              " <matplotlib.lines.Line2D at 0x7f984c3f3580>,\n",
              " <matplotlib.lines.Line2D at 0x7f984c3f3640>,\n",
              " <matplotlib.lines.Line2D at 0x7f984c3f3700>,\n",
              " <matplotlib.lines.Line2D at 0x7f984c3f37c0>,\n",
              " <matplotlib.lines.Line2D at 0x7f984c3f3880>,\n",
              " <matplotlib.lines.Line2D at 0x7f984c3f3940>,\n",
              " <matplotlib.lines.Line2D at 0x7f984c3f3a00>,\n",
              " <matplotlib.lines.Line2D at 0x7f984c3f3ac0>,\n",
              " <matplotlib.lines.Line2D at 0x7f984c3f3b80>,\n",
              " <matplotlib.lines.Line2D at 0x7f984c3f3c40>,\n",
              " <matplotlib.lines.Line2D at 0x7f984c3f3d00>,\n",
              " <matplotlib.lines.Line2D at 0x7f984c3f3dc0>,\n",
              " <matplotlib.lines.Line2D at 0x7f984c3f3e80>,\n",
              " <matplotlib.lines.Line2D at 0x7f984c3f3f40>,\n",
              " <matplotlib.lines.Line2D at 0x7f984c3f3fa0>,\n",
              " <matplotlib.lines.Line2D at 0x7f984c3f8100>,\n",
              " <matplotlib.lines.Line2D at 0x7f984c3f81c0>,\n",
              " <matplotlib.lines.Line2D at 0x7f984c3f8280>,\n",
              " <matplotlib.lines.Line2D at 0x7f984c3f8340>,\n",
              " <matplotlib.lines.Line2D at 0x7f984c3f8400>,\n",
              " <matplotlib.lines.Line2D at 0x7f984c3f84f0>,\n",
              " <matplotlib.lines.Line2D at 0x7f984c3f85b0>,\n",
              " <matplotlib.lines.Line2D at 0x7f984c3f8670>,\n",
              " <matplotlib.lines.Line2D at 0x7f984c3f8730>,\n",
              " <matplotlib.lines.Line2D at 0x7f984c3f87f0>,\n",
              " <matplotlib.lines.Line2D at 0x7f984c3f88b0>,\n",
              " <matplotlib.lines.Line2D at 0x7f984c3f8970>,\n",
              " <matplotlib.lines.Line2D at 0x7f984c3f8a30>,\n",
              " <matplotlib.lines.Line2D at 0x7f984c3f8af0>,\n",
              " <matplotlib.lines.Line2D at 0x7f984c3f8bb0>,\n",
              " <matplotlib.lines.Line2D at 0x7f984c3f8c70>,\n",
              " <matplotlib.lines.Line2D at 0x7f984c3f8d30>,\n",
              " <matplotlib.lines.Line2D at 0x7f984c3f8df0>,\n",
              " <matplotlib.lines.Line2D at 0x7f984c3f8eb0>,\n",
              " <matplotlib.lines.Line2D at 0x7f984c3f8f70>,\n",
              " <matplotlib.lines.Line2D at 0x7f984c404070>,\n",
              " <matplotlib.lines.Line2D at 0x7f984c404130>,\n",
              " <matplotlib.lines.Line2D at 0x7f984c4041f0>,\n",
              " <matplotlib.lines.Line2D at 0x7f984c4042b0>,\n",
              " <matplotlib.lines.Line2D at 0x7f984c404370>,\n",
              " <matplotlib.lines.Line2D at 0x7f984c404430>,\n",
              " <matplotlib.lines.Line2D at 0x7f984c4044f0>,\n",
              " <matplotlib.lines.Line2D at 0x7f984c4045b0>,\n",
              " <matplotlib.lines.Line2D at 0x7f984c404670>,\n",
              " <matplotlib.lines.Line2D at 0x7f984c404730>,\n",
              " <matplotlib.lines.Line2D at 0x7f984c4047f0>,\n",
              " <matplotlib.lines.Line2D at 0x7f984c4048b0>,\n",
              " <matplotlib.lines.Line2D at 0x7f984c404970>,\n",
              " <matplotlib.lines.Line2D at 0x7f984c404a30>,\n",
              " <matplotlib.lines.Line2D at 0x7f984c404b20>,\n",
              " <matplotlib.lines.Line2D at 0x7f984c404be0>,\n",
              " <matplotlib.lines.Line2D at 0x7f984c404ca0>,\n",
              " <matplotlib.lines.Line2D at 0x7f984c404d60>,\n",
              " <matplotlib.lines.Line2D at 0x7f984c404e20>,\n",
              " <matplotlib.lines.Line2D at 0x7f984c404ee0>,\n",
              " <matplotlib.lines.Line2D at 0x7f984c404fa0>,\n",
              " <matplotlib.lines.Line2D at 0x7f984c3e90a0>,\n",
              " <matplotlib.lines.Line2D at 0x7f984c3e9160>,\n",
              " <matplotlib.lines.Line2D at 0x7f984c3e9220>,\n",
              " <matplotlib.lines.Line2D at 0x7f984c3e92e0>,\n",
              " <matplotlib.lines.Line2D at 0x7f984c3e93a0>,\n",
              " <matplotlib.lines.Line2D at 0x7f984c3e9460>,\n",
              " <matplotlib.lines.Line2D at 0x7f984c3e9520>,\n",
              " <matplotlib.lines.Line2D at 0x7f984c3e95e0>,\n",
              " <matplotlib.lines.Line2D at 0x7f984c3e96a0>,\n",
              " <matplotlib.lines.Line2D at 0x7f984c3e9760>,\n",
              " <matplotlib.lines.Line2D at 0x7f984c3e9820>,\n",
              " <matplotlib.lines.Line2D at 0x7f984c3e98e0>,\n",
              " <matplotlib.lines.Line2D at 0x7f984c3e99a0>,\n",
              " <matplotlib.lines.Line2D at 0x7f984c3e9a60>,\n",
              " <matplotlib.lines.Line2D at 0x7f984c3e9b20>,\n",
              " <matplotlib.lines.Line2D at 0x7f984c3e9be0>,\n",
              " <matplotlib.lines.Line2D at 0x7f984c3e9ca0>,\n",
              " <matplotlib.lines.Line2D at 0x7f984c3e9d60>,\n",
              " <matplotlib.lines.Line2D at 0x7f984c3e9e20>,\n",
              " <matplotlib.lines.Line2D at 0x7f984c3e9ee0>,\n",
              " <matplotlib.lines.Line2D at 0x7f984c3e9fa0>,\n",
              " <matplotlib.lines.Line2D at 0x7f984c3e60a0>,\n",
              " <matplotlib.lines.Line2D at 0x7f984c3e6160>,\n",
              " <matplotlib.lines.Line2D at 0x7f984c3e6220>,\n",
              " <matplotlib.lines.Line2D at 0x7f984c3e62e0>,\n",
              " <matplotlib.lines.Line2D at 0x7f984c3e63a0>,\n",
              " <matplotlib.lines.Line2D at 0x7f984c3e6460>,\n",
              " <matplotlib.lines.Line2D at 0x7f984c3e6520>,\n",
              " <matplotlib.lines.Line2D at 0x7f984c3e65e0>,\n",
              " <matplotlib.lines.Line2D at 0x7f984c3e66a0>,\n",
              " <matplotlib.lines.Line2D at 0x7f984c3e6790>,\n",
              " <matplotlib.lines.Line2D at 0x7f984c3e6850>,\n",
              " <matplotlib.lines.Line2D at 0x7f984c3e6910>,\n",
              " <matplotlib.lines.Line2D at 0x7f984c3e69d0>,\n",
              " <matplotlib.lines.Line2D at 0x7f984c3e6a90>,\n",
              " <matplotlib.lines.Line2D at 0x7f984c3e6b50>,\n",
              " <matplotlib.lines.Line2D at 0x7f984c3e6c10>,\n",
              " <matplotlib.lines.Line2D at 0x7f984c3e6cd0>,\n",
              " <matplotlib.lines.Line2D at 0x7f984c3e6d90>,\n",
              " <matplotlib.lines.Line2D at 0x7f984c3e6e50>,\n",
              " <matplotlib.lines.Line2D at 0x7f984c3e6f10>,\n",
              " <matplotlib.lines.Line2D at 0x7f984c3e6fd0>,\n",
              " <matplotlib.lines.Line2D at 0x7f984c3ea0d0>,\n",
              " <matplotlib.lines.Line2D at 0x7f984c3ea190>,\n",
              " <matplotlib.lines.Line2D at 0x7f984c3ea250>,\n",
              " <matplotlib.lines.Line2D at 0x7f984c3ea310>,\n",
              " <matplotlib.lines.Line2D at 0x7f984c3ea3d0>,\n",
              " <matplotlib.lines.Line2D at 0x7f984c3ea490>,\n",
              " <matplotlib.lines.Line2D at 0x7f984c3ea550>,\n",
              " <matplotlib.lines.Line2D at 0x7f984c3ea610>,\n",
              " <matplotlib.lines.Line2D at 0x7f984c3ea6d0>,\n",
              " <matplotlib.lines.Line2D at 0x7f984c3ea790>,\n",
              " <matplotlib.lines.Line2D at 0x7f984c3ea850>,\n",
              " <matplotlib.lines.Line2D at 0x7f984c3ea910>,\n",
              " <matplotlib.lines.Line2D at 0x7f984c3ea9d0>,\n",
              " <matplotlib.lines.Line2D at 0x7f984c3eaa90>,\n",
              " <matplotlib.lines.Line2D at 0x7f984c3eab50>,\n",
              " <matplotlib.lines.Line2D at 0x7f984c3eac10>,\n",
              " <matplotlib.lines.Line2D at 0x7f984c3eacd0>,\n",
              " <matplotlib.lines.Line2D at 0x7f984c3ead90>,\n",
              " <matplotlib.lines.Line2D at 0x7f984c3eae50>,\n",
              " <matplotlib.lines.Line2D at 0x7f984c3eaf10>,\n",
              " <matplotlib.lines.Line2D at 0x7f984c3eafd0>,\n",
              " <matplotlib.lines.Line2D at 0x7f984c4110d0>,\n",
              " <matplotlib.lines.Line2D at 0x7f984c411190>,\n",
              " <matplotlib.lines.Line2D at 0x7f984c411250>,\n",
              " <matplotlib.lines.Line2D at 0x7f984c411310>,\n",
              " <matplotlib.lines.Line2D at 0x7f984c4113d0>,\n",
              " <matplotlib.lines.Line2D at 0x7f984c411490>,\n",
              " <matplotlib.lines.Line2D at 0x7f984c411550>,\n",
              " <matplotlib.lines.Line2D at 0x7f984c411610>,\n",
              " <matplotlib.lines.Line2D at 0x7f984c4116d0>,\n",
              " <matplotlib.lines.Line2D at 0x7f984c411790>,\n",
              " <matplotlib.lines.Line2D at 0x7f984c411850>,\n",
              " <matplotlib.lines.Line2D at 0x7f984c411910>,\n",
              " <matplotlib.lines.Line2D at 0x7f984c4119d0>,\n",
              " <matplotlib.lines.Line2D at 0x7f984c411a90>,\n",
              " <matplotlib.lines.Line2D at 0x7f984c411b50>,\n",
              " <matplotlib.lines.Line2D at 0x7f984c411c10>,\n",
              " <matplotlib.lines.Line2D at 0x7f984c411cd0>,\n",
              " <matplotlib.lines.Line2D at 0x7f984c411d90>,\n",
              " <matplotlib.lines.Line2D at 0x7f984c411e50>,\n",
              " <matplotlib.lines.Line2D at 0x7f984c411f10>,\n",
              " <matplotlib.lines.Line2D at 0x7f984c411fd0>,\n",
              " <matplotlib.lines.Line2D at 0x7f984c4a5b80>,\n",
              " <matplotlib.lines.Line2D at 0x7f984c49ca00>,\n",
              " <matplotlib.lines.Line2D at 0x7f98f6bf5a00>,\n",
              " <matplotlib.lines.Line2D at 0x7f984c4020a0>,\n",
              " <matplotlib.lines.Line2D at 0x7f984c402160>,\n",
              " <matplotlib.lines.Line2D at 0x7f984c402220>,\n",
              " <matplotlib.lines.Line2D at 0x7f984c4022e0>,\n",
              " <matplotlib.lines.Line2D at 0x7f984c4023a0>,\n",
              " <matplotlib.lines.Line2D at 0x7f984c402460>,\n",
              " <matplotlib.lines.Line2D at 0x7f984c402520>,\n",
              " <matplotlib.lines.Line2D at 0x7f984c4025e0>,\n",
              " <matplotlib.lines.Line2D at 0x7f984c4026a0>,\n",
              " <matplotlib.lines.Line2D at 0x7f984c402760>,\n",
              " <matplotlib.lines.Line2D at 0x7f984c402820>,\n",
              " <matplotlib.lines.Line2D at 0x7f984c4028e0>,\n",
              " <matplotlib.lines.Line2D at 0x7f984c4029a0>,\n",
              " <matplotlib.lines.Line2D at 0x7f984c402a60>,\n",
              " <matplotlib.lines.Line2D at 0x7f984c402b20>,\n",
              " <matplotlib.lines.Line2D at 0x7f984c402be0>,\n",
              " <matplotlib.lines.Line2D at 0x7f984c402ca0>,\n",
              " <matplotlib.lines.Line2D at 0x7f984c402d60>,\n",
              " <matplotlib.lines.Line2D at 0x7f984c402e20>,\n",
              " <matplotlib.lines.Line2D at 0x7f984c402ee0>,\n",
              " <matplotlib.lines.Line2D at 0x7f984c402fa0>,\n",
              " <matplotlib.lines.Line2D at 0x7f984c4210a0>,\n",
              " <matplotlib.lines.Line2D at 0x7f984c421160>,\n",
              " <matplotlib.lines.Line2D at 0x7f984c421220>,\n",
              " <matplotlib.lines.Line2D at 0x7f984c4212e0>,\n",
              " <matplotlib.lines.Line2D at 0x7f984c4213a0>,\n",
              " <matplotlib.lines.Line2D at 0x7f984c421460>,\n",
              " <matplotlib.lines.Line2D at 0x7f984c421520>,\n",
              " <matplotlib.lines.Line2D at 0x7f984c4215e0>,\n",
              " <matplotlib.lines.Line2D at 0x7f984c4216a0>,\n",
              " <matplotlib.lines.Line2D at 0x7f984c421760>,\n",
              " <matplotlib.lines.Line2D at 0x7f984c421820>,\n",
              " <matplotlib.lines.Line2D at 0x7f984c4218e0>,\n",
              " <matplotlib.lines.Line2D at 0x7f984c4219a0>,\n",
              " <matplotlib.lines.Line2D at 0x7f984c421a60>,\n",
              " <matplotlib.lines.Line2D at 0x7f984c421b20>,\n",
              " <matplotlib.lines.Line2D at 0x7f984c421be0>,\n",
              " <matplotlib.lines.Line2D at 0x7f984c421ca0>,\n",
              " <matplotlib.lines.Line2D at 0x7f984c421d60>,\n",
              " <matplotlib.lines.Line2D at 0x7f984c421e20>,\n",
              " <matplotlib.lines.Line2D at 0x7f984c421ee0>,\n",
              " <matplotlib.lines.Line2D at 0x7f984c421fa0>,\n",
              " <matplotlib.lines.Line2D at 0x7f984c4290a0>,\n",
              " <matplotlib.lines.Line2D at 0x7f984c429160>,\n",
              " <matplotlib.lines.Line2D at 0x7f984c429220>,\n",
              " <matplotlib.lines.Line2D at 0x7f984c4292e0>,\n",
              " <matplotlib.lines.Line2D at 0x7f984c4293a0>,\n",
              " <matplotlib.lines.Line2D at 0x7f984c429460>,\n",
              " <matplotlib.lines.Line2D at 0x7f984c429520>,\n",
              " <matplotlib.lines.Line2D at 0x7f984c4295e0>,\n",
              " <matplotlib.lines.Line2D at 0x7f984c4296a0>,\n",
              " <matplotlib.lines.Line2D at 0x7f984c429760>,\n",
              " <matplotlib.lines.Line2D at 0x7f984c429820>,\n",
              " <matplotlib.lines.Line2D at 0x7f984c4298e0>,\n",
              " <matplotlib.lines.Line2D at 0x7f984c4299a0>,\n",
              " <matplotlib.lines.Line2D at 0x7f984c429a60>,\n",
              " <matplotlib.lines.Line2D at 0x7f984c429b20>,\n",
              " <matplotlib.lines.Line2D at 0x7f984c429be0>,\n",
              " <matplotlib.lines.Line2D at 0x7f984c429ca0>,\n",
              " <matplotlib.lines.Line2D at 0x7f984c429d60>,\n",
              " <matplotlib.lines.Line2D at 0x7f984c429e20>,\n",
              " <matplotlib.lines.Line2D at 0x7f984c429ee0>,\n",
              " <matplotlib.lines.Line2D at 0x7f984c429fa0>,\n",
              " <matplotlib.lines.Line2D at 0x7f984c42f0a0>,\n",
              " <matplotlib.lines.Line2D at 0x7f984c42f160>,\n",
              " <matplotlib.lines.Line2D at 0x7f984c42f220>,\n",
              " <matplotlib.lines.Line2D at 0x7f984c42f2e0>,\n",
              " <matplotlib.lines.Line2D at 0x7f984c42f3a0>,\n",
              " <matplotlib.lines.Line2D at 0x7f984c42f460>,\n",
              " <matplotlib.lines.Line2D at 0x7f984c42f520>,\n",
              " <matplotlib.lines.Line2D at 0x7f984c42f5e0>,\n",
              " <matplotlib.lines.Line2D at 0x7f984c42f6a0>,\n",
              " <matplotlib.lines.Line2D at 0x7f984c42f760>,\n",
              " <matplotlib.lines.Line2D at 0x7f984c42f820>,\n",
              " <matplotlib.lines.Line2D at 0x7f984c42f8e0>,\n",
              " <matplotlib.lines.Line2D at 0x7f984c42f9a0>,\n",
              " <matplotlib.lines.Line2D at 0x7f984c42fa60>,\n",
              " <matplotlib.lines.Line2D at 0x7f984c42fb20>,\n",
              " <matplotlib.lines.Line2D at 0x7f984c42fbe0>,\n",
              " <matplotlib.lines.Line2D at 0x7f984c42fca0>,\n",
              " <matplotlib.lines.Line2D at 0x7f984c42fd60>,\n",
              " <matplotlib.lines.Line2D at 0x7f984c42fe20>,\n",
              " <matplotlib.lines.Line2D at 0x7f984c42fee0>,\n",
              " <matplotlib.lines.Line2D at 0x7f984c42ffa0>,\n",
              " <matplotlib.lines.Line2D at 0x7f984c4360a0>,\n",
              " <matplotlib.lines.Line2D at 0x7f984c436160>,\n",
              " <matplotlib.lines.Line2D at 0x7f984c436220>,\n",
              " <matplotlib.lines.Line2D at 0x7f984c4362e0>,\n",
              " <matplotlib.lines.Line2D at 0x7f984c4363a0>,\n",
              " <matplotlib.lines.Line2D at 0x7f984c436460>,\n",
              " <matplotlib.lines.Line2D at 0x7f984c436520>,\n",
              " <matplotlib.lines.Line2D at 0x7f984c4365e0>,\n",
              " <matplotlib.lines.Line2D at 0x7f984c4366a0>,\n",
              " <matplotlib.lines.Line2D at 0x7f984c436760>,\n",
              " <matplotlib.lines.Line2D at 0x7f984c436820>,\n",
              " <matplotlib.lines.Line2D at 0x7f984c4368e0>,\n",
              " <matplotlib.lines.Line2D at 0x7f984c4369a0>,\n",
              " <matplotlib.lines.Line2D at 0x7f984c436a60>,\n",
              " <matplotlib.lines.Line2D at 0x7f984c436b20>,\n",
              " <matplotlib.lines.Line2D at 0x7f984c436be0>,\n",
              " <matplotlib.lines.Line2D at 0x7f984c436ca0>,\n",
              " <matplotlib.lines.Line2D at 0x7f984c436d60>,\n",
              " <matplotlib.lines.Line2D at 0x7f984c436e20>,\n",
              " <matplotlib.lines.Line2D at 0x7f984c436ee0>,\n",
              " <matplotlib.lines.Line2D at 0x7f984c436fa0>,\n",
              " <matplotlib.lines.Line2D at 0x7f984c43e0a0>,\n",
              " <matplotlib.lines.Line2D at 0x7f984c43e160>,\n",
              " <matplotlib.lines.Line2D at 0x7f984c43e220>,\n",
              " <matplotlib.lines.Line2D at 0x7f984c43e2e0>,\n",
              " <matplotlib.lines.Line2D at 0x7f984c43e3a0>,\n",
              " <matplotlib.lines.Line2D at 0x7f984c43e460>,\n",
              " <matplotlib.lines.Line2D at 0x7f984c43e520>,\n",
              " <matplotlib.lines.Line2D at 0x7f984c43e5e0>,\n",
              " <matplotlib.lines.Line2D at 0x7f984c43e6a0>,\n",
              " <matplotlib.lines.Line2D at 0x7f984c43e760>,\n",
              " <matplotlib.lines.Line2D at 0x7f984c43e820>,\n",
              " <matplotlib.lines.Line2D at 0x7f984c43e8e0>,\n",
              " <matplotlib.lines.Line2D at 0x7f984c43e9a0>,\n",
              " <matplotlib.lines.Line2D at 0x7f984c43ea60>,\n",
              " <matplotlib.lines.Line2D at 0x7f984c43eb20>,\n",
              " <matplotlib.lines.Line2D at 0x7f984c43ebe0>,\n",
              " <matplotlib.lines.Line2D at 0x7f984c43eca0>,\n",
              " <matplotlib.lines.Line2D at 0x7f984c43ed60>,\n",
              " <matplotlib.lines.Line2D at 0x7f984c43ee20>,\n",
              " <matplotlib.lines.Line2D at 0x7f984c43eee0>,\n",
              " <matplotlib.lines.Line2D at 0x7f984c43efa0>,\n",
              " <matplotlib.lines.Line2D at 0x7f984c4450a0>,\n",
              " <matplotlib.lines.Line2D at 0x7f984c445160>,\n",
              " <matplotlib.lines.Line2D at 0x7f984c445220>,\n",
              " <matplotlib.lines.Line2D at 0x7f984c4452e0>,\n",
              " <matplotlib.lines.Line2D at 0x7f984c4453a0>,\n",
              " <matplotlib.lines.Line2D at 0x7f984c445460>,\n",
              " <matplotlib.lines.Line2D at 0x7f984c445520>,\n",
              " <matplotlib.lines.Line2D at 0x7f984c4455e0>,\n",
              " <matplotlib.lines.Line2D at 0x7f984c4456a0>,\n",
              " <matplotlib.lines.Line2D at 0x7f984c445760>,\n",
              " <matplotlib.lines.Line2D at 0x7f984c445820>,\n",
              " <matplotlib.lines.Line2D at 0x7f984c4458e0>,\n",
              " <matplotlib.lines.Line2D at 0x7f984c4459a0>,\n",
              " <matplotlib.lines.Line2D at 0x7f984c445a60>,\n",
              " <matplotlib.lines.Line2D at 0x7f984c445b20>,\n",
              " <matplotlib.lines.Line2D at 0x7f984c445be0>,\n",
              " <matplotlib.lines.Line2D at 0x7f984c445ca0>,\n",
              " <matplotlib.lines.Line2D at 0x7f984c445d60>,\n",
              " <matplotlib.lines.Line2D at 0x7f984c445e20>,\n",
              " <matplotlib.lines.Line2D at 0x7f984c445ee0>,\n",
              " <matplotlib.lines.Line2D at 0x7f984c445fa0>,\n",
              " <matplotlib.lines.Line2D at 0x7f984c44c0a0>,\n",
              " <matplotlib.lines.Line2D at 0x7f984c44c160>,\n",
              " <matplotlib.lines.Line2D at 0x7f984c44c220>,\n",
              " <matplotlib.lines.Line2D at 0x7f984c44c2e0>,\n",
              " <matplotlib.lines.Line2D at 0x7f984c44c3a0>,\n",
              " <matplotlib.lines.Line2D at 0x7f984c44c460>,\n",
              " <matplotlib.lines.Line2D at 0x7f984c44c520>,\n",
              " <matplotlib.lines.Line2D at 0x7f984c44c5e0>,\n",
              " <matplotlib.lines.Line2D at 0x7f984c44c6a0>,\n",
              " <matplotlib.lines.Line2D at 0x7f984c44c760>,\n",
              " <matplotlib.lines.Line2D at 0x7f984c44c820>,\n",
              " <matplotlib.lines.Line2D at 0x7f984c44c8e0>,\n",
              " <matplotlib.lines.Line2D at 0x7f984c44c9a0>,\n",
              " <matplotlib.lines.Line2D at 0x7f984c44ca60>,\n",
              " <matplotlib.lines.Line2D at 0x7f984c44cb20>,\n",
              " <matplotlib.lines.Line2D at 0x7f984c44cbe0>,\n",
              " <matplotlib.lines.Line2D at 0x7f984c44cca0>,\n",
              " <matplotlib.lines.Line2D at 0x7f984c44cd60>,\n",
              " <matplotlib.lines.Line2D at 0x7f984c44ce20>,\n",
              " <matplotlib.lines.Line2D at 0x7f984c44cee0>,\n",
              " <matplotlib.lines.Line2D at 0x7f984c44cfa0>,\n",
              " <matplotlib.lines.Line2D at 0x7f984c4540a0>,\n",
              " <matplotlib.lines.Line2D at 0x7f984c454160>,\n",
              " <matplotlib.lines.Line2D at 0x7f984c454220>,\n",
              " <matplotlib.lines.Line2D at 0x7f984c4542e0>,\n",
              " <matplotlib.lines.Line2D at 0x7f984c4543a0>,\n",
              " <matplotlib.lines.Line2D at 0x7f984c454460>,\n",
              " <matplotlib.lines.Line2D at 0x7f984c454520>,\n",
              " <matplotlib.lines.Line2D at 0x7f984c4545e0>,\n",
              " <matplotlib.lines.Line2D at 0x7f984c4546a0>,\n",
              " <matplotlib.lines.Line2D at 0x7f984c454760>,\n",
              " <matplotlib.lines.Line2D at 0x7f984c454820>,\n",
              " <matplotlib.lines.Line2D at 0x7f984c4548e0>,\n",
              " <matplotlib.lines.Line2D at 0x7f984c4549a0>,\n",
              " <matplotlib.lines.Line2D at 0x7f984c454a60>,\n",
              " <matplotlib.lines.Line2D at 0x7f984c454b20>,\n",
              " <matplotlib.lines.Line2D at 0x7f984c454be0>,\n",
              " <matplotlib.lines.Line2D at 0x7f984c454ca0>,\n",
              " <matplotlib.lines.Line2D at 0x7f984c454d60>,\n",
              " <matplotlib.lines.Line2D at 0x7f984c454e20>,\n",
              " <matplotlib.lines.Line2D at 0x7f984c454ee0>,\n",
              " <matplotlib.lines.Line2D at 0x7f984c454fa0>,\n",
              " <matplotlib.lines.Line2D at 0x7f984c39b0a0>,\n",
              " <matplotlib.lines.Line2D at 0x7f984c39b160>,\n",
              " <matplotlib.lines.Line2D at 0x7f984c39b220>,\n",
              " <matplotlib.lines.Line2D at 0x7f984c39b2e0>,\n",
              " <matplotlib.lines.Line2D at 0x7f984c39b3a0>,\n",
              " <matplotlib.lines.Line2D at 0x7f984c39b460>,\n",
              " <matplotlib.lines.Line2D at 0x7f984c39b520>,\n",
              " <matplotlib.lines.Line2D at 0x7f984c39b5e0>,\n",
              " <matplotlib.lines.Line2D at 0x7f984c39b6a0>,\n",
              " <matplotlib.lines.Line2D at 0x7f984c39b760>,\n",
              " <matplotlib.lines.Line2D at 0x7f984c39b820>,\n",
              " <matplotlib.lines.Line2D at 0x7f984c39b8e0>,\n",
              " <matplotlib.lines.Line2D at 0x7f984c39b9a0>,\n",
              " <matplotlib.lines.Line2D at 0x7f984c39ba60>,\n",
              " <matplotlib.lines.Line2D at 0x7f984c39bb20>,\n",
              " <matplotlib.lines.Line2D at 0x7f984c39bbe0>,\n",
              " <matplotlib.lines.Line2D at 0x7f984c39bca0>,\n",
              " <matplotlib.lines.Line2D at 0x7f984c39bd60>,\n",
              " <matplotlib.lines.Line2D at 0x7f984c39be20>,\n",
              " <matplotlib.lines.Line2D at 0x7f984c39bee0>,\n",
              " <matplotlib.lines.Line2D at 0x7f984c39bfa0>,\n",
              " <matplotlib.lines.Line2D at 0x7f984c3a20a0>,\n",
              " <matplotlib.lines.Line2D at 0x7f984c3a2160>,\n",
              " <matplotlib.lines.Line2D at 0x7f984c3a2220>,\n",
              " <matplotlib.lines.Line2D at 0x7f984c3a22e0>,\n",
              " <matplotlib.lines.Line2D at 0x7f984c3a23a0>,\n",
              " <matplotlib.lines.Line2D at 0x7f984c3a2460>,\n",
              " <matplotlib.lines.Line2D at 0x7f984c3a2520>,\n",
              " <matplotlib.lines.Line2D at 0x7f984c3a25e0>,\n",
              " <matplotlib.lines.Line2D at 0x7f984c3a26a0>,\n",
              " <matplotlib.lines.Line2D at 0x7f984c3a2760>,\n",
              " <matplotlib.lines.Line2D at 0x7f984c3a2820>,\n",
              " <matplotlib.lines.Line2D at 0x7f984c3a28e0>,\n",
              " <matplotlib.lines.Line2D at 0x7f984c3a29a0>,\n",
              " <matplotlib.lines.Line2D at 0x7f984c3a2a60>,\n",
              " <matplotlib.lines.Line2D at 0x7f984c3a2b20>,\n",
              " <matplotlib.lines.Line2D at 0x7f984c3a2be0>,\n",
              " <matplotlib.lines.Line2D at 0x7f984c3a2ca0>,\n",
              " <matplotlib.lines.Line2D at 0x7f984c3a2d60>,\n",
              " <matplotlib.lines.Line2D at 0x7f984c3a2e20>,\n",
              " <matplotlib.lines.Line2D at 0x7f984c3a2ee0>,\n",
              " <matplotlib.lines.Line2D at 0x7f984c3a2fa0>,\n",
              " <matplotlib.lines.Line2D at 0x7f984c3aa0a0>,\n",
              " <matplotlib.lines.Line2D at 0x7f984c3aa160>,\n",
              " <matplotlib.lines.Line2D at 0x7f984c3aa220>,\n",
              " <matplotlib.lines.Line2D at 0x7f984c3aa2e0>,\n",
              " <matplotlib.lines.Line2D at 0x7f984c3aa3a0>,\n",
              " <matplotlib.lines.Line2D at 0x7f984c3aa460>,\n",
              " <matplotlib.lines.Line2D at 0x7f984c3aa520>,\n",
              " <matplotlib.lines.Line2D at 0x7f984c3aa5e0>,\n",
              " <matplotlib.lines.Line2D at 0x7f984c3aa6a0>,\n",
              " <matplotlib.lines.Line2D at 0x7f984c3aa760>,\n",
              " <matplotlib.lines.Line2D at 0x7f984c3aa820>,\n",
              " <matplotlib.lines.Line2D at 0x7f984c3aa8e0>,\n",
              " <matplotlib.lines.Line2D at 0x7f984c3aa9a0>,\n",
              " <matplotlib.lines.Line2D at 0x7f984c3aaa60>,\n",
              " <matplotlib.lines.Line2D at 0x7f984c3aab20>,\n",
              " <matplotlib.lines.Line2D at 0x7f984c3aabe0>,\n",
              " <matplotlib.lines.Line2D at 0x7f984c3aaca0>,\n",
              " <matplotlib.lines.Line2D at 0x7f984c3aad60>,\n",
              " <matplotlib.lines.Line2D at 0x7f984c3aae20>,\n",
              " <matplotlib.lines.Line2D at 0x7f984c3aaee0>,\n",
              " <matplotlib.lines.Line2D at 0x7f984c3aafd0>,\n",
              " <matplotlib.lines.Line2D at 0x7f984c3b10d0>,\n",
              " <matplotlib.lines.Line2D at 0x7f984c3b1190>,\n",
              " <matplotlib.lines.Line2D at 0x7f984c3b1250>,\n",
              " <matplotlib.lines.Line2D at 0x7f984c3b1310>,\n",
              " <matplotlib.lines.Line2D at 0x7f984c3b13d0>,\n",
              " <matplotlib.lines.Line2D at 0x7f984c3b1490>,\n",
              " <matplotlib.lines.Line2D at 0x7f984c3b1550>,\n",
              " <matplotlib.lines.Line2D at 0x7f984c3b1610>,\n",
              " <matplotlib.lines.Line2D at 0x7f984c3b16d0>,\n",
              " <matplotlib.lines.Line2D at 0x7f984c3b1790>,\n",
              " <matplotlib.lines.Line2D at 0x7f984c3b1850>,\n",
              " <matplotlib.lines.Line2D at 0x7f984c3b1910>,\n",
              " <matplotlib.lines.Line2D at 0x7f984c3b19d0>,\n",
              " <matplotlib.lines.Line2D at 0x7f984c3b1a90>,\n",
              " <matplotlib.lines.Line2D at 0x7f984c3b1b50>,\n",
              " <matplotlib.lines.Line2D at 0x7f984c3b1c10>,\n",
              " <matplotlib.lines.Line2D at 0x7f984c3b1cd0>,\n",
              " <matplotlib.lines.Line2D at 0x7f984c3b1d90>,\n",
              " <matplotlib.lines.Line2D at 0x7f984c3b1e50>,\n",
              " <matplotlib.lines.Line2D at 0x7f984c3b1f10>,\n",
              " <matplotlib.lines.Line2D at 0x7f984c3b1fd0>,\n",
              " <matplotlib.lines.Line2D at 0x7f984c3b80d0>,\n",
              " <matplotlib.lines.Line2D at 0x7f984c3b8190>,\n",
              " <matplotlib.lines.Line2D at 0x7f984c3b8250>,\n",
              " <matplotlib.lines.Line2D at 0x7f984c3b8310>,\n",
              " <matplotlib.lines.Line2D at 0x7f984c3b83d0>,\n",
              " <matplotlib.lines.Line2D at 0x7f984c3b8490>,\n",
              " <matplotlib.lines.Line2D at 0x7f984c3b8550>,\n",
              " <matplotlib.lines.Line2D at 0x7f984c3b8610>,\n",
              " <matplotlib.lines.Line2D at 0x7f984c3b86d0>,\n",
              " <matplotlib.lines.Line2D at 0x7f984c3b8790>,\n",
              " <matplotlib.lines.Line2D at 0x7f984c3b8850>,\n",
              " <matplotlib.lines.Line2D at 0x7f984c3b8910>,\n",
              " <matplotlib.lines.Line2D at 0x7f984c3b89d0>,\n",
              " <matplotlib.lines.Line2D at 0x7f984c3b8a90>,\n",
              " <matplotlib.lines.Line2D at 0x7f984c3b8b50>,\n",
              " <matplotlib.lines.Line2D at 0x7f984c3b8c10>,\n",
              " <matplotlib.lines.Line2D at 0x7f984c3b8cd0>,\n",
              " <matplotlib.lines.Line2D at 0x7f984c3b8d90>,\n",
              " <matplotlib.lines.Line2D at 0x7f984c3b8e50>,\n",
              " <matplotlib.lines.Line2D at 0x7f984c3b8f10>,\n",
              " <matplotlib.lines.Line2D at 0x7f984c3b8fd0>,\n",
              " <matplotlib.lines.Line2D at 0x7f984c3bf0d0>,\n",
              " <matplotlib.lines.Line2D at 0x7f984c3bf190>,\n",
              " <matplotlib.lines.Line2D at 0x7f984c3bf250>,\n",
              " <matplotlib.lines.Line2D at 0x7f984c3bf310>,\n",
              " <matplotlib.lines.Line2D at 0x7f984c3bf3d0>,\n",
              " <matplotlib.lines.Line2D at 0x7f984c3bf490>,\n",
              " <matplotlib.lines.Line2D at 0x7f984c3bf550>,\n",
              " <matplotlib.lines.Line2D at 0x7f984c3bf610>,\n",
              " <matplotlib.lines.Line2D at 0x7f984c3bf6d0>,\n",
              " <matplotlib.lines.Line2D at 0x7f984c3bf790>,\n",
              " <matplotlib.lines.Line2D at 0x7f984c3bf850>,\n",
              " <matplotlib.lines.Line2D at 0x7f984c3bf910>,\n",
              " <matplotlib.lines.Line2D at 0x7f984c3bf9d0>,\n",
              " <matplotlib.lines.Line2D at 0x7f984c3bfa90>,\n",
              " <matplotlib.lines.Line2D at 0x7f984c3bfb50>,\n",
              " <matplotlib.lines.Line2D at 0x7f984c3bfc10>,\n",
              " <matplotlib.lines.Line2D at 0x7f984c3bfcd0>,\n",
              " <matplotlib.lines.Line2D at 0x7f984c3bfd90>,\n",
              " <matplotlib.lines.Line2D at 0x7f984c3bfe50>,\n",
              " <matplotlib.lines.Line2D at 0x7f984c3bff10>,\n",
              " <matplotlib.lines.Line2D at 0x7f984c3bffd0>,\n",
              " <matplotlib.lines.Line2D at 0x7f984c3c60d0>,\n",
              " <matplotlib.lines.Line2D at 0x7f984c3c6190>,\n",
              " <matplotlib.lines.Line2D at 0x7f984c3c6250>,\n",
              " <matplotlib.lines.Line2D at 0x7f984c3c6310>,\n",
              " <matplotlib.lines.Line2D at 0x7f984c3c63d0>,\n",
              " <matplotlib.lines.Line2D at 0x7f984c3c6490>,\n",
              " <matplotlib.lines.Line2D at 0x7f984c3c6550>,\n",
              " <matplotlib.lines.Line2D at 0x7f984c3c6610>,\n",
              " <matplotlib.lines.Line2D at 0x7f984c3c66d0>,\n",
              " <matplotlib.lines.Line2D at 0x7f984c3c6790>,\n",
              " <matplotlib.lines.Line2D at 0x7f984c3c6850>,\n",
              " <matplotlib.lines.Line2D at 0x7f984c3c6910>,\n",
              " <matplotlib.lines.Line2D at 0x7f984c3c69d0>,\n",
              " <matplotlib.lines.Line2D at 0x7f984c3c6a90>,\n",
              " <matplotlib.lines.Line2D at 0x7f984c3c6b50>,\n",
              " <matplotlib.lines.Line2D at 0x7f984c3c6c10>,\n",
              " <matplotlib.lines.Line2D at 0x7f984c3c6cd0>,\n",
              " <matplotlib.lines.Line2D at 0x7f984c3c6d90>,\n",
              " <matplotlib.lines.Line2D at 0x7f984c3c6e50>,\n",
              " <matplotlib.lines.Line2D at 0x7f984c3c6f10>,\n",
              " <matplotlib.lines.Line2D at 0x7f984c3c6fd0>,\n",
              " <matplotlib.lines.Line2D at 0x7f984c3cd0d0>,\n",
              " <matplotlib.lines.Line2D at 0x7f984c3cd190>,\n",
              " <matplotlib.lines.Line2D at 0x7f984c3cd250>,\n",
              " <matplotlib.lines.Line2D at 0x7f984c3cd310>,\n",
              " <matplotlib.lines.Line2D at 0x7f984c3cd3d0>,\n",
              " <matplotlib.lines.Line2D at 0x7f984c3cd490>,\n",
              " <matplotlib.lines.Line2D at 0x7f984c3cd550>,\n",
              " <matplotlib.lines.Line2D at 0x7f984c3cd610>,\n",
              " <matplotlib.lines.Line2D at 0x7f984c3cd6d0>,\n",
              " <matplotlib.lines.Line2D at 0x7f984c3cd790>,\n",
              " <matplotlib.lines.Line2D at 0x7f984c3cd850>,\n",
              " <matplotlib.lines.Line2D at 0x7f984c3cd910>,\n",
              " <matplotlib.lines.Line2D at 0x7f984c3cd9d0>,\n",
              " <matplotlib.lines.Line2D at 0x7f984c3cda90>,\n",
              " <matplotlib.lines.Line2D at 0x7f984c3cdb50>,\n",
              " <matplotlib.lines.Line2D at 0x7f984c3cdc10>,\n",
              " <matplotlib.lines.Line2D at 0x7f984c3cdcd0>,\n",
              " <matplotlib.lines.Line2D at 0x7f984c3cdd90>,\n",
              " <matplotlib.lines.Line2D at 0x7f984c3cde50>,\n",
              " <matplotlib.lines.Line2D at 0x7f984c3cdf10>,\n",
              " <matplotlib.lines.Line2D at 0x7f984c3cdfd0>,\n",
              " <matplotlib.lines.Line2D at 0x7f984c3d50d0>,\n",
              " <matplotlib.lines.Line2D at 0x7f984c3d5190>,\n",
              " <matplotlib.lines.Line2D at 0x7f984c3d5250>,\n",
              " <matplotlib.lines.Line2D at 0x7f984c3d5310>,\n",
              " <matplotlib.lines.Line2D at 0x7f984c3d53d0>,\n",
              " <matplotlib.lines.Line2D at 0x7f984c3d5490>,\n",
              " <matplotlib.lines.Line2D at 0x7f984c3d5550>,\n",
              " <matplotlib.lines.Line2D at 0x7f984c3d5610>,\n",
              " <matplotlib.lines.Line2D at 0x7f984c3d56d0>,\n",
              " <matplotlib.lines.Line2D at 0x7f984c3d5790>,\n",
              " <matplotlib.lines.Line2D at 0x7f984c3d5850>,\n",
              " <matplotlib.lines.Line2D at 0x7f984c3d5910>,\n",
              " <matplotlib.lines.Line2D at 0x7f984c3d59d0>,\n",
              " <matplotlib.lines.Line2D at 0x7f984c3d5a90>,\n",
              " <matplotlib.lines.Line2D at 0x7f984c3d5b50>,\n",
              " <matplotlib.lines.Line2D at 0x7f984c3d5c10>,\n",
              " <matplotlib.lines.Line2D at 0x7f984c3d5cd0>,\n",
              " <matplotlib.lines.Line2D at 0x7f984c3d5d90>,\n",
              " <matplotlib.lines.Line2D at 0x7f984c3d5e50>,\n",
              " <matplotlib.lines.Line2D at 0x7f984c3d5f10>,\n",
              " <matplotlib.lines.Line2D at 0x7f984c3d5fd0>,\n",
              " <matplotlib.lines.Line2D at 0x7f984c35c0d0>,\n",
              " <matplotlib.lines.Line2D at 0x7f984c35c190>,\n",
              " <matplotlib.lines.Line2D at 0x7f984c35c250>,\n",
              " <matplotlib.lines.Line2D at 0x7f984c35c310>,\n",
              " <matplotlib.lines.Line2D at 0x7f984c35c3d0>,\n",
              " <matplotlib.lines.Line2D at 0x7f984c35c490>,\n",
              " <matplotlib.lines.Line2D at 0x7f984c35c550>,\n",
              " <matplotlib.lines.Line2D at 0x7f984c35c610>,\n",
              " <matplotlib.lines.Line2D at 0x7f984c35c6d0>,\n",
              " <matplotlib.lines.Line2D at 0x7f984c35c790>,\n",
              " <matplotlib.lines.Line2D at 0x7f984c35c850>,\n",
              " <matplotlib.lines.Line2D at 0x7f984c35c910>,\n",
              " <matplotlib.lines.Line2D at 0x7f984c35c9d0>,\n",
              " <matplotlib.lines.Line2D at 0x7f984c35ca90>,\n",
              " <matplotlib.lines.Line2D at 0x7f984c35cb50>,\n",
              " <matplotlib.lines.Line2D at 0x7f984c35cc10>,\n",
              " <matplotlib.lines.Line2D at 0x7f984c35ccd0>,\n",
              " <matplotlib.lines.Line2D at 0x7f984c35cd90>,\n",
              " <matplotlib.lines.Line2D at 0x7f984c35ce50>,\n",
              " <matplotlib.lines.Line2D at 0x7f984c35cf10>,\n",
              " <matplotlib.lines.Line2D at 0x7f984c35cfd0>,\n",
              " <matplotlib.lines.Line2D at 0x7f984c3630d0>,\n",
              " <matplotlib.lines.Line2D at 0x7f984c363190>,\n",
              " <matplotlib.lines.Line2D at 0x7f984c363250>,\n",
              " <matplotlib.lines.Line2D at 0x7f984c363310>,\n",
              " <matplotlib.lines.Line2D at 0x7f984c3633d0>,\n",
              " <matplotlib.lines.Line2D at 0x7f984c363490>,\n",
              " <matplotlib.lines.Line2D at 0x7f984c363550>,\n",
              " <matplotlib.lines.Line2D at 0x7f984c363610>,\n",
              " <matplotlib.lines.Line2D at 0x7f984c3636d0>,\n",
              " <matplotlib.lines.Line2D at 0x7f984c363790>,\n",
              " <matplotlib.lines.Line2D at 0x7f984c363850>,\n",
              " <matplotlib.lines.Line2D at 0x7f984c363910>,\n",
              " <matplotlib.lines.Line2D at 0x7f984c3639d0>,\n",
              " <matplotlib.lines.Line2D at 0x7f984c363a90>,\n",
              " <matplotlib.lines.Line2D at 0x7f984c363b50>,\n",
              " <matplotlib.lines.Line2D at 0x7f984c363c10>,\n",
              " <matplotlib.lines.Line2D at 0x7f984c363cd0>,\n",
              " <matplotlib.lines.Line2D at 0x7f984c363d90>,\n",
              " <matplotlib.lines.Line2D at 0x7f984c363e50>,\n",
              " <matplotlib.lines.Line2D at 0x7f984c363f10>,\n",
              " <matplotlib.lines.Line2D at 0x7f984c363fd0>,\n",
              " <matplotlib.lines.Line2D at 0x7f984c36b0d0>,\n",
              " <matplotlib.lines.Line2D at 0x7f984c36b190>,\n",
              " <matplotlib.lines.Line2D at 0x7f984c36b250>,\n",
              " <matplotlib.lines.Line2D at 0x7f984c36b310>,\n",
              " <matplotlib.lines.Line2D at 0x7f984c36b3d0>,\n",
              " <matplotlib.lines.Line2D at 0x7f984c36b490>,\n",
              " <matplotlib.lines.Line2D at 0x7f984c36b550>,\n",
              " <matplotlib.lines.Line2D at 0x7f984c36b610>,\n",
              " <matplotlib.lines.Line2D at 0x7f984c36b6d0>,\n",
              " <matplotlib.lines.Line2D at 0x7f984c36b790>,\n",
              " <matplotlib.lines.Line2D at 0x7f984c36b850>,\n",
              " <matplotlib.lines.Line2D at 0x7f984c36b910>,\n",
              " <matplotlib.lines.Line2D at 0x7f984c36b9d0>,\n",
              " <matplotlib.lines.Line2D at 0x7f984c36ba90>,\n",
              " <matplotlib.lines.Line2D at 0x7f984c36bb50>,\n",
              " <matplotlib.lines.Line2D at 0x7f984c36bc10>,\n",
              " <matplotlib.lines.Line2D at 0x7f984c36bcd0>,\n",
              " <matplotlib.lines.Line2D at 0x7f984c36bd90>,\n",
              " <matplotlib.lines.Line2D at 0x7f984c36be50>,\n",
              " <matplotlib.lines.Line2D at 0x7f984c36bf10>,\n",
              " <matplotlib.lines.Line2D at 0x7f984c36bfd0>,\n",
              " <matplotlib.lines.Line2D at 0x7f984c3720d0>,\n",
              " <matplotlib.lines.Line2D at 0x7f984c372190>,\n",
              " <matplotlib.lines.Line2D at 0x7f984c372250>,\n",
              " <matplotlib.lines.Line2D at 0x7f984c372310>,\n",
              " <matplotlib.lines.Line2D at 0x7f984c3723d0>,\n",
              " <matplotlib.lines.Line2D at 0x7f984c372490>,\n",
              " <matplotlib.lines.Line2D at 0x7f984c372550>,\n",
              " <matplotlib.lines.Line2D at 0x7f984c372610>,\n",
              " <matplotlib.lines.Line2D at 0x7f984c3726d0>,\n",
              " <matplotlib.lines.Line2D at 0x7f984c372790>,\n",
              " <matplotlib.lines.Line2D at 0x7f984c372850>,\n",
              " <matplotlib.lines.Line2D at 0x7f984c372910>,\n",
              " <matplotlib.lines.Line2D at 0x7f984c3729d0>,\n",
              " <matplotlib.lines.Line2D at 0x7f984c372ac0>,\n",
              " <matplotlib.lines.Line2D at 0x7f984c372b80>,\n",
              " <matplotlib.lines.Line2D at 0x7f984c372c40>,\n",
              " <matplotlib.lines.Line2D at 0x7f984c372d00>,\n",
              " <matplotlib.lines.Line2D at 0x7f984c372dc0>,\n",
              " <matplotlib.lines.Line2D at 0x7f984c372e80>,\n",
              " <matplotlib.lines.Line2D at 0x7f984c372f40>,\n",
              " <matplotlib.lines.Line2D at 0x7f984c372fa0>,\n",
              " <matplotlib.lines.Line2D at 0x7f984c37a100>,\n",
              " <matplotlib.lines.Line2D at 0x7f984c37a1c0>,\n",
              " <matplotlib.lines.Line2D at 0x7f984c37a280>,\n",
              " <matplotlib.lines.Line2D at 0x7f984c37a340>,\n",
              " <matplotlib.lines.Line2D at 0x7f984c37a400>,\n",
              " <matplotlib.lines.Line2D at 0x7f984c37a4c0>,\n",
              " <matplotlib.lines.Line2D at 0x7f984c37a580>,\n",
              " <matplotlib.lines.Line2D at 0x7f984c37a640>,\n",
              " <matplotlib.lines.Line2D at 0x7f984c37a700>,\n",
              " <matplotlib.lines.Line2D at 0x7f984c37a7c0>,\n",
              " <matplotlib.lines.Line2D at 0x7f984c37a880>,\n",
              " <matplotlib.lines.Line2D at 0x7f984c37a940>,\n",
              " <matplotlib.lines.Line2D at 0x7f984c37aa00>,\n",
              " <matplotlib.lines.Line2D at 0x7f984c37aac0>,\n",
              " <matplotlib.lines.Line2D at 0x7f984c37ab80>,\n",
              " <matplotlib.lines.Line2D at 0x7f984c37ac40>,\n",
              " <matplotlib.lines.Line2D at 0x7f984c37ad00>,\n",
              " <matplotlib.lines.Line2D at 0x7f984c37adc0>,\n",
              " <matplotlib.lines.Line2D at 0x7f984c37ae80>,\n",
              " <matplotlib.lines.Line2D at 0x7f984c37af40>,\n",
              " <matplotlib.lines.Line2D at 0x7f984c37afa0>,\n",
              " <matplotlib.lines.Line2D at 0x7f984c381100>,\n",
              " <matplotlib.lines.Line2D at 0x7f984c3811c0>,\n",
              " <matplotlib.lines.Line2D at 0x7f984c381280>,\n",
              " <matplotlib.lines.Line2D at 0x7f984c381340>,\n",
              " <matplotlib.lines.Line2D at 0x7f984c381400>,\n",
              " <matplotlib.lines.Line2D at 0x7f984c3814c0>,\n",
              " <matplotlib.lines.Line2D at 0x7f984c381580>,\n",
              " <matplotlib.lines.Line2D at 0x7f984c381640>,\n",
              " <matplotlib.lines.Line2D at 0x7f984c381700>,\n",
              " <matplotlib.lines.Line2D at 0x7f984c3817c0>,\n",
              " <matplotlib.lines.Line2D at 0x7f984c381880>,\n",
              " <matplotlib.lines.Line2D at 0x7f984c381940>,\n",
              " <matplotlib.lines.Line2D at 0x7f984c381a00>,\n",
              " <matplotlib.lines.Line2D at 0x7f984c381ac0>,\n",
              " <matplotlib.lines.Line2D at 0x7f984c381b80>,\n",
              " <matplotlib.lines.Line2D at 0x7f984c381c40>,\n",
              " <matplotlib.lines.Line2D at 0x7f984c381d00>,\n",
              " <matplotlib.lines.Line2D at 0x7f984c381dc0>,\n",
              " <matplotlib.lines.Line2D at 0x7f984c381e80>,\n",
              " <matplotlib.lines.Line2D at 0x7f984c381f40>,\n",
              " <matplotlib.lines.Line2D at 0x7f984c381fa0>,\n",
              " <matplotlib.lines.Line2D at 0x7f984c388100>,\n",
              " <matplotlib.lines.Line2D at 0x7f984c3881c0>,\n",
              " <matplotlib.lines.Line2D at 0x7f984c388280>,\n",
              " <matplotlib.lines.Line2D at 0x7f984c388340>,\n",
              " <matplotlib.lines.Line2D at 0x7f984c388400>,\n",
              " <matplotlib.lines.Line2D at 0x7f984c3884c0>,\n",
              " <matplotlib.lines.Line2D at 0x7f984c388580>,\n",
              " <matplotlib.lines.Line2D at 0x7f984c388640>,\n",
              " <matplotlib.lines.Line2D at 0x7f984c388700>,\n",
              " <matplotlib.lines.Line2D at 0x7f984c3887c0>,\n",
              " <matplotlib.lines.Line2D at 0x7f984c388880>,\n",
              " <matplotlib.lines.Line2D at 0x7f984c388940>,\n",
              " <matplotlib.lines.Line2D at 0x7f984c388a00>,\n",
              " <matplotlib.lines.Line2D at 0x7f984c388ac0>,\n",
              " <matplotlib.lines.Line2D at 0x7f984c388b80>,\n",
              " <matplotlib.lines.Line2D at 0x7f984c388c40>,\n",
              " <matplotlib.lines.Line2D at 0x7f984c388d00>,\n",
              " <matplotlib.lines.Line2D at 0x7f984c388dc0>,\n",
              " <matplotlib.lines.Line2D at 0x7f984c388e80>,\n",
              " <matplotlib.lines.Line2D at 0x7f984c388f40>,\n",
              " <matplotlib.lines.Line2D at 0x7f984c388fa0>,\n",
              " <matplotlib.lines.Line2D at 0x7f984c38f100>,\n",
              " <matplotlib.lines.Line2D at 0x7f984c38f1c0>,\n",
              " <matplotlib.lines.Line2D at 0x7f984c38f280>,\n",
              " <matplotlib.lines.Line2D at 0x7f984c38f340>,\n",
              " <matplotlib.lines.Line2D at 0x7f984c38f400>,\n",
              " <matplotlib.lines.Line2D at 0x7f984c38f4c0>,\n",
              " <matplotlib.lines.Line2D at 0x7f984c38f580>,\n",
              " <matplotlib.lines.Line2D at 0x7f984c38f640>,\n",
              " <matplotlib.lines.Line2D at 0x7f984c38f700>,\n",
              " <matplotlib.lines.Line2D at 0x7f984c38f7c0>,\n",
              " <matplotlib.lines.Line2D at 0x7f984c38f880>,\n",
              " <matplotlib.lines.Line2D at 0x7f984c38f940>,\n",
              " <matplotlib.lines.Line2D at 0x7f984c38fa00>,\n",
              " <matplotlib.lines.Line2D at 0x7f984c38fac0>,\n",
              " <matplotlib.lines.Line2D at 0x7f984c38fb80>,\n",
              " <matplotlib.lines.Line2D at 0x7f984c38fc40>,\n",
              " <matplotlib.lines.Line2D at 0x7f984c38fd00>,\n",
              " <matplotlib.lines.Line2D at 0x7f984c38fdc0>,\n",
              " <matplotlib.lines.Line2D at 0x7f984c38fe80>,\n",
              " <matplotlib.lines.Line2D at 0x7f984c38ff40>,\n",
              " <matplotlib.lines.Line2D at 0x7f984c38ffa0>,\n",
              " <matplotlib.lines.Line2D at 0x7f984c396100>,\n",
              " <matplotlib.lines.Line2D at 0x7f984c3961c0>,\n",
              " <matplotlib.lines.Line2D at 0x7f984c396280>,\n",
              " <matplotlib.lines.Line2D at 0x7f984c396340>,\n",
              " <matplotlib.lines.Line2D at 0x7f984c396400>,\n",
              " <matplotlib.lines.Line2D at 0x7f984c3964c0>,\n",
              " <matplotlib.lines.Line2D at 0x7f984c396580>,\n",
              " <matplotlib.lines.Line2D at 0x7f984c396640>,\n",
              " <matplotlib.lines.Line2D at 0x7f984c396700>,\n",
              " <matplotlib.lines.Line2D at 0x7f984c3967c0>,\n",
              " <matplotlib.lines.Line2D at 0x7f984c396880>,\n",
              " <matplotlib.lines.Line2D at 0x7f984c396940>,\n",
              " <matplotlib.lines.Line2D at 0x7f984c396a00>,\n",
              " <matplotlib.lines.Line2D at 0x7f984c396ac0>,\n",
              " <matplotlib.lines.Line2D at 0x7f984c396b80>,\n",
              " <matplotlib.lines.Line2D at 0x7f984c396c40>,\n",
              " <matplotlib.lines.Line2D at 0x7f984c396d00>,\n",
              " <matplotlib.lines.Line2D at 0x7f984c396dc0>,\n",
              " <matplotlib.lines.Line2D at 0x7f984c396e80>,\n",
              " <matplotlib.lines.Line2D at 0x7f984c396f40>,\n",
              " <matplotlib.lines.Line2D at 0x7f984c396fa0>,\n",
              " <matplotlib.lines.Line2D at 0x7f984c31d100>,\n",
              " <matplotlib.lines.Line2D at 0x7f984c31d1c0>,\n",
              " <matplotlib.lines.Line2D at 0x7f984c31d280>,\n",
              " <matplotlib.lines.Line2D at 0x7f984c31d340>,\n",
              " <matplotlib.lines.Line2D at 0x7f984c31d400>,\n",
              " <matplotlib.lines.Line2D at 0x7f984c31d4c0>,\n",
              " <matplotlib.lines.Line2D at 0x7f984c31d580>,\n",
              " <matplotlib.lines.Line2D at 0x7f984c31d640>,\n",
              " <matplotlib.lines.Line2D at 0x7f984c31d700>,\n",
              " <matplotlib.lines.Line2D at 0x7f984c31d7c0>,\n",
              " <matplotlib.lines.Line2D at 0x7f984c31d880>,\n",
              " <matplotlib.lines.Line2D at 0x7f984c31d940>,\n",
              " <matplotlib.lines.Line2D at 0x7f984c31da00>,\n",
              " <matplotlib.lines.Line2D at 0x7f984c31dac0>,\n",
              " <matplotlib.lines.Line2D at 0x7f984c31db80>,\n",
              " <matplotlib.lines.Line2D at 0x7f984c31dc40>,\n",
              " <matplotlib.lines.Line2D at 0x7f984c31dd00>,\n",
              " <matplotlib.lines.Line2D at 0x7f984c31ddc0>,\n",
              " <matplotlib.lines.Line2D at 0x7f984c31de80>,\n",
              " <matplotlib.lines.Line2D at 0x7f984c31df40>,\n",
              " <matplotlib.lines.Line2D at 0x7f984c31dfa0>,\n",
              " <matplotlib.lines.Line2D at 0x7f984c325100>,\n",
              " <matplotlib.lines.Line2D at 0x7f984c3251c0>,\n",
              " <matplotlib.lines.Line2D at 0x7f984c325280>,\n",
              " <matplotlib.lines.Line2D at 0x7f984c325340>,\n",
              " <matplotlib.lines.Line2D at 0x7f984c325400>,\n",
              " <matplotlib.lines.Line2D at 0x7f984c3254c0>,\n",
              " <matplotlib.lines.Line2D at 0x7f984c325580>,\n",
              " <matplotlib.lines.Line2D at 0x7f984c325640>,\n",
              " <matplotlib.lines.Line2D at 0x7f984c325700>,\n",
              " <matplotlib.lines.Line2D at 0x7f984c3257c0>,\n",
              " <matplotlib.lines.Line2D at 0x7f984c325880>,\n",
              " <matplotlib.lines.Line2D at 0x7f984c325940>,\n",
              " <matplotlib.lines.Line2D at 0x7f984c325a00>,\n",
              " <matplotlib.lines.Line2D at 0x7f984c325ac0>,\n",
              " <matplotlib.lines.Line2D at 0x7f984c325b80>,\n",
              " <matplotlib.lines.Line2D at 0x7f984c325c40>,\n",
              " <matplotlib.lines.Line2D at 0x7f984c325d00>,\n",
              " <matplotlib.lines.Line2D at 0x7f984c325dc0>,\n",
              " <matplotlib.lines.Line2D at 0x7f984c325e80>,\n",
              " <matplotlib.lines.Line2D at 0x7f984c325f40>,\n",
              " <matplotlib.lines.Line2D at 0x7f984c325fa0>,\n",
              " <matplotlib.lines.Line2D at 0x7f984c32c100>,\n",
              " <matplotlib.lines.Line2D at 0x7f984c32c1c0>,\n",
              " <matplotlib.lines.Line2D at 0x7f984c32c280>,\n",
              " <matplotlib.lines.Line2D at 0x7f984c32c340>,\n",
              " <matplotlib.lines.Line2D at 0x7f984c32c400>,\n",
              " <matplotlib.lines.Line2D at 0x7f984c32c4c0>,\n",
              " <matplotlib.lines.Line2D at 0x7f984c32c580>,\n",
              " <matplotlib.lines.Line2D at 0x7f984c32c640>,\n",
              " <matplotlib.lines.Line2D at 0x7f984c32c700>,\n",
              " <matplotlib.lines.Line2D at 0x7f984c32c7c0>,\n",
              " <matplotlib.lines.Line2D at 0x7f984c32c880>,\n",
              " <matplotlib.lines.Line2D at 0x7f984c32c940>,\n",
              " <matplotlib.lines.Line2D at 0x7f984c32ca00>,\n",
              " <matplotlib.lines.Line2D at 0x7f984c32cac0>,\n",
              " <matplotlib.lines.Line2D at 0x7f984c32cb80>,\n",
              " <matplotlib.lines.Line2D at 0x7f984c32cc40>,\n",
              " <matplotlib.lines.Line2D at 0x7f984c32cd00>,\n",
              " <matplotlib.lines.Line2D at 0x7f984c32cdc0>,\n",
              " <matplotlib.lines.Line2D at 0x7f984c32ce80>,\n",
              " <matplotlib.lines.Line2D at 0x7f984c32cf40>,\n",
              " <matplotlib.lines.Line2D at 0x7f984c32cfa0>,\n",
              " <matplotlib.lines.Line2D at 0x7f984c333100>,\n",
              " <matplotlib.lines.Line2D at 0x7f984c3331c0>,\n",
              " <matplotlib.lines.Line2D at 0x7f984c333280>,\n",
              " <matplotlib.lines.Line2D at 0x7f984c333340>,\n",
              " <matplotlib.lines.Line2D at 0x7f984c333400>,\n",
              " <matplotlib.lines.Line2D at 0x7f984c3334c0>,\n",
              " <matplotlib.lines.Line2D at 0x7f984c333580>,\n",
              " <matplotlib.lines.Line2D at 0x7f984c333640>,\n",
              " <matplotlib.lines.Line2D at 0x7f984c333700>,\n",
              " <matplotlib.lines.Line2D at 0x7f984c3337c0>,\n",
              " <matplotlib.lines.Line2D at 0x7f984c333880>,\n",
              " <matplotlib.lines.Line2D at 0x7f984c333940>,\n",
              " <matplotlib.lines.Line2D at 0x7f984c333a00>,\n",
              " <matplotlib.lines.Line2D at 0x7f984c333ac0>,\n",
              " <matplotlib.lines.Line2D at 0x7f984c333b80>,\n",
              " <matplotlib.lines.Line2D at 0x7f984c333c40>,\n",
              " <matplotlib.lines.Line2D at 0x7f984c333d00>,\n",
              " <matplotlib.lines.Line2D at 0x7f984c333dc0>,\n",
              " <matplotlib.lines.Line2D at 0x7f984c333e80>,\n",
              " <matplotlib.lines.Line2D at 0x7f984c333f40>,\n",
              " <matplotlib.lines.Line2D at 0x7f984c333fa0>,\n",
              " <matplotlib.lines.Line2D at 0x7f984c33b100>,\n",
              " <matplotlib.lines.Line2D at 0x7f984c33b1c0>,\n",
              " <matplotlib.lines.Line2D at 0x7f984c33b280>,\n",
              " <matplotlib.lines.Line2D at 0x7f984c33b340>,\n",
              " <matplotlib.lines.Line2D at 0x7f984c33b400>,\n",
              " <matplotlib.lines.Line2D at 0x7f984c33b4c0>,\n",
              " <matplotlib.lines.Line2D at 0x7f984c33b580>,\n",
              " <matplotlib.lines.Line2D at 0x7f984c33b640>,\n",
              " <matplotlib.lines.Line2D at 0x7f984c33b700>,\n",
              " <matplotlib.lines.Line2D at 0x7f984c33b7c0>,\n",
              " <matplotlib.lines.Line2D at 0x7f984c33b880>,\n",
              " <matplotlib.lines.Line2D at 0x7f984c33b940>,\n",
              " <matplotlib.lines.Line2D at 0x7f984c33ba00>,\n",
              " <matplotlib.lines.Line2D at 0x7f984c33bac0>,\n",
              " <matplotlib.lines.Line2D at 0x7f984c33bb80>,\n",
              " <matplotlib.lines.Line2D at 0x7f984c33bc40>,\n",
              " <matplotlib.lines.Line2D at 0x7f984c33bd00>,\n",
              " <matplotlib.lines.Line2D at 0x7f984c33bdc0>,\n",
              " <matplotlib.lines.Line2D at 0x7f984c33be80>,\n",
              " <matplotlib.lines.Line2D at 0x7f984c33bf40>,\n",
              " <matplotlib.lines.Line2D at 0x7f984c33bfa0>,\n",
              " <matplotlib.lines.Line2D at 0x7f984c342100>,\n",
              " <matplotlib.lines.Line2D at 0x7f984c3421c0>,\n",
              " <matplotlib.lines.Line2D at 0x7f984c342280>,\n",
              " <matplotlib.lines.Line2D at 0x7f984c342340>,\n",
              " <matplotlib.lines.Line2D at 0x7f984c342400>,\n",
              " <matplotlib.lines.Line2D at 0x7f984c3424c0>,\n",
              " <matplotlib.lines.Line2D at 0x7f984c342580>,\n",
              " <matplotlib.lines.Line2D at 0x7f984c342640>,\n",
              " <matplotlib.lines.Line2D at 0x7f984c342700>,\n",
              " <matplotlib.lines.Line2D at 0x7f984c3427c0>,\n",
              " <matplotlib.lines.Line2D at 0x7f984c342880>,\n",
              " <matplotlib.lines.Line2D at 0x7f984c342940>,\n",
              " <matplotlib.lines.Line2D at 0x7f984c342a00>,\n",
              " <matplotlib.lines.Line2D at 0x7f984c342ac0>,\n",
              " <matplotlib.lines.Line2D at 0x7f984c342b80>,\n",
              " <matplotlib.lines.Line2D at 0x7f984c342c40>,\n",
              " <matplotlib.lines.Line2D at 0x7f984c342d00>,\n",
              " <matplotlib.lines.Line2D at 0x7f984c342dc0>,\n",
              " <matplotlib.lines.Line2D at 0x7f984c342e80>,\n",
              " <matplotlib.lines.Line2D at 0x7f984c342f40>,\n",
              " <matplotlib.lines.Line2D at 0x7f984c342fa0>,\n",
              " <matplotlib.lines.Line2D at 0x7f984c349100>,\n",
              " <matplotlib.lines.Line2D at 0x7f984c3491c0>,\n",
              " <matplotlib.lines.Line2D at 0x7f984c349280>,\n",
              " <matplotlib.lines.Line2D at 0x7f984c349340>,\n",
              " <matplotlib.lines.Line2D at 0x7f984c349400>,\n",
              " <matplotlib.lines.Line2D at 0x7f984c3494c0>,\n",
              " <matplotlib.lines.Line2D at 0x7f984c349580>,\n",
              " <matplotlib.lines.Line2D at 0x7f984c349640>,\n",
              " <matplotlib.lines.Line2D at 0x7f984c349700>,\n",
              " <matplotlib.lines.Line2D at 0x7f984c3497c0>,\n",
              " <matplotlib.lines.Line2D at 0x7f984c349880>,\n",
              " <matplotlib.lines.Line2D at 0x7f984c349940>,\n",
              " <matplotlib.lines.Line2D at 0x7f984c349a00>,\n",
              " <matplotlib.lines.Line2D at 0x7f984c349ac0>,\n",
              " <matplotlib.lines.Line2D at 0x7f984c349b80>,\n",
              " <matplotlib.lines.Line2D at 0x7f984c349c40>,\n",
              " <matplotlib.lines.Line2D at 0x7f984c349d00>,\n",
              " <matplotlib.lines.Line2D at 0x7f984c349dc0>,\n",
              " <matplotlib.lines.Line2D at 0x7f984c349e80>,\n",
              " <matplotlib.lines.Line2D at 0x7f984c349f40>,\n",
              " <matplotlib.lines.Line2D at 0x7f984c349fa0>,\n",
              " <matplotlib.lines.Line2D at 0x7f984c351100>,\n",
              " <matplotlib.lines.Line2D at 0x7f984c3511c0>,\n",
              " <matplotlib.lines.Line2D at 0x7f984c351280>,\n",
              " <matplotlib.lines.Line2D at 0x7f984c351340>,\n",
              " <matplotlib.lines.Line2D at 0x7f984c351400>,\n",
              " <matplotlib.lines.Line2D at 0x7f984c3514c0>,\n",
              " <matplotlib.lines.Line2D at 0x7f984c351580>,\n",
              " <matplotlib.lines.Line2D at 0x7f984c351640>,\n",
              " <matplotlib.lines.Line2D at 0x7f984c351700>,\n",
              " <matplotlib.lines.Line2D at 0x7f984c3517c0>,\n",
              " <matplotlib.lines.Line2D at 0x7f984c351880>,\n",
              " <matplotlib.lines.Line2D at 0x7f984c351940>,\n",
              " <matplotlib.lines.Line2D at 0x7f984c351a00>,\n",
              " <matplotlib.lines.Line2D at 0x7f984c351ac0>,\n",
              " <matplotlib.lines.Line2D at 0x7f984c351b80>,\n",
              " <matplotlib.lines.Line2D at 0x7f984c351c40>,\n",
              " <matplotlib.lines.Line2D at 0x7f984c351d00>,\n",
              " <matplotlib.lines.Line2D at 0x7f984c351dc0>,\n",
              " <matplotlib.lines.Line2D at 0x7f984c351e80>,\n",
              " <matplotlib.lines.Line2D at 0x7f984c351f40>,\n",
              " <matplotlib.lines.Line2D at 0x7f984c351fa0>,\n",
              " <matplotlib.lines.Line2D at 0x7f984c358100>,\n",
              " <matplotlib.lines.Line2D at 0x7f984c3581c0>,\n",
              " <matplotlib.lines.Line2D at 0x7f984c358280>,\n",
              " <matplotlib.lines.Line2D at 0x7f984c358340>,\n",
              " <matplotlib.lines.Line2D at 0x7f984c358400>,\n",
              " <matplotlib.lines.Line2D at 0x7f984c3584c0>,\n",
              " <matplotlib.lines.Line2D at 0x7f984c358580>,\n",
              " <matplotlib.lines.Line2D at 0x7f984c358640>,\n",
              " <matplotlib.lines.Line2D at 0x7f984c358700>,\n",
              " <matplotlib.lines.Line2D at 0x7f984c3587c0>,\n",
              " <matplotlib.lines.Line2D at 0x7f984c358880>,\n",
              " <matplotlib.lines.Line2D at 0x7f984c358940>,\n",
              " <matplotlib.lines.Line2D at 0x7f984c358a00>,\n",
              " <matplotlib.lines.Line2D at 0x7f984c358ac0>,\n",
              " <matplotlib.lines.Line2D at 0x7f984c358b80>,\n",
              " <matplotlib.lines.Line2D at 0x7f98f6d7a070>,\n",
              " <matplotlib.lines.Line2D at 0x7f98f6d7a0a0>,\n",
              " <matplotlib.lines.Line2D at 0x7f98f6d7a340>,\n",
              " <matplotlib.lines.Line2D at 0x7f98f6d7a190>,\n",
              " <matplotlib.lines.Line2D at 0x7f98f6d7a550>,\n",
              " <matplotlib.lines.Line2D at 0x7f98f6d7a520>,\n",
              " <matplotlib.lines.Line2D at 0x7f98f6d7a6d0>,\n",
              " <matplotlib.lines.Line2D at 0x7f98f6d7a730>,\n",
              " <matplotlib.lines.Line2D at 0x7f98f6d7a850>,\n",
              " <matplotlib.lines.Line2D at 0x7f98f6d7a8e0>,\n",
              " <matplotlib.lines.Line2D at 0x7f98f6d7a970>,\n",
              " <matplotlib.lines.Line2D at 0x7f98f6d7aa30>,\n",
              " <matplotlib.lines.Line2D at 0x7f98f6d7abb0>,\n",
              " <matplotlib.lines.Line2D at 0x7f98f6d7aaf0>,\n",
              " <matplotlib.lines.Line2D at 0x7f98f6d7a100>,\n",
              " <matplotlib.lines.Line2D at 0x7f98f6d7a8b0>,\n",
              " <matplotlib.lines.Line2D at 0x7f98f6d7af10>,\n",
              " <matplotlib.lines.Line2D at 0x7f98f6d7a220>,\n",
              " <matplotlib.lines.Line2D at 0x7f98f6d7ad00>,\n",
              " <matplotlib.lines.Line2D at 0x7f98f6d7aee0>,\n",
              " <matplotlib.lines.Line2D at 0x7f98f6d7ad60>,\n",
              " <matplotlib.lines.Line2D at 0x7f98f6d7adc0>,\n",
              " <matplotlib.lines.Line2D at 0x7f98f6d86f70>,\n",
              " <matplotlib.lines.Line2D at 0x7f98f6d86f10>,\n",
              " <matplotlib.lines.Line2D at 0x7f98f6d86be0>,\n",
              " <matplotlib.lines.Line2D at 0x7f98f6d86b50>,\n",
              " <matplotlib.lines.Line2D at 0x7f98f6d868b0>,\n",
              " <matplotlib.lines.Line2D at 0x7f98f6d86910>,\n",
              " <matplotlib.lines.Line2D at 0x7f98f6d869d0>,\n",
              " <matplotlib.lines.Line2D at 0x7f98f6d86cd0>,\n",
              " <matplotlib.lines.Line2D at 0x7f984cbb2280>,\n",
              " <matplotlib.lines.Line2D at 0x7f98f6e3b5b0>,\n",
              " <matplotlib.lines.Line2D at 0x7f984e4be880>,\n",
              " <matplotlib.lines.Line2D at 0x7f984e001490>,\n",
              " <matplotlib.lines.Line2D at 0x7f984e001af0>,\n",
              " <matplotlib.lines.Line2D at 0x7f984e0017f0>,\n",
              " <matplotlib.lines.Line2D at 0x7f984e001d90>,\n",
              " <matplotlib.lines.Line2D at 0x7f984e001f10>,\n",
              " <matplotlib.lines.Line2D at 0x7f984e0015e0>,\n",
              " <matplotlib.lines.Line2D at 0x7f984e001790>,\n",
              " <matplotlib.lines.Line2D at 0x7f984e001b50>,\n",
              " <matplotlib.lines.Line2D at 0x7f984e001dc0>,\n",
              " <matplotlib.lines.Line2D at 0x7f984e001f40>,\n",
              " <matplotlib.lines.Line2D at 0x7f984e001640>,\n",
              " <matplotlib.lines.Line2D at 0x7f984e001c10>,\n",
              " <matplotlib.lines.Line2D at 0x7f984e001fd0>,\n",
              " <matplotlib.lines.Line2D at 0x7f984e001f70>,\n",
              " <matplotlib.lines.Line2D at 0x7f984e001070>,\n",
              " <matplotlib.lines.Line2D at 0x7f98f6d4e100>,\n",
              " <matplotlib.lines.Line2D at 0x7f98f6d4e1f0>,\n",
              " <matplotlib.lines.Line2D at 0x7f98f6d4e340>,\n",
              " <matplotlib.lines.Line2D at 0x7f98f6d4e460>,\n",
              " <matplotlib.lines.Line2D at 0x7f98f6d4e5e0>,\n",
              " <matplotlib.lines.Line2D at 0x7f98f6d4e3a0>,\n",
              " <matplotlib.lines.Line2D at 0x7f98f6d4e670>,\n",
              " <matplotlib.lines.Line2D at 0x7f98f6d4e0d0>,\n",
              " ...]"
            ]
          },
          "metadata": {},
          "execution_count": 26
        },
        {
          "output_type": "display_data",
          "data": {
            "text/plain": [
              "<Figure size 432x288 with 1 Axes>"
            ],
            "image/png": "[encoded data removed]"
          },
          "metadata": {
            "needs_background": "light"
          }
        }
      ]
    },
    {
      "cell_type": "code",
      "source": [
        "N1_df = pd.DataFrame(get_fft_dict(['1st_Normal'])['Normal'])\n",
        "\n",
        "ma_N1_df = N1_df.rolling(window=10).mean()\n",
        "\n",
        "fig, ax = plt.subplots()\n",
        "N1_df.plot(ax=ax, legend=False)\n",
        "ma_N1_df.plot(ax=ax, legend=False)\n",
        "\n",
        "ax.legend(['Original', 'Moving Average'])\n",
        "plt.show()"
      ],
      "metadata": {
        "colab": {
          "base_uri": "https://localhost:8080/",
          "height": 302
        },
        "id": "JHYc3usd18yT",
        "outputId": "26708dc6-250b-4311-8382-de54980d4b41"
      },
      "execution_count": null,
      "outputs": [
        {
          "output_type": "stream",
          "name": "stdout",
          "text": [
            "Normal\n"
          ]
        },
        {
          "output_type": "stream",
          "name": "stderr",
          "text": [
            "1485it [00:27, 54.94it/s]\n"
          ]
        },
        {
          "output_type": "display_data",
          "data": {
            "text/plain": [
              "<Figure size 432x288 with 1 Axes>"
            ],
            "image/png": "[encoded data removed]"
          },
          "metadata": {
            "needs_background": "light"
          }
        }
      ]
    },
    {
      "cell_type": "code",
      "source": [
        "# 이동 평균을 구합니다. window는 이동 평균 구간의 크기를 나타냅니다.\n",
        "window_size = 100\n",
        "ma_N1_df = np.convolve(N1_df, np.ones(window_size) / window_size, mode='valid')\n",
        "\n",
        "# 그래프 출력\n",
        "fig, ax = plt.subplots()\n",
        "\n",
        "# 원본 데이터를 그립니다.\n",
        "for i in range(N1_df.shape[0]):\n",
        "    ax.plot(N1_df[i], alpha=0.2, color='gray')\n",
        "\n",
        "# 이동 평균 데이터를 그립니다.\n",
        "ax.plot(ma_N1_df, color='red')\n",
        "\n",
        "# 그래프 제목과 라벨 추가\n",
        "ax.set_title('Moving Average')\n",
        "ax.set_xlabel('Time')\n",
        "ax.set_ylabel('Value')\n",
        "\n",
        "# 범례 추가\n",
        "ax.legend(['Original', 'Moving Average'])\n",
        "\n",
        "# 그래프 출력\n",
        "plt.show()"
      ],
      "metadata": {
        "colab": {
          "base_uri": "https://localhost:8080/",
          "height": 413
        },
        "id": "tHRWB8vQ18qB",
        "outputId": "7550fdf5-ff98-403c-f94c-49c809f544bd"
      },
      "execution_count": null,
      "outputs": [
        {
          "output_type": "error",
          "ename": "ValueError",
          "evalue": "ignored",
          "traceback": [
            "\u001b[0;31m---------------------------------------------------------------------------\u001b[0m",
            "\u001b[0;31mValueError\u001b[0m                                Traceback (most recent call last)",
            "\u001b[0;32m<ipython-input-44-d3b9e11cc5c1>\u001b[0m in \u001b[0;36m<module>\u001b[0;34m\u001b[0m\n\u001b[1;32m      1\u001b[0m \u001b[0;31m# 이동 평균을 구합니다. window는 이동 평균 구간의 크기를 나타냅니다.\u001b[0m\u001b[0;34m\u001b[0m\u001b[0;34m\u001b[0m\u001b[0;34m\u001b[0m\u001b[0m\n\u001b[1;32m      2\u001b[0m \u001b[0mwindow_size\u001b[0m \u001b[0;34m=\u001b[0m \u001b[0;36m100\u001b[0m\u001b[0;34m\u001b[0m\u001b[0;34m\u001b[0m\u001b[0m\n\u001b[0;32m----> 3\u001b[0;31m \u001b[0mma_N1_df\u001b[0m \u001b[0;34m=\u001b[0m \u001b[0mnp\u001b[0m\u001b[0;34m.\u001b[0m\u001b[0mconvolve\u001b[0m\u001b[0;34m(\u001b[0m\u001b[0mN1_df\u001b[0m\u001b[0;34m,\u001b[0m \u001b[0mnp\u001b[0m\u001b[0;34m.\u001b[0m\u001b[0mones\u001b[0m\u001b[0;34m(\u001b[0m\u001b[0mwindow_size\u001b[0m\u001b[0;34m)\u001b[0m \u001b[0;34m/\u001b[0m \u001b[0mwindow_size\u001b[0m\u001b[0;34m,\u001b[0m \u001b[0mmode\u001b[0m\u001b[0;34m=\u001b[0m\u001b[0;34m'valid'\u001b[0m\u001b[0;34m)\u001b[0m\u001b[0;34m\u001b[0m\u001b[0;34m\u001b[0m\u001b[0m\n\u001b[0m\u001b[1;32m      4\u001b[0m \u001b[0;34m\u001b[0m\u001b[0m\n\u001b[1;32m      5\u001b[0m \u001b[0;31m# 그래프 출력\u001b[0m\u001b[0;34m\u001b[0m\u001b[0;34m\u001b[0m\u001b[0;34m\u001b[0m\u001b[0m\n",
            "\u001b[0;32m<__array_function__ internals>\u001b[0m in \u001b[0;36mconvolve\u001b[0;34m(*args, **kwargs)\u001b[0m\n",
            "\u001b[0;32m/usr/local/lib/python3.8/dist-packages/numpy/core/numeric.py\u001b[0m in \u001b[0;36mconvolve\u001b[0;34m(a, v, mode)\u001b[0m\n\u001b[1;32m    842\u001b[0m     \u001b[0;32mif\u001b[0m \u001b[0mlen\u001b[0m\u001b[0;34m(\u001b[0m\u001b[0mv\u001b[0m\u001b[0;34m)\u001b[0m \u001b[0;34m==\u001b[0m \u001b[0;36m0\u001b[0m\u001b[0;34m:\u001b[0m\u001b[0;34m\u001b[0m\u001b[0;34m\u001b[0m\u001b[0m\n\u001b[1;32m    843\u001b[0m         \u001b[0;32mraise\u001b[0m \u001b[0mValueError\u001b[0m\u001b[0;34m(\u001b[0m\u001b[0;34m'v cannot be empty'\u001b[0m\u001b[0;34m)\u001b[0m\u001b[0;34m\u001b[0m\u001b[0;34m\u001b[0m\u001b[0m\n\u001b[0;32m--> 844\u001b[0;31m     \u001b[0;32mreturn\u001b[0m \u001b[0mmultiarray\u001b[0m\u001b[0;34m.\u001b[0m\u001b[0mcorrelate\u001b[0m\u001b[0;34m(\u001b[0m\u001b[0ma\u001b[0m\u001b[0;34m,\u001b[0m \u001b[0mv\u001b[0m\u001b[0;34m[\u001b[0m\u001b[0;34m:\u001b[0m\u001b[0;34m:\u001b[0m\u001b[0;34m-\u001b[0m\u001b[0;36m1\u001b[0m\u001b[0;34m]\u001b[0m\u001b[0;34m,\u001b[0m \u001b[0mmode\u001b[0m\u001b[0;34m)\u001b[0m\u001b[0;34m\u001b[0m\u001b[0;34m\u001b[0m\u001b[0m\n\u001b[0m\u001b[1;32m    845\u001b[0m \u001b[0;34m\u001b[0m\u001b[0m\n\u001b[1;32m    846\u001b[0m \u001b[0;34m\u001b[0m\u001b[0m\n",
            "\u001b[0;31mValueError\u001b[0m: object too deep for desired array"
          ]
        }
      ]
    },
    {
      "cell_type": "code",
      "source": [
        "fig, ax = plt.subplots()\n",
        "\n",
        "ax.plot(get_fft_dict(['1st_Normal'])['Normal'], label='Normal')\n",
        "ax.plot(, label='Bearing')\n",
        "ax.plot(, label='Unbalance')\n",
        "ax.plot(, label='Looseness')\n",
        "ax.plot(, label='High')"
      ],
      "metadata": {
        "id": "JIEvKr8yqSZp"
      },
      "execution_count": null,
      "outputs": []
    },
    {
      "cell_type": "code",
      "source": [
        "# 이동 평균을 구합니다. window는 이동 평균 구간의 크기를 나타냅니다.\n",
        "window_size = 1\n",
        "N3_df = pd.DataFrame(get_fft_dict(['3rd_Normal'])['Normal'])\n",
        "ma_N3_df = np.apply_along_axis(lambda m: np.convolve(m, np.ones(window_size) / window_size, mode='valid'), axis=1, arr=N3_df)\n",
        "\n",
        "# 그래프 출력\n",
        "fig, ax = plt.subplots(figsize=(50, 12))\n",
        "\n",
        "# 원본 데이터를 그립니다.\n",
        "for i in range(N3_df.shape[0]):\n",
        "    ax.plot(N3_df[i], alpha=0.2, color='blue')\n",
        "\n",
        "# 이동 평균 데이터를 그립니다.\n",
        "ax.plot(ma_N3_df, color='red')\n",
        "\n",
        "# 그래프 제목과 라벨 추가\n",
        "ax.set_title('Moving Average')\n",
        "\n",
        "# 범례 추가\n",
        "ax.legend(['Original', 'Moving Average'])\n",
        "\n",
        "# 그래프 출력\n",
        "plt.show()"
      ],
      "metadata": {
        "id": "wCAUMEfwVmVC"
      },
      "execution_count": null,
      "outputs": []
    }
  ]
}